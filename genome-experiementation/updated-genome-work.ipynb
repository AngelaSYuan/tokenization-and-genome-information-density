{
 "cells": [
  {
   "cell_type": "markdown",
   "id": "4eb75cda",
   "metadata": {},
   "source": [
    "# Genome Information Density"
   ]
  },
  {
   "cell_type": "markdown",
   "id": "a4b982cd",
   "metadata": {},
   "source": [
    "This notebook analyzes 6 genomes and their repeatability in regards to 8-grams. It compares the number of distinct n-grams to the length of the genome sequence scanned.\n",
    "\n",
    "\n",
    "\n",
    "**Plots** for visualizing n-gram repeatability:\n",
    "\n",
    "\n",
    "   - **Main Superimposed Plots**\n",
    "       - This first algorithm returns the fraction of non-unique 8-grams. It shows the increasing repetition found in the 8-grams of each genome sequence. With NumPy and Matplotlib, it creates the superimposed genome plot\n",
    "           - n_non_unique = the number of 8-grams that repeat at least once\n",
    "           - n_unique = the number of 8-grams that occur only once\n",
    "           - n_non_unique / (n_non_unique + n_unique) = the fraction of non-unique, or repeated, 8-grams\n",
    "       - Logarithmic axes are used for plotting\n",
    "           - Log(0) is -∞, which is not shown in the first plot using the algorithm.\n",
    "           - Log(a positive number) is a real number, which is shown on the plot.\n",
    "           - Thus, as more repetitions occur in the genomes, the plot increase from -∞\n",
    "               \n",
    "\n",
    "   - **Other Plots (Initial Tries)** - shows the # of distinct 8-grams vs sequence length\n",
    "       - More About Genome 1 (Aaosphaeria arxii)\n",
    "           - 1st plot: 100,000 base pairs, 8-gram. Logarithmic axes are used for plotting\n",
    "           - 2nd plot: 100,000 base pairs, 8-gram. No logarithmic axes are used for plotting\n",
    "           - 3rd plot: Entire Filtered Genome 1, 3-gram\n",
    "       - More About Genome 2 (Abiotrophia defectiva)\n",
    "           - Plot: Filtered of Genome 2 (1,000,000 base pairs, 8-grams)\n",
    "       - More About Genome 3 (Abditibacterium utsteinense)\n",
    "           - Plot: Filtered Genome 3 (1,000,000 base pairs, 8-grams)"
   ]
  },
  {
   "cell_type": "markdown",
   "id": "7c16e81c",
   "metadata": {},
   "source": [
    "# Plotting"
   ]
  },
  {
   "cell_type": "markdown",
   "id": "db09653a",
   "metadata": {},
   "source": [
    "## Main Superimposed Plots"
   ]
  },
  {
   "cell_type": "code",
   "execution_count": 184,
   "id": "bbc7211f",
   "metadata": {
    "scrolled": false
   },
   "outputs": [],
   "source": [
    "def seq_ngrams2(xs, n):\n",
    "    return (xs[i:i+n] for i in range(len(xs)-n+1))"
   ]
  },
  {
   "cell_type": "code",
   "execution_count": 185,
   "id": "ad7d5e86",
   "metadata": {},
   "outputs": [],
   "source": [
    "import numpy as np"
   ]
  },
  {
   "cell_type": "code",
   "execution_count": 186,
   "id": "34ec85b1",
   "metadata": {},
   "outputs": [],
   "source": [
    "import matplotlib.pyplot as plt"
   ]
  },
  {
   "cell_type": "code",
   "execution_count": 187,
   "id": "e3474486",
   "metadata": {},
   "outputs": [],
   "source": [
    "files = {'Aaosphaeria arxii (Eukaryota)': 'genomes/genome1_filtered.fna',\n",
    "         'Abiotrophia defectiva (Bacteria)': 'genomes/genome2_filtered.fna',\n",
    "         'Abditibacterium utsteinense (Bacteria)':'genomes/genome3_filtered.fna',\n",
    "         'Sars-CoV-2':'genomes/Sars-CoV-2_Genome.fna',\n",
    "         'Homo sapiens chromosome 21 open reading frame 91':'genomes/Homo Sapiens Chromosome 21.fna',\n",
    "         'Tai Forest Ebolavirus (Ivory Coast)': 'genomes/Tai_Forest_Ebolavirus_(ivory cost).fna'}"
   ]
  },
  {
   "cell_type": "code",
   "execution_count": 188,
   "id": "b76fe8de",
   "metadata": {
    "scrolled": true
   },
   "outputs": [
    {
     "name": "stdout",
     "output_type": "stream",
     "text": [
      "('Aaosphaeria arxii (Eukaryota)', 'genomes/genome1_filtered.fna')\n",
      "('Abiotrophia defectiva (Bacteria)', 'genomes/genome2_filtered.fna')\n",
      "('Abditibacterium utsteinense (Bacteria)', 'genomes/genome3_filtered.fna')\n",
      "('Sars-CoV-2', 'genomes/Sars-CoV-2_Genome.fna')\n",
      "('Homo sapiens chromosome 21 open reading frame 91', 'genomes/Homo Sapiens Chromosome 21.fna')\n",
      "('Tai Forest Ebolavirus (Ivory Coast)', 'genomes/Tai_Forest_Ebolavirus_(ivory cost).fna')\n"
     ]
    }
   ],
   "source": [
    "for (genome_name, file_path) in files.items(): \n",
    "    print((genome_name, file_path))"
   ]
  },
  {
   "cell_type": "code",
   "execution_count": 190,
   "id": "763345e1",
   "metadata": {
    "scrolled": true
   },
   "outputs": [
    {
     "data": {
      "text/plain": [
       "0.19356112976496148"
      ]
     },
     "execution_count": 190,
     "metadata": {},
     "output_type": "execute_result"
    }
   ],
   "source": [
    "ndistinct_by_genome = {}\n",
    "\n",
    "for (genome_name, file_path) in files.items():\n",
    "    with open(file_path) as myfile:\n",
    "        data = myfile.read().replace('\\n','')\n",
    "        genome = data[:90000]\n",
    "    ngramcounts = dict()\n",
    "    ndistinct = []\n",
    "    for (i,x) in enumerate(seq_ngrams2(genome,8)):\n",
    "        if x in ngramcounts.keys():\n",
    "            ngramcounts[x] += 1\n",
    "        else:\n",
    "            ngramcounts[x] = 1\n",
    "        n_non_unique = len([kmer for kmer in ngramcounts.keys() if ngramcounts[kmer] > 1])\n",
    "        n_unique = len([kmer for kmer in ngramcounts.keys() if ngramcounts[kmer] == 1])\n",
    "        ndistinct.append(n_non_unique / (n_non_unique + n_unique))\n",
    "    ndistinct_by_genome[genome_name] = ndistinct\n",
    "ndistinct[-1]"
   ]
  },
  {
   "cell_type": "code",
   "execution_count": 193,
   "id": "daa69c05",
   "metadata": {},
   "outputs": [
    {
     "data": {
      "text/plain": [
       "0.19356112976496148"
      ]
     },
     "execution_count": 193,
     "metadata": {},
     "output_type": "execute_result"
    }
   ],
   "source": [
    "ndistinct_by_genome = {}\n",
    "\n",
    "for (genome_name, file_path) in files.items():\n",
    "    with open(file_path) as myfile:\n",
    "        data = myfile.read().replace('\\n','')\n",
    "        genome = data[:90000]\n",
    "    ngramcounts = dict()\n",
    "    ndistinct = []\n",
    "    for (i,x) in enumerate(seq_ngrams2(genome,8)):\n",
    "        if x in ngramcounts.keys():\n",
    "            ngramcounts[x] += 1\n",
    "        else:\n",
    "            ngramcounts[x] = 1\n",
    "        n_non_unique = len([kmer for kmer in ngramcounts.keys() if ngramcounts[kmer] > 1])\n",
    "        n_unique = len([kmer for kmer in ngramcounts.keys() if ngramcounts[kmer] == 1])\n",
    "        ndistinct.append(n_non_unique / (n_non_unique + n_unique))\n",
    "    ndistinct_by_genome[genome_name] = ndistinct\n",
    "ndistinct[-1]"
   ]
  },
  {
   "cell_type": "code",
   "execution_count": 194,
   "id": "fb1b7bd3",
   "metadata": {
    "scrolled": false
   },
   "outputs": [
    {
     "data": {
      "text/plain": [
       "0.5502224135457024"
      ]
     },
     "execution_count": 194,
     "metadata": {},
     "output_type": "execute_result"
    }
   ],
   "source": [
    "ndistinct_by_genome[\"Abiotrophia defectiva (Bacteria)\"][-1]"
   ]
  },
  {
   "cell_type": "code",
   "execution_count": 195,
   "id": "78e4dcfa",
   "metadata": {
    "scrolled": false
   },
   "outputs": [
    {
     "name": "stdout",
     "output_type": "stream",
     "text": [
      "[0.5426283358739292, 0.5426283358739292, 0.5426498056980913, 0.5426712755222535, 0.5426927453464157, 0.5426927453464157, 0.5427142151705777, 0.5427142151705777, 0.5427142151705777, 0.5427142151705777]\n",
      "[0.5502642971608984, 0.5502642971608984, 0.5502642971608984, 0.5502642971608984, 0.5502511360918441, 0.5502750538148768, 0.5502618928033293, 0.5502487324213144, 0.5502355726687872, 0.5502224135457024]\n",
      "[0.5530828569842944, 0.5530828569842944, 0.5530828569842944, 0.5530828569842944, 0.5530828569842944, 0.5530828569842944, 0.5530828569842944, 0.5530828569842944, 0.5530828569842944, 0.5530828569842944]\n",
      "[0.2558512058378571, 0.25583982202447164, 0.25583982202447164, 0.25583982202447164, 0.25583982202447164, 0.25583982202447164, 0.25583982202447164, 0.25583982202447164, 0.25588431590656285, 0.255872931126535]\n",
      "[0.327529814320938, 0.32758013384994716, 0.32758013384994716, 0.32763045337895635, 0.32763045337895635, 0.32763045337895635, 0.32763045337895635, 0.32763045337895635, 0.32763045337895635, 0.32763045337895635]\n",
      "[0.19344003161430548, 0.193427291886196, 0.1934931506849315, 0.19348040829766217, 0.19346766758856843, 0.19353351771368366, 0.19352077434648055, 0.19350803265736108, 0.19357387411114038, 0.19356112976496148]\n"
     ]
    },
    {
     "data": {
      "text/plain": [
       "<matplotlib.legend.Legend at 0x156287610>"
      ]
     },
     "execution_count": 195,
     "metadata": {},
     "output_type": "execute_result"
    },
    {
     "data": {
      "image/png": "[encoded data removed]",
      "text/plain": [
       "<Figure size 432x288 with 1 Axes>"
      ]
     },
     "metadata": {
      "needs_background": "light"
     },
     "output_type": "display_data"
    }
   ],
   "source": [
    "for genome_name in files.keys():\n",
    "    y = ndistinct_by_genome[genome_name]\n",
    "    x = np.arange(len(y))\n",
    "    plt.plot(x, y,\"o-\",label = genome_name)\n",
    "    print(y[-10:])\n",
    "\n",
    "ax = plt.gca()\n",
    "ax.set_xscale(\"log\")\n",
    "ax.set_yscale(\"log\")\n",
    "\n",
    "# naming the x axis\n",
    "plt.xlabel('Length of sequence scanned')\n",
    "# naming the y axis\n",
    "plt.ylabel('Fraction of 8-grams that repeat')\n",
    "\n",
    "# giving a title to my graph\n",
    "plt.title('6 Superimposed Filtered Genomes')\n",
    "\n",
    "# function to show the plot\n",
    "plt.legend(bbox_to_anchor = (1.05, 1), loc = 'upper left')\n",
    "#plt.show()"
   ]
  },
  {
   "cell_type": "markdown",
   "id": "68f17be9",
   "metadata": {},
   "source": [
    "## Other Plots (Intial Work)"
   ]
  },
  {
   "cell_type": "markdown",
   "id": "bb5f6937",
   "metadata": {},
   "source": [
    "### More About Genome 1 (Aaosphaeria arxii)"
   ]
  },
  {
   "cell_type": "code",
   "execution_count": 144,
   "id": "ce3ce179",
   "metadata": {},
   "outputs": [],
   "source": [
    "def seq_ngrams2(xs, n):\n",
    "    return (xs[i:i+n] for i in range(len(xs)-n+1))\n",
    "\n",
    "import numpy as np\n",
    "import matplotlib.pyplot as plt"
   ]
  },
  {
   "cell_type": "code",
   "execution_count": 145,
   "id": "8f7af303",
   "metadata": {},
   "outputs": [
    {
     "data": {
      "text/plain": [
       "4093"
      ]
     },
     "execution_count": 145,
     "metadata": {},
     "output_type": "execute_result"
    }
   ],
   "source": [
    "with open('genomes/genome1_filtered.fna','r') as file:\n",
    "    data = file.read().replace('\\n','')\n",
    "    genome = data[:40000]\n",
    "    \n",
    "ngramcounts = dict()\n",
    "ndistinct = []\n",
    "for x in seq_ngrams2(genome, 6):\n",
    "    #print(x)\n",
    "    if x in ngramcounts.keys():\n",
    "        ngramcounts[x] += 1\n",
    "    else:\n",
    "        ngramcounts[x] = 1\n",
    "    ndistinct.append(len(ngramcounts))\n",
    "ndistinct[-1]"
   ]
  },
  {
   "cell_type": "code",
   "execution_count": 308,
   "id": "47d59d15",
   "metadata": {
    "scrolled": true
   },
   "outputs": [
    {
     "data": {
      "text/plain": [
       "<matplotlib.legend.Legend at 0x7fc8d7eb8e20>"
      ]
     },
     "execution_count": 308,
     "metadata": {},
     "output_type": "execute_result"
    },
    {
     "data": {
      "image/png": "[encoded data removed]",
      "text/plain": [
       "<Figure size 432x288 with 1 Axes>"
      ]
     },
     "metadata": {
      "needs_background": "light"
     },
     "output_type": "display_data"
    }
   ],
   "source": [
    "y=(ndistinct)\n",
    "x=np.arange(len(y))\n",
    "\n",
    "plt.plot(x,y,label=\"Aaosphaeria arxii\")\n",
    "\n",
    "ax=plt.gca()\n",
    "ax.set_xscale(\"log\")\n",
    "ax.set_yscale(\"log\")\n",
    "\n",
    "plt.xlabel('Length of sequence scanned')\n",
    "plt.ylabel('# of distinct 8-grams')\n",
    "\n",
    "plt.title('Filtered Genome 1 (1,000,000 base pairs, 8-grams)')\n",
    "\n",
    "plt.legend()"
   ]
  },
  {
   "cell_type": "code",
   "execution_count": 113,
   "id": "b578d309",
   "metadata": {},
   "outputs": [
    {
     "data": {
      "text/plain": [
       "999993"
      ]
     },
     "execution_count": 113,
     "metadata": {},
     "output_type": "execute_result"
    }
   ],
   "source": [
    "with open('genomes/genome1_filtered.fna','r') as file:\n",
    "    data = file.read().replace('\\n','')\n",
    "    genome = data[:1000000]\n",
    "    \n",
    "ngramcounts = dict()\n",
    "ndistinct = []\n",
    "for x in seq_ngrams2(genome, 8):\n",
    "    #print(x)\n",
    "    if x in ngramcounts.keys():\n",
    "        ngramcounts[x] += 1\n",
    "    else:\n",
    "        ngramcounts[x] = 1\n",
    "    ndistinct.append(len(ngramcounts))\n",
    "len(ndistinct)"
   ]
  },
  {
   "cell_type": "code",
   "execution_count": 114,
   "id": "17ed6646",
   "metadata": {
    "scrolled": false
   },
   "outputs": [
    {
     "data": {
      "image/png": "[encoded data removed]",
      "text/plain": [
       "<Figure size 432x288 with 1 Axes>"
      ]
     },
     "metadata": {
      "needs_background": "light"
     },
     "output_type": "display_data"
    }
   ],
   "source": [
    "x=np.arange(0,999993,1)\n",
    "y=(ndistinct)\n",
    "\n",
    "plt.plot(x,y)\n",
    "\n",
    "plt.xlabel('Length of sequence scanned')\n",
    "plt.ylabel('# of distinct 8-grams')\n",
    "\n",
    "plt.title('Filtered Genome 1 (1,000,000 base pairs, 8-grams)')\n",
    "\n",
    "plt.show()"
   ]
  },
  {
   "cell_type": "code",
   "execution_count": 3,
   "id": "a2fe34cb",
   "metadata": {},
   "outputs": [],
   "source": [
    "def seq_ngrams2(xs, n):\n",
    "    return (xs[i:i+n] for i in range(len(xs)-n+1))"
   ]
  },
  {
   "cell_type": "code",
   "execution_count": 4,
   "id": "5e82e9f9",
   "metadata": {},
   "outputs": [],
   "source": [
    "files = ['genomes/genome1_filtered.fna']"
   ]
  },
  {
   "cell_type": "code",
   "execution_count": 14,
   "id": "cee983c7",
   "metadata": {
    "scrolled": false
   },
   "outputs": [
    {
     "data": {
      "text/plain": [
       "38901047"
      ]
     },
     "execution_count": 14,
     "metadata": {},
     "output_type": "execute_result"
    }
   ],
   "source": [
    "for file in files:\n",
    "    with open(file) as myfile:\n",
    "        data = myfile.read().replace('\\n','')\n",
    "    ngramcounts = dict()\n",
    "    ndistinct1 = []\n",
    "    for x in seq_ngrams2(data, 3):\n",
    "    #print(x)\n",
    "        if x in ngramcounts.keys():\n",
    "            ngramcounts[x] += 1\n",
    "        else:\n",
    "            ngramcounts[x] = 1\n",
    "        ndistinct1.append(len(ngramcounts))\n",
    "len(ndistinct1)"
   ]
  },
  {
   "cell_type": "code",
   "execution_count": 14,
   "id": "f24c60bd",
   "metadata": {
    "scrolled": true
   },
   "outputs": [
    {
     "data": {
      "image/png": "[encoded data removed]",
      "text/plain": [
       "<Figure size 432x288 with 1 Axes>"
      ]
     },
     "metadata": {
      "needs_background": "light"
     },
     "output_type": "display_data"
    }
   ],
   "source": [
    "import matplotlib.pyplot as plt\n",
    "import numpy as np\n",
    "\n",
    "# x axis values\n",
    "x=np.arange(1,38901048,1)\n",
    "y=(ndistinct1)\n",
    "\n",
    "# plotting the points\n",
    "plt.plot(x,y)\n",
    "\n",
    "# naming the x axis\n",
    "plt.xlabel('Length of sequence scanned')\n",
    "# naming the y axis\n",
    "plt.ylabel('# of distinct 3-grams')\n",
    "\n",
    "# giving a title to my graph\n",
    "plt.title('Filtered Genome 1')\n",
    "\n",
    "# function to show the plot\n",
    "plt.show()"
   ]
  },
  {
   "cell_type": "markdown",
   "id": "ac54683d",
   "metadata": {},
   "source": [
    "### More About Genome 2 (Abiotrophia defectiva)"
   ]
  },
  {
   "cell_type": "code",
   "execution_count": 147,
   "id": "8ebfb785",
   "metadata": {},
   "outputs": [],
   "source": [
    "def seq_ngrams2(xs, n):\n",
    "    return (xs[i:i+n] for i in range(len(xs)-n+1))"
   ]
  },
  {
   "cell_type": "code",
   "execution_count": 148,
   "id": "c4d94919",
   "metadata": {},
   "outputs": [],
   "source": [
    "import matplotlib.pyplot as plt\n",
    "import numpy as np"
   ]
  },
  {
   "cell_type": "code",
   "execution_count": 126,
   "id": "4328a367",
   "metadata": {},
   "outputs": [],
   "source": [
    "with open('genomes/genome2_filtered.fna','r') as file:\n",
    "    data = file.read().replace('\\n','')\n",
    "    genome = data[:1000000]"
   ]
  },
  {
   "cell_type": "code",
   "execution_count": 127,
   "id": "99ccf92a",
   "metadata": {},
   "outputs": [
    {
     "data": {
      "text/plain": [
       "999993"
      ]
     },
     "execution_count": 127,
     "metadata": {},
     "output_type": "execute_result"
    }
   ],
   "source": [
    "ngramcounts = dict()\n",
    "ndistinct = []\n",
    "for x in seq_ngrams2(genome, 8):\n",
    "    #print(x)\n",
    "    if x in ngramcounts.keys():\n",
    "        ngramcounts[x] += 1\n",
    "    else:\n",
    "        ngramcounts[x] = 1\n",
    "    ndistinct.append(len(ngramcounts))\n",
    "len(ndistinct)"
   ]
  },
  {
   "cell_type": "code",
   "execution_count": 128,
   "id": "b738fef3",
   "metadata": {},
   "outputs": [
    {
     "data": {
      "image/png": "[encoded data removed]",
      "text/plain": [
       "<Figure size 432x288 with 1 Axes>"
      ]
     },
     "metadata": {
      "needs_background": "light"
     },
     "output_type": "display_data"
    }
   ],
   "source": [
    "x=np.arange(0,999993,1)\n",
    "y=(ndistinct)\n",
    "\n",
    "plt.plot(x,y)\n",
    "\n",
    "plt.xlabel('Length of sequence scanned')\n",
    "plt.ylabel('# of distinct 8-grams')\n",
    "\n",
    "plt.title('Filtered Genome 2 (1,000,000 base pairs, 8-grams)')\n",
    "\n",
    "plt.show()"
   ]
  },
  {
   "cell_type": "markdown",
   "id": "cfa53bcb",
   "metadata": {},
   "source": [
    "### More About Genome 3 (Abditibacterium utsteinense)"
   ]
  },
  {
   "cell_type": "code",
   "execution_count": 149,
   "id": "c59e53bc",
   "metadata": {},
   "outputs": [],
   "source": [
    "def seq_ngrams2(xs, n):\n",
    "    return (xs[i:i+n] for i in range(len(xs)-n+1))"
   ]
  },
  {
   "cell_type": "code",
   "execution_count": 150,
   "id": "cc762f29",
   "metadata": {},
   "outputs": [],
   "source": [
    "import matplotlib.pyplot as plt\n",
    "import numpy as np"
   ]
  },
  {
   "cell_type": "code",
   "execution_count": 134,
   "id": "a652d47d",
   "metadata": {
    "scrolled": true
   },
   "outputs": [
    {
     "data": {
      "text/plain": [
       "999993"
      ]
     },
     "execution_count": 134,
     "metadata": {},
     "output_type": "execute_result"
    }
   ],
   "source": [
    "with open('genomes/genome3_filtered.fna','r') as file:\n",
    "    data = file.read().replace('\\n','')\n",
    "    genome = data[:1000000]\n",
    "    \n",
    "ngramcounts = dict()\n",
    "ndistinct = []\n",
    "for x in seq_ngrams2(genome, 8):\n",
    "    #print(x)\n",
    "    if x in ngramcounts.keys():\n",
    "        ngramcounts[x] += 1\n",
    "    else:\n",
    "        ngramcounts[x] = 1\n",
    "    ndistinct.append(len(ngramcounts))\n",
    "len(ndistinct)"
   ]
  },
  {
   "cell_type": "code",
   "execution_count": 132,
   "id": "c2b2b6ae",
   "metadata": {
    "scrolled": false
   },
   "outputs": [
    {
     "data": {
      "image/png": "[encoded data removed]",
      "text/plain": [
       "<Figure size 432x288 with 1 Axes>"
      ]
     },
     "metadata": {
      "needs_background": "light"
     },
     "output_type": "display_data"
    }
   ],
   "source": [
    "x=np.arange(0,999993,1)\n",
    "y=(ndistinct)\n",
    "\n",
    "plt.plot(x,y)\n",
    "\n",
    "plt.xlabel('Length of sequence scanned')\n",
    "plt.ylabel('# of distinct 8-grams')\n",
    "\n",
    "plt.title('Filtered Genome 3 (1,000,000 base pairs, 8-grams)')\n",
    "\n",
    "plt.show()"
   ]
  }
 ],
 "metadata": {
  "kernelspec": {
   "display_name": "Python 3",
   "language": "python",
   "name": "python3"
  },
  "language_info": {
   "codemirror_mode": {
    "name": "ipython",
    "version": 3
   },
   "file_extension": ".py",
   "mimetype": "text/x-python",
   "name": "python",
   "nbconvert_exporter": "python",
   "pygments_lexer": "ipython3",
   "version": "3.9.6"
  }
 },
 "nbformat": 4,
 "nbformat_minor": 5
}
