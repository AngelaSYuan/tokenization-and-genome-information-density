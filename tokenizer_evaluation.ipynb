{
  "nbformat": 4,
  "nbformat_minor": 0,
  "metadata": {
    "colab": {
      "name": "tokenizer_evaluation.ipynb",
      "provenance": []
    },
    "kernelspec": {
      "name": "python3",
      "display_name": "Python 3"
    },
    "language_info": {
      "name": "python"
    },
    "widgets": {
      "application/vnd.jupyter.widget-state+json": {
        "0d451a37eb064e7ab28b9d7482553cec": {
          "model_module": "@jupyter-widgets/controls",
          "model_name": "HBoxModel",
          "model_module_version": "1.5.0",
          "state": {
            "_view_name": "HBoxView",
            "_dom_classes": [],
            "_model_name": "HBoxModel",
            "_view_module": "@jupyter-widgets/controls",
            "_model_module_version": "1.5.0",
            "_view_count": null,
            "_view_module_version": "1.5.0",
            "box_style": "",
            "layout": "IPY_MODEL_26557a2e4bd34577a3882658898891b4",
            "_model_module": "@jupyter-widgets/controls",
            "children": [
              "IPY_MODEL_3a9f9181eb564b208063e51a2fd8b6a8",
              "IPY_MODEL_e8bc78f74d0c4d9d93d00f316ed51bcc",
              "IPY_MODEL_a6ea067fe1a041fdb6ee643618efa7d0"
            ]
          }
        },
        "26557a2e4bd34577a3882658898891b4": {
          "model_module": "@jupyter-widgets/base",
          "model_name": "LayoutModel",
          "model_module_version": "1.2.0",
          "state": {
            "_view_name": "LayoutView",
            "grid_template_rows": null,
            "right": null,
            "justify_content": null,
            "_view_module": "@jupyter-widgets/base",
            "overflow": null,
            "_model_module_version": "1.2.0",
            "_view_count": null,
            "flex_flow": null,
            "width": null,
            "min_width": null,
            "border": null,
            "align_items": null,
            "bottom": null,
            "_model_module": "@jupyter-widgets/base",
            "top": null,
            "grid_column": null,
            "overflow_y": null,
            "overflow_x": null,
            "grid_auto_flow": null,
            "grid_area": null,
            "grid_template_columns": null,
            "flex": null,
            "_model_name": "LayoutModel",
            "justify_items": null,
            "grid_row": null,
            "max_height": null,
            "align_content": null,
            "visibility": null,
            "align_self": null,
            "height": null,
            "min_height": null,
            "padding": null,
            "grid_auto_rows": null,
            "grid_gap": null,
            "max_width": null,
            "order": null,
            "_view_module_version": "1.2.0",
            "grid_template_areas": null,
            "object_position": null,
            "object_fit": null,
            "grid_auto_columns": null,
            "margin": null,
            "display": null,
            "left": null
          }
        },
        "3a9f9181eb564b208063e51a2fd8b6a8": {
          "model_module": "@jupyter-widgets/controls",
          "model_name": "HTMLModel",
          "model_module_version": "1.5.0",
          "state": {
            "_view_name": "HTMLView",
            "style": "IPY_MODEL_b0c22d1f06c240a5965bc3faa4d9a03d",
            "_dom_classes": [],
            "description": "",
            "_model_name": "HTMLModel",
            "placeholder": "​",
            "_view_module": "@jupyter-widgets/controls",
            "_model_module_version": "1.5.0",
            "value": "Downloading: 100%",
            "_view_count": null,
            "_view_module_version": "1.5.0",
            "description_tooltip": null,
            "_model_module": "@jupyter-widgets/controls",
            "layout": "IPY_MODEL_2be72c5bc8054e9d9db4e9b81b49a4f5"
          }
        },
        "e8bc78f74d0c4d9d93d00f316ed51bcc": {
          "model_module": "@jupyter-widgets/controls",
          "model_name": "FloatProgressModel",
          "model_module_version": "1.5.0",
          "state": {
            "_view_name": "ProgressView",
            "style": "IPY_MODEL_2976fa67f6a145d1956468f991b427a6",
            "_dom_classes": [],
            "description": "",
            "_model_name": "FloatProgressModel",
            "bar_style": "success",
            "max": 798011,
            "_view_module": "@jupyter-widgets/controls",
            "_model_module_version": "1.5.0",
            "value": 798011,
            "_view_count": null,
            "_view_module_version": "1.5.0",
            "orientation": "horizontal",
            "min": 0,
            "description_tooltip": null,
            "_model_module": "@jupyter-widgets/controls",
            "layout": "IPY_MODEL_25ab659fb4cd45f5bbd37025b184c5db"
          }
        },
        "a6ea067fe1a041fdb6ee643618efa7d0": {
          "model_module": "@jupyter-widgets/controls",
          "model_name": "HTMLModel",
          "model_module_version": "1.5.0",
          "state": {
            "_view_name": "HTMLView",
            "style": "IPY_MODEL_c0322178cade438f92bfd6985640553a",
            "_dom_classes": [],
            "description": "",
            "_model_name": "HTMLModel",
            "placeholder": "​",
            "_view_module": "@jupyter-widgets/controls",
            "_model_module_version": "1.5.0",
            "value": " 798k/798k [00:00&lt;00:00, 2.78MB/s]",
            "_view_count": null,
            "_view_module_version": "1.5.0",
            "description_tooltip": null,
            "_model_module": "@jupyter-widgets/controls",
            "layout": "IPY_MODEL_3ec1fbe8273c4fa1b295465e16ae33a0"
          }
        },
        "b0c22d1f06c240a5965bc3faa4d9a03d": {
          "model_module": "@jupyter-widgets/controls",
          "model_name": "DescriptionStyleModel",
          "model_module_version": "1.5.0",
          "state": {
            "_view_name": "StyleView",
            "_model_name": "DescriptionStyleModel",
            "description_width": "",
            "_view_module": "@jupyter-widgets/base",
            "_model_module_version": "1.5.0",
            "_view_count": null,
            "_view_module_version": "1.2.0",
            "_model_module": "@jupyter-widgets/controls"
          }
        },
        "2be72c5bc8054e9d9db4e9b81b49a4f5": {
          "model_module": "@jupyter-widgets/base",
          "model_name": "LayoutModel",
          "model_module_version": "1.2.0",
          "state": {
            "_view_name": "LayoutView",
            "grid_template_rows": null,
            "right": null,
            "justify_content": null,
            "_view_module": "@jupyter-widgets/base",
            "overflow": null,
            "_model_module_version": "1.2.0",
            "_view_count": null,
            "flex_flow": null,
            "width": null,
            "min_width": null,
            "border": null,
            "align_items": null,
            "bottom": null,
            "_model_module": "@jupyter-widgets/base",
            "top": null,
            "grid_column": null,
            "overflow_y": null,
            "overflow_x": null,
            "grid_auto_flow": null,
            "grid_area": null,
            "grid_template_columns": null,
            "flex": null,
            "_model_name": "LayoutModel",
            "justify_items": null,
            "grid_row": null,
            "max_height": null,
            "align_content": null,
            "visibility": null,
            "align_self": null,
            "height": null,
            "min_height": null,
            "padding": null,
            "grid_auto_rows": null,
            "grid_gap": null,
            "max_width": null,
            "order": null,
            "_view_module_version": "1.2.0",
            "grid_template_areas": null,
            "object_position": null,
            "object_fit": null,
            "grid_auto_columns": null,
            "margin": null,
            "display": null,
            "left": null
          }
        },
        "2976fa67f6a145d1956468f991b427a6": {
          "model_module": "@jupyter-widgets/controls",
          "model_name": "ProgressStyleModel",
          "model_module_version": "1.5.0",
          "state": {
            "_view_name": "StyleView",
            "_model_name": "ProgressStyleModel",
            "description_width": "",
            "_view_module": "@jupyter-widgets/base",
            "_model_module_version": "1.5.0",
            "_view_count": null,
            "_view_module_version": "1.2.0",
            "bar_color": null,
            "_model_module": "@jupyter-widgets/controls"
          }
        },
        "25ab659fb4cd45f5bbd37025b184c5db": {
          "model_module": "@jupyter-widgets/base",
          "model_name": "LayoutModel",
          "model_module_version": "1.2.0",
          "state": {
            "_view_name": "LayoutView",
            "grid_template_rows": null,
            "right": null,
            "justify_content": null,
            "_view_module": "@jupyter-widgets/base",
            "overflow": null,
            "_model_module_version": "1.2.0",
            "_view_count": null,
            "flex_flow": null,
            "width": null,
            "min_width": null,
            "border": null,
            "align_items": null,
            "bottom": null,
            "_model_module": "@jupyter-widgets/base",
            "top": null,
            "grid_column": null,
            "overflow_y": null,
            "overflow_x": null,
            "grid_auto_flow": null,
            "grid_area": null,
            "grid_template_columns": null,
            "flex": null,
            "_model_name": "LayoutModel",
            "justify_items": null,
            "grid_row": null,
            "max_height": null,
            "align_content": null,
            "visibility": null,
            "align_self": null,
            "height": null,
            "min_height": null,
            "padding": null,
            "grid_auto_rows": null,
            "grid_gap": null,
            "max_width": null,
            "order": null,
            "_view_module_version": "1.2.0",
            "grid_template_areas": null,
            "object_position": null,
            "object_fit": null,
            "grid_auto_columns": null,
            "margin": null,
            "display": null,
            "left": null
          }
        },
        "c0322178cade438f92bfd6985640553a": {
          "model_module": "@jupyter-widgets/controls",
          "model_name": "DescriptionStyleModel",
          "model_module_version": "1.5.0",
          "state": {
            "_view_name": "StyleView",
            "_model_name": "DescriptionStyleModel",
            "description_width": "",
            "_view_module": "@jupyter-widgets/base",
            "_model_module_version": "1.5.0",
            "_view_count": null,
            "_view_module_version": "1.2.0",
            "_model_module": "@jupyter-widgets/controls"
          }
        },
        "3ec1fbe8273c4fa1b295465e16ae33a0": {
          "model_module": "@jupyter-widgets/base",
          "model_name": "LayoutModel",
          "model_module_version": "1.2.0",
          "state": {
            "_view_name": "LayoutView",
            "grid_template_rows": null,
            "right": null,
            "justify_content": null,
            "_view_module": "@jupyter-widgets/base",
            "overflow": null,
            "_model_module_version": "1.2.0",
            "_view_count": null,
            "flex_flow": null,
            "width": null,
            "min_width": null,
            "border": null,
            "align_items": null,
            "bottom": null,
            "_model_module": "@jupyter-widgets/base",
            "top": null,
            "grid_column": null,
            "overflow_y": null,
            "overflow_x": null,
            "grid_auto_flow": null,
            "grid_area": null,
            "grid_template_columns": null,
            "flex": null,
            "_model_name": "LayoutModel",
            "justify_items": null,
            "grid_row": null,
            "max_height": null,
            "align_content": null,
            "visibility": null,
            "align_self": null,
            "height": null,
            "min_height": null,
            "padding": null,
            "grid_auto_rows": null,
            "grid_gap": null,
            "max_width": null,
            "order": null,
            "_view_module_version": "1.2.0",
            "grid_template_areas": null,
            "object_position": null,
            "object_fit": null,
            "grid_auto_columns": null,
            "margin": null,
            "display": null,
            "left": null
          }
        },
        "94910b7501a6466d9ad688b6161faae0": {
          "model_module": "@jupyter-widgets/controls",
          "model_name": "HBoxModel",
          "model_module_version": "1.5.0",
          "state": {
            "_view_name": "HBoxView",
            "_dom_classes": [],
            "_model_name": "HBoxModel",
            "_view_module": "@jupyter-widgets/controls",
            "_model_module_version": "1.5.0",
            "_view_count": null,
            "_view_module_version": "1.5.0",
            "box_style": "",
            "layout": "IPY_MODEL_e7633276ba5f41a3b3965a3198232529",
            "_model_module": "@jupyter-widgets/controls",
            "children": [
              "IPY_MODEL_95f5b696623f4cfb896ee0e211e42863",
              "IPY_MODEL_8f1b740249f04b32b4a70a7429ca0817",
              "IPY_MODEL_a850d9425f234825864422df58c98aca"
            ]
          }
        },
        "e7633276ba5f41a3b3965a3198232529": {
          "model_module": "@jupyter-widgets/base",
          "model_name": "LayoutModel",
          "model_module_version": "1.2.0",
          "state": {
            "_view_name": "LayoutView",
            "grid_template_rows": null,
            "right": null,
            "justify_content": null,
            "_view_module": "@jupyter-widgets/base",
            "overflow": null,
            "_model_module_version": "1.2.0",
            "_view_count": null,
            "flex_flow": null,
            "width": null,
            "min_width": null,
            "border": null,
            "align_items": null,
            "bottom": null,
            "_model_module": "@jupyter-widgets/base",
            "top": null,
            "grid_column": null,
            "overflow_y": null,
            "overflow_x": null,
            "grid_auto_flow": null,
            "grid_area": null,
            "grid_template_columns": null,
            "flex": null,
            "_model_name": "LayoutModel",
            "justify_items": null,
            "grid_row": null,
            "max_height": null,
            "align_content": null,
            "visibility": null,
            "align_self": null,
            "height": null,
            "min_height": null,
            "padding": null,
            "grid_auto_rows": null,
            "grid_gap": null,
            "max_width": null,
            "order": null,
            "_view_module_version": "1.2.0",
            "grid_template_areas": null,
            "object_position": null,
            "object_fit": null,
            "grid_auto_columns": null,
            "margin": null,
            "display": null,
            "left": null
          }
        },
        "95f5b696623f4cfb896ee0e211e42863": {
          "model_module": "@jupyter-widgets/controls",
          "model_name": "HTMLModel",
          "model_module_version": "1.5.0",
          "state": {
            "_view_name": "HTMLView",
            "style": "IPY_MODEL_e8aa6ef7fb5d4ac39fac2dbee33beb35",
            "_dom_classes": [],
            "description": "",
            "_model_name": "HTMLModel",
            "placeholder": "​",
            "_view_module": "@jupyter-widgets/controls",
            "_model_module_version": "1.5.0",
            "value": "Downloading: 100%",
            "_view_count": null,
            "_view_module_version": "1.5.0",
            "description_tooltip": null,
            "_model_module": "@jupyter-widgets/controls",
            "layout": "IPY_MODEL_2fd021485b7448cbb0426565e4b6f3d3"
          }
        },
        "8f1b740249f04b32b4a70a7429ca0817": {
          "model_module": "@jupyter-widgets/controls",
          "model_name": "FloatProgressModel",
          "model_module_version": "1.5.0",
          "state": {
            "_view_name": "ProgressView",
            "style": "IPY_MODEL_801d538fd91f4884b4c8ff72fbd84645",
            "_dom_classes": [],
            "description": "",
            "_model_name": "FloatProgressModel",
            "bar_style": "success",
            "max": 1382015,
            "_view_module": "@jupyter-widgets/controls",
            "_model_module_version": "1.5.0",
            "value": 1382015,
            "_view_count": null,
            "_view_module_version": "1.5.0",
            "orientation": "horizontal",
            "min": 0,
            "description_tooltip": null,
            "_model_module": "@jupyter-widgets/controls",
            "layout": "IPY_MODEL_c855ca97cb2a4db999d3247f78792d85"
          }
        },
        "a850d9425f234825864422df58c98aca": {
          "model_module": "@jupyter-widgets/controls",
          "model_name": "HTMLModel",
          "model_module_version": "1.5.0",
          "state": {
            "_view_name": "HTMLView",
            "style": "IPY_MODEL_22399f94d8f64189bf32312b5d1206b4",
            "_dom_classes": [],
            "description": "",
            "_model_name": "HTMLModel",
            "placeholder": "​",
            "_view_module": "@jupyter-widgets/controls",
            "_model_module_version": "1.5.0",
            "value": " 1.38M/1.38M [00:00&lt;00:00, 2.98MB/s]",
            "_view_count": null,
            "_view_module_version": "1.5.0",
            "description_tooltip": null,
            "_model_module": "@jupyter-widgets/controls",
            "layout": "IPY_MODEL_1b1406740dca4ebda4ec0b2cc5630dbf"
          }
        },
        "e8aa6ef7fb5d4ac39fac2dbee33beb35": {
          "model_module": "@jupyter-widgets/controls",
          "model_name": "DescriptionStyleModel",
          "model_module_version": "1.5.0",
          "state": {
            "_view_name": "StyleView",
            "_model_name": "DescriptionStyleModel",
            "description_width": "",
            "_view_module": "@jupyter-widgets/base",
            "_model_module_version": "1.5.0",
            "_view_count": null,
            "_view_module_version": "1.2.0",
            "_model_module": "@jupyter-widgets/controls"
          }
        },
        "2fd021485b7448cbb0426565e4b6f3d3": {
          "model_module": "@jupyter-widgets/base",
          "model_name": "LayoutModel",
          "model_module_version": "1.2.0",
          "state": {
            "_view_name": "LayoutView",
            "grid_template_rows": null,
            "right": null,
            "justify_content": null,
            "_view_module": "@jupyter-widgets/base",
            "overflow": null,
            "_model_module_version": "1.2.0",
            "_view_count": null,
            "flex_flow": null,
            "width": null,
            "min_width": null,
            "border": null,
            "align_items": null,
            "bottom": null,
            "_model_module": "@jupyter-widgets/base",
            "top": null,
            "grid_column": null,
            "overflow_y": null,
            "overflow_x": null,
            "grid_auto_flow": null,
            "grid_area": null,
            "grid_template_columns": null,
            "flex": null,
            "_model_name": "LayoutModel",
            "justify_items": null,
            "grid_row": null,
            "max_height": null,
            "align_content": null,
            "visibility": null,
            "align_self": null,
            "height": null,
            "min_height": null,
            "padding": null,
            "grid_auto_rows": null,
            "grid_gap": null,
            "max_width": null,
            "order": null,
            "_view_module_version": "1.2.0",
            "grid_template_areas": null,
            "object_position": null,
            "object_fit": null,
            "grid_auto_columns": null,
            "margin": null,
            "display": null,
            "left": null
          }
        },
        "801d538fd91f4884b4c8ff72fbd84645": {
          "model_module": "@jupyter-widgets/controls",
          "model_name": "ProgressStyleModel",
          "model_module_version": "1.5.0",
          "state": {
            "_view_name": "StyleView",
            "_model_name": "ProgressStyleModel",
            "description_width": "",
            "_view_module": "@jupyter-widgets/base",
            "_model_module_version": "1.5.0",
            "_view_count": null,
            "_view_module_version": "1.2.0",
            "bar_color": null,
            "_model_module": "@jupyter-widgets/controls"
          }
        },
        "c855ca97cb2a4db999d3247f78792d85": {
          "model_module": "@jupyter-widgets/base",
          "model_name": "LayoutModel",
          "model_module_version": "1.2.0",
          "state": {
            "_view_name": "LayoutView",
            "grid_template_rows": null,
            "right": null,
            "justify_content": null,
            "_view_module": "@jupyter-widgets/base",
            "overflow": null,
            "_model_module_version": "1.2.0",
            "_view_count": null,
            "flex_flow": null,
            "width": null,
            "min_width": null,
            "border": null,
            "align_items": null,
            "bottom": null,
            "_model_module": "@jupyter-widgets/base",
            "top": null,
            "grid_column": null,
            "overflow_y": null,
            "overflow_x": null,
            "grid_auto_flow": null,
            "grid_area": null,
            "grid_template_columns": null,
            "flex": null,
            "_model_name": "LayoutModel",
            "justify_items": null,
            "grid_row": null,
            "max_height": null,
            "align_content": null,
            "visibility": null,
            "align_self": null,
            "height": null,
            "min_height": null,
            "padding": null,
            "grid_auto_rows": null,
            "grid_gap": null,
            "max_width": null,
            "order": null,
            "_view_module_version": "1.2.0",
            "grid_template_areas": null,
            "object_position": null,
            "object_fit": null,
            "grid_auto_columns": null,
            "margin": null,
            "display": null,
            "left": null
          }
        },
        "22399f94d8f64189bf32312b5d1206b4": {
          "model_module": "@jupyter-widgets/controls",
          "model_name": "DescriptionStyleModel",
          "model_module_version": "1.5.0",
          "state": {
            "_view_name": "StyleView",
            "_model_name": "DescriptionStyleModel",
            "description_width": "",
            "_view_module": "@jupyter-widgets/base",
            "_model_module_version": "1.5.0",
            "_view_count": null,
            "_view_module_version": "1.2.0",
            "_model_module": "@jupyter-widgets/controls"
          }
        },
        "1b1406740dca4ebda4ec0b2cc5630dbf": {
          "model_module": "@jupyter-widgets/base",
          "model_name": "LayoutModel",
          "model_module_version": "1.2.0",
          "state": {
            "_view_name": "LayoutView",
            "grid_template_rows": null,
            "right": null,
            "justify_content": null,
            "_view_module": "@jupyter-widgets/base",
            "overflow": null,
            "_model_module_version": "1.2.0",
            "_view_count": null,
            "flex_flow": null,
            "width": null,
            "min_width": null,
            "border": null,
            "align_items": null,
            "bottom": null,
            "_model_module": "@jupyter-widgets/base",
            "top": null,
            "grid_column": null,
            "overflow_y": null,
            "overflow_x": null,
            "grid_auto_flow": null,
            "grid_area": null,
            "grid_template_columns": null,
            "flex": null,
            "_model_name": "LayoutModel",
            "justify_items": null,
            "grid_row": null,
            "max_height": null,
            "align_content": null,
            "visibility": null,
            "align_self": null,
            "height": null,
            "min_height": null,
            "padding": null,
            "grid_auto_rows": null,
            "grid_gap": null,
            "max_width": null,
            "order": null,
            "_view_module_version": "1.2.0",
            "grid_template_areas": null,
            "object_position": null,
            "object_fit": null,
            "grid_auto_columns": null,
            "margin": null,
            "display": null,
            "left": null
          }
        },
        "cdb50c16bf9f494bb2cf2682766b41f0": {
          "model_module": "@jupyter-widgets/controls",
          "model_name": "HBoxModel",
          "model_module_version": "1.5.0",
          "state": {
            "_view_name": "HBoxView",
            "_dom_classes": [],
            "_model_name": "HBoxModel",
            "_view_module": "@jupyter-widgets/controls",
            "_model_module_version": "1.5.0",
            "_view_count": null,
            "_view_module_version": "1.5.0",
            "box_style": "",
            "layout": "IPY_MODEL_25ed752117764c738083e9243844be2f",
            "_model_module": "@jupyter-widgets/controls",
            "children": [
              "IPY_MODEL_6f7afbaa2e3e4cfd819ca2ae1734b84f",
              "IPY_MODEL_e31f99e1b1c7412cafa7a74db099800d",
              "IPY_MODEL_8db8964667b5441e826fe52599cf032a"
            ]
          }
        },
        "25ed752117764c738083e9243844be2f": {
          "model_module": "@jupyter-widgets/base",
          "model_name": "LayoutModel",
          "model_module_version": "1.2.0",
          "state": {
            "_view_name": "LayoutView",
            "grid_template_rows": null,
            "right": null,
            "justify_content": null,
            "_view_module": "@jupyter-widgets/base",
            "overflow": null,
            "_model_module_version": "1.2.0",
            "_view_count": null,
            "flex_flow": null,
            "width": null,
            "min_width": null,
            "border": null,
            "align_items": null,
            "bottom": null,
            "_model_module": "@jupyter-widgets/base",
            "top": null,
            "grid_column": null,
            "overflow_y": null,
            "overflow_x": null,
            "grid_auto_flow": null,
            "grid_area": null,
            "grid_template_columns": null,
            "flex": null,
            "_model_name": "LayoutModel",
            "justify_items": null,
            "grid_row": null,
            "max_height": null,
            "align_content": null,
            "visibility": null,
            "align_self": null,
            "height": null,
            "min_height": null,
            "padding": null,
            "grid_auto_rows": null,
            "grid_gap": null,
            "max_width": null,
            "order": null,
            "_view_module_version": "1.2.0",
            "grid_template_areas": null,
            "object_position": null,
            "object_fit": null,
            "grid_auto_columns": null,
            "margin": null,
            "display": null,
            "left": null
          }
        },
        "6f7afbaa2e3e4cfd819ca2ae1734b84f": {
          "model_module": "@jupyter-widgets/controls",
          "model_name": "HTMLModel",
          "model_module_version": "1.5.0",
          "state": {
            "_view_name": "HTMLView",
            "style": "IPY_MODEL_b3875457b10a45db84a533811a1776c5",
            "_dom_classes": [],
            "description": "",
            "_model_name": "HTMLModel",
            "placeholder": "​",
            "_view_module": "@jupyter-widgets/controls",
            "_model_module_version": "1.5.0",
            "value": "Downloading: 100%",
            "_view_count": null,
            "_view_module_version": "1.5.0",
            "description_tooltip": null,
            "_model_module": "@jupyter-widgets/controls",
            "layout": "IPY_MODEL_c4bcf848f3bd403e93466862b26683ee"
          }
        },
        "e31f99e1b1c7412cafa7a74db099800d": {
          "model_module": "@jupyter-widgets/controls",
          "model_name": "FloatProgressModel",
          "model_module_version": "1.5.0",
          "state": {
            "_view_name": "ProgressView",
            "style": "IPY_MODEL_9d336a9ea67d4165a8deaa04e0dce9bb",
            "_dom_classes": [],
            "description": "",
            "_model_name": "FloatProgressModel",
            "bar_style": "success",
            "max": 760,
            "_view_module": "@jupyter-widgets/controls",
            "_model_module_version": "1.5.0",
            "value": 760,
            "_view_count": null,
            "_view_module_version": "1.5.0",
            "orientation": "horizontal",
            "min": 0,
            "description_tooltip": null,
            "_model_module": "@jupyter-widgets/controls",
            "layout": "IPY_MODEL_146c1e42c85848c0986f2e3b078472ea"
          }
        },
        "8db8964667b5441e826fe52599cf032a": {
          "model_module": "@jupyter-widgets/controls",
          "model_name": "HTMLModel",
          "model_module_version": "1.5.0",
          "state": {
            "_view_name": "HTMLView",
            "style": "IPY_MODEL_b8a0094d05f84f9cafedf96faf31dc69",
            "_dom_classes": [],
            "description": "",
            "_model_name": "HTMLModel",
            "placeholder": "​",
            "_view_module": "@jupyter-widgets/controls",
            "_model_module_version": "1.5.0",
            "value": " 760/760 [00:00&lt;00:00, 14.8kB/s]",
            "_view_count": null,
            "_view_module_version": "1.5.0",
            "description_tooltip": null,
            "_model_module": "@jupyter-widgets/controls",
            "layout": "IPY_MODEL_349b9ef533404b42a6b8e3fb1f0d28cc"
          }
        },
        "b3875457b10a45db84a533811a1776c5": {
          "model_module": "@jupyter-widgets/controls",
          "model_name": "DescriptionStyleModel",
          "model_module_version": "1.5.0",
          "state": {
            "_view_name": "StyleView",
            "_model_name": "DescriptionStyleModel",
            "description_width": "",
            "_view_module": "@jupyter-widgets/base",
            "_model_module_version": "1.5.0",
            "_view_count": null,
            "_view_module_version": "1.2.0",
            "_model_module": "@jupyter-widgets/controls"
          }
        },
        "c4bcf848f3bd403e93466862b26683ee": {
          "model_module": "@jupyter-widgets/base",
          "model_name": "LayoutModel",
          "model_module_version": "1.2.0",
          "state": {
            "_view_name": "LayoutView",
            "grid_template_rows": null,
            "right": null,
            "justify_content": null,
            "_view_module": "@jupyter-widgets/base",
            "overflow": null,
            "_model_module_version": "1.2.0",
            "_view_count": null,
            "flex_flow": null,
            "width": null,
            "min_width": null,
            "border": null,
            "align_items": null,
            "bottom": null,
            "_model_module": "@jupyter-widgets/base",
            "top": null,
            "grid_column": null,
            "overflow_y": null,
            "overflow_x": null,
            "grid_auto_flow": null,
            "grid_area": null,
            "grid_template_columns": null,
            "flex": null,
            "_model_name": "LayoutModel",
            "justify_items": null,
            "grid_row": null,
            "max_height": null,
            "align_content": null,
            "visibility": null,
            "align_self": null,
            "height": null,
            "min_height": null,
            "padding": null,
            "grid_auto_rows": null,
            "grid_gap": null,
            "max_width": null,
            "order": null,
            "_view_module_version": "1.2.0",
            "grid_template_areas": null,
            "object_position": null,
            "object_fit": null,
            "grid_auto_columns": null,
            "margin": null,
            "display": null,
            "left": null
          }
        },
        "9d336a9ea67d4165a8deaa04e0dce9bb": {
          "model_module": "@jupyter-widgets/controls",
          "model_name": "ProgressStyleModel",
          "model_module_version": "1.5.0",
          "state": {
            "_view_name": "StyleView",
            "_model_name": "ProgressStyleModel",
            "description_width": "",
            "_view_module": "@jupyter-widgets/base",
            "_model_module_version": "1.5.0",
            "_view_count": null,
            "_view_module_version": "1.2.0",
            "bar_color": null,
            "_model_module": "@jupyter-widgets/controls"
          }
        },
        "146c1e42c85848c0986f2e3b078472ea": {
          "model_module": "@jupyter-widgets/base",
          "model_name": "LayoutModel",
          "model_module_version": "1.2.0",
          "state": {
            "_view_name": "LayoutView",
            "grid_template_rows": null,
            "right": null,
            "justify_content": null,
            "_view_module": "@jupyter-widgets/base",
            "overflow": null,
            "_model_module_version": "1.2.0",
            "_view_count": null,
            "flex_flow": null,
            "width": null,
            "min_width": null,
            "border": null,
            "align_items": null,
            "bottom": null,
            "_model_module": "@jupyter-widgets/base",
            "top": null,
            "grid_column": null,
            "overflow_y": null,
            "overflow_x": null,
            "grid_auto_flow": null,
            "grid_area": null,
            "grid_template_columns": null,
            "flex": null,
            "_model_name": "LayoutModel",
            "justify_items": null,
            "grid_row": null,
            "max_height": null,
            "align_content": null,
            "visibility": null,
            "align_self": null,
            "height": null,
            "min_height": null,
            "padding": null,
            "grid_auto_rows": null,
            "grid_gap": null,
            "max_width": null,
            "order": null,
            "_view_module_version": "1.2.0",
            "grid_template_areas": null,
            "object_position": null,
            "object_fit": null,
            "grid_auto_columns": null,
            "margin": null,
            "display": null,
            "left": null
          }
        },
        "b8a0094d05f84f9cafedf96faf31dc69": {
          "model_module": "@jupyter-widgets/controls",
          "model_name": "DescriptionStyleModel",
          "model_module_version": "1.5.0",
          "state": {
            "_view_name": "StyleView",
            "_model_name": "DescriptionStyleModel",
            "description_width": "",
            "_view_module": "@jupyter-widgets/base",
            "_model_module_version": "1.5.0",
            "_view_count": null,
            "_view_module_version": "1.2.0",
            "_model_module": "@jupyter-widgets/controls"
          }
        },
        "349b9ef533404b42a6b8e3fb1f0d28cc": {
          "model_module": "@jupyter-widgets/base",
          "model_name": "LayoutModel",
          "model_module_version": "1.2.0",
          "state": {
            "_view_name": "LayoutView",
            "grid_template_rows": null,
            "right": null,
            "justify_content": null,
            "_view_module": "@jupyter-widgets/base",
            "overflow": null,
            "_model_module_version": "1.2.0",
            "_view_count": null,
            "flex_flow": null,
            "width": null,
            "min_width": null,
            "border": null,
            "align_items": null,
            "bottom": null,
            "_model_module": "@jupyter-widgets/base",
            "top": null,
            "grid_column": null,
            "overflow_y": null,
            "overflow_x": null,
            "grid_auto_flow": null,
            "grid_area": null,
            "grid_template_columns": null,
            "flex": null,
            "_model_name": "LayoutModel",
            "justify_items": null,
            "grid_row": null,
            "max_height": null,
            "align_content": null,
            "visibility": null,
            "align_self": null,
            "height": null,
            "min_height": null,
            "padding": null,
            "grid_auto_rows": null,
            "grid_gap": null,
            "max_width": null,
            "order": null,
            "_view_module_version": "1.2.0",
            "grid_template_areas": null,
            "object_position": null,
            "object_fit": null,
            "grid_auto_columns": null,
            "margin": null,
            "display": null,
            "left": null
          }
        },
        "c3884eac307344ad879eebce78f169ee": {
          "model_module": "@jupyter-widgets/controls",
          "model_name": "HBoxModel",
          "model_module_version": "1.5.0",
          "state": {
            "_view_name": "HBoxView",
            "_dom_classes": [],
            "_model_name": "HBoxModel",
            "_view_module": "@jupyter-widgets/controls",
            "_model_module_version": "1.5.0",
            "_view_count": null,
            "_view_module_version": "1.5.0",
            "box_style": "",
            "layout": "IPY_MODEL_7776054013b54c37a05a8f2999aa0736",
            "_model_module": "@jupyter-widgets/controls",
            "children": [
              "IPY_MODEL_872727747f6e44d1ac11ac873b1ab505",
              "IPY_MODEL_e816161f05ba47baa8caabf8db492a0f",
              "IPY_MODEL_d327137b115a40af9d3ee409d9384ffe"
            ]
          }
        },
        "7776054013b54c37a05a8f2999aa0736": {
          "model_module": "@jupyter-widgets/base",
          "model_name": "LayoutModel",
          "model_module_version": "1.2.0",
          "state": {
            "_view_name": "LayoutView",
            "grid_template_rows": null,
            "right": null,
            "justify_content": null,
            "_view_module": "@jupyter-widgets/base",
            "overflow": null,
            "_model_module_version": "1.2.0",
            "_view_count": null,
            "flex_flow": null,
            "width": null,
            "min_width": null,
            "border": null,
            "align_items": null,
            "bottom": null,
            "_model_module": "@jupyter-widgets/base",
            "top": null,
            "grid_column": null,
            "overflow_y": null,
            "overflow_x": null,
            "grid_auto_flow": null,
            "grid_area": null,
            "grid_template_columns": null,
            "flex": null,
            "_model_name": "LayoutModel",
            "justify_items": null,
            "grid_row": null,
            "max_height": null,
            "align_content": null,
            "visibility": null,
            "align_self": null,
            "height": null,
            "min_height": null,
            "padding": null,
            "grid_auto_rows": null,
            "grid_gap": null,
            "max_width": null,
            "order": null,
            "_view_module_version": "1.2.0",
            "grid_template_areas": null,
            "object_position": null,
            "object_fit": null,
            "grid_auto_columns": null,
            "margin": null,
            "display": null,
            "left": null
          }
        },
        "872727747f6e44d1ac11ac873b1ab505": {
          "model_module": "@jupyter-widgets/controls",
          "model_name": "HTMLModel",
          "model_module_version": "1.5.0",
          "state": {
            "_view_name": "HTMLView",
            "style": "IPY_MODEL_27280c9841e74bc09b89cf6ed75c2cfc",
            "_dom_classes": [],
            "description": "",
            "_model_name": "HTMLModel",
            "placeholder": "​",
            "_view_module": "@jupyter-widgets/controls",
            "_model_module_version": "1.5.0",
            "value": "Downloading: 100%",
            "_view_count": null,
            "_view_module_version": "1.5.0",
            "description_tooltip": null,
            "_model_module": "@jupyter-widgets/controls",
            "layout": "IPY_MODEL_7e9c407bcadb4747be0193a74c9277b7"
          }
        },
        "e816161f05ba47baa8caabf8db492a0f": {
          "model_module": "@jupyter-widgets/controls",
          "model_name": "FloatProgressModel",
          "model_module_version": "1.5.0",
          "state": {
            "_view_name": "ProgressView",
            "style": "IPY_MODEL_d77c9544bb804c8a9238f83f9fe54740",
            "_dom_classes": [],
            "description": "",
            "_model_name": "FloatProgressModel",
            "bar_style": "success",
            "max": 213450,
            "_view_module": "@jupyter-widgets/controls",
            "_model_module_version": "1.5.0",
            "value": 213450,
            "_view_count": null,
            "_view_module_version": "1.5.0",
            "orientation": "horizontal",
            "min": 0,
            "description_tooltip": null,
            "_model_module": "@jupyter-widgets/controls",
            "layout": "IPY_MODEL_500ae7069fec4733bc27ad744f5a7562"
          }
        },
        "d327137b115a40af9d3ee409d9384ffe": {
          "model_module": "@jupyter-widgets/controls",
          "model_name": "HTMLModel",
          "model_module_version": "1.5.0",
          "state": {
            "_view_name": "HTMLView",
            "style": "IPY_MODEL_832869a8f5a44fbf94a1ab21b537d82b",
            "_dom_classes": [],
            "description": "",
            "_model_name": "HTMLModel",
            "placeholder": "​",
            "_view_module": "@jupyter-widgets/controls",
            "_model_module_version": "1.5.0",
            "value": " 213k/213k [00:00&lt;00:00, 1.09MB/s]",
            "_view_count": null,
            "_view_module_version": "1.5.0",
            "description_tooltip": null,
            "_model_module": "@jupyter-widgets/controls",
            "layout": "IPY_MODEL_7069fc3479a947e88c3d6fa28db86f71"
          }
        },
        "27280c9841e74bc09b89cf6ed75c2cfc": {
          "model_module": "@jupyter-widgets/controls",
          "model_name": "DescriptionStyleModel",
          "model_module_version": "1.5.0",
          "state": {
            "_view_name": "StyleView",
            "_model_name": "DescriptionStyleModel",
            "description_width": "",
            "_view_module": "@jupyter-widgets/base",
            "_model_module_version": "1.5.0",
            "_view_count": null,
            "_view_module_version": "1.2.0",
            "_model_module": "@jupyter-widgets/controls"
          }
        },
        "7e9c407bcadb4747be0193a74c9277b7": {
          "model_module": "@jupyter-widgets/base",
          "model_name": "LayoutModel",
          "model_module_version": "1.2.0",
          "state": {
            "_view_name": "LayoutView",
            "grid_template_rows": null,
            "right": null,
            "justify_content": null,
            "_view_module": "@jupyter-widgets/base",
            "overflow": null,
            "_model_module_version": "1.2.0",
            "_view_count": null,
            "flex_flow": null,
            "width": null,
            "min_width": null,
            "border": null,
            "align_items": null,
            "bottom": null,
            "_model_module": "@jupyter-widgets/base",
            "top": null,
            "grid_column": null,
            "overflow_y": null,
            "overflow_x": null,
            "grid_auto_flow": null,
            "grid_area": null,
            "grid_template_columns": null,
            "flex": null,
            "_model_name": "LayoutModel",
            "justify_items": null,
            "grid_row": null,
            "max_height": null,
            "align_content": null,
            "visibility": null,
            "align_self": null,
            "height": null,
            "min_height": null,
            "padding": null,
            "grid_auto_rows": null,
            "grid_gap": null,
            "max_width": null,
            "order": null,
            "_view_module_version": "1.2.0",
            "grid_template_areas": null,
            "object_position": null,
            "object_fit": null,
            "grid_auto_columns": null,
            "margin": null,
            "display": null,
            "left": null
          }
        },
        "d77c9544bb804c8a9238f83f9fe54740": {
          "model_module": "@jupyter-widgets/controls",
          "model_name": "ProgressStyleModel",
          "model_module_version": "1.5.0",
          "state": {
            "_view_name": "StyleView",
            "_model_name": "ProgressStyleModel",
            "description_width": "",
            "_view_module": "@jupyter-widgets/base",
            "_model_module_version": "1.5.0",
            "_view_count": null,
            "_view_module_version": "1.2.0",
            "bar_color": null,
            "_model_module": "@jupyter-widgets/controls"
          }
        },
        "500ae7069fec4733bc27ad744f5a7562": {
          "model_module": "@jupyter-widgets/base",
          "model_name": "LayoutModel",
          "model_module_version": "1.2.0",
          "state": {
            "_view_name": "LayoutView",
            "grid_template_rows": null,
            "right": null,
            "justify_content": null,
            "_view_module": "@jupyter-widgets/base",
            "overflow": null,
            "_model_module_version": "1.2.0",
            "_view_count": null,
            "flex_flow": null,
            "width": null,
            "min_width": null,
            "border": null,
            "align_items": null,
            "bottom": null,
            "_model_module": "@jupyter-widgets/base",
            "top": null,
            "grid_column": null,
            "overflow_y": null,
            "overflow_x": null,
            "grid_auto_flow": null,
            "grid_area": null,
            "grid_template_columns": null,
            "flex": null,
            "_model_name": "LayoutModel",
            "justify_items": null,
            "grid_row": null,
            "max_height": null,
            "align_content": null,
            "visibility": null,
            "align_self": null,
            "height": null,
            "min_height": null,
            "padding": null,
            "grid_auto_rows": null,
            "grid_gap": null,
            "max_width": null,
            "order": null,
            "_view_module_version": "1.2.0",
            "grid_template_areas": null,
            "object_position": null,
            "object_fit": null,
            "grid_auto_columns": null,
            "margin": null,
            "display": null,
            "left": null
          }
        },
        "832869a8f5a44fbf94a1ab21b537d82b": {
          "model_module": "@jupyter-widgets/controls",
          "model_name": "DescriptionStyleModel",
          "model_module_version": "1.5.0",
          "state": {
            "_view_name": "StyleView",
            "_model_name": "DescriptionStyleModel",
            "description_width": "",
            "_view_module": "@jupyter-widgets/base",
            "_model_module_version": "1.5.0",
            "_view_count": null,
            "_view_module_version": "1.2.0",
            "_model_module": "@jupyter-widgets/controls"
          }
        },
        "7069fc3479a947e88c3d6fa28db86f71": {
          "model_module": "@jupyter-widgets/base",
          "model_name": "LayoutModel",
          "model_module_version": "1.2.0",
          "state": {
            "_view_name": "LayoutView",
            "grid_template_rows": null,
            "right": null,
            "justify_content": null,
            "_view_module": "@jupyter-widgets/base",
            "overflow": null,
            "_model_module_version": "1.2.0",
            "_view_count": null,
            "flex_flow": null,
            "width": null,
            "min_width": null,
            "border": null,
            "align_items": null,
            "bottom": null,
            "_model_module": "@jupyter-widgets/base",
            "top": null,
            "grid_column": null,
            "overflow_y": null,
            "overflow_x": null,
            "grid_auto_flow": null,
            "grid_area": null,
            "grid_template_columns": null,
            "flex": null,
            "_model_name": "LayoutModel",
            "justify_items": null,
            "grid_row": null,
            "max_height": null,
            "align_content": null,
            "visibility": null,
            "align_self": null,
            "height": null,
            "min_height": null,
            "padding": null,
            "grid_auto_rows": null,
            "grid_gap": null,
            "max_width": null,
            "order": null,
            "_view_module_version": "1.2.0",
            "grid_template_areas": null,
            "object_position": null,
            "object_fit": null,
            "grid_auto_columns": null,
            "margin": null,
            "display": null,
            "left": null
          }
        },
        "d2a6cd10c75a43f8addb4b108276b58a": {
          "model_module": "@jupyter-widgets/controls",
          "model_name": "HBoxModel",
          "model_module_version": "1.5.0",
          "state": {
            "_view_name": "HBoxView",
            "_dom_classes": [],
            "_model_name": "HBoxModel",
            "_view_module": "@jupyter-widgets/controls",
            "_model_module_version": "1.5.0",
            "_view_count": null,
            "_view_module_version": "1.5.0",
            "box_style": "",
            "layout": "IPY_MODEL_04e9c23eb688415d8fe9b45ce56d298f",
            "_model_module": "@jupyter-widgets/controls",
            "children": [
              "IPY_MODEL_a9f272f25a4c4dd783d5367318a924d4",
              "IPY_MODEL_cfaab2219cb04249ad46d57aca435414",
              "IPY_MODEL_ed91d739ec91455f805e4e5108acede9"
            ]
          }
        },
        "04e9c23eb688415d8fe9b45ce56d298f": {
          "model_module": "@jupyter-widgets/base",
          "model_name": "LayoutModel",
          "model_module_version": "1.2.0",
          "state": {
            "_view_name": "LayoutView",
            "grid_template_rows": null,
            "right": null,
            "justify_content": null,
            "_view_module": "@jupyter-widgets/base",
            "overflow": null,
            "_model_module_version": "1.2.0",
            "_view_count": null,
            "flex_flow": null,
            "width": null,
            "min_width": null,
            "border": null,
            "align_items": null,
            "bottom": null,
            "_model_module": "@jupyter-widgets/base",
            "top": null,
            "grid_column": null,
            "overflow_y": null,
            "overflow_x": null,
            "grid_auto_flow": null,
            "grid_area": null,
            "grid_template_columns": null,
            "flex": null,
            "_model_name": "LayoutModel",
            "justify_items": null,
            "grid_row": null,
            "max_height": null,
            "align_content": null,
            "visibility": null,
            "align_self": null,
            "height": null,
            "min_height": null,
            "padding": null,
            "grid_auto_rows": null,
            "grid_gap": null,
            "max_width": null,
            "order": null,
            "_view_module_version": "1.2.0",
            "grid_template_areas": null,
            "object_position": null,
            "object_fit": null,
            "grid_auto_columns": null,
            "margin": null,
            "display": null,
            "left": null
          }
        },
        "a9f272f25a4c4dd783d5367318a924d4": {
          "model_module": "@jupyter-widgets/controls",
          "model_name": "HTMLModel",
          "model_module_version": "1.5.0",
          "state": {
            "_view_name": "HTMLView",
            "style": "IPY_MODEL_854a91edcda04813aa5bd8e5e7585b47",
            "_dom_classes": [],
            "description": "",
            "_model_name": "HTMLModel",
            "placeholder": "​",
            "_view_module": "@jupyter-widgets/controls",
            "_model_module_version": "1.5.0",
            "value": "Downloading: 100%",
            "_view_count": null,
            "_view_module_version": "1.5.0",
            "description_tooltip": null,
            "_model_module": "@jupyter-widgets/controls",
            "layout": "IPY_MODEL_6b8cddf9a4a842e79145fa9823b607c9"
          }
        },
        "cfaab2219cb04249ad46d57aca435414": {
          "model_module": "@jupyter-widgets/controls",
          "model_name": "FloatProgressModel",
          "model_module_version": "1.5.0",
          "state": {
            "_view_name": "ProgressView",
            "style": "IPY_MODEL_9587adfd192f479bb72790991af01e3e",
            "_dom_classes": [],
            "description": "",
            "_model_name": "FloatProgressModel",
            "bar_style": "success",
            "max": 29,
            "_view_module": "@jupyter-widgets/controls",
            "_model_module_version": "1.5.0",
            "value": 29,
            "_view_count": null,
            "_view_module_version": "1.5.0",
            "orientation": "horizontal",
            "min": 0,
            "description_tooltip": null,
            "_model_module": "@jupyter-widgets/controls",
            "layout": "IPY_MODEL_3451cd3963a3436d8f4026abe8398a67"
          }
        },
        "ed91d739ec91455f805e4e5108acede9": {
          "model_module": "@jupyter-widgets/controls",
          "model_name": "HTMLModel",
          "model_module_version": "1.5.0",
          "state": {
            "_view_name": "HTMLView",
            "style": "IPY_MODEL_ee7fcbc2e938448591221476ada7ee65",
            "_dom_classes": [],
            "description": "",
            "_model_name": "HTMLModel",
            "placeholder": "​",
            "_view_module": "@jupyter-widgets/controls",
            "_model_module_version": "1.5.0",
            "value": " 29.0/29.0 [00:00&lt;00:00, 503B/s]",
            "_view_count": null,
            "_view_module_version": "1.5.0",
            "description_tooltip": null,
            "_model_module": "@jupyter-widgets/controls",
            "layout": "IPY_MODEL_4af73f98648b4919a8b1ecdc7e62739d"
          }
        },
        "854a91edcda04813aa5bd8e5e7585b47": {
          "model_module": "@jupyter-widgets/controls",
          "model_name": "DescriptionStyleModel",
          "model_module_version": "1.5.0",
          "state": {
            "_view_name": "StyleView",
            "_model_name": "DescriptionStyleModel",
            "description_width": "",
            "_view_module": "@jupyter-widgets/base",
            "_model_module_version": "1.5.0",
            "_view_count": null,
            "_view_module_version": "1.2.0",
            "_model_module": "@jupyter-widgets/controls"
          }
        },
        "6b8cddf9a4a842e79145fa9823b607c9": {
          "model_module": "@jupyter-widgets/base",
          "model_name": "LayoutModel",
          "model_module_version": "1.2.0",
          "state": {
            "_view_name": "LayoutView",
            "grid_template_rows": null,
            "right": null,
            "justify_content": null,
            "_view_module": "@jupyter-widgets/base",
            "overflow": null,
            "_model_module_version": "1.2.0",
            "_view_count": null,
            "flex_flow": null,
            "width": null,
            "min_width": null,
            "border": null,
            "align_items": null,
            "bottom": null,
            "_model_module": "@jupyter-widgets/base",
            "top": null,
            "grid_column": null,
            "overflow_y": null,
            "overflow_x": null,
            "grid_auto_flow": null,
            "grid_area": null,
            "grid_template_columns": null,
            "flex": null,
            "_model_name": "LayoutModel",
            "justify_items": null,
            "grid_row": null,
            "max_height": null,
            "align_content": null,
            "visibility": null,
            "align_self": null,
            "height": null,
            "min_height": null,
            "padding": null,
            "grid_auto_rows": null,
            "grid_gap": null,
            "max_width": null,
            "order": null,
            "_view_module_version": "1.2.0",
            "grid_template_areas": null,
            "object_position": null,
            "object_fit": null,
            "grid_auto_columns": null,
            "margin": null,
            "display": null,
            "left": null
          }
        },
        "9587adfd192f479bb72790991af01e3e": {
          "model_module": "@jupyter-widgets/controls",
          "model_name": "ProgressStyleModel",
          "model_module_version": "1.5.0",
          "state": {
            "_view_name": "StyleView",
            "_model_name": "ProgressStyleModel",
            "description_width": "",
            "_view_module": "@jupyter-widgets/base",
            "_model_module_version": "1.5.0",
            "_view_count": null,
            "_view_module_version": "1.2.0",
            "bar_color": null,
            "_model_module": "@jupyter-widgets/controls"
          }
        },
        "3451cd3963a3436d8f4026abe8398a67": {
          "model_module": "@jupyter-widgets/base",
          "model_name": "LayoutModel",
          "model_module_version": "1.2.0",
          "state": {
            "_view_name": "LayoutView",
            "grid_template_rows": null,
            "right": null,
            "justify_content": null,
            "_view_module": "@jupyter-widgets/base",
            "overflow": null,
            "_model_module_version": "1.2.0",
            "_view_count": null,
            "flex_flow": null,
            "width": null,
            "min_width": null,
            "border": null,
            "align_items": null,
            "bottom": null,
            "_model_module": "@jupyter-widgets/base",
            "top": null,
            "grid_column": null,
            "overflow_y": null,
            "overflow_x": null,
            "grid_auto_flow": null,
            "grid_area": null,
            "grid_template_columns": null,
            "flex": null,
            "_model_name": "LayoutModel",
            "justify_items": null,
            "grid_row": null,
            "max_height": null,
            "align_content": null,
            "visibility": null,
            "align_self": null,
            "height": null,
            "min_height": null,
            "padding": null,
            "grid_auto_rows": null,
            "grid_gap": null,
            "max_width": null,
            "order": null,
            "_view_module_version": "1.2.0",
            "grid_template_areas": null,
            "object_position": null,
            "object_fit": null,
            "grid_auto_columns": null,
            "margin": null,
            "display": null,
            "left": null
          }
        },
        "ee7fcbc2e938448591221476ada7ee65": {
          "model_module": "@jupyter-widgets/controls",
          "model_name": "DescriptionStyleModel",
          "model_module_version": "1.5.0",
          "state": {
            "_view_name": "StyleView",
            "_model_name": "DescriptionStyleModel",
            "description_width": "",
            "_view_module": "@jupyter-widgets/base",
            "_model_module_version": "1.5.0",
            "_view_count": null,
            "_view_module_version": "1.2.0",
            "_model_module": "@jupyter-widgets/controls"
          }
        },
        "4af73f98648b4919a8b1ecdc7e62739d": {
          "model_module": "@jupyter-widgets/base",
          "model_name": "LayoutModel",
          "model_module_version": "1.2.0",
          "state": {
            "_view_name": "LayoutView",
            "grid_template_rows": null,
            "right": null,
            "justify_content": null,
            "_view_module": "@jupyter-widgets/base",
            "overflow": null,
            "_model_module_version": "1.2.0",
            "_view_count": null,
            "flex_flow": null,
            "width": null,
            "min_width": null,
            "border": null,
            "align_items": null,
            "bottom": null,
            "_model_module": "@jupyter-widgets/base",
            "top": null,
            "grid_column": null,
            "overflow_y": null,
            "overflow_x": null,
            "grid_auto_flow": null,
            "grid_area": null,
            "grid_template_columns": null,
            "flex": null,
            "_model_name": "LayoutModel",
            "justify_items": null,
            "grid_row": null,
            "max_height": null,
            "align_content": null,
            "visibility": null,
            "align_self": null,
            "height": null,
            "min_height": null,
            "padding": null,
            "grid_auto_rows": null,
            "grid_gap": null,
            "max_width": null,
            "order": null,
            "_view_module_version": "1.2.0",
            "grid_template_areas": null,
            "object_position": null,
            "object_fit": null,
            "grid_auto_columns": null,
            "margin": null,
            "display": null,
            "left": null
          }
        },
        "b153f756f40e46b5a60d2cafe0effdc6": {
          "model_module": "@jupyter-widgets/controls",
          "model_name": "HBoxModel",
          "model_module_version": "1.5.0",
          "state": {
            "_view_name": "HBoxView",
            "_dom_classes": [],
            "_model_name": "HBoxModel",
            "_view_module": "@jupyter-widgets/controls",
            "_model_module_version": "1.5.0",
            "_view_count": null,
            "_view_module_version": "1.5.0",
            "box_style": "",
            "layout": "IPY_MODEL_1160ba559dbf488887491c6e5a0ee2ee",
            "_model_module": "@jupyter-widgets/controls",
            "children": [
              "IPY_MODEL_9f12a067ff6b4fa5b1181fdaf9f7e4bd",
              "IPY_MODEL_0db2a7a0e81449b890f1425ee994c2fc",
              "IPY_MODEL_ff8d213872e6413f8c022ad6bcc485ae"
            ]
          }
        },
        "1160ba559dbf488887491c6e5a0ee2ee": {
          "model_module": "@jupyter-widgets/base",
          "model_name": "LayoutModel",
          "model_module_version": "1.2.0",
          "state": {
            "_view_name": "LayoutView",
            "grid_template_rows": null,
            "right": null,
            "justify_content": null,
            "_view_module": "@jupyter-widgets/base",
            "overflow": null,
            "_model_module_version": "1.2.0",
            "_view_count": null,
            "flex_flow": null,
            "width": null,
            "min_width": null,
            "border": null,
            "align_items": null,
            "bottom": null,
            "_model_module": "@jupyter-widgets/base",
            "top": null,
            "grid_column": null,
            "overflow_y": null,
            "overflow_x": null,
            "grid_auto_flow": null,
            "grid_area": null,
            "grid_template_columns": null,
            "flex": null,
            "_model_name": "LayoutModel",
            "justify_items": null,
            "grid_row": null,
            "max_height": null,
            "align_content": null,
            "visibility": null,
            "align_self": null,
            "height": null,
            "min_height": null,
            "padding": null,
            "grid_auto_rows": null,
            "grid_gap": null,
            "max_width": null,
            "order": null,
            "_view_module_version": "1.2.0",
            "grid_template_areas": null,
            "object_position": null,
            "object_fit": null,
            "grid_auto_columns": null,
            "margin": null,
            "display": null,
            "left": null
          }
        },
        "9f12a067ff6b4fa5b1181fdaf9f7e4bd": {
          "model_module": "@jupyter-widgets/controls",
          "model_name": "HTMLModel",
          "model_module_version": "1.5.0",
          "state": {
            "_view_name": "HTMLView",
            "style": "IPY_MODEL_3c81e79400e0407ca63a4b54529557d9",
            "_dom_classes": [],
            "description": "",
            "_model_name": "HTMLModel",
            "placeholder": "​",
            "_view_module": "@jupyter-widgets/controls",
            "_model_module_version": "1.5.0",
            "value": "Downloading: 100%",
            "_view_count": null,
            "_view_module_version": "1.5.0",
            "description_tooltip": null,
            "_model_module": "@jupyter-widgets/controls",
            "layout": "IPY_MODEL_3e1e3e1b749c4abcb1808d800d9cd1ee"
          }
        },
        "0db2a7a0e81449b890f1425ee994c2fc": {
          "model_module": "@jupyter-widgets/controls",
          "model_name": "FloatProgressModel",
          "model_module_version": "1.5.0",
          "state": {
            "_view_name": "ProgressView",
            "style": "IPY_MODEL_bd8401491cfb4a108cc006189462a3c1",
            "_dom_classes": [],
            "description": "",
            "_model_name": "FloatProgressModel",
            "bar_style": "success",
            "max": 435797,
            "_view_module": "@jupyter-widgets/controls",
            "_model_module_version": "1.5.0",
            "value": 435797,
            "_view_count": null,
            "_view_module_version": "1.5.0",
            "orientation": "horizontal",
            "min": 0,
            "description_tooltip": null,
            "_model_module": "@jupyter-widgets/controls",
            "layout": "IPY_MODEL_7c5a23076488486d826df37c5f8f4b1f"
          }
        },
        "ff8d213872e6413f8c022ad6bcc485ae": {
          "model_module": "@jupyter-widgets/controls",
          "model_name": "HTMLModel",
          "model_module_version": "1.5.0",
          "state": {
            "_view_name": "HTMLView",
            "style": "IPY_MODEL_b3a129d5f1c4410b957654114a730f75",
            "_dom_classes": [],
            "description": "",
            "_model_name": "HTMLModel",
            "placeholder": "​",
            "_view_module": "@jupyter-widgets/controls",
            "_model_module_version": "1.5.0",
            "value": " 436k/436k [00:00&lt;00:00, 986kB/s]",
            "_view_count": null,
            "_view_module_version": "1.5.0",
            "description_tooltip": null,
            "_model_module": "@jupyter-widgets/controls",
            "layout": "IPY_MODEL_3c8311951f854b41b8d203ea14603869"
          }
        },
        "3c81e79400e0407ca63a4b54529557d9": {
          "model_module": "@jupyter-widgets/controls",
          "model_name": "DescriptionStyleModel",
          "model_module_version": "1.5.0",
          "state": {
            "_view_name": "StyleView",
            "_model_name": "DescriptionStyleModel",
            "description_width": "",
            "_view_module": "@jupyter-widgets/base",
            "_model_module_version": "1.5.0",
            "_view_count": null,
            "_view_module_version": "1.2.0",
            "_model_module": "@jupyter-widgets/controls"
          }
        },
        "3e1e3e1b749c4abcb1808d800d9cd1ee": {
          "model_module": "@jupyter-widgets/base",
          "model_name": "LayoutModel",
          "model_module_version": "1.2.0",
          "state": {
            "_view_name": "LayoutView",
            "grid_template_rows": null,
            "right": null,
            "justify_content": null,
            "_view_module": "@jupyter-widgets/base",
            "overflow": null,
            "_model_module_version": "1.2.0",
            "_view_count": null,
            "flex_flow": null,
            "width": null,
            "min_width": null,
            "border": null,
            "align_items": null,
            "bottom": null,
            "_model_module": "@jupyter-widgets/base",
            "top": null,
            "grid_column": null,
            "overflow_y": null,
            "overflow_x": null,
            "grid_auto_flow": null,
            "grid_area": null,
            "grid_template_columns": null,
            "flex": null,
            "_model_name": "LayoutModel",
            "justify_items": null,
            "grid_row": null,
            "max_height": null,
            "align_content": null,
            "visibility": null,
            "align_self": null,
            "height": null,
            "min_height": null,
            "padding": null,
            "grid_auto_rows": null,
            "grid_gap": null,
            "max_width": null,
            "order": null,
            "_view_module_version": "1.2.0",
            "grid_template_areas": null,
            "object_position": null,
            "object_fit": null,
            "grid_auto_columns": null,
            "margin": null,
            "display": null,
            "left": null
          }
        },
        "bd8401491cfb4a108cc006189462a3c1": {
          "model_module": "@jupyter-widgets/controls",
          "model_name": "ProgressStyleModel",
          "model_module_version": "1.5.0",
          "state": {
            "_view_name": "StyleView",
            "_model_name": "ProgressStyleModel",
            "description_width": "",
            "_view_module": "@jupyter-widgets/base",
            "_model_module_version": "1.5.0",
            "_view_count": null,
            "_view_module_version": "1.2.0",
            "bar_color": null,
            "_model_module": "@jupyter-widgets/controls"
          }
        },
        "7c5a23076488486d826df37c5f8f4b1f": {
          "model_module": "@jupyter-widgets/base",
          "model_name": "LayoutModel",
          "model_module_version": "1.2.0",
          "state": {
            "_view_name": "LayoutView",
            "grid_template_rows": null,
            "right": null,
            "justify_content": null,
            "_view_module": "@jupyter-widgets/base",
            "overflow": null,
            "_model_module_version": "1.2.0",
            "_view_count": null,
            "flex_flow": null,
            "width": null,
            "min_width": null,
            "border": null,
            "align_items": null,
            "bottom": null,
            "_model_module": "@jupyter-widgets/base",
            "top": null,
            "grid_column": null,
            "overflow_y": null,
            "overflow_x": null,
            "grid_auto_flow": null,
            "grid_area": null,
            "grid_template_columns": null,
            "flex": null,
            "_model_name": "LayoutModel",
            "justify_items": null,
            "grid_row": null,
            "max_height": null,
            "align_content": null,
            "visibility": null,
            "align_self": null,
            "height": null,
            "min_height": null,
            "padding": null,
            "grid_auto_rows": null,
            "grid_gap": null,
            "max_width": null,
            "order": null,
            "_view_module_version": "1.2.0",
            "grid_template_areas": null,
            "object_position": null,
            "object_fit": null,
            "grid_auto_columns": null,
            "margin": null,
            "display": null,
            "left": null
          }
        },
        "b3a129d5f1c4410b957654114a730f75": {
          "model_module": "@jupyter-widgets/controls",
          "model_name": "DescriptionStyleModel",
          "model_module_version": "1.5.0",
          "state": {
            "_view_name": "StyleView",
            "_model_name": "DescriptionStyleModel",
            "description_width": "",
            "_view_module": "@jupyter-widgets/base",
            "_model_module_version": "1.5.0",
            "_view_count": null,
            "_view_module_version": "1.2.0",
            "_model_module": "@jupyter-widgets/controls"
          }
        },
        "3c8311951f854b41b8d203ea14603869": {
          "model_module": "@jupyter-widgets/base",
          "model_name": "LayoutModel",
          "model_module_version": "1.2.0",
          "state": {
            "_view_name": "LayoutView",
            "grid_template_rows": null,
            "right": null,
            "justify_content": null,
            "_view_module": "@jupyter-widgets/base",
            "overflow": null,
            "_model_module_version": "1.2.0",
            "_view_count": null,
            "flex_flow": null,
            "width": null,
            "min_width": null,
            "border": null,
            "align_items": null,
            "bottom": null,
            "_model_module": "@jupyter-widgets/base",
            "top": null,
            "grid_column": null,
            "overflow_y": null,
            "overflow_x": null,
            "grid_auto_flow": null,
            "grid_area": null,
            "grid_template_columns": null,
            "flex": null,
            "_model_name": "LayoutModel",
            "justify_items": null,
            "grid_row": null,
            "max_height": null,
            "align_content": null,
            "visibility": null,
            "align_self": null,
            "height": null,
            "min_height": null,
            "padding": null,
            "grid_auto_rows": null,
            "grid_gap": null,
            "max_width": null,
            "order": null,
            "_view_module_version": "1.2.0",
            "grid_template_areas": null,
            "object_position": null,
            "object_fit": null,
            "grid_auto_columns": null,
            "margin": null,
            "display": null,
            "left": null
          }
        },
        "46236f59bd5a4872b61d896ce1254573": {
          "model_module": "@jupyter-widgets/controls",
          "model_name": "HBoxModel",
          "model_module_version": "1.5.0",
          "state": {
            "_view_name": "HBoxView",
            "_dom_classes": [],
            "_model_name": "HBoxModel",
            "_view_module": "@jupyter-widgets/controls",
            "_model_module_version": "1.5.0",
            "_view_count": null,
            "_view_module_version": "1.5.0",
            "box_style": "",
            "layout": "IPY_MODEL_08bad0931822400885ca63d832010b71",
            "_model_module": "@jupyter-widgets/controls",
            "children": [
              "IPY_MODEL_c5d9e4ebf33943cdb1184e68b8d315d0",
              "IPY_MODEL_84d1d4b884f14e199215e1c040de291a",
              "IPY_MODEL_279c4419e15845d482a23be2f8ee1f8b"
            ]
          }
        },
        "08bad0931822400885ca63d832010b71": {
          "model_module": "@jupyter-widgets/base",
          "model_name": "LayoutModel",
          "model_module_version": "1.2.0",
          "state": {
            "_view_name": "LayoutView",
            "grid_template_rows": null,
            "right": null,
            "justify_content": null,
            "_view_module": "@jupyter-widgets/base",
            "overflow": null,
            "_model_module_version": "1.2.0",
            "_view_count": null,
            "flex_flow": null,
            "width": null,
            "min_width": null,
            "border": null,
            "align_items": null,
            "bottom": null,
            "_model_module": "@jupyter-widgets/base",
            "top": null,
            "grid_column": null,
            "overflow_y": null,
            "overflow_x": null,
            "grid_auto_flow": null,
            "grid_area": null,
            "grid_template_columns": null,
            "flex": null,
            "_model_name": "LayoutModel",
            "justify_items": null,
            "grid_row": null,
            "max_height": null,
            "align_content": null,
            "visibility": null,
            "align_self": null,
            "height": null,
            "min_height": null,
            "padding": null,
            "grid_auto_rows": null,
            "grid_gap": null,
            "max_width": null,
            "order": null,
            "_view_module_version": "1.2.0",
            "grid_template_areas": null,
            "object_position": null,
            "object_fit": null,
            "grid_auto_columns": null,
            "margin": null,
            "display": null,
            "left": null
          }
        },
        "c5d9e4ebf33943cdb1184e68b8d315d0": {
          "model_module": "@jupyter-widgets/controls",
          "model_name": "HTMLModel",
          "model_module_version": "1.5.0",
          "state": {
            "_view_name": "HTMLView",
            "style": "IPY_MODEL_aa289f5c660042399347decf55a03740",
            "_dom_classes": [],
            "description": "",
            "_model_name": "HTMLModel",
            "placeholder": "​",
            "_view_module": "@jupyter-widgets/controls",
            "_model_module_version": "1.5.0",
            "value": "Downloading: 100%",
            "_view_count": null,
            "_view_module_version": "1.5.0",
            "description_tooltip": null,
            "_model_module": "@jupyter-widgets/controls",
            "layout": "IPY_MODEL_0cf15ca1a5334f21a8ec18c5a160a9f3"
          }
        },
        "84d1d4b884f14e199215e1c040de291a": {
          "model_module": "@jupyter-widgets/controls",
          "model_name": "FloatProgressModel",
          "model_module_version": "1.5.0",
          "state": {
            "_view_name": "ProgressView",
            "style": "IPY_MODEL_267e16ad446a43e7bd2fc61411102f38",
            "_dom_classes": [],
            "description": "",
            "_model_name": "FloatProgressModel",
            "bar_style": "success",
            "max": 411,
            "_view_module": "@jupyter-widgets/controls",
            "_model_module_version": "1.5.0",
            "value": 411,
            "_view_count": null,
            "_view_module_version": "1.5.0",
            "orientation": "horizontal",
            "min": 0,
            "description_tooltip": null,
            "_model_module": "@jupyter-widgets/controls",
            "layout": "IPY_MODEL_9f73ece9dbdf4382953377fafe607d79"
          }
        },
        "279c4419e15845d482a23be2f8ee1f8b": {
          "model_module": "@jupyter-widgets/controls",
          "model_name": "HTMLModel",
          "model_module_version": "1.5.0",
          "state": {
            "_view_name": "HTMLView",
            "style": "IPY_MODEL_dd3419d0899f4a18a610c6558db66911",
            "_dom_classes": [],
            "description": "",
            "_model_name": "HTMLModel",
            "placeholder": "​",
            "_view_module": "@jupyter-widgets/controls",
            "_model_module_version": "1.5.0",
            "value": " 411/411 [00:00&lt;00:00, 7.66kB/s]",
            "_view_count": null,
            "_view_module_version": "1.5.0",
            "description_tooltip": null,
            "_model_module": "@jupyter-widgets/controls",
            "layout": "IPY_MODEL_b2571e3e037541a9bf4301cb53edab25"
          }
        },
        "aa289f5c660042399347decf55a03740": {
          "model_module": "@jupyter-widgets/controls",
          "model_name": "DescriptionStyleModel",
          "model_module_version": "1.5.0",
          "state": {
            "_view_name": "StyleView",
            "_model_name": "DescriptionStyleModel",
            "description_width": "",
            "_view_module": "@jupyter-widgets/base",
            "_model_module_version": "1.5.0",
            "_view_count": null,
            "_view_module_version": "1.2.0",
            "_model_module": "@jupyter-widgets/controls"
          }
        },
        "0cf15ca1a5334f21a8ec18c5a160a9f3": {
          "model_module": "@jupyter-widgets/base",
          "model_name": "LayoutModel",
          "model_module_version": "1.2.0",
          "state": {
            "_view_name": "LayoutView",
            "grid_template_rows": null,
            "right": null,
            "justify_content": null,
            "_view_module": "@jupyter-widgets/base",
            "overflow": null,
            "_model_module_version": "1.2.0",
            "_view_count": null,
            "flex_flow": null,
            "width": null,
            "min_width": null,
            "border": null,
            "align_items": null,
            "bottom": null,
            "_model_module": "@jupyter-widgets/base",
            "top": null,
            "grid_column": null,
            "overflow_y": null,
            "overflow_x": null,
            "grid_auto_flow": null,
            "grid_area": null,
            "grid_template_columns": null,
            "flex": null,
            "_model_name": "LayoutModel",
            "justify_items": null,
            "grid_row": null,
            "max_height": null,
            "align_content": null,
            "visibility": null,
            "align_self": null,
            "height": null,
            "min_height": null,
            "padding": null,
            "grid_auto_rows": null,
            "grid_gap": null,
            "max_width": null,
            "order": null,
            "_view_module_version": "1.2.0",
            "grid_template_areas": null,
            "object_position": null,
            "object_fit": null,
            "grid_auto_columns": null,
            "margin": null,
            "display": null,
            "left": null
          }
        },
        "267e16ad446a43e7bd2fc61411102f38": {
          "model_module": "@jupyter-widgets/controls",
          "model_name": "ProgressStyleModel",
          "model_module_version": "1.5.0",
          "state": {
            "_view_name": "StyleView",
            "_model_name": "ProgressStyleModel",
            "description_width": "",
            "_view_module": "@jupyter-widgets/base",
            "_model_module_version": "1.5.0",
            "_view_count": null,
            "_view_module_version": "1.2.0",
            "bar_color": null,
            "_model_module": "@jupyter-widgets/controls"
          }
        },
        "9f73ece9dbdf4382953377fafe607d79": {
          "model_module": "@jupyter-widgets/base",
          "model_name": "LayoutModel",
          "model_module_version": "1.2.0",
          "state": {
            "_view_name": "LayoutView",
            "grid_template_rows": null,
            "right": null,
            "justify_content": null,
            "_view_module": "@jupyter-widgets/base",
            "overflow": null,
            "_model_module_version": "1.2.0",
            "_view_count": null,
            "flex_flow": null,
            "width": null,
            "min_width": null,
            "border": null,
            "align_items": null,
            "bottom": null,
            "_model_module": "@jupyter-widgets/base",
            "top": null,
            "grid_column": null,
            "overflow_y": null,
            "overflow_x": null,
            "grid_auto_flow": null,
            "grid_area": null,
            "grid_template_columns": null,
            "flex": null,
            "_model_name": "LayoutModel",
            "justify_items": null,
            "grid_row": null,
            "max_height": null,
            "align_content": null,
            "visibility": null,
            "align_self": null,
            "height": null,
            "min_height": null,
            "padding": null,
            "grid_auto_rows": null,
            "grid_gap": null,
            "max_width": null,
            "order": null,
            "_view_module_version": "1.2.0",
            "grid_template_areas": null,
            "object_position": null,
            "object_fit": null,
            "grid_auto_columns": null,
            "margin": null,
            "display": null,
            "left": null
          }
        },
        "dd3419d0899f4a18a610c6558db66911": {
          "model_module": "@jupyter-widgets/controls",
          "model_name": "DescriptionStyleModel",
          "model_module_version": "1.5.0",
          "state": {
            "_view_name": "StyleView",
            "_model_name": "DescriptionStyleModel",
            "description_width": "",
            "_view_module": "@jupyter-widgets/base",
            "_model_module_version": "1.5.0",
            "_view_count": null,
            "_view_module_version": "1.2.0",
            "_model_module": "@jupyter-widgets/controls"
          }
        },
        "b2571e3e037541a9bf4301cb53edab25": {
          "model_module": "@jupyter-widgets/base",
          "model_name": "LayoutModel",
          "model_module_version": "1.2.0",
          "state": {
            "_view_name": "LayoutView",
            "grid_template_rows": null,
            "right": null,
            "justify_content": null,
            "_view_module": "@jupyter-widgets/base",
            "overflow": null,
            "_model_module_version": "1.2.0",
            "_view_count": null,
            "flex_flow": null,
            "width": null,
            "min_width": null,
            "border": null,
            "align_items": null,
            "bottom": null,
            "_model_module": "@jupyter-widgets/base",
            "top": null,
            "grid_column": null,
            "overflow_y": null,
            "overflow_x": null,
            "grid_auto_flow": null,
            "grid_area": null,
            "grid_template_columns": null,
            "flex": null,
            "_model_name": "LayoutModel",
            "justify_items": null,
            "grid_row": null,
            "max_height": null,
            "align_content": null,
            "visibility": null,
            "align_self": null,
            "height": null,
            "min_height": null,
            "padding": null,
            "grid_auto_rows": null,
            "grid_gap": null,
            "max_width": null,
            "order": null,
            "_view_module_version": "1.2.0",
            "grid_template_areas": null,
            "object_position": null,
            "object_fit": null,
            "grid_auto_columns": null,
            "margin": null,
            "display": null,
            "left": null
          }
        }
      }
    }
  },
  "cells": [
    {
      "cell_type": "markdown",
      "metadata": {
        "id": "KO9_z7rLWZqC"
      },
      "source": [
        "# Running Four Pre-Trained English Tokenizers (BERT, GPT-2, DistilBERT, XLNet) on Texts (News Articles + Blogs)\n",
        "* Data from https://www.kaggle.com/patjob/articlescrape - contains 160,000 \n",
        "* Further discussion needs to be done on:\n",
        "  * which (out of the many) tokenizers to use\n",
        "    * by some X number of most popular tokenizers? the downside of this is that if there are less known tokenizers that are better in one of the evaluation criteria, we won't find that\n",
        "    * but, there are more tokenizers that we would be able to find and test (since some are not on huggingface as well)\n",
        "  * how to use tokenization length vs dict size graphs for evaluation & what priority we should give these two critera vs the others (loss/accuracy/performance)\n",
        "    * because noticed that the BERT and DistilBERT Tokenizers were relatively slower (~1 minute to run 5000 texts), as compared to XLNet (18 s) and GPT-2 (25 s)\n",
        "  * whether we should run WordPiece/BPE/Sentencepiece tokenizers, since they are used to train the corresponding BERT/XLNet/GPT-2 tokenizers at hand"
      ]
    },
    {
      "cell_type": "code",
      "metadata": {
        "id": "aYO5VBDlSnOR"
      },
      "source": [
        "!pip install -q kaggle"
      ],
      "execution_count": null,
      "outputs": []
    },
    {
      "cell_type": "code",
      "metadata": {
        "colab": {
          "resources": {
            "http://localhost:8080/nbextensions/google.colab/files.js": {
              "data": "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",
              "ok": true,
              "headers": [
                [
                  "content-type",
                  "application/javascript"
                ]
              ],
              "status": 200,
              "status_text": ""
            }
          },
          "base_uri": "https://localhost:8080/",
          "height": 89
        },
        "id": "CN3S6z7PTTlF",
        "outputId": "06ef88c7-6c00-409d-e9f8-6ea5958b1182"
      },
      "source": [
        "from google.colab import files\n",
        "files.upload()"
      ],
      "execution_count": null,
      "outputs": [
        {
          "output_type": "display_data",
          "data": {
            "text/html": [
              "\n",
              "     <input type=\"file\" id=\"files-6ca15341-3492-457d-99f9-19ff139358b8\" name=\"files[]\" multiple disabled\n",
              "        style=\"border:none\" />\n",
              "     <output id=\"result-6ca15341-3492-457d-99f9-19ff139358b8\">\n",
              "      Upload widget is only available when the cell has been executed in the\n",
              "      current browser session. Please rerun this cell to enable.\n",
              "      </output>\n",
              "      <script src=\"/nbextensions/google.colab/files.js\"></script> "
            ],
            "text/plain": [
              "<IPython.core.display.HTML object>"
            ]
          },
          "metadata": {}
        },
        {
          "output_type": "stream",
          "name": "stdout",
          "text": [
            "Saving kaggle.json to kaggle (1).json\n"
          ]
        },
        {
          "output_type": "execute_result",
          "data": {
            "text/plain": [
              "{'kaggle.json': b'{\"username\":\"riybha216\",\"key\":\"e9c44910ad89219b0d15fe1c4deaff3c\"}'}"
            ]
          },
          "metadata": {},
          "execution_count": 2
        }
      ]
    },
    {
      "cell_type": "code",
      "metadata": {
        "id": "TXuCK1FzTbmi",
        "colab": {
          "base_uri": "https://localhost:8080/"
        },
        "outputId": "e9b715f9-8f05-4f67-9f88-cd1da06e57ee"
      },
      "source": [
        "!mkdir ~/.kaggle"
      ],
      "execution_count": null,
      "outputs": [
        {
          "output_type": "stream",
          "name": "stdout",
          "text": [
            "mkdir: cannot create directory ‘/root/.kaggle’: File exists\n"
          ]
        }
      ]
    },
    {
      "cell_type": "code",
      "metadata": {
        "id": "M1ydghUATftI"
      },
      "source": [
        "!cp kaggle.json ~/.kaggle/"
      ],
      "execution_count": null,
      "outputs": []
    },
    {
      "cell_type": "code",
      "metadata": {
        "id": "NriqDb9cTlxL"
      },
      "source": [
        "!chmod 600 ~/.kaggle/kaggle.json"
      ],
      "execution_count": null,
      "outputs": []
    },
    {
      "cell_type": "code",
      "metadata": {
        "colab": {
          "base_uri": "https://localhost:8080/"
        },
        "id": "_-E-tWQZTrF9",
        "outputId": "f78eb971-4aef-410e-f241-5e2ea945adb2"
      },
      "source": [
        "!kaggle datasets list"
      ],
      "execution_count": null,
      "outputs": [
        {
          "output_type": "stream",
          "name": "stdout",
          "text": [
            "Warning: Looks like you're using an outdated API Version, please consider updating (server 1.5.12 / client 1.5.4)\n",
            "ref                                                         title                                              size  lastUpdated          downloadCount  \n",
            "----------------------------------------------------------  ------------------------------------------------  -----  -------------------  -------------  \n",
            "gpreda/reddit-vaccine-myths                                 Reddit Vaccine Myths                              233KB  2021-09-03 10:07:19          11619  \n",
            "crowww/a-large-scale-fish-dataset                           A Large Scale Fish Dataset                          3GB  2021-04-28 17:03:01           7037  \n",
            "imsparsh/musicnet-dataset                                   MusicNet Dataset                                   22GB  2021-02-18 14:12:19           2738  \n",
            "promptcloud/careerbuilder-job-listing-2020                  Careerbuilder Job Listing 2020                     42MB  2021-03-05 06:59:52           1791  \n",
            "dhruvildave/wikibooks-dataset                               Wikibooks Dataset                                   2GB  2021-07-03 18:37:20           2799  \n",
            "fatiimaezzahra/famous-iconic-women                          Famous Iconic Women                               838MB  2021-02-28 14:56:00           1231  \n",
            "nickuzmenkov/nih-chest-xrays-tfrecords                      NIH Chest X-rays TFRecords                         11GB  2021-03-09 04:49:23           1040  \n",
            "mathurinache/twitter-edge-nodes                             Twitter Edge Nodes                                342MB  2021-03-08 06:43:04            859  \n",
            "alsgroup/end-als                                            End ALS Kaggle Challenge                           12GB  2021-04-08 12:16:37            860  \n",
            "coloradokb/dandelionimages                                  DandelionImages                                     4GB  2021-02-19 20:03:47            755  \n",
            "simiotic/github-code-snippets                               GitHub Code Snippets                                7GB  2021-03-03 11:34:39            315  \n",
            "stuartjames/lights                                          LightS: Light Specularity Dataset                  18GB  2021-02-18 14:32:26            134  \n",
            "mathurinache/the-lj-speech-dataset                          The LJ Speech Dataset                               3GB  2021-02-15 09:19:54            313  \n",
            "landrykezebou/lvzhdr-tone-mapping-benchmark-dataset-tmonet  LVZ-HDR Tone Mapping Benchmark Dataset (TMO-Net)   24GB  2021-03-01 05:03:40            180  \n",
            "imsparsh/accentdb-core-extended                             AccentDB - Core & Extended                          6GB  2021-02-17 14:22:54            137  \n",
            "nickuzmenkov/ranzcr-clip-kfold-tfrecords                    RANZCR CLiP KFold TFRecords                         2GB  2021-02-21 13:29:51            127  \n",
            "datasnaek/youtube-new                                       Trending YouTube Video Statistics                 201MB  2019-06-03 00:56:47         148317  \n",
            "zynicide/wine-reviews                                       Wine Reviews                                       51MB  2017-11-27 17:08:04         142995  \n",
            "residentmario/ramen-ratings                                 Ramen Ratings                                      40KB  2018-01-11 16:04:39          26438  \n",
            "datasnaek/chess                                             Chess Game Dataset (Lichess)                        3MB  2017-09-04 03:09:09          21308  \n"
          ]
        }
      ]
    },
    {
      "cell_type": "code",
      "metadata": {
        "colab": {
          "base_uri": "https://localhost:8080/"
        },
        "id": "1BlKI3XfTvBa",
        "outputId": "da11bbd3-fcb6-45e5-d771-fb1e680bd2b6"
      },
      "source": [
        "!kaggle datasets download -d patjob/articlescrape"
      ],
      "execution_count": null,
      "outputs": [
        {
          "output_type": "stream",
          "name": "stdout",
          "text": [
            "articlescrape.zip: Skipping, found more recently modified local copy (use --force to force download)\n"
          ]
        }
      ]
    },
    {
      "cell_type": "code",
      "metadata": {
        "colab": {
          "base_uri": "https://localhost:8080/"
        },
        "id": "3VmrsAXIUGYS",
        "outputId": "a1a15711-2376-4680-bf4a-109de60555cf"
      },
      "source": [
        "!ls"
      ],
      "execution_count": null,
      "outputs": [
        {
          "output_type": "stream",
          "name": "stdout",
          "text": [
            " articlescrape.zip   corpus.csv  'kaggle (1).json'   kaggle.json   sample_data\n"
          ]
        }
      ]
    },
    {
      "cell_type": "code",
      "metadata": {
        "colab": {
          "base_uri": "https://localhost:8080/"
        },
        "id": "vunV_1VTUME7",
        "outputId": "aa522d5a-2fc8-4339-a369-6041762738a2"
      },
      "source": [
        "!unzip articlescrape.zip"
      ],
      "execution_count": null,
      "outputs": [
        {
          "output_type": "stream",
          "name": "stdout",
          "text": [
            "Archive:  articlescrape.zip\n",
            "replace corpus.csv? [y]es, [n]o, [A]ll, [N]one, [r]ename: n\n"
          ]
        }
      ]
    },
    {
      "cell_type": "code",
      "metadata": {
        "colab": {
          "base_uri": "https://localhost:8080/"
        },
        "id": "JNvYts_QVm-p",
        "outputId": "e896eb2f-fefa-4a12-eff5-6f2e73610270"
      },
      "source": [
        "import chardet\n",
        "with open(\"corpus.csv\", 'rb') as rawdata:\n",
        "    result = chardet.detect(rawdata.read(100000))\n",
        "result"
      ],
      "execution_count": null,
      "outputs": [
        {
          "output_type": "execute_result",
          "data": {
            "text/plain": [
              "{'confidence': 0.73, 'encoding': 'Windows-1252', 'language': ''}"
            ]
          },
          "metadata": {},
          "execution_count": 10
        }
      ]
    },
    {
      "cell_type": "code",
      "metadata": {
        "colab": {
          "base_uri": "https://localhost:8080/",
          "height": 204
        },
        "id": "WXOSe7BJUS37",
        "outputId": "b0f0acb2-7b8e-486c-af93-62fa27e217c7"
      },
      "source": [
        "import pandas as pd\n",
        "import codecs\n",
        "\n",
        "codecs.register_error(\"strict\", codecs.ignore_errors)\n",
        "\n",
        "data = pd.read_csv(\"corpus.csv\")\n",
        "data.head()"
      ],
      "execution_count": null,
      "outputs": [
        {
          "output_type": "execute_result",
          "data": {
            "text/html": [
              "<div>\n",
              "<style scoped>\n",
              "    .dataframe tbody tr th:only-of-type {\n",
              "        vertical-align: middle;\n",
              "    }\n",
              "\n",
              "    .dataframe tbody tr th {\n",
              "        vertical-align: top;\n",
              "    }\n",
              "\n",
              "    .dataframe thead th {\n",
              "        text-align: right;\n",
              "    }\n",
              "</style>\n",
              "<table border=\"1\" class=\"dataframe\">\n",
              "  <thead>\n",
              "    <tr style=\"text-align: right;\">\n",
              "      <th></th>\n",
              "      <th>Unnamed: 0</th>\n",
              "      <th>body</th>\n",
              "      <th>title</th>\n",
              "      <th>last_crawl_date</th>\n",
              "      <th>url</th>\n",
              "    </tr>\n",
              "  </thead>\n",
              "  <tbody>\n",
              "    <tr>\n",
              "      <th>0</th>\n",
              "      <td>1</td>\n",
              "      <td>NEW DELHI: The Aam Aadmi Party's (AAP's) stanc...</td>\n",
              "      <td>GR Gopinath slams AAP's stand on FDI in retail...</td>\n",
              "      <td>2014-01-16</td>\n",
              "      <td>http://economictimes.indiatimes.com/news/polit...</td>\n",
              "    </tr>\n",
              "    <tr>\n",
              "      <th>1</th>\n",
              "      <td>2</td>\n",
              "      <td>Japans ties with India do not target any count...</td>\n",
              "      <td>Politics is now | The Indian Express</td>\n",
              "      <td>2014-01-16</td>\n",
              "      <td>http://indianexpress.com/article/opinion/colum...</td>\n",
              "    </tr>\n",
              "    <tr>\n",
              "      <th>2</th>\n",
              "      <td>3</td>\n",
              "      <td>SAGITTARIUS NOV 23-DEC 22. Its almost time to ...</td>\n",
              "      <td>Daily | Astrotype | The Indian Express</td>\n",
              "      <td>2014-01-16</td>\n",
              "      <td>http://indianexpress.com/astrotype/daily/</td>\n",
              "    </tr>\n",
              "    <tr>\n",
              "      <th>3</th>\n",
              "      <td>4</td>\n",
              "      <td>Bad corporate news sends stocks lower. Bad new...</td>\n",
              "      <td>Bad corporate news sends stocks lower - Jan. 1...</td>\n",
              "      <td>2014-01-16</td>\n",
              "      <td>http://money.cnn.com/2014/01/16/investing/stoc...</td>\n",
              "    </tr>\n",
              "    <tr>\n",
              "      <th>4</th>\n",
              "      <td>5</td>\n",
              "      <td>Related. 2008 Batla House encounter convict Sh...</td>\n",
              "      <td>Batla House encounter: HC denies bail to convi...</td>\n",
              "      <td>2014-01-16</td>\n",
              "      <td>http://indianexpress.com/article/india/india-o...</td>\n",
              "    </tr>\n",
              "  </tbody>\n",
              "</table>\n",
              "</div>"
            ],
            "text/plain": [
              "   Unnamed: 0  ...                                                url\n",
              "0           1  ...  http://economictimes.indiatimes.com/news/polit...\n",
              "1           2  ...  http://indianexpress.com/article/opinion/colum...\n",
              "2           3  ...          http://indianexpress.com/astrotype/daily/\n",
              "3           4  ...  http://money.cnn.com/2014/01/16/investing/stoc...\n",
              "4           5  ...  http://indianexpress.com/article/india/india-o...\n",
              "\n",
              "[5 rows x 5 columns]"
            ]
          },
          "metadata": {},
          "execution_count": 11
        }
      ]
    },
    {
      "cell_type": "code",
      "metadata": {
        "colab": {
          "base_uri": "https://localhost:8080/"
        },
        "id": "etK0OFFqbJP3",
        "outputId": "1370372b-be5e-4b69-873d-eb6877815234"
      },
      "source": [
        "body = data[\"body\"]\n",
        "body.head()\n",
        "# body.shape[0] # 160000"
      ],
      "execution_count": null,
      "outputs": [
        {
          "output_type": "execute_result",
          "data": {
            "text/plain": [
              "0    NEW DELHI: The Aam Aadmi Party's (AAP's) stanc...\n",
              "1    Japans ties with India do not target any count...\n",
              "2    SAGITTARIUS NOV 23-DEC 22. Its almost time to ...\n",
              "3    Bad corporate news sends stocks lower. Bad new...\n",
              "4    Related. 2008 Batla House encounter convict Sh...\n",
              "Name: body, dtype: object"
            ]
          },
          "metadata": {},
          "execution_count": 12
        }
      ]
    },
    {
      "cell_type": "code",
      "metadata": {
        "colab": {
          "base_uri": "https://localhost:8080/"
        },
        "id": "QF_V2PWkWL75",
        "outputId": "9bd53e02-d9bf-4819-aeb4-a8b947394032"
      },
      "source": [
        "pip install transformers"
      ],
      "execution_count": null,
      "outputs": [
        {
          "output_type": "stream",
          "name": "stdout",
          "text": [
            "Requirement already satisfied: transformers in /usr/local/lib/python3.7/dist-packages (4.10.0)\n",
            "Requirement already satisfied: sacremoses in /usr/local/lib/python3.7/dist-packages (from transformers) (0.0.45)\n",
            "Requirement already satisfied: huggingface-hub>=0.0.12 in /usr/local/lib/python3.7/dist-packages (from transformers) (0.0.16)\n",
            "Requirement already satisfied: regex!=2019.12.17 in /usr/local/lib/python3.7/dist-packages (from transformers) (2019.12.20)\n",
            "Requirement already satisfied: numpy>=1.17 in /usr/local/lib/python3.7/dist-packages (from transformers) (1.19.5)\n",
            "Requirement already satisfied: pyyaml>=5.1 in /usr/local/lib/python3.7/dist-packages (from transformers) (5.4.1)\n",
            "Requirement already satisfied: requests in /usr/local/lib/python3.7/dist-packages (from transformers) (2.23.0)\n",
            "Requirement already satisfied: filelock in /usr/local/lib/python3.7/dist-packages (from transformers) (3.0.12)\n",
            "Requirement already satisfied: tqdm>=4.27 in /usr/local/lib/python3.7/dist-packages (from transformers) (4.62.0)\n",
            "Requirement already satisfied: importlib-metadata in /usr/local/lib/python3.7/dist-packages (from transformers) (4.6.4)\n",
            "Requirement already satisfied: tokenizers<0.11,>=0.10.1 in /usr/local/lib/python3.7/dist-packages (from transformers) (0.10.3)\n",
            "Requirement already satisfied: packaging in /usr/local/lib/python3.7/dist-packages (from transformers) (21.0)\n",
            "Requirement already satisfied: typing-extensions in /usr/local/lib/python3.7/dist-packages (from huggingface-hub>=0.0.12->transformers) (3.7.4.3)\n",
            "Requirement already satisfied: pyparsing>=2.0.2 in /usr/local/lib/python3.7/dist-packages (from packaging->transformers) (2.4.7)\n",
            "Requirement already satisfied: zipp>=0.5 in /usr/local/lib/python3.7/dist-packages (from importlib-metadata->transformers) (3.5.0)\n",
            "Requirement already satisfied: urllib3!=1.25.0,!=1.25.1,<1.26,>=1.21.1 in /usr/local/lib/python3.7/dist-packages (from requests->transformers) (1.24.3)\n",
            "Requirement already satisfied: certifi>=2017.4.17 in /usr/local/lib/python3.7/dist-packages (from requests->transformers) (2021.5.30)\n",
            "Requirement already satisfied: idna<3,>=2.5 in /usr/local/lib/python3.7/dist-packages (from requests->transformers) (2.10)\n",
            "Requirement already satisfied: chardet<4,>=3.0.2 in /usr/local/lib/python3.7/dist-packages (from requests->transformers) (3.0.4)\n",
            "Requirement already satisfied: six in /usr/local/lib/python3.7/dist-packages (from sacremoses->transformers) (1.15.0)\n",
            "Requirement already satisfied: click in /usr/local/lib/python3.7/dist-packages (from sacremoses->transformers) (7.1.2)\n",
            "Requirement already satisfied: joblib in /usr/local/lib/python3.7/dist-packages (from sacremoses->transformers) (1.0.1)\n"
          ]
        }
      ]
    },
    {
      "cell_type": "code",
      "metadata": {
        "id": "dE_Ofbr-aMBg"
      },
      "source": [
        "from transformers import BertTokenizer\n",
        "tokenizer = BertTokenizer.from_pretrained(\"bert-base-uncased\")"
      ],
      "execution_count": null,
      "outputs": []
    },
    {
      "cell_type": "code",
      "metadata": {
        "colab": {
          "base_uri": "https://localhost:8080/",
          "height": 120
        },
        "id": "f2Kks8lddm8F",
        "outputId": "45bfb982-5be7-4dee-9426-dd2380592e29"
      },
      "source": [
        "body[1]"
      ],
      "execution_count": null,
      "outputs": [
        {
          "output_type": "execute_result",
          "data": {
            "application/vnd.google.colaboratory.intrinsic+json": {
              "type": "string"
            },
            "text/plain": [
              "'Japans ties with India do not target any country. They are solely intended to strengthen peace and stability in Asia. Its never too early for news TV to begin searching for the next prime minister. The next general elections are still three months away but TV news behaves as if theyre being held tomorrow. Its a case of back to the future, and the future is now. Thus, Times Now conducts live national debates on the weekend about issues for the elections and before the electorate. Watched Sitaram Yechury (CPM), Anand Sharma (Congress) and the BJPs Piyush Goel exchange barbs and accusations on your corruption versus mine, Sunday. Thus, CNN-IBN, Tuesday, began a new early evening show, A Billion Votes Battle for 2014. It deemed the initiative worthy of Rajdeep Sardesais presence along with late evening studio regulars like Vinod Mehta, Mani Shankar Aiyar and Tavleen Singh. Subject? Rahul Gandhi as PM nominee  too late or a gamechanger? And thus, writer Chetan Bhagat has decided that Decision 2014 is important enough to require his services as an anchor of a new news feature, 7 Race Course Road (ABP). Thats the most famous address in the NCR after Kaushambi, Ghaziabad where Arvind Kejriwal resides. The former is, of course, where Manmohan Singh is spending his last few months as Indias prime minister. The show is about those who may succeed him at the PMs official residence. And the first among equal aspirants is Gujarats roving chief minister. Following the successful format of Pradhan Mantri, 7 Race Course Road mixed dramatic reconstructions with interviews, available visual and factual material on the BJPs PM candidate. We see a young Narendra Modi arrive in Ahmedabad, his sojourn at the tea stall, his shift to Sangh service and then to Gujarat student politics. It is a fascinating story and you can see why Bhagat wanted to host it. His debut is as youd expect it to be: hes hesitant, needing to grow into the role and sound authoritative on the subject. Away from the world of politics, Chivas Studio Gentlemans Code (Star World) promises, in the words of its host, writer Aatish Taseer, to take a long hard look at men. After the first episode, youre left wondering if it didnt employ a soft touch. Imaginative in conceptualisation with segments alternating between black/ white and colour, unusual camera angles, readings interspersed with interviews and conversations, it looked at men in relation to women (mothers, changing women, whatever that means,), men and sex, without being revelatory. So while its interesting to listen to Karan Johar on living with his mother, not getting married and his mothers wishing he was a small boy againwhen she owned him, whats new about the all-Indian mamas boy? Or Chetan Bhagat (yes this is his week on TV) reading from his book and telling us men cannot accept that a woman theyre involved with had sex with another man? Or about the two men who frequent an informal singles club and think that concepts like love at first sight are unrealistic? Or that men suffer from anxiety about sexual performance, that its more for procreation than recreation in the words of a doctor  most women could tell you that. And when Taseer and Priyanka Chopra claim to like item numbers, well, how could it be otherwise for Chopra, who appears in them? Gentlemans Code is cleverly packaged, but hard-hitting? Lets wait for the next episode. A bit of this and that now: Salman Khan appeared on TV by Modis side but said let the best man be PM; he also sang on Nach Baliye (Star Plus), as unusual an occurrence. His father, Salim Khan, sat beside Javed Akhtar and blamed himself for the professional scriptwriting break-up with Akhtar (CNN-IBN). Akhtars son Farhan won the hamper on Koffee with Karan (Star World), much to the disgust of fellow guest Vidya Balan in the most enjoyable and entertaining episode of the more spicy, steamy season, as Johar calls it. By the way, why the obsession with sexual innuendo and homosexuality in every episode? And thank you DD National for telecasting on Sunday Ishqiya, just after Dedh Ishqiya was released. The latters star, Madhuri Dixit, appeared in the Front Row (Star World) not in a demure but tantalising saree that hid as many secrets as it revealed, but in a fitting black dress. Black dress?'"
            ]
          },
          "metadata": {},
          "execution_count": 15
        }
      ]
    },
    {
      "cell_type": "code",
      "metadata": {
        "colab": {
          "base_uri": "https://localhost:8080/"
        },
        "id": "XV2fib2JciFM",
        "outputId": "0482cb68-5933-4790-81c3-74461e212f6e"
      },
      "source": [
        "lent = [] #yes\n",
        "total_length = []\n",
        "dis = []\n",
        "distinct = []\n",
        "for i in range(5000):\n",
        "  tok = tokenizer.tokenize(body[i])\n",
        "  lent.append(len(tok))\n",
        "  for x in tok:\n",
        "    if x not in dis:\n",
        "      dis.append(x)\n",
        "  distinct.append(len(dis))\n",
        "  dis.clear()\n",
        "\n",
        "print(lent)\n",
        "print(distinct)\n",
        "  "
      ],
      "execution_count": null,
      "outputs": [
        {
          "output_type": "stream",
          "name": "stdout",
          "text": [
            "[468, 987, 731, 523, 393, 676, 428, 320, 740, 801, 379, 409, 459, 1189, 458, 631, 752, 582, 819, 645, 881, 1178, 354, 336, 976, 1401, 740, 723, 1261, 503, 408, 1106, 618, 593, 654, 537, 765, 613, 850, 532, 746, 1024, 520, 357, 521, 535, 488, 391, 557, 527, 1173, 474, 588, 663, 982, 607, 1091, 350, 504, 527, 878, 646, 650, 442, 574, 367, 364, 413, 920, 516, 390, 657, 601, 852, 352, 399, 738, 1999, 1724, 895, 994, 495, 840, 867, 1325, 1591, 649, 1567, 648, 683, 463, 1029, 1107, 610, 1312, 1668, 386, 797, 958, 457, 970, 959, 646, 500, 945, 694, 455, 380, 320, 321, 398, 1286, 647, 515, 379, 478, 671, 828, 914, 567, 450, 1510, 640, 405, 471, 1246, 501, 1333, 1143, 367, 332, 332, 1049, 854, 750, 564, 690, 392, 339, 555, 344, 820, 375, 883, 399, 462, 354, 451, 393, 301, 309, 472, 650, 1376, 588, 1345, 1606, 619, 1111, 654, 590, 294, 663, 344, 1083, 388, 419, 584, 456, 427, 494, 423, 434, 696, 472, 2340, 523, 536, 669, 848, 427, 489, 815, 344, 535, 400, 955, 651, 548, 678, 866, 334, 370, 1620, 1552, 1820, 791, 318, 489, 953, 575, 332, 1142, 490, 838, 377, 381, 329, 579, 468, 1022, 496, 1719, 2998, 695, 651, 547, 538, 639, 583, 870, 1611, 614, 828, 541, 442, 564, 377, 641, 317, 353, 471, 940, 834, 821, 798, 330, 801, 850, 914, 377, 2183, 1677, 1087, 846, 2094, 518, 1434, 1392, 676, 677, 626, 432, 501, 428, 414, 682, 509, 947, 699, 444, 1079, 886, 795, 992, 1797, 529, 563, 470, 530, 423, 2118, 353, 1359, 2057, 726, 1227, 1163, 548, 604, 742, 844, 805, 826, 671, 680, 647, 567, 547, 675, 470, 345, 732, 303, 903, 1189, 407, 553, 351, 498, 705, 655, 539, 907, 431, 404, 902, 612, 955, 689, 581, 593, 2199, 754, 779, 1152, 688, 445, 436, 534, 301, 807, 716, 798, 614, 400, 1023, 766, 502, 443, 428, 1089, 452, 415, 1269, 800, 302, 823, 786, 1340, 447, 394, 832, 1127, 954, 1284, 625, 409, 708, 1127, 568, 763, 773, 340, 527, 1057, 516, 1334, 674, 917, 1504, 544, 341, 689, 715, 1917, 859, 969, 503, 492, 1558, 731, 610, 690, 610, 939, 382, 411, 2245, 1094, 1413, 949, 857, 747, 638, 508, 1824, 876, 1082, 813, 697, 786, 1166, 1246, 438, 478, 575, 509, 921, 1039, 1135, 577, 428, 504, 517, 1453, 405, 657, 773, 384, 818, 510, 1201, 421, 1182, 1761, 323, 322, 498, 1426, 326, 1357, 837, 751, 750, 635, 487, 550, 839, 637, 342, 724, 565, 587, 487, 438, 409, 384, 1103, 464, 974, 541, 517, 503, 371, 330, 346, 747, 940, 902, 536, 370, 363, 501, 403, 1503, 1122, 851, 740, 614, 517, 990, 1063, 909, 553, 1120, 2354, 452, 446, 742, 567, 963, 375, 510, 339, 523, 463, 1053, 339, 333, 689, 1165, 527, 770, 613, 573, 332, 455, 699, 785, 766, 365, 469, 404, 528, 1065, 2115, 910, 2368, 336, 357, 599, 373, 680, 354, 419, 363, 867, 531, 491, 445, 713, 762, 365, 411, 1053, 787, 858, 807, 2163, 820, 465, 326, 502, 640, 895, 487, 382, 609, 553, 1245, 849, 437, 651, 482, 2493, 397, 988, 757, 535, 390, 629, 691, 342, 344, 511, 459, 936, 500, 475, 338, 2569, 1305, 824, 465, 451, 397, 670, 717, 322, 1051, 757, 360, 1091, 515, 333, 544, 510, 434, 746, 315, 1093, 449, 291, 370, 379, 771, 841, 660, 1339, 682, 702, 309, 468, 592, 1032, 2078, 385, 444, 573, 454, 515, 494, 600, 712, 684, 303, 493, 1561, 488, 549, 724, 375, 1068, 481, 1029, 699, 815, 359, 479, 598, 425, 484, 452, 458, 355, 944, 407, 558, 519, 618, 578, 647, 628, 476, 442, 482, 380, 299, 346, 479, 424, 481, 661, 585, 626, 390, 404, 335, 933, 413, 751, 3331, 537, 475, 956, 394, 452, 479, 411, 361, 790, 375, 548, 421, 682, 520, 339, 539, 537, 1206, 492, 376, 575, 460, 462, 442, 362, 476, 406, 776, 493, 699, 657, 444, 580, 501, 607, 383, 422, 648, 310, 697, 365, 566, 447, 957, 379, 329, 411, 343, 724, 394, 438, 433, 447, 434, 508, 480, 393, 984, 718, 584, 488, 603, 604, 657, 369, 456, 333, 490, 402, 353, 367, 479, 417, 430, 551, 614, 402, 332, 500, 375, 340, 1328, 476, 475, 369, 469, 565, 334, 487, 648, 476, 564, 889, 737, 773, 476, 570, 601, 811, 948, 588, 584, 343, 620, 641, 509, 1052, 627, 603, 500, 715, 648, 512, 694, 783, 708, 1478, 550, 466, 338, 533, 364, 431, 697, 774, 506, 452, 660, 554, 593, 604, 666, 659, 3869, 3872, 537, 482, 1227, 1325, 647, 382, 565, 399, 376, 387, 568, 400, 393, 483, 360, 344, 360, 461, 510, 768, 417, 421, 1238, 424, 820, 486, 599, 322, 597, 1163, 307, 500, 452, 480, 448, 461, 419, 457, 637, 879, 624, 339, 392, 442, 483, 510, 3976, 3899, 3525, 1014, 554, 480, 603, 532, 1499, 426, 1642, 986, 995, 525, 616, 1005, 659, 456, 376, 386, 359, 377, 523, 543, 400, 398, 399, 567, 455, 337, 530, 462, 377, 350, 343, 471, 341, 367, 416, 367, 508, 346, 454, 405, 588, 383, 343, 1140, 553, 709, 565, 616, 1049, 765, 439, 389, 535, 513, 527, 445, 495, 427, 472, 620, 877, 661, 647, 605, 2698, 539, 579, 608, 633, 797, 392, 2031, 1154, 825, 585, 621, 803, 1076, 606, 329, 569, 577, 386, 493, 1474, 469, 555, 467, 579, 601, 433, 316, 350, 420, 659, 682, 968, 563, 891, 1698, 2948, 1249, 385, 1682, 1428, 3625, 3386, 3494, 3447, 3173, 3506, 1209, 824, 1124, 1065, 800, 522, 1608, 562, 411, 568, 423, 474, 1825, 2570, 656, 1770, 714, 1186, 388, 435, 562, 2122, 1731, 1810, 1701, 1679, 434, 415, 1049, 965, 497, 464, 466, 565, 423, 1055, 635, 1035, 514, 628, 460, 669, 857, 1265, 691, 896, 686, 771, 848, 889, 1829, 1958, 917, 1647, 334, 324, 494, 985, 642, 460, 923, 793, 475, 380, 473, 764, 2481, 562, 932, 396, 563, 641, 538, 427, 680, 436, 347, 320, 1183, 901, 2313, 351, 384, 840, 417, 394, 388, 600, 727, 889, 325, 2819, 417, 961, 727, 365, 584, 544, 652, 731, 380, 602, 359, 631, 923, 565, 344, 1183, 733, 524, 1013, 1236, 574, 407, 650, 444, 655, 1146, 313, 1039, 383, 537, 489, 579, 312, 811, 695, 967, 795, 520, 678, 459, 465, 793, 567, 805, 752, 433, 467, 517, 558, 361, 357, 551, 988, 1010, 386, 442, 326, 978, 388, 381, 664, 509, 439, 327, 857, 400, 489, 327, 1172, 1250, 801, 1319, 354, 566, 681, 537, 395, 511, 423, 426, 351, 577, 473, 497, 776, 1264, 426, 328, 337, 604, 984, 407, 440, 435, 763, 926, 476, 400, 630, 1123, 417, 468, 565, 412, 310, 470, 492, 423, 2348, 605, 709, 571, 762, 532, 442, 470, 478, 563, 2589, 663, 405, 519, 407, 705, 324, 803, 335, 581, 357, 645, 432, 649, 478, 396, 659, 1049, 500, 951, 438, 655, 312, 849, 379, 332, 523, 768, 678, 509, 534, 982, 314, 453, 657, 502, 725, 960, 643, 821, 511, 551, 541, 493, 519, 503, 411, 516, 870, 1086, 508, 501, 499, 1292, 412, 403, 588, 499, 519, 484, 507, 571, 346, 479, 515, 518, 736, 623, 464, 392, 1064, 386, 401, 481, 560, 525, 599, 513, 460, 899, 652, 591, 1140, 577, 352, 382, 497, 412, 461, 354, 382, 380, 362, 444, 398, 754, 576, 617, 860, 1021, 323, 1188, 382, 361, 961, 416, 635, 598, 513, 2566, 370, 468, 369, 544, 629, 414, 476, 517, 563, 666, 523, 663, 468, 623, 665, 477, 580, 472, 457, 493, 434, 936, 414, 934, 557, 639, 332, 575, 796, 627, 557, 556, 458, 1043, 399, 936, 384, 511, 689, 427, 531, 433, 724, 361, 430, 363, 470, 590, 592, 823, 619, 779, 742, 715, 591, 415, 819, 464, 2147, 528, 517, 544, 590, 569, 638, 514, 527, 439, 461, 845, 491, 745, 635, 299, 495, 319, 852, 477, 800, 507, 587, 602, 706, 779, 392, 474, 411, 595, 631, 863, 678, 1358, 485, 860, 856, 356, 608, 1092, 326, 408, 385, 1290, 715, 855, 852, 433, 568, 886, 426, 833, 655, 646, 684, 1002, 470, 541, 506, 420, 410, 458, 553, 430, 641, 533, 569, 592, 508, 438, 733, 832, 1025, 333, 552, 1510, 821, 518, 459, 377, 381, 520, 432, 332, 406, 647, 960, 832, 462, 481, 698, 363, 362, 357, 542, 544, 349, 471, 386, 330, 619, 530, 510, 522, 335, 439, 484, 362, 544, 763, 435, 499, 464, 587, 528, 449, 406, 411, 397, 529, 785, 536, 491, 372, 319, 441, 538, 406, 353, 739, 1319, 530, 387, 387, 416, 355, 367, 425, 729, 921, 438, 701, 410, 796, 516, 502, 624, 466, 458, 357, 618, 622, 577, 524, 350, 364, 482, 786, 526, 2318, 533, 482, 1014, 504, 450, 512, 324, 401, 1690, 430, 474, 437, 788, 463, 524, 447, 412, 486, 484, 580, 374, 399, 574, 536, 872, 560, 410, 508, 481, 522, 474, 361, 519, 466, 332, 454, 308, 308, 560, 575, 303, 554, 295, 295, 306, 306, 547, 1319, 480, 1001, 1374, 490, 587, 586, 589, 294, 503, 482, 555, 424, 464, 526, 512, 572, 560, 677, 720, 625, 671, 694, 790, 621, 366, 421, 669, 379, 369, 500, 595, 547, 451, 505, 638, 440, 698, 717, 656, 711, 444, 635, 704, 703, 842, 754, 642, 719, 712, 740, 683, 643, 794, 670, 711, 712, 869, 477, 463, 695, 736, 701, 751, 649, 625, 367, 368, 476, 435, 471, 596, 437, 501, 485, 400, 561, 441, 519, 510, 566, 754, 622, 709, 670, 667, 458, 572, 430, 621, 818, 1046, 735, 490, 444, 887, 432, 649, 521, 496, 996, 533, 1238, 1483, 592, 653, 551, 709, 1085, 431, 368, 722, 1241, 598, 568, 549, 445, 677, 527, 616, 413, 584, 477, 576, 741, 2423, 492, 500, 1838, 369, 683, 393, 707, 583, 551, 576, 426, 434, 482, 482, 742, 397, 588, 406, 1169, 925, 520, 609, 565, 618, 494, 595, 454, 487, 544, 507, 446, 428, 440, 2055, 324, 714, 394, 354, 523, 633, 593, 540, 726, 357, 697, 358, 528, 344, 463, 621, 765, 559, 495, 1126, 449, 1966, 773, 1682, 1686, 1662, 1758, 1762, 1842, 678, 706, 1397, 636, 648, 1415, 1790, 1807, 1909, 1815, 1918, 1862, 1316, 1382, 1330, 1397, 1347, 1331, 1219, 1400, 1330, 1230, 1352, 1307, 1854, 1670, 1974, 1662, 1860, 1883, 1670, 1478, 1287, 1611, 1533, 1021, 662, 353, 1135, 744, 1075, 1264, 1215, 1408, 1287, 1357, 1269, 1308, 1363, 1278, 1229, 1280, 1242, 1249, 1306, 1250, 1277, 1342, 1310, 1417, 728, 688, 764, 1346, 596, 1039, 735, 1019, 1263, 1277, 1362, 1137, 1264, 1258, 1143, 330, 1329, 1181, 1197, 1252, 1418, 607, 1215, 1106, 1040, 1429, 1114, 1487, 1009, 1405, 1062, 1220, 1411, 1286, 1199, 1230, 1219, 1304, 1311, 1168, 1275, 1223, 742, 683, 475, 1495, 1495, 1450, 1463, 1513, 1462, 1477, 1560, 1504, 1465, 1476, 688, 1069, 677, 1098, 985, 746, 587, 1112, 1051, 1454, 1412, 1397, 1470, 1582, 1546, 1521, 1468, 1439, 1630, 1470, 1537, 1461, 1520, 1504, 1544, 1481, 1483, 1429, 1528, 1579, 1314, 1015, 649, 1069, 1067, 1316, 1421, 611, 1370, 520, 1037, 1058, 992, 1306, 979, 1218, 796, 1041, 668, 1543, 1397, 1571, 1470, 1478, 1364, 1433, 1449, 1556, 494, 1425, 1555, 1393, 1461, 1453, 1375, 1553, 910, 1033, 849, 871, 853, 834, 1157, 897, 873, 935, 1030, 912, 972, 1096, 1012, 861, 884, 880, 863, 890, 824, 1098, 1103, 891, 893, 1147, 1193, 1226, 1021, 665, 962, 920, 932, 898, 868, 939, 1107, 895, 1308, 1448, 983, 972, 917, 978, 980, 973, 1062, 955, 924, 908, 871, 909, 962, 950, 1117, 973, 983, 1811, 1271, 1654, 1038, 929, 933, 927, 931, 1283, 988, 911, 877, 959, 970, 958, 936, 909, 910, 949, 959, 548, 3395, 613, 1471, 1036, 463, 869, 653, 418, 348, 955, 943, 913, 941, 858, 577, 873, 917, 950, 938, 877, 579, 609, 876, 1211, 1011, 2086, 593, 459, 1028, 874, 2367, 642, 463, 401, 657, 471, 2792, 2473, 834, 2263, 860, 448, 533, 531, 516, 1072, 555, 403, 692, 2301, 828, 1051, 504, 579, 3683, 3314, 3526, 485, 541, 588, 2587, 3824, 1061, 1409, 821, 1461, 1518, 3213, 3149, 3020, 1711, 1781, 1368, 831, 1245, 584, 3397, 3475, 730, 710, 3312, 2424, 2828, 3730, 1092, 1121, 546, 457, 1414, 1619, 1987, 1647, 665, 624, 1069, 996, 531, 923, 1926, 927, 1546, 456, 1583, 1643, 613, 758, 781, 737, 1041, 559, 942, 562, 330, 658, 523, 914, 536, 844, 557, 366, 853, 1739, 1488, 714, 719, 555, 408, 444, 342, 1498, 1006, 1543, 912, 1189, 1260, 1365, 483, 2145, 584, 1220, 940, 324, 730, 418, 978, 574, 1436, 471, 547, 849, 580, 603, 494, 384, 656, 480, 593, 623, 1350, 516, 1447, 698, 1594, 1499, 1266, 722, 401, 657, 1365, 708, 1489, 934, 326, 665, 1354, 1541, 1428, 541, 450, 1296, 1554, 1425, 1074, 1365, 1438, 1254, 342, 798, 1296, 1612, 547, 351, 1110, 1205, 462, 1430, 1208, 876, 1160, 653, 1443, 1332, 1018, 1202, 1069, 1341, 1508, 1410, 1319, 1308, 1345, 1140, 1337, 996, 1320, 1125, 1023, 1382, 1382, 768, 1385, 1287, 736, 576, 1516, 748, 373, 389, 779, 1030, 1360, 1637, 480, 1369, 868, 1411, 1203, 588, 708, 745, 1095, 1442, 1308, 1812, 731, 1341, 1522, 1472, 458, 1602, 1387, 1307, 1177, 1393, 1352, 630, 682, 893, 2058, 711, 828, 769, 346, 337, 992, 685, 828, 976, 782, 2275, 450, 457, 1508, 417, 613, 495, 474, 810, 716, 793, 661, 501, 630, 704, 1023, 356, 476, 798, 559, 825, 567, 566, 510, 383, 751, 605, 1994, 341, 515, 834, 651, 557, 466, 429, 391, 560, 326, 717, 651, 357, 838, 641, 591, 458, 380, 611, 637, 861, 351, 340, 636, 389, 612, 1020, 552, 876, 674, 904, 436, 517, 434, 643, 489, 430, 564, 321, 714, 600, 644, 861, 755, 1231, 855, 336, 466, 1144, 979, 784, 596, 581, 474, 430, 504, 713, 509, 475, 347, 632, 323, 503, 942, 2281, 800, 979, 773, 368, 464, 1010, 818, 788, 837, 522, 618, 523, 487, 688, 464, 1315, 1352, 1077, 817, 378, 808, 797, 503, 748, 478, 571, 756, 551, 1070, 691, 945, 2394, 1033, 873, 735, 548, 646, 727, 621, 463, 608, 558, 1290, 533, 568, 651, 535, 510, 421, 474, 849, 529, 895, 654, 446, 455, 608, 644, 863, 1249, 498, 810, 592, 674, 948, 435, 714, 381, 920, 602, 441, 1019, 1009, 736, 413, 463, 421, 604, 482, 434, 500, 406, 800, 1437, 1891, 1368, 955, 658, 482, 572, 938, 672, 527, 355, 369, 373, 369, 608, 517, 838, 884, 565, 1524, 386, 464, 722, 729, 437, 1009, 656, 576, 365, 497, 415, 865, 970, 517, 466, 763, 660, 455, 574, 464, 1440, 1163, 1328, 432, 672, 329, 578, 675, 487, 725, 521, 717, 756, 346, 552, 731, 681, 791, 559, 707, 670, 520, 640, 707, 389, 507, 588, 683, 463, 613, 533, 546, 618, 973, 348, 845, 469, 895, 991, 971, 1095, 1240, 905, 2537, 1507, 1317, 948, 1073, 946, 1022, 2836, 806, 402, 505, 356, 483, 1817, 327, 2180, 2004, 729, 1898, 756, 1953, 658, 358, 465, 563, 1637, 590, 2240, 524, 520, 786, 422, 445, 477, 413, 893, 1400, 601, 488, 2048, 838, 939, 590, 382, 697, 791, 813, 875, 917, 628, 432, 770, 698, 751, 331, 1106, 455, 359, 1340, 408, 568, 453, 1330, 1907, 619, 960, 670, 765, 529, 707, 546, 3356, 1471, 1377, 1232, 477, 1316, 1388, 1428, 1806, 769, 891, 727, 309, 381, 456, 2939, 766, 588, 427, 3001, 558, 804, 829, 382, 750, 788, 856, 768, 396, 846, 621, 664, 949, 1136, 445, 442, 727, 332, 575, 498, 405, 903, 606, 919, 751, 650, 912, 2182, 1483, 459, 642, 569, 455, 985, 907, 383, 1487, 341, 993, 771, 759, 1505, 425, 398, 400, 864, 395, 696, 1887, 528, 917, 524, 903, 512, 491, 605, 1005, 750, 1377, 343, 362, 673, 393, 766, 396, 456, 625, 737, 946, 787, 348, 562, 292, 1065, 476, 604, 692, 383, 693, 973, 634, 438, 634, 366, 515, 517, 819, 343, 513, 1160, 378, 601, 611, 436, 659, 556, 556, 583, 685, 430, 330, 379, 632, 365, 516, 413, 576, 2531, 383, 303, 3070, 818, 457, 521, 957, 731, 896, 511, 716, 873, 533, 551, 395, 672, 434, 1063, 863, 591, 639, 1054, 499, 3135, 1328, 1233, 696, 414, 678, 499, 574, 491, 391, 677, 547, 908, 435, 363, 670, 515, 809, 488, 794, 331, 311, 331, 1028, 970, 503, 322, 586, 779, 460, 884, 604, 672, 610, 598, 653, 449, 398, 598, 737, 397, 711, 547, 350, 340, 427, 702, 1228, 834, 1094, 771, 1031, 1112, 2108, 770, 639, 957, 613, 648, 431, 478, 827, 686, 686, 913, 894, 765, 1167, 598, 409, 426, 600, 465, 473, 675, 683, 443, 1049, 651, 638, 400, 351, 619, 341, 375, 493, 632, 560, 338, 462, 345, 1410, 586, 510, 656, 362, 1101, 1004, 1340, 313, 1008, 1178, 512, 732, 1018, 671, 868, 764, 954, 921, 1168, 1523, 390, 1213, 963, 1190, 1711, 984, 919, 2774, 989, 1273, 507, 783, 558, 1245, 484, 324, 319, 1007, 1054, 1131, 1188, 1194, 538, 386, 1082, 871, 1520, 664, 530, 467, 984, 2156, 734, 1141, 351, 401, 392, 457, 600, 774, 519, 397, 343, 1057, 914, 797, 946, 2066, 1002, 2459, 1324, 1199, 994, 319, 902, 1037, 1013, 472, 481, 891, 491, 438, 302, 377, 1312, 1357, 1143, 432, 1646, 1288, 705, 403, 448, 428, 1012, 731, 1162, 1300, 618, 876, 818, 1002, 469, 866, 811, 332, 555, 2217, 808, 1652, 1335, 364, 1176, 847, 876, 1154, 577, 713, 1189, 727, 590, 420, 662, 907, 937, 1383, 1463, 925, 1284, 1311, 805, 589, 1082, 1430, 593, 934, 1184, 380, 424, 1178, 1114, 1147, 857, 1122, 964, 435, 397, 886, 909, 609, 436, 465, 1504, 684, 1039, 1117, 999, 367, 995, 727, 767, 484, 673, 825, 1356, 1702, 2145, 724, 1027, 805, 976, 784, 351, 790, 1058, 712, 750, 583, 818, 1279, 1163, 823, 851, 1352, 769, 996, 490, 459, 532, 535, 301, 570, 755, 792, 339, 653, 798, 744, 706, 332, 925, 794, 531, 1074, 905, 565, 724, 713, 651, 443, 534, 538, 723, 458, 650, 916, 831, 356, 376, 433, 525, 439, 623, 698, 663, 493, 589, 645, 909, 756, 658, 822, 646, 722, 705, 657, 334, 598, 490, 386, 731, 1596, 533, 457, 554, 529, 649, 439, 491, 395, 502, 459, 933, 331, 317, 404, 669, 771, 365, 481, 966, 2576, 480, 754, 565, 309, 845, 333, 433, 512, 363, 324, 595, 460, 1957, 611, 331, 474, 306, 711, 713, 324, 339, 710, 795, 387, 373, 2879, 1104, 320, 677, 1061, 517, 345, 541, 797, 635, 756, 487, 947, 627, 343, 1211, 463, 830, 702, 953, 578, 1385, 605, 502, 444, 402, 2223, 601, 458, 442, 550, 915, 2346, 573, 525, 1982, 345, 1454, 853, 796, 397, 635, 403, 442, 407, 815, 901, 736, 510, 696, 581, 1044, 739, 790, 1707, 704, 350, 728, 843, 681, 436, 680, 473, 595, 615, 973, 554, 317, 1266, 614, 773, 759, 394, 746, 697, 409, 708, 875, 619, 574, 713, 805, 764, 1003, 1265, 737, 1709, 386, 332, 965, 1425, 905, 475, 348, 463, 641, 497, 390, 391, 709, 1034, 628, 643, 692, 662, 296, 646, 618, 650, 685, 680, 513, 766, 665, 435, 368, 393, 353, 830, 340, 348, 395, 367, 535, 714, 374, 427, 977, 716, 662, 449, 341, 709, 554, 327, 925, 1133, 628, 1192, 685, 612, 653, 567, 651, 659, 1897, 567, 597, 694, 696, 603, 615, 1838, 741, 575, 808, 863, 985, 781, 858, 578, 601, 746, 1800, 692, 710, 681, 448, 731, 1810, 1334, 922, 629, 334, 918, 429, 1398, 1171, 801, 490, 793, 620, 619, 1753, 669, 352, 2617, 2338, 2139, 2278, 2290, 1952, 2010, 2595, 3146, 399, 2068, 1854, 1944, 708, 661, 413, 545, 481, 771, 1150, 765, 330, 639, 383, 798, 688, 784, 572, 572, 493, 423, 407, 585, 780, 842, 692, 1059, 785, 894, 747, 896, 1908, 553, 996, 453, 1211, 1124, 942, 582, 603, 1367, 1071, 1143, 1251, 1159, 1158, 653, 774, 561, 794, 591, 1121, 1146, 739, 884, 1001, 1160, 1104, 668, 1268, 661, 358, 1082, 1208, 1220, 1123, 1198, 1152, 492, 563, 677, 1087, 1193, 1119, 1092, 1096, 1186, 423, 495, 396, 1277, 1235, 1093, 440, 1159, 1221, 1262, 917, 1216, 461, 395, 707, 306, 702, 831, 473, 1215, 808, 546, 1085, 1083, 1101, 1183, 965, 3031, 463, 465, 972, 385, 564, 364, 3003, 720, 540, 561, 1169, 1285, 1123, 1221, 1272, 1217, 1168, 1308, 1152, 1374, 1322, 831, 529, 3013, 1241, 1360, 564, 695, 574, 578, 390, 648, 484, 692, 1674, 527, 1672, 555, 621, 365, 526, 1125, 748, 599, 505, 873, 737, 881, 625, 377, 593, 727, 331, 439, 459, 781, 869, 337, 395, 440, 394, 825, 1015, 918, 380, 858, 732, 588, 470, 328, 553, 440, 500, 686, 608, 377, 1303, 467, 889, 435, 381, 508, 326, 497, 443, 1084, 359, 1027, 1034, 441, 985, 764, 855, 694, 419, 759, 518, 602, 332, 1147, 396, 527, 389, 523, 634, 477, 404, 467, 753, 683, 829, 629, 396, 369, 562, 638, 1446, 712, 1086, 1299, 1419, 779, 693, 844, 1349, 728, 689, 514, 786, 499, 435, 479, 365, 365, 411, 575, 454, 365, 327, 338, 404, 733, 1843, 529, 815, 932, 740, 382, 459, 676, 376, 400, 603, 581, 374, 597, 720, 641, 767, 1042, 410, 463, 473, 1259, 665, 544, 376, 736, 2993, 542, 604, 501, 512, 1388, 378, 378, 378, 365, 378, 424, 447, 520, 345, 609, 647, 378, 784, 378, 378, 378, 378, 378, 1051, 411, 386, 1263, 363, 830, 369, 1008, 386, 1328, 636, 337, 649, 324, 877, 2526, 548, 441, 396, 327, 308, 578, 2812, 413, 512, 546, 329, 329, 329, 413, 543, 552, 435, 329, 477, 329, 329, 329, 329, 329, 329, 329, 329, 329, 329, 329, 329, 367, 367, 367, 367, 367, 481, 448, 410, 445, 326, 309, 773, 478, 451, 728, 355, 366, 500, 329, 466, 329, 829, 737, 640, 1022, 1774, 828, 875, 852, 329, 329, 540, 3294, 535, 650, 550, 1487, 881, 962, 862, 486, 329, 329, 929, 329, 681, 1080, 618, 329, 329, 329, 329, 961, 357, 728, 911, 641, 551, 989, 1151, 348, 788, 367, 329, 367, 329, 354, 1402, 329, 329, 367, 473, 1980, 902, 367, 367, 367, 490, 434, 946, 1096, 368, 974, 391, 368, 368, 368, 1134, 330, 330, 330, 330, 364, 590, 329, 329, 329, 329, 377, 377, 377, 377, 377, 329, 329, 329, 329, 329, 341, 297, 316, 316, 316, 316, 316, 316, 316, 316, 377, 374, 374, 377, 374, 374, 370, 370, 370, 370, 384, 384, 370, 384, 374, 374, 374, 367, 367, 367, 367, 329, 804, 443, 312, 317, 312, 317, 329, 329, 329, 329, 329, 329, 329, 329, 329, 329, 329, 329, 329, 329, 329, 318, 318, 303, 303, 303, 303, 314, 314, 314, 314, 320, 320, 320, 320, 370, 370, 370, 370, 370, 370, 370, 374, 373, 373, 373, 373, 329, 329, 329, 314, 314, 314, 314, 304, 304, 304, 304, 303, 303, 303, 303, 329, 329, 329, 329, 329, 329, 329, 329, 329, 329, 329, 329, 329, 329, 329, 329, 329, 329, 329, 329, 329, 377, 377, 399, 399, 403, 404, 303, 303, 303, 329, 329, 329, 329, 300, 300, 300, 300, 300, 374, 374, 329, 374, 329, 329, 329, 377, 329, 377, 377, 377, 377, 303, 329, 329, 329, 329, 329, 329, 329, 329, 329, 329, 391, 391, 391, 391, 391, 391, 382, 382, 329, 329, 329, 329, 400, 400, 368, 368, 368, 368, 368, 368, 368, 368, 368, 369, 369, 369, 369, 400, 400, 378, 378, 377, 382, 382, 377, 388, 380, 311, 311, 311, 311, 368, 368, 368, 368, 368, 368, 368, 368, 370, 373, 373, 373, 373, 373, 373, 373, 329, 329, 329, 329, 329, 329, 329, 329, 329, 329, 329, 329, 329, 329, 329, 751, 520, 329, 370, 370, 370, 370, 370, 370, 370, 370, 370, 370, 370, 370, 370, 577, 563, 387, 662, 402, 548, 361, 361, 361, 361, 361, 361, 374, 374, 374, 425, 425, 425, 425, 377, 377, 377, 377, 370, 370, 546, 370, 370, 370, 370, 437, 608, 370, 923, 541, 657, 374, 374, 374, 722, 628, 971, 624, 683, 370, 370, 370, 370, 370, 698, 370, 637, 370, 712, 917, 417, 442, 517, 432, 867, 686, 958, 444, 431, 788, 875, 2248, 843, 572, 1595, 408, 1091, 594, 787, 1406, 289, 370, 2197, 687, 737, 610, 606, 1322, 1078, 450, 755, 721, 344, 787, 332, 471, 530, 976, 840, 813, 375, 459, 370, 370, 370, 400, 300, 370, 300, 300, 300, 300, 300, 396, 441, 728, 390, 469, 767, 347, 1186, 694, 2526, 329, 329, 329, 329, 329, 314, 363, 362, 362, 590, 372, 438, 416, 329, 329, 329, 329, 329, 324, 324, 313, 320, 319, 409, 409, 329, 329, 329, 329, 329, 329, 329, 329, 370, 370, 378, 378, 378, 378, 378, 378, 370, 370, 370, 370, 372, 372, 329, 370, 370, 513, 370, 370, 370, 370, 370, 370, 856, 891, 1260, 1674, 329, 429, 1047, 329, 688, 329, 329, 607, 514, 372, 372, 372, 372, 372, 367, 367, 372, 372, 372, 372, 372, 372, 372, 372, 372, 372, 372, 372, 372, 372, 372, 372, 367, 367, 554, 734, 745, 926, 367, 367, 1201, 1072, 437, 451, 441, 321, 326, 465, 424, 581, 332, 332, 332, 332, 332, 332, 313, 313, 313, 313, 310, 520, 310, 310, 589, 485, 314, 313, 313, 372, 372, 372, 372, 372, 372, 372, 372, 372, 434, 372, 372, 372, 372, 372, 372, 372, 509, 1222, 490, 778, 372, 570, 372, 372, 372, 372, 414, 372, 372, 372, 372, 372, 372, 372, 372, 447, 447, 446, 446, 311, 312, 312, 311, 310, 372, 397, 417, 348, 481, 803, 389, 613, 375, 2783, 750, 310, 441, 311, 311, 310, 310, 379, 379, 379, 379, 372, 372, 372, 407, 407, 457, 443, 374, 374, 950, 590, 612, 1753, 586, 331, 552, 357, 1118, 622, 462, 329, 311, 886, 794, 701, 3579, 3579, 594, 1015, 477, 684, 670, 556, 477, 490, 365, 504, 998, 778, 497, 1036, 559, 1846, 556, 807, 2689, 361, 515, 677, 734, 493, 731, 989, 924, 553, 499, 858, 626, 496, 497, 531, 358, 520, 486, 468, 492, 427, 367, 422, 444, 1821, 542, 455, 550, 388, 825, 441, 718, 1348, 579, 413, 536, 728, 458, 373, 588, 388, 416, 679, 373, 975, 496, 652, 792, 438, 418, 362, 460, 322, 344, 714, 332, 1324, 478, 586, 1306, 1555, 688, 473, 1454, 1673, 719, 593, 1487, 723, 1649, 827, 1197, 1757, 813, 1259, 1871, 792, 1659, 1273, 1112, 920, 1590, 1304, 1026, 903, 838, 1098, 445, 941, 838, 955, 1625, 488, 1374, 905, 1512, 751, 543, 1315, 709, 387, 1007, 1630, 826, 986, 1651, 688, 1090, 390, 2063, 643, 1768, 707, 359, 884, 337, 1492, 499, 650, 322, 492, 1551, 744, 1217, 732, 401, 894, 854, 561, 451, 354, 407, 408, 360, 789, 1134, 698, 1639, 408, 585, 508, 530, 564, 795, 1718, 503, 730, 366, 951, 632, 549, 554, 2581, 574, 851, 334, 493, 594, 656, 380, 456, 378, 1349, 504, 436, 880, 401, 2888, 644, 489, 476, 368, 351, 614, 469, 592, 1446, 588, 968, 812, 729, 408, 565, 439, 399, 454, 354, 688, 496, 578, 537, 716, 388, 544, 603, 487, 843, 312, 452, 733, 838, 523, 512, 415, 400, 594, 593, 914, 1492, 361, 1066, 632, 678, 456, 622, 617, 389, 379, 581, 397, 536, 650, 329, 334, 306, 514, 950, 861, 562, 345, 582, 749, 604, 578, 755, 366, 835, 714, 523, 599, 495, 550, 419, 355, 706, 474, 1256, 350, 458, 510, 406, 670, 337, 530, 655, 421, 559, 420, 437, 864, 850, 478, 524, 422, 834, 488, 546, 478, 684, 417, 593, 570, 996, 471, 402, 447, 1007, 503, 631, 358, 2721, 353, 516, 542, 380, 556, 1015, 415, 610, 941, 355, 385, 349, 427, 515, 365, 358, 343, 445, 584, 759, 887, 685, 711, 1003, 653, 329, 626, 668, 517, 442, 521, 790, 359, 819, 329, 338, 500, 502, 455, 834, 894, 408, 427, 462, 364, 441, 521, 361, 593, 677, 463, 380, 484, 306, 433, 363, 1779, 880, 470, 395, 447, 359, 586, 353, 1214, 1551, 511, 731, 2514, 1595, 902, 470, 1189, 882, 783, 486, 445, 475, 1129, 1024, 1151, 1290, 685, 800, 707, 579, 787, 503, 880, 825, 423, 799, 328, 911, 780, 595, 849, 685, 1597, 1988, 1734, 2002, 1481, 1891, 1805, 1953, 1811, 1830, 629, 814, 783, 659, 853, 935, 1164, 957, 1096, 1145, 1067, 993, 1173, 1108, 1005, 996, 954, 973, 2163, 1907, 1855, 2012, 2168, 1477, 1732, 1559, 1667, 1883, 1678, 1837, 1876, 1658, 1316, 1258, 1310, 1286, 390, 528, 577, 1051, 811, 1565, 1674, 1919, 1838, 800, 575, 1102, 1497, 870, 442, 1723, 1148, 770, 1127, 1107, 411, 995, 637, 1011, 762, 745, 1218, 945, 750, 1064, 1115, 860, 1054, 953, 1045, 1141, 993, 1132, 1000, 1206, 1216, 1101, 901, 931, 993, 1007, 1136, 953, 772, 1012, 1005, 1027, 1157, 1226, 1151, 1038, 1124, 1117, 1132, 1122, 1033, 1037, 973, 1079, 1036, 1037, 1107, 1122, 1089, 1150, 1054, 1007, 1062, 1635, 1159, 1037, 1051, 391, 630, 676, 386, 745, 329, 706, 382, 837, 573, 763, 520, 579, 745, 612, 808, 535, 568, 449, 1144, 1392, 1328, 588, 432, 523, 1311, 480, 380, 384, 723, 515, 713, 818, 437, 368, 877, 647, 901, 782, 1008, 330, 554, 640, 511, 619, 559, 668, 588, 548, 799, 480, 552, 644, 326, 713, 808, 760, 681, 710, 678, 797, 894, 564, 808, 530, 681, 494, 1211, 1319, 502, 788, 616, 525, 753, 682, 407, 666, 1101, 740, 1454, 792, 703, 1418, 1137, 952, 1092, 1260, 1615, 933, 537, 824, 958, 776, 842, 783, 569, 408, 746, 627, 432, 697, 721, 907, 658, 671, 576, 478, 917, 1024, 999, 1478, 1016, 1208, 1143, 1287, 1098, 1262, 1243, 931, 418, 1075, 401, 505, 556, 651, 526, 807, 752, 698, 1261, 1080, 2414, 1245, 1558, 1272, 1043, 1024, 1116, 539, 597, 1045, 1005, 1093]\n",
            "[239, 497, 356, 258, 207, 295, 218, 177, 289, 337, 223, 228, 229, 519, 249, 246, 356, 251, 333, 289, 367, 482, 185, 177, 438, 622, 274, 309, 521, 273, 218, 450, 320, 283, 273, 257, 313, 328, 337, 300, 367, 343, 201, 143, 223, 248, 208, 203, 245, 255, 466, 275, 291, 307, 433, 262, 389, 206, 236, 181, 434, 318, 326, 226, 265, 147, 189, 215, 473, 212, 200, 268, 305, 390, 203, 215, 380, 737, 362, 386, 500, 256, 363, 411, 535, 567, 302, 737, 278, 315, 230, 413, 469, 322, 614, 649, 240, 409, 470, 232, 480, 444, 281, 249, 383, 324, 269, 205, 186, 181, 218, 485, 282, 234, 237, 271, 297, 399, 413, 239, 239, 390, 304, 191, 203, 546, 243, 478, 411, 199, 185, 185, 452, 347, 309, 263, 315, 181, 187, 254, 140, 325, 179, 354, 184, 228, 194, 229, 208, 163, 176, 180, 284, 530, 278, 497, 548, 292, 475, 342, 312, 160, 224, 171, 495, 207, 201, 318, 262, 227, 241, 234, 189, 281, 212, 637, 270, 253, 273, 405, 207, 230, 347, 162, 293, 209, 346, 329, 264, 288, 448, 177, 222, 726, 761, 659, 362, 178, 248, 428, 277, 172, 482, 217, 371, 204, 185, 184, 259, 267, 398, 230, 613, 880, 300, 251, 252, 281, 255, 279, 417, 595, 299, 334, 259, 226, 279, 204, 287, 195, 187, 207, 421, 404, 414, 338, 188, 391, 352, 402, 241, 755, 757, 467, 369, 817, 294, 693, 692, 324, 341, 221, 194, 228, 199, 205, 283, 256, 393, 257, 216, 449, 420, 355, 443, 646, 246, 275, 243, 283, 234, 746, 202, 666, 870, 320, 616, 500, 294, 323, 347, 372, 335, 460, 355, 349, 334, 253, 263, 315, 254, 190, 309, 189, 453, 473, 235, 299, 197, 252, 286, 276, 243, 388, 202, 227, 383, 311, 442, 340, 259, 280, 780, 320, 354, 535, 256, 195, 246, 273, 159, 298, 275, 366, 286, 193, 436, 333, 260, 216, 229, 559, 213, 216, 537, 376, 163, 371, 362, 556, 254, 224, 340, 462, 458, 586, 333, 232, 286, 481, 302, 392, 332, 188, 272, 435, 216, 594, 299, 378, 473, 264, 192, 306, 289, 717, 354, 402, 242, 242, 567, 322, 293, 353, 245, 390, 193, 209, 669, 402, 510, 367, 351, 325, 324, 234, 623, 343, 410, 322, 348, 365, 420, 479, 227, 226, 284, 269, 476, 422, 587, 312, 204, 253, 198, 646, 180, 315, 354, 231, 354, 245, 456, 209, 436, 618, 160, 135, 230, 519, 148, 475, 395, 336, 351, 269, 240, 290, 363, 286, 193, 358, 276, 284, 202, 213, 200, 202, 497, 232, 401, 281, 249, 226, 189, 161, 172, 328, 368, 316, 249, 221, 194, 241, 187, 511, 396, 375, 279, 264, 254, 408, 447, 364, 248, 502, 758, 217, 275, 320, 218, 448, 191, 237, 195, 237, 245, 391, 139, 156, 331, 502, 286, 363, 254, 279, 185, 206, 278, 306, 282, 172, 218, 219, 252, 528, 704, 378, 846, 127, 154, 215, 221, 289, 190, 175, 141, 284, 232, 226, 211, 309, 298, 189, 190, 492, 352, 370, 351, 722, 380, 231, 189, 288, 371, 404, 289, 170, 282, 271, 462, 383, 231, 268, 250, 902, 191, 413, 370, 263, 181, 302, 306, 157, 190, 280, 233, 389, 238, 221, 177, 846, 533, 376, 229, 208, 195, 293, 308, 189, 439, 332, 179, 495, 227, 123, 290, 232, 253, 392, 164, 426, 253, 170, 203, 201, 352, 361, 286, 489, 272, 283, 142, 243, 268, 417, 688, 201, 226, 261, 264, 253, 217, 303, 307, 314, 159, 239, 435, 206, 268, 308, 184, 499, 238, 491, 303, 344, 170, 259, 312, 239, 224, 245, 248, 176, 460, 202, 278, 261, 340, 295, 350, 322, 229, 211, 237, 180, 176, 193, 235, 208, 283, 315, 330, 319, 239, 209, 184, 420, 222, 248, 938, 243, 236, 377, 177, 235, 194, 210, 180, 310, 186, 248, 186, 281, 197, 172, 226, 233, 510, 264, 206, 307, 244, 260, 261, 174, 256, 231, 392, 229, 313, 312, 209, 276, 255, 258, 185, 216, 318, 169, 298, 182, 284, 264, 395, 171, 164, 205, 192, 339, 176, 186, 207, 219, 217, 236, 215, 188, 431, 339, 315, 222, 241, 256, 254, 210, 200, 152, 233, 172, 182, 202, 251, 167, 216, 262, 310, 173, 185, 250, 176, 181, 400, 250, 272, 171, 205, 259, 208, 250, 240, 221, 309, 397, 334, 362, 246, 312, 285, 353, 359, 263, 322, 212, 313, 270, 245, 339, 275, 279, 228, 249, 256, 197, 303, 358, 342, 447, 235, 218, 186, 277, 195, 191, 318, 346, 239, 245, 287, 276, 269, 265, 306, 294, 1094, 1202, 300, 241, 486, 517, 332, 161, 215, 217, 197, 183, 277, 181, 221, 198, 179, 202, 205, 194, 227, 331, 193, 195, 437, 204, 297, 182, 191, 197, 215, 413, 173, 234, 224, 224, 225, 242, 185, 212, 279, 302, 325, 184, 191, 249, 278, 271, 1343, 1156, 1043, 400, 261, 252, 268, 266, 565, 197, 628, 408, 436, 240, 291, 436, 264, 194, 206, 219, 156, 180, 205, 303, 227, 193, 190, 279, 253, 179, 273, 234, 183, 206, 202, 211, 169, 193, 131, 207, 233, 187, 208, 217, 281, 217, 195, 315, 279, 364, 284, 316, 534, 359, 245, 219, 257, 272, 275, 204, 240, 250, 241, 277, 358, 359, 351, 290, 967, 248, 322, 278, 300, 334, 179, 712, 430, 319, 283, 274, 364, 430, 281, 171, 296, 294, 184, 221, 536, 230, 291, 218, 233, 290, 223, 164, 235, 242, 315, 328, 367, 302, 403, 655, 1091, 503, 214, 676, 535, 947, 929, 817, 811, 828, 803, 433, 338, 408, 424, 313, 242, 483, 256, 187, 272, 185, 231, 568, 701, 271, 525, 349, 309, 178, 233, 271, 763, 679, 740, 679, 703, 218, 218, 292, 420, 270, 263, 275, 310, 240, 429, 337, 404, 240, 265, 215, 315, 372, 498, 313, 398, 327, 347, 352, 354, 595, 701, 415, 589, 130, 173, 233, 420, 305, 266, 420, 335, 226, 199, 209, 321, 747, 279, 345, 191, 238, 302, 266, 216, 296, 233, 174, 180, 498, 380, 709, 187, 236, 349, 181, 219, 201, 273, 334, 369, 163, 899, 217, 395, 278, 179, 251, 260, 329, 338, 186, 266, 158, 328, 355, 255, 155, 484, 308, 247, 415, 506, 298, 215, 266, 238, 345, 420, 172, 398, 199, 220, 247, 249, 172, 333, 306, 444, 369, 220, 287, 236, 206, 316, 275, 327, 330, 196, 238, 282, 246, 211, 164, 246, 395, 429, 220, 250, 188, 365, 208, 202, 317, 244, 242, 177, 335, 228, 234, 167, 539, 572, 331, 551, 190, 227, 315, 243, 222, 249, 242, 205, 170, 249, 250, 260, 394, 499, 208, 199, 152, 280, 458, 145, 199, 229, 311, 535, 263, 171, 380, 517, 221, 256, 306, 206, 157, 217, 218, 220, 820, 303, 359, 251, 337, 227, 218, 194, 268, 308, 883, 188, 186, 248, 210, 329, 168, 308, 171, 260, 209, 304, 183, 282, 254, 230, 278, 424, 226, 412, 207, 277, 161, 374, 233, 176, 296, 376, 305, 265, 276, 410, 169, 243, 326, 268, 362, 427, 300, 343, 281, 310, 299, 260, 298, 258, 161, 276, 347, 498, 282, 256, 259, 489, 181, 236, 271, 263, 257, 232, 256, 297, 194, 182, 229, 168, 296, 315, 233, 219, 466, 211, 219, 267, 300, 259, 263, 282, 259, 430, 333, 301, 421, 273, 216, 226, 260, 238, 249, 201, 222, 195, 213, 239, 219, 328, 316, 314, 415, 462, 172, 450, 163, 207, 439, 227, 308, 275, 273, 788, 217, 253, 219, 218, 278, 225, 252, 257, 290, 323, 236, 232, 221, 304, 283, 251, 232, 263, 210, 227, 200, 378, 244, 378, 277, 274, 202, 276, 376, 280, 260, 283, 246, 486, 235, 401, 205, 265, 314, 238, 251, 241, 264, 189, 235, 137, 202, 228, 298, 393, 313, 346, 386, 354, 314, 220, 338, 264, 805, 261, 274, 253, 298, 305, 333, 251, 254, 234, 229, 402, 240, 336, 331, 172, 233, 196, 403, 259, 338, 302, 311, 314, 340, 412, 202, 216, 226, 293, 284, 409, 340, 443, 266, 434, 415, 198, 321, 368, 185, 241, 225, 583, 342, 383, 340, 233, 267, 376, 230, 377, 308, 299, 304, 430, 229, 253, 288, 181, 240, 239, 276, 224, 273, 274, 289, 294, 214, 200, 307, 374, 483, 163, 295, 656, 377, 260, 212, 199, 189, 235, 227, 182, 233, 264, 435, 362, 238, 279, 340, 189, 196, 173, 260, 250, 195, 237, 171, 197, 302, 275, 258, 275, 208, 199, 261, 183, 248, 343, 208, 246, 228, 301, 260, 239, 234, 219, 196, 289, 338, 298, 202, 168, 172, 219, 257, 211, 178, 348, 527, 286, 180, 191, 212, 182, 192, 213, 304, 405, 198, 302, 199, 334, 259, 291, 363, 253, 233, 201, 329, 262, 292, 246, 167, 188, 206, 387, 284, 794, 300, 215, 411, 279, 267, 255, 188, 250, 738, 236, 229, 203, 360, 217, 241, 244, 230, 219, 214, 260, 215, 209, 247, 248, 308, 240, 169, 224, 263, 288, 262, 179, 274, 159, 165, 214, 154, 154, 266, 279, 150, 290, 154, 154, 155, 155, 309, 504, 244, 443, 524, 257, 342, 320, 302, 136, 269, 269, 278, 239, 232, 279, 274, 316, 311, 301, 335, 290, 308, 311, 359, 295, 170, 230, 346, 186, 217, 276, 319, 260, 274, 239, 335, 264, 320, 308, 328, 286, 223, 279, 312, 319, 346, 319, 280, 292, 301, 355, 324, 306, 333, 317, 332, 330, 370, 250, 200, 308, 322, 305, 315, 300, 249, 208, 187, 247, 219, 260, 320, 256, 241, 265, 228, 327, 225, 273, 270, 289, 353, 309, 338, 313, 298, 237, 257, 206, 303, 386, 455, 317, 207, 223, 373, 248, 306, 266, 258, 376, 309, 468, 592, 336, 306, 225, 367, 529, 250, 113, 320, 589, 292, 279, 282, 202, 388, 281, 340, 229, 266, 201, 288, 344, 771, 222, 217, 589, 186, 289, 196, 319, 295, 238, 279, 195, 207, 196, 236, 296, 205, 240, 212, 426, 317, 276, 337, 275, 246, 234, 194, 253, 214, 239, 244, 241, 202, 203, 614, 172, 324, 202, 179, 285, 273, 256, 217, 356, 186, 270, 182, 285, 162, 196, 249, 344, 236, 224, 525, 210, 639, 355, 646, 636, 530, 639, 627, 691, 304, 327, 538, 269, 295, 483, 641, 658, 702, 738, 660, 629, 459, 498, 437, 496, 507, 519, 455, 435, 511, 457, 419, 451, 640, 591, 722, 631, 686, 719, 583, 493, 538, 610, 597, 375, 303, 212, 405, 320, 421, 449, 459, 425, 483, 503, 464, 470, 488, 427, 447, 487, 517, 491, 486, 441, 426, 523, 457, 514, 323, 357, 337, 516, 237, 441, 314, 401, 452, 478, 458, 428, 425, 438, 478, 185, 520, 481, 425, 430, 504, 261, 442, 412, 385, 488, 472, 499, 405, 563, 432, 470, 462, 471, 411, 425, 372, 488, 459, 411, 476, 426, 270, 326, 217, 617, 584, 579, 557, 603, 567, 564, 587, 600, 580, 517, 334, 428, 276, 415, 410, 321, 267, 424, 385, 541, 571, 561, 556, 558, 636, 616, 590, 588, 624, 541, 602, 533, 604, 601, 615, 513, 567, 561, 575, 625, 494, 393, 322, 400, 394, 530, 524, 262, 517, 269, 417, 379, 378, 520, 405, 480, 365, 422, 295, 601, 543, 614, 595, 536, 522, 548, 572, 589, 224, 582, 590, 545, 608, 584, 555, 563, 421, 438, 415, 414, 373, 376, 418, 421, 356, 416, 376, 400, 430, 372, 433, 395, 392, 395, 383, 410, 404, 478, 510, 398, 428, 446, 481, 495, 430, 313, 458, 406, 415, 389, 402, 390, 492, 416, 490, 558, 436, 431, 386, 405, 442, 424, 437, 425, 407, 399, 390, 412, 421, 365, 442, 416, 433, 628, 475, 615, 442, 407, 399, 425, 413, 539, 455, 426, 411, 406, 417, 406, 390, 376, 389, 407, 417, 254, 803, 287, 587, 427, 218, 420, 335, 224, 192, 439, 449, 411, 392, 422, 265, 365, 418, 413, 433, 439, 291, 287, 390, 501, 401, 599, 297, 223, 296, 388, 646, 310, 233, 189, 309, 199, 691, 599, 373, 678, 284, 224, 245, 237, 232, 376, 228, 201, 304, 723, 359, 423, 224, 250, 761, 850, 769, 243, 257, 290, 580, 771, 445, 557, 362, 579, 604, 807, 831, 766, 474, 469, 567, 377, 525, 283, 799, 797, 328, 331, 813, 699, 764, 907, 437, 458, 257, 216, 587, 601, 749, 621, 296, 290, 397, 404, 285, 332, 718, 396, 612, 255, 635, 627, 293, 329, 328, 315, 440, 259, 379, 263, 183, 313, 248, 395, 260, 357, 264, 201, 368, 660, 576, 297, 322, 280, 198, 243, 187, 594, 450, 631, 447, 515, 557, 570, 231, 757, 273, 440, 313, 176, 330, 206, 486, 259, 548, 228, 271, 349, 260, 282, 243, 229, 300, 242, 264, 289, 571, 206, 573, 328, 603, 575, 488, 336, 223, 289, 536, 327, 609, 403, 159, 324, 545, 592, 575, 263, 212, 567, 562, 506, 433, 575, 569, 551, 170, 382, 545, 625, 246, 147, 497, 496, 221, 560, 543, 352, 473, 314, 576, 549, 435, 500, 477, 569, 583, 523, 550, 552, 544, 438, 477, 470, 546, 506, 451, 549, 562, 338, 580, 511, 315, 287, 592, 378, 217, 195, 315, 477, 542, 664, 221, 582, 415, 584, 539, 258, 323, 323, 481, 566, 539, 694, 345, 570, 559, 583, 256, 649, 556, 547, 471, 535, 574, 214, 310, 365, 764, 319, 370, 321, 173, 181, 408, 347, 369, 426, 313, 801, 216, 245, 575, 229, 264, 249, 213, 362, 277, 335, 334, 263, 285, 336, 417, 194, 228, 340, 248, 370, 287, 246, 264, 208, 366, 328, 807, 183, 254, 394, 321, 273, 275, 238, 201, 272, 155, 334, 298, 192, 288, 310, 318, 237, 203, 280, 324, 380, 183, 190, 304, 212, 262, 448, 264, 358, 330, 397, 232, 276, 220, 293, 242, 207, 258, 164, 328, 278, 321, 413, 356, 489, 377, 193, 250, 495, 462, 378, 289, 290, 243, 221, 246, 341, 205, 247, 183, 276, 191, 278, 475, 765, 385, 425, 368, 203, 215, 382, 350, 385, 414, 245, 282, 240, 230, 334, 217, 642, 667, 409, 300, 205, 340, 373, 259, 370, 250, 283, 367, 321, 456, 329, 417, 927, 490, 441, 355, 289, 310, 332, 315, 232, 300, 272, 511, 266, 281, 290, 261, 252, 223, 244, 345, 302, 463, 306, 206, 231, 267, 305, 378, 523, 245, 309, 287, 310, 398, 215, 393, 198, 402, 264, 198, 508, 461, 349, 221, 235, 240, 306, 295, 211, 226, 206, 392, 630, 711, 643, 470, 288, 227, 269, 428, 317, 270, 185, 203, 223, 190, 301, 247, 403, 360, 302, 688, 202, 274, 312, 325, 230, 408, 314, 272, 183, 249, 205, 333, 437, 256, 238, 332, 311, 233, 308, 252, 627, 413, 541, 227, 325, 181, 262, 318, 249, 330, 242, 322, 346, 188, 284, 341, 333, 382, 264, 336, 330, 243, 293, 328, 197, 262, 275, 339, 244, 292, 249, 248, 302, 413, 187, 396, 223, 369, 463, 456, 474, 526, 374, 918, 597, 546, 406, 473, 371, 442, 925, 399, 192, 290, 199, 252, 695, 174, 679, 663, 312, 612, 366, 631, 287, 145, 265, 301, 605, 307, 735, 250, 275, 332, 243, 196, 220, 220, 392, 547, 270, 222, 676, 369, 374, 268, 177, 324, 353, 358, 388, 368, 296, 217, 395, 307, 369, 189, 451, 226, 175, 540, 183, 272, 230, 550, 661, 284, 398, 297, 336, 226, 370, 310, 853, 611, 478, 441, 248, 493, 494, 508, 672, 362, 374, 354, 175, 205, 238, 856, 374, 334, 258, 925, 320, 383, 357, 216, 349, 368, 391, 368, 214, 401, 240, 324, 404, 476, 221, 217, 361, 173, 252, 221, 238, 379, 306, 438, 326, 301, 393, 791, 534, 259, 315, 261, 208, 431, 373, 202, 605, 185, 424, 317, 312, 568, 224, 233, 212, 362, 218, 287, 767, 284, 373, 271, 372, 209, 223, 268, 408, 370, 566, 192, 184, 302, 187, 370, 221, 218, 291, 280, 386, 353, 172, 257, 151, 446, 219, 269, 288, 179, 285, 439, 279, 202, 296, 209, 254, 265, 354, 166, 279, 459, 180, 316, 296, 220, 321, 255, 253, 249, 294, 203, 187, 206, 286, 192, 253, 206, 280, 810, 217, 156, 1004, 338, 221, 234, 340, 286, 346, 280, 316, 354, 294, 276, 206, 281, 194, 479, 347, 253, 296, 454, 231, 1108, 589, 528, 299, 218, 279, 236, 295, 244, 193, 276, 250, 420, 212, 198, 317, 249, 352, 254, 357, 189, 159, 180, 400, 407, 236, 175, 298, 355, 261, 333, 290, 330, 274, 251, 288, 200, 229, 270, 327, 217, 326, 237, 114, 186, 198, 343, 536, 346, 431, 355, 529, 565, 777, 408, 278, 477, 271, 311, 228, 258, 392, 315, 331, 398, 368, 338, 494, 319, 195, 214, 291, 243, 251, 275, 312, 248, 462, 325, 304, 210, 185, 279, 175, 221, 259, 340, 285, 188, 221, 194, 550, 290, 243, 300, 187, 466, 406, 566, 181, 452, 487, 249, 347, 449, 298, 388, 340, 416, 405, 473, 619, 181, 496, 395, 507, 697, 443, 381, 962, 411, 517, 277, 351, 252, 521, 221, 172, 159, 391, 430, 491, 483, 497, 285, 217, 441, 417, 603, 306, 238, 250, 436, 854, 335, 460, 190, 229, 220, 243, 306, 352, 219, 225, 188, 504, 400, 385, 462, 711, 457, 879, 497, 476, 465, 167, 465, 473, 381, 249, 249, 401, 236, 231, 163, 189, 537, 542, 464, 223, 658, 467, 299, 213, 233, 197, 506, 377, 501, 588, 297, 386, 430, 396, 229, 406, 346, 176, 238, 771, 346, 710, 550, 215, 463, 399, 436, 487, 260, 290, 426, 338, 310, 219, 304, 402, 423, 538, 585, 417, 502, 533, 326, 282, 484, 461, 283, 447, 471, 177, 208, 496, 487, 530, 389, 508, 449, 193, 188, 368, 389, 315, 245, 265, 587, 271, 489, 479, 451, 190, 404, 340, 335, 248, 307, 346, 544, 505, 711, 343, 461, 388, 464, 384, 130, 316, 482, 324, 339, 295, 398, 499, 479, 371, 397, 537, 359, 385, 253, 187, 228, 277, 182, 274, 355, 335, 189, 306, 338, 384, 358, 172, 415, 334, 274, 483, 416, 296, 361, 310, 339, 204, 244, 225, 279, 242, 296, 440, 390, 189, 214, 239, 274, 201, 242, 308, 307, 258, 271, 293, 376, 343, 278, 329, 306, 290, 288, 295, 194, 291, 229, 218, 357, 570, 243, 216, 293, 290, 281, 229, 259, 199, 235, 234, 396, 142, 170, 205, 319, 341, 170, 238, 357, 820, 216, 336, 287, 181, 357, 136, 265, 250, 192, 196, 270, 213, 749, 295, 178, 228, 156, 299, 343, 193, 222, 390, 366, 229, 241, 1039, 443, 178, 312, 445, 259, 158, 280, 400, 353, 359, 216, 388, 301, 199, 577, 258, 395, 361, 402, 256, 653, 288, 224, 281, 252, 860, 264, 202, 178, 318, 453, 717, 278, 281, 647, 208, 628, 337, 354, 198, 290, 208, 151, 213, 361, 406, 309, 269, 312, 274, 373, 312, 316, 585, 312, 187, 289, 345, 277, 196, 305, 246, 264, 267, 404, 287, 182, 540, 288, 336, 269, 184, 319, 339, 202, 287, 435, 276, 297, 339, 437, 340, 465, 475, 393, 586, 184, 187, 401, 608, 404, 206, 148, 245, 271, 223, 162, 167, 273, 471, 304, 293, 322, 297, 119, 280, 297, 306, 292, 320, 283, 376, 313, 192, 152, 167, 166, 361, 164, 167, 199, 176, 310, 353, 177, 274, 387, 309, 315, 237, 171, 313, 267, 188, 416, 433, 319, 495, 310, 266, 303, 283, 311, 326, 783, 301, 283, 297, 354, 278, 325, 703, 321, 285, 346, 402, 483, 403, 390, 263, 292, 346, 627, 316, 325, 332, 243, 342, 836, 530, 426, 304, 195, 400, 233, 565, 506, 382, 265, 319, 303, 335, 654, 321, 190, 760, 743, 663, 666, 693, 619, 651, 875, 926, 204, 598, 595, 641, 329, 303, 229, 293, 231, 306, 422, 319, 167, 313, 175, 339, 274, 329, 299, 245, 242, 165, 175, 251, 336, 345, 312, 416, 340, 408, 347, 388, 715, 280, 502, 239, 473, 453, 415, 268, 328, 453, 460, 447, 536, 498, 478, 286, 353, 264, 298, 292, 432, 464, 275, 369, 433, 495, 500, 286, 474, 321, 208, 458, 483, 486, 473, 443, 538, 236, 264, 291, 477, 482, 513, 465, 478, 522, 207, 249, 179, 504, 486, 417, 241, 441, 455, 514, 377, 450, 228, 212, 375, 170, 315, 348, 236, 489, 356, 268, 416, 487, 508, 503, 453, 1051, 226, 205, 457, 196, 235, 185, 1007, 336, 235, 252, 518, 468, 472, 485, 448, 489, 491, 424, 485, 497, 456, 349, 271, 918, 488, 486, 270, 293, 296, 258, 204, 311, 230, 311, 638, 291, 642, 246, 277, 199, 293, 383, 293, 250, 241, 314, 309, 391, 274, 188, 210, 353, 171, 195, 204, 322, 310, 191, 218, 231, 188, 333, 370, 351, 208, 355, 298, 249, 195, 161, 211, 194, 253, 304, 272, 202, 583, 235, 339, 197, 168, 205, 163, 247, 221, 381, 196, 407, 413, 224, 440, 401, 365, 359, 194, 318, 253, 240, 170, 454, 202, 246, 202, 242, 311, 202, 166, 213, 317, 287, 425, 287, 192, 200, 275, 288, 504, 268, 391, 487, 500, 325, 299, 367, 562, 315, 285, 246, 322, 273, 236, 212, 168, 168, 202, 267, 229, 168, 188, 203, 219, 380, 560, 244, 347, 363, 285, 195, 259, 290, 208, 171, 284, 223, 192, 273, 280, 294, 305, 368, 181, 199, 227, 562, 264, 273, 236, 287, 1008, 264, 309, 247, 212, 562, 167, 167, 167, 168, 167, 196, 248, 205, 209, 225, 334, 167, 312, 167, 168, 168, 168, 168, 438, 236, 193, 551, 172, 386, 186, 365, 203, 427, 322, 179, 287, 189, 439, 889, 272, 255, 197, 189, 161, 319, 858, 216, 216, 223, 150, 150, 150, 181, 212, 255, 204, 150, 206, 150, 150, 150, 150, 150, 150, 150, 150, 150, 150, 150, 150, 165, 165, 165, 165, 165, 258, 221, 199, 200, 189, 167, 337, 252, 217, 293, 192, 182, 256, 150, 207, 150, 362, 255, 282, 343, 556, 310, 302, 303, 150, 150, 233, 700, 261, 265, 255, 490, 368, 449, 321, 182, 150, 150, 355, 150, 341, 433, 258, 150, 150, 150, 150, 519, 203, 377, 443, 329, 248, 458, 408, 203, 372, 164, 150, 164, 150, 202, 525, 150, 150, 164, 247, 705, 405, 164, 164, 164, 272, 230, 426, 495, 169, 502, 191, 169, 169, 169, 451, 170, 170, 170, 170, 206, 244, 150, 150, 150, 150, 168, 168, 168, 168, 168, 150, 150, 150, 150, 150, 176, 155, 155, 155, 155, 155, 155, 155, 155, 155, 168, 172, 172, 168, 172, 172, 165, 165, 165, 165, 182, 182, 165, 182, 172, 172, 172, 171, 171, 171, 171, 150, 432, 212, 167, 172, 167, 172, 150, 150, 150, 150, 150, 150, 150, 150, 150, 150, 150, 150, 150, 150, 150, 162, 162, 153, 153, 153, 153, 149, 149, 149, 149, 165, 165, 165, 165, 165, 165, 165, 165, 165, 165, 165, 172, 173, 173, 173, 173, 150, 150, 150, 164, 164, 164, 164, 149, 149, 149, 149, 154, 154, 154, 153, 150, 150, 150, 150, 150, 150, 150, 150, 150, 150, 150, 150, 150, 150, 150, 150, 150, 150, 150, 150, 150, 170, 170, 200, 200, 204, 203, 148, 148, 148, 150, 150, 150, 150, 152, 152, 152, 152, 152, 174, 174, 150, 174, 150, 150, 150, 158, 150, 172, 172, 172, 172, 148, 150, 150, 150, 150, 150, 150, 150, 150, 150, 150, 177, 177, 177, 177, 177, 177, 175, 175, 150, 150, 150, 150, 187, 187, 171, 171, 171, 171, 171, 176, 176, 176, 176, 170, 170, 170, 170, 187, 187, 194, 194, 192, 180, 180, 192, 182, 179, 156, 156, 156, 156, 171, 171, 171, 171, 171, 171, 171, 171, 165, 171, 171, 171, 171, 171, 171, 171, 150, 150, 150, 150, 150, 150, 150, 150, 150, 150, 150, 150, 150, 150, 150, 419, 301, 150, 165, 165, 165, 165, 165, 165, 165, 165, 165, 165, 165, 165, 165, 286, 255, 214, 339, 209, 299, 166, 166, 166, 166, 166, 166, 175, 175, 175, 187, 187, 187, 187, 179, 179, 179, 179, 165, 165, 268, 165, 165, 165, 165, 231, 309, 177, 398, 227, 347, 175, 175, 175, 266, 279, 385, 263, 292, 165, 165, 165, 165, 165, 333, 165, 265, 165, 317, 333, 206, 210, 252, 205, 324, 339, 365, 232, 219, 351, 326, 812, 286, 287, 653, 201, 454, 291, 301, 561, 140, 207, 778, 327, 325, 279, 272, 489, 452, 237, 352, 385, 179, 346, 174, 220, 254, 413, 459, 355, 220, 254, 175, 175, 175, 252, 152, 175, 152, 152, 152, 152, 152, 179, 227, 380, 207, 245, 309, 169, 486, 280, 522, 150, 150, 150, 150, 150, 168, 183, 182, 182, 307, 170, 196, 231, 150, 150, 150, 150, 150, 169, 169, 167, 173, 172, 187, 187, 150, 150, 150, 150, 150, 150, 150, 150, 165, 165, 175, 175, 175, 175, 175, 175, 165, 165, 165, 165, 170, 170, 150, 165, 165, 235, 165, 165, 165, 165, 165, 165, 373, 382, 498, 578, 150, 265, 427, 150, 308, 150, 150, 276, 263, 170, 170, 170, 170, 170, 172, 172, 170, 170, 170, 170, 170, 170, 170, 170, 170, 170, 170, 170, 170, 170, 170, 170, 172, 172, 277, 359, 344, 385, 172, 172, 507, 453, 190, 207, 213, 160, 134, 234, 205, 267, 151, 151, 151, 151, 151, 151, 156, 156, 156, 156, 160, 220, 160, 160, 301, 228, 154, 153, 153, 170, 170, 170, 170, 170, 170, 170, 170, 170, 226, 170, 170, 170, 170, 170, 170, 170, 240, 413, 231, 358, 170, 265, 170, 170, 170, 170, 183, 170, 170, 170, 170, 170, 170, 170, 170, 209, 209, 208, 208, 166, 167, 167, 166, 160, 174, 176, 192, 178, 263, 369, 202, 242, 190, 644, 335, 166, 199, 167, 167, 166, 166, 170, 170, 170, 170, 174, 174, 174, 186, 186, 213, 195, 170, 170, 381, 255, 269, 527, 255, 174, 266, 201, 385, 230, 205, 181, 174, 355, 391, 311, 915, 915, 225, 415, 276, 362, 345, 319, 272, 212, 150, 297, 454, 374, 205, 449, 310, 615, 280, 388, 1056, 189, 222, 246, 291, 253, 368, 412, 394, 267, 219, 371, 295, 228, 206, 261, 160, 202, 207, 223, 231, 219, 182, 219, 187, 599, 243, 227, 257, 148, 341, 234, 319, 538, 286, 206, 323, 403, 263, 220, 313, 235, 264, 369, 219, 374, 272, 263, 363, 216, 211, 141, 213, 170, 185, 315, 194, 524, 273, 246, 413, 498, 306, 222, 415, 456, 265, 281, 446, 330, 539, 344, 424, 455, 304, 361, 501, 328, 488, 448, 407, 330, 444, 659, 477, 423, 321, 337, 221, 294, 357, 335, 497, 226, 481, 402, 471, 295, 218, 445, 296, 182, 386, 619, 327, 360, 485, 282, 450, 209, 940, 293, 524, 268, 151, 371, 177, 487, 224, 296, 179, 249, 434, 280, 345, 288, 218, 344, 285, 265, 202, 203, 208, 194, 174, 347, 342, 264, 449, 181, 240, 232, 225, 261, 297, 479, 225, 298, 191, 324, 267, 251, 273, 847, 237, 383, 181, 234, 273, 254, 197, 223, 130, 615, 261, 233, 385, 192, 889, 315, 232, 278, 212, 203, 265, 222, 256, 593, 254, 459, 400, 299, 217, 223, 245, 231, 242, 198, 332, 250, 287, 268, 282, 226, 267, 252, 227, 377, 149, 268, 403, 331, 232, 264, 192, 188, 276, 216, 345, 632, 220, 433, 268, 290, 212, 285, 294, 184, 216, 244, 190, 189, 295, 191, 195, 158, 269, 400, 356, 205, 173, 236, 288, 220, 239, 298, 198, 345, 325, 264, 294, 232, 263, 222, 174, 288, 217, 519, 165, 223, 255, 229, 310, 184, 259, 293, 221, 239, 226, 212, 324, 362, 223, 259, 197, 284, 267, 255, 213, 203, 213, 228, 244, 402, 235, 176, 224, 350, 218, 271, 170, 900, 179, 226, 214, 191, 269, 495, 209, 305, 473, 184, 190, 187, 221, 229, 175, 187, 182, 239, 235, 304, 392, 338, 295, 404, 296, 188, 292, 311, 235, 233, 267, 325, 166, 283, 157, 155, 224, 235, 213, 360, 442, 203, 200, 205, 199, 186, 280, 211, 304, 307, 216, 183, 249, 166, 227, 191, 533, 331, 210, 197, 177, 209, 284, 180, 470, 568, 232, 291, 837, 479, 342, 196, 444, 419, 290, 215, 206, 232, 413, 351, 408, 493, 272, 276, 330, 261, 335, 225, 330, 314, 211, 289, 199, 268, 285, 246, 302, 274, 634, 714, 612, 683, 562, 640, 678, 613, 637, 679, 247, 352, 291, 262, 371, 372, 444, 426, 396, 442, 425, 437, 437, 404, 453, 438, 383, 426, 760, 642, 665, 637, 658, 543, 615, 625, 644, 642, 628, 626, 677, 576, 546, 405, 545, 431, 189, 249, 199, 373, 304, 588, 663, 577, 588, 293, 232, 350, 448, 380, 228, 500, 346, 259, 406, 351, 193, 380, 260, 362, 341, 360, 511, 381, 343, 458, 526, 443, 456, 455, 453, 447, 465, 477, 477, 531, 489, 498, 352, 381, 450, 465, 504, 458, 357, 474, 515, 485, 481, 484, 445, 445, 507, 472, 477, 487, 490, 444, 415, 512, 486, 439, 477, 493, 482, 462, 486, 453, 516, 648, 483, 456, 466, 179, 328, 322, 176, 316, 159, 362, 173, 396, 292, 315, 262, 247, 286, 276, 346, 243, 258, 188, 509, 570, 478, 239, 221, 250, 413, 223, 196, 165, 333, 219, 330, 386, 240, 163, 358, 297, 381, 334, 416, 201, 228, 260, 267, 322, 304, 296, 277, 283, 336, 233, 252, 319, 200, 327, 323, 308, 338, 286, 357, 341, 388, 275, 348, 227, 297, 235, 389, 519, 254, 361, 292, 239, 333, 311, 237, 261, 517, 350, 468, 312, 335, 505, 391, 440, 439, 483, 505, 377, 273, 336, 390, 330, 398, 359, 240, 213, 330, 288, 244, 289, 304, 375, 331, 294, 287, 257, 367, 418, 417, 530, 397, 499, 406, 500, 433, 496, 467, 417, 194, 429, 200, 240, 286, 314, 283, 379, 279, 297, 447, 497, 775, 501, 576, 511, 474, 397, 467, 274, 321, 377, 417, 460]\n"
          ]
        }
      ]
    },
    {
      "cell_type": "code",
      "metadata": {
        "id": "qVPrtWL_kXfO"
      },
      "source": [
        "from transformers import GPT2Tokenizer\n",
        "\n",
        "tokenizer = GPT2Tokenizer.from_pretrained(\"gpt2\")"
      ],
      "execution_count": null,
      "outputs": []
    },
    {
      "cell_type": "code",
      "metadata": {
        "colab": {
          "base_uri": "https://localhost:8080/"
        },
        "id": "n58uL1v2kkJK",
        "outputId": "bb9a7f6f-01f8-49ba-ee23-225d527e15a4"
      },
      "source": [
        "lent2 = [] #yes\n",
        "total_length2 = []\n",
        "dis2 = []\n",
        "distinct2 = []\n",
        "for i in range(5000):\n",
        "  tok = tokenizer.tokenize(body[i])\n",
        "  lent2.append(len(tok))\n",
        "  for x in tok:\n",
        "    if x not in dis2:\n",
        "      dis2.append(x)\n",
        "  distinct2.append(len(dis2))\n",
        "  dis2.clear()\n",
        "\n",
        "print(lent2)\n",
        "print(distinct2)"
      ],
      "execution_count": null,
      "outputs": [
        {
          "output_type": "stream",
          "name": "stdout",
          "text": [
            "[447, 976, 752, 507, 389, 667, 404, 313, 717, 778, 374, 394, 460, 1208, 456, 605, 744, 533, 797, 628, 875, 1120, 350, 325, 970, 1355, 641, 697, 1245, 501, 393, 1060, 597, 576, 637, 535, 758, 590, 836, 532, 725, 993, 487, 359, 509, 526, 494, 382, 548, 519, 1166, 478, 579, 639, 970, 599, 1074, 348, 487, 499, 852, 644, 643, 449, 568, 385, 360, 407, 900, 515, 381, 651, 596, 832, 350, 396, 720, 1899, 1682, 884, 969, 499, 817, 868, 1295, 1540, 631, 1570, 636, 676, 459, 1021, 1105, 601, 1309, 1666, 387, 791, 915, 441, 976, 947, 636, 486, 915, 686, 449, 379, 313, 318, 405, 1289, 649, 501, 389, 479, 666, 798, 870, 560, 449, 1477, 626, 399, 456, 1201, 495, 1261, 1141, 357, 332, 332, 1028, 825, 749, 552, 675, 382, 340, 555, 349, 822, 369, 880, 396, 439, 354, 458, 385, 303, 302, 481, 646, 1351, 599, 1327, 1617, 603, 1083, 640, 580, 292, 635, 346, 1107, 394, 417, 586, 459, 440, 491, 444, 439, 700, 478, 2334, 545, 559, 679, 873, 418, 486, 808, 349, 528, 388, 913, 644, 543, 683, 839, 334, 365, 1640, 1527, 1791, 759, 318, 469, 939, 553, 314, 1089, 475, 810, 356, 386, 324, 586, 488, 1035, 501, 1672, 2878, 689, 632, 518, 513, 603, 557, 817, 1567, 581, 799, 535, 441, 569, 379, 593, 309, 345, 456, 937, 818, 801, 772, 313, 807, 828, 926, 368, 2152, 1710, 1099, 824, 2010, 512, 1392, 1380, 666, 638, 580, 429, 477, 416, 417, 675, 500, 932, 661, 456, 1072, 880, 762, 978, 1796, 512, 541, 462, 531, 418, 2024, 347, 1332, 2084, 701, 1223, 1159, 545, 614, 741, 813, 789, 830, 669, 695, 653, 550, 544, 669, 453, 341, 699, 298, 879, 1175, 402, 556, 348, 487, 683, 637, 524, 916, 421, 408, 913, 626, 962, 686, 581, 561, 2225, 749, 761, 1155, 664, 411, 438, 545, 306, 744, 670, 800, 621, 395, 1009, 747, 501, 443, 430, 1104, 447, 411, 1250, 823, 296, 822, 793, 1322, 443, 389, 775, 1113, 945, 1255, 619, 391, 665, 1103, 564, 772, 742, 338, 524, 1010, 491, 1343, 665, 928, 1476, 486, 336, 683, 700, 1898, 840, 938, 495, 478, 1539, 699, 595, 688, 543, 853, 350, 384, 2257, 1062, 1360, 918, 872, 729, 632, 510, 1756, 869, 1048, 782, 697, 780, 1130, 1220, 434, 473, 581, 517, 880, 1016, 1158, 579, 414, 483, 506, 1452, 400, 675, 724, 382, 785, 516, 1153, 402, 1134, 1686, 319, 318, 477, 1387, 322, 1299, 784, 728, 714, 645, 491, 509, 816, 610, 323, 725, 549, 576, 483, 430, 403, 388, 1112, 453, 935, 546, 513, 479, 357, 323, 324, 722, 898, 857, 528, 366, 357, 476, 379, 1432, 1051, 827, 670, 584, 511, 956, 1063, 912, 556, 1106, 2073, 445, 427, 731, 567, 936, 384, 530, 346, 522, 466, 1044, 351, 345, 691, 1193, 533, 780, 591, 574, 323, 475, 705, 731, 716, 366, 463, 390, 535, 1060, 2047, 873, 2303, 319, 352, 597, 376, 688, 365, 405, 361, 831, 536, 486, 452, 713, 757, 359, 421, 1031, 791, 851, 765, 2096, 800, 465, 324, 493, 650, 883, 488, 377, 604, 531, 1239, 812, 430, 627, 489, 2422, 391, 963, 737, 540, 386, 640, 687, 349, 341, 496, 450, 900, 481, 476, 340, 2520, 1293, 781, 456, 444, 404, 660, 735, 317, 1031, 744, 354, 1076, 521, 331, 538, 510, 434, 737, 310, 1087, 431, 286, 359, 383, 780, 837, 635, 1321, 674, 682, 315, 460, 585, 1018, 2023, 389, 446, 569, 458, 528, 486, 609, 688, 674, 304, 502, 1511, 467, 537, 727, 389, 1077, 478, 1016, 691, 794, 354, 489, 619, 429, 475, 434, 453, 353, 982, 387, 541, 509, 589, 574, 651, 638, 476, 436, 484, 367, 300, 352, 477, 419, 464, 674, 575, 607, 387, 402, 336, 941, 412, 746, 3301, 533, 453, 928, 368, 442, 480, 404, 355, 771, 382, 565, 425, 681, 508, 344, 535, 531, 1182, 486, 372, 571, 451, 465, 434, 336, 481, 408, 777, 489, 706, 648, 433, 558, 499, 604, 380, 420, 644, 310, 697, 366, 572, 437, 966, 390, 323, 416, 346, 707, 384, 430, 417, 418, 423, 489, 486, 404, 957, 729, 566, 489, 579, 591, 662, 369, 463, 344, 490, 399, 355, 376, 479, 420, 420, 542, 608, 399, 336, 499, 373, 337, 1285, 485, 464, 365, 465, 554, 334, 493, 618, 479, 577, 875, 723, 768, 481, 572, 605, 806, 948, 584, 563, 352, 614, 628, 510, 1032, 608, 581, 493, 682, 645, 523, 694, 778, 723, 1445, 547, 478, 345, 536, 347, 425, 718, 775, 513, 441, 649, 544, 580, 587, 662, 658, 3737, 3792, 537, 479, 1211, 1329, 633, 381, 552, 390, 374, 376, 586, 381, 397, 475, 377, 350, 349, 462, 508, 755, 431, 421, 1236, 426, 823, 485, 606, 326, 580, 1114, 301, 519, 453, 472, 459, 452, 425, 460, 631, 867, 633, 330, 380, 440, 494, 505, 3968, 3851, 3472, 996, 545, 475, 596, 526, 1456, 432, 1592, 962, 986, 529, 611, 993, 631, 424, 374, 387, 381, 374, 536, 556, 409, 385, 407, 564, 454, 341, 527, 464, 393, 358, 345, 469, 344, 371, 408, 370, 524, 343, 455, 391, 594, 386, 348, 1113, 550, 713, 566, 626, 1062, 762, 432, 378, 538, 523, 532, 443, 505, 430, 469, 624, 878, 673, 651, 601, 2728, 535, 579, 633, 625, 784, 386, 1996, 1140, 819, 564, 604, 782, 1007, 607, 321, 549, 569, 388, 516, 1532, 474, 557, 468, 542, 582, 425, 314, 346, 417, 662, 678, 946, 564, 872, 1664, 3007, 1209, 397, 1728, 1461, 3519, 3302, 3404, 3395, 3115, 3398, 1208, 812, 1113, 1106, 804, 522, 1592, 562, 409, 560, 425, 467, 1799, 2516, 640, 1733, 709, 1154, 392, 418, 553, 2104, 1723, 1805, 1661, 1682, 423, 424, 1077, 960, 507, 474, 474, 526, 425, 1040, 621, 1032, 514, 607, 454, 645, 821, 1235, 677, 871, 655, 740, 825, 859, 1757, 1932, 893, 1613, 333, 319, 466, 964, 623, 450, 892, 759, 466, 378, 437, 735, 2372, 557, 897, 395, 546, 638, 542, 430, 675, 435, 328, 321, 1121, 863, 2353, 345, 384, 818, 406, 395, 376, 604, 712, 864, 320, 2713, 396, 924, 704, 348, 567, 540, 609, 695, 374, 590, 358, 621, 867, 548, 337, 1150, 719, 507, 982, 1190, 554, 394, 617, 425, 632, 1101, 306, 1001, 382, 530, 478, 546, 294, 783, 659, 918, 744, 509, 646, 450, 465, 806, 549, 782, 731, 408, 456, 513, 553, 366, 358, 527, 944, 982, 377, 446, 317, 951, 387, 387, 641, 495, 436, 318, 825, 385, 475, 336, 1138, 1203, 783, 1241, 362, 558, 678, 550, 397, 491, 417, 429, 358, 583, 483, 507, 783, 1242, 431, 322, 344, 590, 983, 332, 440, 429, 752, 934, 485, 389, 627, 1144, 423, 473, 561, 420, 321, 471, 491, 416, 2250, 586, 729, 569, 750, 541, 449, 459, 475, 545, 2641, 687, 407, 523, 414, 692, 323, 817, 337, 585, 362, 647, 413, 625, 477, 396, 657, 1080, 501, 975, 436, 655, 315, 851, 389, 327, 517, 758, 679, 506, 516, 992, 322, 442, 654, 495, 717, 965, 645, 824, 511, 549, 551, 506, 512, 496, 409, 520, 864, 1109, 505, 499, 506, 1231, 408, 401, 592, 491, 524, 490, 509, 585, 328, 486, 516, 505, 716, 614, 462, 372, 1064, 386, 406, 479, 569, 542, 595, 510, 463, 878, 656, 592, 1180, 577, 350, 390, 504, 415, 459, 339, 385, 395, 349, 440, 406, 750, 595, 618, 880, 1014, 318, 1158, 375, 361, 958, 420, 630, 592, 512, 2567, 382, 466, 370, 548, 606, 415, 492, 524, 584, 662, 507, 650, 434, 638, 649, 474, 574, 464, 453, 490, 434, 937, 422, 935, 557, 629, 319, 573, 776, 637, 572, 554, 464, 1047, 396, 902, 398, 505, 685, 437, 527, 426, 721, 346, 413, 362, 473, 581, 592, 811, 616, 769, 741, 714, 592, 410, 814, 464, 2172, 543, 521, 554, 606, 590, 642, 529, 535, 427, 456, 842, 483, 727, 643, 302, 492, 319, 870, 482, 772, 515, 596, 598, 699, 807, 385, 476, 416, 603, 650, 859, 677, 1368, 494, 862, 854, 357, 614, 1046, 316, 414, 385, 1317, 702, 841, 805, 443, 560, 842, 436, 811, 659, 643, 678, 1020, 467, 519, 502, 422, 405, 444, 541, 428, 646, 543, 588, 595, 494, 450, 729, 858, 1044, 336, 572, 1534, 800, 505, 454, 368, 389, 528, 416, 346, 413, 634, 972, 833, 453, 479, 678, 372, 360, 369, 545, 542, 341, 463, 376, 346, 637, 538, 512, 523, 332, 424, 478, 360, 551, 754, 431, 497, 464, 582, 549, 467, 407, 409, 370, 516, 787, 540, 489, 367, 320, 427, 541, 400, 369, 731, 1330, 547, 391, 378, 415, 365, 382, 421, 721, 916, 438, 686, 411, 792, 533, 521, 646, 453, 446, 354, 605, 607, 573, 515, 364, 360, 479, 794, 527, 2257, 531, 489, 977, 502, 456, 535, 319, 400, 1709, 432, 460, 445, 801, 457, 527, 455, 415, 493, 483, 593, 366, 393, 583, 540, 852, 549, 403, 506, 485, 528, 475, 376, 533, 476, 331, 460, 310, 310, 573, 587, 306, 567, 297, 297, 308, 308, 543, 1257, 471, 986, 1328, 498, 587, 578, 562, 298, 500, 479, 551, 422, 452, 530, 505, 567, 552, 657, 678, 619, 649, 664, 748, 612, 370, 407, 632, 379, 384, 489, 593, 522, 444, 501, 609, 428, 660, 694, 646, 700, 438, 614, 671, 671, 806, 713, 608, 686, 674, 712, 669, 612, 756, 649, 697, 675, 822, 474, 448, 672, 700, 669, 711, 620, 635, 358, 365, 465, 438, 462, 580, 448, 496, 481, 398, 558, 435, 517, 501, 544, 737, 607, 688, 647, 655, 444, 555, 427, 613, 808, 1035, 708, 469, 438, 834, 418, 632, 499, 472, 989, 519, 1219, 1445, 578, 651, 542, 694, 1104, 438, 365, 721, 1242, 564, 552, 536, 448, 636, 528, 604, 395, 576, 464, 577, 733, 2470, 486, 480, 1838, 361, 681, 390, 724, 568, 553, 583, 425, 443, 473, 496, 741, 397, 570, 407, 1152, 892, 531, 614, 573, 600, 503, 568, 468, 493, 529, 501, 448, 422, 415, 2005, 329, 700, 395, 345, 521, 614, 578, 529, 706, 352, 690, 353, 540, 350, 446, 601, 750, 549, 490, 1077, 434, 1911, 752, 1683, 1664, 1660, 1715, 1713, 1830, 654, 698, 1342, 634, 645, 1403, 1776, 1779, 1895, 1845, 1860, 1804, 1303, 1351, 1314, 1365, 1325, 1299, 1211, 1357, 1303, 1224, 1344, 1281, 1785, 1630, 1914, 1645, 1823, 1840, 1602, 1493, 1303, 1569, 1499, 1008, 660, 348, 1099, 719, 1049, 1264, 1217, 1369, 1272, 1345, 1266, 1307, 1321, 1262, 1214, 1271, 1225, 1240, 1294, 1237, 1251, 1331, 1281, 1416, 711, 667, 751, 1308, 606, 1026, 772, 1024, 1221, 1270, 1324, 1112, 1255, 1266, 1125, 321, 1327, 1159, 1158, 1256, 1368, 595, 1214, 1108, 1033, 1413, 1085, 1480, 998, 1366, 1022, 1231, 1382, 1257, 1177, 1195, 1203, 1277, 1276, 1158, 1264, 1189, 734, 682, 470, 1461, 1465, 1412, 1421, 1474, 1443, 1438, 1507, 1453, 1441, 1420, 670, 1055, 660, 1078, 984, 714, 611, 1078, 1019, 1425, 1387, 1372, 1446, 1540, 1518, 1490, 1432, 1422, 1547, 1447, 1527, 1419, 1453, 1456, 1459, 1449, 1460, 1402, 1489, 1551, 1295, 1009, 626, 1050, 1026, 1283, 1416, 593, 1343, 518, 1040, 1040, 1017, 1272, 955, 1150, 770, 1025, 663, 1474, 1377, 1513, 1409, 1456, 1326, 1401, 1413, 1472, 493, 1387, 1497, 1331, 1412, 1425, 1334, 1511, 888, 1043, 843, 865, 855, 825, 1136, 858, 818, 924, 1003, 896, 937, 1058, 999, 862, 874, 849, 836, 896, 814, 1079, 1084, 880, 884, 1131, 1159, 1215, 989, 670, 927, 911, 930, 881, 858, 939, 1083, 875, 1243, 1435, 979, 963, 895, 1003, 973, 946, 1075, 969, 899, 894, 860, 908, 944, 928, 1088, 962, 953, 1793, 1255, 1631, 993, 931, 888, 908, 927, 1297, 960, 905, 862, 936, 962, 923, 922, 914, 910, 933, 943, 530, 3396, 616, 1425, 1043, 426, 820, 632, 397, 335, 946, 924, 891, 926, 862, 566, 869, 905, 942, 919, 863, 573, 595, 875, 1226, 962, 2070, 577, 431, 964, 853, 2355, 625, 444, 396, 630, 460, 2760, 2449, 812, 2274, 848, 436, 510, 506, 506, 1022, 533, 387, 672, 2296, 799, 1021, 481, 550, 3603, 3306, 3483, 471, 525, 566, 2550, 3732, 996, 1338, 786, 1400, 1438, 3156, 3103, 2962, 1710, 1741, 1317, 795, 1177, 573, 3370, 3412, 718, 687, 3302, 2434, 2796, 3639, 1058, 1106, 530, 445, 1378, 1536, 1894, 1599, 609, 599, 1034, 949, 517, 900, 1829, 885, 1509, 455, 1537, 1585, 594, 704, 743, 717, 1000, 546, 898, 541, 323, 629, 506, 872, 513, 819, 532, 356, 834, 1667, 1440, 672, 707, 538, 390, 422, 335, 1440, 976, 1485, 876, 1141, 1228, 1306, 472, 2104, 580, 1206, 934, 316, 733, 402, 968, 560, 1397, 447, 532, 808, 568, 595, 475, 380, 646, 462, 569, 619, 1302, 512, 1398, 661, 1511, 1437, 1221, 704, 391, 649, 1315, 713, 1445, 890, 326, 650, 1229, 1479, 1375, 522, 437, 1246, 1467, 1338, 1030, 1328, 1373, 1189, 340, 774, 1264, 1561, 551, 350, 1073, 1157, 460, 1365, 1165, 826, 1084, 632, 1363, 1283, 994, 1170, 1022, 1298, 1433, 1396, 1275, 1257, 1303, 1094, 1274, 964, 1258, 1101, 990, 1320, 1326, 774, 1338, 1231, 721, 587, 1465, 752, 380, 392, 771, 995, 1292, 1606, 466, 1314, 834, 1362, 1163, 591, 739, 748, 1037, 1386, 1271, 1722, 688, 1321, 1440, 1425, 413, 1554, 1302, 1247, 1125, 1350, 1310, 612, 648, 888, 2035, 690, 821, 725, 327, 324, 986, 680, 820, 970, 760, 2268, 442, 439, 1464, 411, 585, 491, 464, 785, 699, 763, 634, 490, 598, 671, 988, 340, 456, 774, 565, 780, 544, 553, 503, 382, 717, 597, 1926, 326, 485, 834, 617, 541, 457, 417, 384, 559, 314, 678, 657, 355, 830, 614, 592, 444, 375, 582, 605, 848, 348, 333, 608, 382, 580, 973, 545, 859, 641, 910, 415, 498, 424, 624, 478, 430, 581, 316, 696, 594, 614, 831, 713, 1204, 825, 317, 447, 1123, 974, 748, 577, 541, 455, 415, 483, 676, 493, 458, 337, 611, 306, 490, 949, 2196, 800, 971, 763, 364, 426, 961, 778, 812, 824, 502, 587, 493, 463, 659, 455, 1299, 1366, 993, 786, 368, 762, 762, 484, 715, 465, 572, 738, 545, 1028, 654, 942, 2297, 1013, 870, 696, 524, 630, 697, 597, 459, 573, 534, 1263, 516, 530, 634, 524, 497, 408, 457, 836, 518, 876, 650, 447, 438, 593, 609, 859, 1229, 489, 725, 583, 650, 902, 422, 727, 364, 864, 583, 426, 1005, 1002, 709, 405, 464, 420, 588, 482, 418, 486, 403, 773, 1391, 1793, 1331, 930, 636, 454, 532, 920, 654, 519, 341, 362, 378, 355, 580, 493, 835, 849, 545, 1478, 371, 455, 704, 680, 431, 967, 649, 558, 362, 476, 394, 858, 932, 504, 441, 766, 614, 435, 567, 450, 1385, 1133, 1311, 428, 651, 323, 564, 647, 465, 699, 495, 692, 723, 344, 527, 707, 646, 743, 541, 698, 644, 497, 622, 689, 375, 492, 553, 665, 446, 580, 494, 518, 613, 942, 335, 813, 444, 851, 989, 935, 1090, 1174, 897, 2472, 1447, 1295, 915, 1043, 924, 1018, 2749, 814, 391, 481, 348, 472, 1800, 319, 2193, 1962, 689, 1871, 766, 1951, 640, 363, 468, 571, 1639, 576, 2267, 513, 494, 765, 416, 426, 450, 389, 894, 1383, 584, 467, 2005, 826, 915, 561, 385, 673, 775, 799, 844, 893, 608, 418, 758, 692, 727, 337, 1071, 453, 356, 1300, 413, 578, 449, 1296, 1819, 601, 922, 649, 731, 509, 683, 525, 3493, 1402, 1316, 1178, 478, 1269, 1337, 1362, 1683, 725, 864, 719, 294, 367, 424, 2888, 774, 586, 431, 2806, 554, 814, 810, 373, 741, 807, 823, 748, 385, 850, 594, 635, 912, 1123, 448, 437, 724, 329, 581, 473, 404, 867, 573, 904, 720, 624, 871, 2117, 1414, 461, 644, 556, 420, 993, 888, 382, 1490, 333, 970, 731, 714, 1481, 422, 400, 387, 857, 395, 691, 1840, 517, 882, 500, 877, 507, 490, 600, 994, 733, 1368, 346, 343, 632, 388, 755, 388, 439, 611, 728, 901, 788, 347, 539, 291, 1014, 460, 620, 673, 370, 686, 969, 619, 434, 630, 357, 494, 519, 783, 333, 529, 1102, 373, 574, 608, 425, 623, 527, 539, 546, 659, 421, 321, 343, 610, 361, 487, 404, 556, 2463, 380, 290, 3165, 812, 460, 506, 899, 724, 860, 502, 692, 874, 542, 554, 376, 651, 424, 1069, 837, 571, 613, 1053, 464, 3047, 1305, 1196, 670, 418, 660, 480, 537, 479, 367, 666, 529, 886, 414, 358, 653, 499, 765, 475, 763, 311, 307, 322, 953, 934, 499, 323, 581, 749, 446, 862, 588, 652, 577, 587, 648, 426, 383, 578, 693, 388, 689, 521, 344, 331, 403, 690, 1187, 799, 991, 738, 1032, 1098, 1935, 774, 600, 945, 589, 632, 423, 462, 809, 655, 660, 887, 849, 724, 1114, 569, 397, 409, 595, 437, 451, 647, 643, 419, 1024, 623, 616, 401, 344, 571, 325, 379, 504, 636, 553, 343, 469, 339, 1347, 552, 492, 616, 343, 1057, 969, 1324, 312, 962, 1126, 491, 720, 961, 656, 858, 734, 915, 869, 1147, 1520, 380, 1176, 934, 1148, 1651, 921, 889, 2721, 987, 1274, 501, 794, 562, 1238, 483, 308, 321, 964, 1007, 1083, 1135, 1172, 530, 360, 1034, 852, 1391, 623, 506, 442, 954, 2097, 713, 1128, 353, 399, 376, 455, 581, 739, 514, 385, 317, 1049, 868, 785, 934, 2030, 984, 2392, 1309, 1153, 943, 315, 884, 1009, 994, 458, 468, 889, 490, 424, 302, 376, 1248, 1302, 1082, 429, 1630, 1224, 670, 396, 442, 420, 1003, 726, 1166, 1315, 618, 859, 827, 971, 469, 852, 816, 339, 571, 2258, 788, 1698, 1351, 367, 1087, 812, 844, 1079, 555, 694, 1156, 706, 599, 411, 632, 863, 886, 1345, 1408, 901, 1231, 1263, 800, 593, 1048, 1395, 578, 892, 1128, 384, 414, 1144, 1068, 1156, 857, 1135, 927, 424, 388, 832, 916, 600, 432, 464, 1485, 687, 986, 1088, 975, 348, 986, 730, 765, 485, 678, 817, 1354, 1660, 2094, 708, 975, 805, 974, 782, 318, 747, 1061, 707, 754, 579, 811, 1293, 1119, 833, 821, 1288, 742, 936, 482, 436, 491, 520, 299, 573, 759, 783, 337, 602, 772, 706, 677, 329, 867, 785, 490, 966, 885, 539, 711, 712, 660, 439, 498, 505, 702, 434, 634, 895, 825, 355, 368, 428, 521, 429, 607, 675, 655, 486, 566, 623, 891, 720, 644, 812, 632, 702, 690, 637, 319, 590, 488, 368, 696, 1562, 533, 451, 555, 536, 646, 438, 484, 394, 490, 454, 902, 325, 316, 384, 649, 773, 351, 467, 942, 2587, 492, 744, 557, 292, 823, 325, 426, 508, 360, 318, 566, 440, 1890, 563, 325, 463, 286, 729, 738, 318, 352, 727, 795, 394, 373, 2640, 1057, 297, 681, 1040, 503, 344, 531, 797, 656, 768, 448, 858, 567, 301, 1216, 466, 820, 694, 965, 571, 1368, 591, 499, 454, 393, 2177, 585, 458, 444, 556, 903, 2345, 579, 528, 1985, 336, 1455, 808, 768, 408, 608, 393, 434, 407, 816, 894, 713, 512, 676, 546, 1016, 714, 762, 1723, 704, 357, 701, 842, 653, 436, 653, 446, 575, 586, 972, 556, 308, 1237, 604, 778, 702, 397, 723, 700, 381, 680, 863, 616, 574, 708, 804, 738, 1027, 1239, 740, 1697, 381, 329, 985, 1442, 905, 475, 350, 449, 637, 498, 385, 385, 717, 999, 598, 610, 673, 675, 296, 639, 601, 638, 680, 678, 508, 742, 654, 435, 375, 371, 352, 789, 329, 355, 399, 378, 522, 705, 368, 419, 983, 689, 640, 443, 345, 684, 542, 323, 886, 1075, 612, 1160, 647, 611, 635, 549, 641, 643, 1890, 563, 565, 654, 688, 583, 597, 1765, 708, 576, 755, 814, 957, 737, 832, 548, 576, 727, 1735, 673, 685, 648, 436, 711, 1796, 1318, 912, 597, 326, 887, 402, 1368, 1171, 821, 460, 752, 601, 619, 1755, 660, 343, 2578, 2313, 2111, 2255, 2256, 1923, 1979, 2576, 3008, 382, 2044, 1814, 1903, 672, 653, 403, 536, 470, 732, 1080, 733, 314, 628, 374, 770, 661, 762, 549, 568, 491, 410, 406, 558, 757, 791, 665, 976, 745, 862, 722, 894, 1886, 549, 971, 439, 1168, 1101, 905, 572, 607, 1324, 1047, 1128, 1241, 1141, 1116, 651, 726, 543, 784, 564, 1090, 1125, 718, 846, 959, 1152, 1102, 661, 1247, 660, 356, 1057, 1177, 1195, 1101, 1181, 1147, 472, 537, 614, 1051, 1162, 1084, 1071, 1084, 1169, 421, 498, 389, 1241, 1209, 1032, 423, 1116, 1172, 1231, 883, 1180, 457, 393, 673, 303, 666, 789, 456, 1192, 749, 528, 1047, 1058, 1084, 1155, 963, 3008, 448, 438, 966, 372, 536, 345, 2871, 691, 515, 538, 1136, 1254, 1097, 1195, 1232, 1182, 1156, 1258, 1132, 1336, 1293, 839, 534, 2950, 1238, 1305, 539, 689, 575, 565, 380, 627, 477, 665, 1665, 524, 1614, 542, 621, 364, 523, 1076, 715, 584, 498, 838, 731, 867, 608, 372, 573, 702, 334, 423, 452, 765, 869, 335, 394, 440, 391, 791, 967, 872, 375, 843, 738, 567, 473, 323, 551, 462, 491, 683, 612, 372, 1283, 440, 877, 418, 380, 493, 324, 494, 422, 1078, 363, 1017, 1033, 440, 1016, 754, 848, 660, 407, 749, 527, 587, 330, 1167, 373, 530, 393, 532, 632, 484, 400, 471, 730, 689, 826, 594, 390, 375, 512, 574, 1379, 633, 1030, 1201, 1329, 716, 650, 787, 1327, 695, 661, 501, 774, 502, 436, 475, 369, 369, 401, 566, 460, 369, 317, 331, 390, 709, 1837, 517, 808, 893, 714, 373, 461, 666, 382, 389, 615, 572, 361, 589, 714, 646, 738, 1029, 404, 444, 461, 1225, 665, 538, 360, 715, 2906, 516, 588, 504, 499, 1316, 382, 382, 382, 369, 382, 414, 434, 503, 329, 585, 647, 382, 779, 382, 382, 382, 382, 382, 1031, 407, 396, 1230, 373, 821, 365, 973, 408, 1306, 627, 333, 627, 314, 869, 2482, 553, 443, 391, 328, 308, 582, 2770, 413, 485, 519, 333, 333, 333, 393, 540, 531, 426, 333, 457, 333, 333, 333, 333, 333, 333, 333, 333, 333, 333, 333, 333, 371, 371, 371, 371, 371, 479, 453, 411, 432, 323, 306, 743, 462, 446, 711, 361, 370, 506, 333, 472, 333, 819, 704, 629, 957, 1700, 792, 843, 807, 333, 333, 508, 3294, 536, 636, 531, 1422, 867, 966, 816, 468, 333, 333, 920, 333, 662, 1094, 612, 333, 333, 333, 333, 929, 353, 712, 884, 628, 556, 978, 1147, 345, 762, 371, 333, 371, 333, 341, 1385, 333, 333, 371, 472, 1933, 902, 371, 371, 371, 479, 423, 937, 1078, 372, 931, 393, 372, 372, 372, 1132, 332, 332, 332, 332, 366, 599, 333, 333, 333, 333, 379, 379, 379, 379, 379, 333, 333, 333, 333, 333, 351, 299, 316, 316, 316, 316, 316, 316, 316, 316, 379, 378, 378, 379, 378, 378, 374, 374, 374, 374, 388, 388, 374, 388, 379, 379, 379, 371, 371, 371, 371, 333, 776, 448, 319, 324, 319, 324, 333, 333, 333, 333, 333, 333, 333, 333, 333, 333, 333, 333, 333, 333, 333, 318, 318, 303, 303, 303, 303, 318, 318, 318, 318, 324, 324, 324, 324, 374, 374, 374, 374, 374, 374, 374, 379, 378, 378, 378, 378, 333, 333, 333, 316, 316, 316, 316, 308, 308, 308, 308, 304, 304, 304, 305, 333, 333, 333, 333, 333, 333, 333, 333, 333, 333, 333, 333, 333, 333, 333, 333, 333, 333, 333, 333, 333, 381, 381, 408, 408, 411, 413, 306, 306, 306, 333, 333, 333, 333, 302, 302, 302, 302, 302, 378, 378, 333, 378, 333, 333, 333, 381, 333, 380, 380, 380, 380, 306, 333, 333, 333, 333, 333, 333, 333, 333, 333, 333, 392, 392, 392, 392, 392, 392, 383, 383, 333, 333, 333, 333, 399, 399, 372, 372, 372, 372, 372, 370, 370, 370, 370, 375, 375, 375, 375, 399, 399, 390, 390, 389, 385, 385, 389, 391, 383, 315, 315, 315, 315, 372, 372, 372, 372, 372, 372, 372, 372, 374, 377, 377, 377, 377, 377, 377, 377, 333, 333, 333, 333, 333, 333, 333, 333, 333, 333, 333, 333, 333, 333, 333, 738, 525, 333, 374, 374, 374, 374, 374, 374, 374, 374, 374, 374, 374, 374, 374, 597, 569, 381, 677, 408, 560, 365, 365, 365, 365, 365, 365, 377, 377, 377, 428, 428, 428, 428, 380, 380, 380, 380, 374, 374, 570, 374, 374, 374, 374, 452, 611, 371, 952, 521, 664, 377, 377, 377, 710, 622, 953, 603, 667, 374, 374, 374, 374, 374, 692, 374, 616, 374, 707, 891, 426, 439, 519, 439, 844, 689, 943, 457, 426, 792, 876, 2189, 836, 559, 1534, 408, 1094, 597, 762, 1360, 286, 363, 2184, 665, 695, 574, 593, 1282, 1068, 444, 740, 708, 349, 805, 333, 454, 507, 945, 850, 821, 380, 478, 373, 373, 373, 408, 303, 373, 303, 303, 303, 303, 303, 384, 411, 694, 377, 449, 778, 349, 1174, 678, 2494, 333, 333, 333, 333, 333, 323, 376, 375, 375, 576, 374, 400, 412, 333, 333, 333, 333, 333, 327, 327, 322, 329, 328, 414, 414, 333, 333, 333, 333, 333, 333, 333, 333, 374, 374, 381, 381, 381, 381, 381, 381, 374, 374, 374, 374, 374, 374, 333, 374, 374, 519, 374, 374, 374, 374, 374, 374, 866, 873, 1208, 1665, 333, 432, 1032, 333, 651, 333, 333, 617, 514, 374, 374, 374, 374, 374, 371, 371, 374, 374, 374, 374, 374, 374, 374, 374, 374, 374, 374, 374, 374, 374, 374, 374, 371, 371, 546, 727, 751, 926, 371, 371, 1205, 1072, 432, 455, 438, 319, 333, 468, 412, 546, 334, 334, 334, 334, 334, 334, 315, 315, 315, 315, 312, 502, 312, 312, 589, 469, 322, 322, 322, 374, 374, 374, 374, 374, 374, 374, 374, 374, 417, 374, 374, 374, 374, 374, 374, 374, 510, 1198, 488, 766, 374, 539, 374, 374, 374, 374, 398, 374, 374, 374, 374, 374, 374, 374, 374, 458, 458, 457, 457, 316, 316, 316, 316, 312, 377, 396, 409, 332, 476, 786, 386, 608, 369, 2690, 715, 316, 432, 316, 316, 317, 316, 382, 382, 382, 382, 377, 377, 377, 411, 411, 452, 444, 378, 378, 923, 570, 604, 1692, 591, 344, 546, 356, 1092, 614, 471, 312, 306, 875, 772, 693, 3434, 3434, 572, 1005, 493, 690, 676, 570, 484, 495, 358, 518, 980, 729, 497, 1051, 554, 1821, 565, 826, 2669, 364, 492, 654, 727, 489, 740, 980, 890, 535, 498, 848, 626, 493, 504, 529, 356, 513, 477, 453, 478, 426, 351, 424, 441, 1861, 553, 458, 558, 389, 812, 445, 732, 1351, 563, 394, 546, 731, 461, 379, 603, 392, 418, 692, 375, 972, 485, 661, 767, 448, 411, 349, 436, 312, 333, 696, 316, 1280, 488, 571, 1312, 1530, 672, 474, 1427, 1635, 701, 579, 1490, 702, 1642, 820, 1168, 1711, 795, 1212, 1819, 764, 1621, 1246, 1074, 896, 1567, 1292, 1001, 883, 829, 1068, 430, 934, 838, 944, 1595, 495, 1365, 888, 1470, 735, 538, 1292, 685, 381, 981, 1595, 800, 971, 1611, 675, 1098, 387, 2084, 622, 1730, 687, 356, 874, 323, 1454, 481, 646, 327, 493, 1485, 724, 1178, 712, 405, 884, 822, 555, 449, 354, 399, 392, 374, 782, 1121, 683, 1592, 408, 563, 496, 537, 557, 781, 1666, 484, 708, 372, 896, 631, 547, 538, 2618, 565, 816, 330, 475, 553, 631, 382, 445, 373, 1407, 486, 428, 859, 401, 2889, 639, 464, 482, 352, 358, 621, 469, 570, 1412, 583, 953, 801, 708, 403, 553, 435, 395, 442, 357, 677, 497, 571, 526, 684, 372, 546, 596, 478, 829, 305, 451, 736, 818, 510, 502, 409, 401, 576, 566, 907, 1447, 352, 1049, 646, 661, 459, 615, 616, 393, 367, 559, 403, 529, 653, 317, 331, 300, 498, 935, 823, 562, 344, 576, 745, 610, 575, 736, 372, 814, 712, 503, 590, 473, 541, 403, 368, 690, 470, 1230, 339, 456, 493, 402, 687, 322, 524, 662, 413, 547, 416, 437, 822, 829, 470, 506, 410, 815, 477, 533, 485, 632, 420, 595, 573, 1000, 469, 398, 461, 982, 492, 623, 364, 2708, 362, 507, 537, 389, 535, 1019, 407, 618, 940, 352, 366, 340, 420, 507, 360, 355, 339, 442, 569, 739, 850, 661, 699, 995, 646, 321, 611, 650, 501, 451, 507, 797, 363, 779, 330, 335, 505, 509, 451, 829, 862, 408, 404, 472, 357, 445, 528, 350, 596, 682, 452, 375, 494, 300, 430, 350, 1713, 844, 462, 395, 450, 364, 578, 349, 1207, 1529, 499, 712, 2516, 1556, 893, 453, 1184, 901, 787, 477, 441, 471, 1132, 1023, 1133, 1248, 671, 805, 718, 582, 764, 484, 875, 841, 432, 787, 328, 841, 743, 587, 814, 678, 1595, 1968, 1703, 2058, 1445, 1848, 1784, 1887, 1744, 1779, 669, 784, 779, 648, 864, 916, 1149, 947, 1100, 1118, 1041, 993, 1154, 1088, 1027, 997, 952, 942, 2088, 1856, 1836, 1994, 2155, 1484, 1704, 1552, 1594, 1853, 1645, 1809, 1855, 1656, 1297, 1218, 1289, 1245, 382, 482, 544, 1025, 777, 1542, 1652, 1877, 1788, 774, 571, 1058, 1445, 857, 433, 1633, 1082, 734, 1070, 1047, 419, 979, 627, 1034, 768, 734, 1209, 928, 759, 1037, 1124, 873, 1038, 958, 1037, 1130, 990, 1136, 1000, 1205, 1187, 1096, 881, 930, 971, 1012, 1110, 960, 773, 1020, 1003, 1020, 1139, 1193, 1122, 1020, 1123, 1087, 1111, 1099, 1065, 1045, 948, 1078, 1024, 1038, 1106, 1111, 1068, 1117, 1047, 998, 1058, 1573, 1152, 1048, 1044, 390, 626, 682, 373, 737, 329, 695, 380, 831, 570, 755, 519, 556, 718, 591, 815, 516, 559, 436, 1146, 1314, 1280, 581, 452, 521, 1305, 482, 382, 372, 721, 550, 731, 834, 441, 372, 878, 641, 890, 762, 1043, 314, 538, 632, 523, 626, 583, 644, 586, 555, 815, 471, 547, 642, 322, 702, 796, 759, 683, 688, 676, 805, 886, 561, 799, 521, 669, 483, 1179, 1318, 496, 758, 606, 518, 740, 666, 418, 648, 1106, 714, 1430, 758, 705, 1388, 1142, 947, 1086, 1262, 1579, 933, 533, 836, 953, 770, 862, 785, 562, 405, 728, 627, 441, 681, 714, 897, 663, 657, 559, 456, 912, 1028, 997, 1456, 1002, 1208, 1128, 1292, 1087, 1244, 1248, 926, 415, 1065, 400, 499, 553, 669, 533, 796, 726, 674, 1234, 1064, 2376, 1229, 1544, 1263, 1056, 1032, 1109, 542, 608, 1018, 981, 1068]\n",
            "[254, 539, 387, 286, 213, 304, 222, 182, 307, 357, 238, 235, 253, 567, 264, 243, 369, 262, 354, 302, 399, 515, 195, 185, 455, 636, 291, 319, 548, 278, 225, 492, 334, 296, 299, 274, 332, 343, 349, 326, 387, 364, 227, 161, 235, 254, 220, 224, 269, 276, 509, 303, 301, 332, 468, 277, 410, 213, 254, 208, 462, 334, 349, 243, 283, 159, 199, 222, 502, 222, 204, 284, 331, 415, 211, 221, 398, 778, 397, 425, 522, 271, 378, 421, 550, 619, 323, 795, 292, 338, 245, 446, 501, 331, 668, 710, 252, 431, 481, 256, 512, 461, 298, 266, 399, 354, 282, 213, 194, 192, 228, 547, 297, 233, 254, 296, 318, 416, 415, 255, 256, 441, 317, 202, 204, 549, 253, 495, 449, 213, 197, 197, 472, 376, 340, 268, 338, 188, 202, 273, 151, 338, 189, 376, 201, 234, 206, 257, 218, 179, 177, 202, 309, 543, 306, 511, 595, 307, 499, 364, 320, 172, 253, 184, 528, 221, 210, 341, 276, 246, 256, 253, 200, 305, 216, 711, 285, 273, 308, 449, 212, 245, 377, 172, 310, 227, 379, 332, 287, 311, 459, 190, 231, 813, 805, 716, 366, 183, 258, 454, 287, 171, 514, 237, 389, 212, 205, 194, 281, 299, 439, 242, 681, 985, 325, 266, 262, 285, 283, 311, 445, 685, 297, 348, 281, 230, 293, 215, 298, 197, 196, 222, 448, 435, 439, 355, 196, 417, 383, 450, 251, 896, 831, 515, 399, 867, 308, 720, 755, 341, 352, 239, 205, 243, 208, 224, 307, 274, 422, 282, 232, 481, 453, 359, 471, 687, 257, 287, 248, 311, 249, 816, 211, 711, 972, 346, 680, 541, 311, 345, 375, 389, 361, 497, 381, 380, 365, 253, 283, 330, 270, 196, 328, 197, 475, 507, 241, 320, 204, 272, 310, 292, 254, 421, 219, 239, 410, 329, 480, 363, 270, 294, 830, 340, 363, 578, 297, 206, 261, 288, 179, 327, 296, 390, 310, 206, 488, 346, 268, 232, 247, 606, 233, 230, 574, 412, 170, 396, 388, 629, 265, 227, 358, 515, 493, 635, 346, 244, 311, 509, 323, 423, 358, 194, 290, 471, 225, 637, 330, 412, 548, 266, 196, 325, 307, 790, 385, 427, 256, 256, 622, 348, 306, 365, 261, 405, 199, 221, 727, 437, 546, 414, 382, 366, 331, 249, 695, 380, 447, 342, 380, 412, 500, 565, 236, 234, 309, 294, 512, 452, 639, 326, 208, 268, 231, 712, 188, 346, 374, 239, 380, 271, 475, 217, 465, 646, 177, 150, 252, 569, 158, 529, 402, 363, 367, 297, 255, 300, 378, 294, 197, 381, 286, 304, 225, 229, 211, 218, 538, 238, 424, 308, 258, 232, 196, 166, 179, 359, 398, 338, 268, 227, 205, 250, 194, 546, 438, 409, 314, 295, 261, 422, 474, 397, 264, 527, 863, 233, 267, 348, 238, 467, 195, 257, 202, 251, 265, 409, 159, 179, 350, 543, 307, 389, 260, 278, 185, 229, 300, 342, 314, 184, 225, 228, 278, 555, 846, 400, 911, 136, 168, 243, 234, 313, 208, 195, 154, 310, 261, 245, 227, 318, 334, 200, 215, 522, 381, 395, 370, 818, 403, 250, 192, 308, 403, 437, 307, 188, 295, 282, 504, 406, 239, 296, 261, 979, 200, 459, 382, 267, 189, 320, 325, 168, 210, 298, 252, 417, 250, 250, 189, 953, 587, 398, 243, 224, 218, 305, 337, 197, 458, 353, 188, 519, 241, 133, 313, 243, 269, 401, 170, 453, 246, 170, 208, 217, 369, 380, 306, 523, 308, 306, 157, 269, 301, 449, 749, 209, 237, 277, 289, 280, 222, 326, 301, 349, 165, 263, 472, 222, 272, 335, 198, 548, 248, 506, 321, 373, 192, 291, 349, 267, 226, 242, 260, 179, 539, 220, 288, 259, 348, 309, 382, 356, 236, 214, 249, 187, 179, 205, 244, 218, 292, 364, 330, 323, 261, 219, 193, 445, 243, 263, 1060, 273, 239, 399, 187, 242, 210, 222, 193, 344, 209, 291, 204, 306, 221, 195, 257, 234, 514, 267, 216, 315, 247, 276, 261, 179, 275, 247, 419, 250, 358, 338, 229, 290, 279, 282, 197, 230, 361, 182, 333, 204, 303, 273, 422, 186, 168, 221, 207, 353, 184, 191, 209, 228, 218, 239, 230, 200, 456, 369, 329, 246, 259, 276, 278, 217, 204, 172, 240, 192, 195, 221, 274, 190, 221, 280, 318, 179, 194, 261, 187, 184, 447, 270, 285, 179, 232, 286, 219, 275, 280, 243, 336, 435, 369, 396, 267, 332, 302, 386, 392, 280, 326, 243, 329, 289, 260, 373, 286, 283, 243, 275, 269, 226, 340, 382, 376, 514, 257, 242, 199, 301, 206, 210, 362, 387, 278, 250, 313, 293, 294, 298, 342, 335, 1263, 1365, 324, 260, 510, 568, 345, 174, 230, 219, 206, 190, 290, 185, 234, 222, 204, 213, 208, 210, 245, 359, 219, 223, 499, 219, 328, 205, 228, 211, 249, 410, 171, 252, 236, 232, 255, 265, 206, 234, 298, 332, 347, 191, 207, 264, 298, 287, 1515, 1324, 1205, 414, 269, 270, 283, 285, 568, 219, 645, 430, 472, 249, 318, 480, 294, 204, 220, 241, 194, 194, 246, 328, 257, 222, 207, 305, 266, 190, 291, 258, 217, 228, 229, 241, 181, 197, 137, 224, 263, 199, 216, 230, 299, 244, 214, 357, 308, 390, 304, 363, 582, 389, 254, 230, 276, 290, 306, 225, 253, 256, 242, 295, 380, 382, 368, 305, 1052, 269, 337, 303, 316, 373, 202, 817, 470, 345, 299, 298, 391, 449, 298, 174, 300, 311, 201, 249, 669, 257, 317, 243, 251, 301, 234, 176, 240, 259, 346, 361, 421, 326, 449, 731, 1218, 547, 225, 753, 597, 1074, 1036, 945, 918, 948, 924, 469, 360, 455, 471, 356, 266, 556, 281, 197, 282, 204, 239, 635, 803, 290, 577, 366, 320, 194, 237, 298, 844, 745, 819, 731, 788, 234, 235, 323, 458, 291, 286, 292, 311, 256, 447, 345, 444, 271, 271, 231, 343, 399, 542, 335, 437, 342, 375, 391, 387, 665, 807, 454, 651, 139, 181, 250, 443, 333, 288, 452, 345, 241, 212, 226, 347, 855, 292, 378, 212, 257, 318, 286, 223, 314, 239, 181, 192, 517, 409, 830, 200, 239, 385, 186, 228, 215, 290, 370, 395, 180, 1013, 226, 427, 308, 188, 269, 286, 352, 376, 196, 276, 165, 339, 386, 266, 166, 530, 337, 269, 447, 537, 307, 228, 294, 249, 369, 460, 185, 446, 225, 224, 255, 259, 178, 363, 326, 464, 376, 240, 299, 241, 221, 357, 301, 354, 357, 215, 244, 274, 253, 226, 175, 252, 426, 462, 231, 269, 192, 415, 216, 217, 330, 258, 247, 186, 363, 238, 239, 182, 556, 598, 361, 575, 201, 243, 328, 265, 226, 255, 252, 221, 184, 263, 272, 279, 415, 531, 215, 212, 163, 295, 479, 162, 212, 240, 341, 568, 284, 183, 403, 569, 232, 273, 326, 226, 169, 225, 226, 227, 916, 312, 385, 277, 361, 240, 249, 206, 276, 343, 1063, 216, 197, 265, 218, 360, 183, 324, 184, 275, 221, 323, 195, 297, 256, 244, 291, 456, 242, 452, 216, 300, 169, 400, 265, 181, 300, 392, 332, 278, 284, 429, 183, 243, 340, 274, 375, 458, 313, 377, 296, 315, 322, 278, 315, 265, 176, 289, 385, 532, 293, 271, 282, 520, 190, 244, 287, 270, 279, 253, 264, 329, 208, 202, 255, 174, 319, 341, 239, 232, 509, 240, 235, 281, 315, 288, 270, 297, 277, 436, 361, 310, 524, 282, 226, 235, 274, 250, 262, 213, 232, 209, 223, 246, 232, 344, 343, 328, 436, 481, 181, 488, 172, 235, 477, 251, 330, 299, 303, 896, 241, 285, 230, 230, 311, 238, 267, 277, 309, 345, 246, 261, 229, 332, 309, 267, 257, 282, 236, 257, 216, 450, 281, 450, 312, 318, 214, 321, 408, 311, 281, 296, 254, 523, 241, 444, 229, 271, 330, 256, 263, 264, 289, 206, 238, 163, 228, 246, 313, 424, 347, 392, 420, 397, 355, 240, 371, 287, 853, 284, 291, 276, 303, 316, 346, 266, 272, 249, 241, 417, 242, 344, 366, 181, 240, 205, 462, 294, 366, 327, 352, 343, 392, 465, 214, 226, 241, 313, 307, 446, 364, 487, 293, 455, 444, 205, 341, 395, 187, 250, 239, 634, 374, 433, 368, 261, 293, 401, 257, 420, 337, 339, 345, 468, 248, 251, 301, 192, 244, 240, 283, 236, 307, 296, 308, 309, 229, 221, 348, 409, 518, 176, 320, 705, 420, 276, 231, 205, 211, 258, 235, 208, 244, 284, 465, 389, 237, 301, 366, 214, 211, 198, 282, 289, 202, 250, 187, 219, 325, 293, 274, 294, 209, 220, 281, 201, 282, 372, 224, 255, 245, 346, 295, 267, 249, 231, 195, 298, 361, 315, 222, 184, 179, 228, 282, 220, 197, 385, 613, 320, 197, 191, 229, 193, 207, 225, 344, 436, 217, 329, 222, 385, 289, 328, 413, 258, 237, 213, 344, 274, 300, 258, 184, 205, 222, 427, 303, 889, 316, 260, 444, 291, 290, 281, 196, 261, 843, 262, 248, 225, 418, 236, 257, 258, 240, 251, 241, 293, 225, 212, 279, 267, 328, 255, 185, 250, 280, 302, 274, 196, 295, 196, 177, 241, 167, 167, 290, 292, 165, 306, 166, 166, 167, 167, 324, 524, 248, 504, 583, 270, 359, 335, 305, 151, 288, 276, 287, 250, 250, 294, 281, 335, 317, 321, 347, 326, 336, 329, 373, 312, 182, 234, 350, 205, 242, 281, 336, 266, 289, 251, 326, 282, 329, 338, 349, 320, 247, 312, 328, 337, 371, 335, 287, 310, 311, 382, 348, 334, 349, 344, 372, 345, 392, 261, 209, 329, 338, 315, 332, 312, 268, 221, 199, 250, 228, 264, 324, 269, 253, 273, 240, 346, 233, 283, 278, 290, 378, 332, 358, 335, 333, 245, 281, 215, 319, 407, 483, 334, 231, 247, 405, 262, 318, 269, 260, 407, 306, 511, 621, 344, 348, 241, 395, 560, 278, 120, 345, 617, 293, 289, 301, 216, 388, 297, 348, 247, 275, 226, 310, 357, 943, 235, 233, 668, 196, 339, 210, 348, 307, 270, 306, 201, 229, 211, 253, 323, 215, 265, 220, 476, 358, 304, 356, 298, 274, 268, 210, 291, 236, 272, 274, 258, 223, 217, 715, 184, 344, 226, 181, 319, 298, 281, 245, 377, 203, 294, 194, 313, 184, 216, 259, 377, 252, 251, 566, 214, 722, 387, 727, 702, 582, 698, 701, 767, 329, 350, 565, 296, 321, 569, 706, 733, 790, 820, 737, 701, 512, 555, 493, 547, 571, 565, 505, 483, 574, 511, 483, 499, 705, 660, 783, 710, 757, 781, 633, 554, 605, 658, 658, 412, 329, 219, 449, 341, 464, 509, 524, 476, 542, 554, 521, 536, 534, 502, 499, 534, 562, 530, 526, 476, 468, 583, 518, 576, 346, 373, 377, 553, 260, 484, 348, 444, 491, 524, 506, 468, 464, 501, 524, 184, 549, 517, 465, 486, 538, 278, 501, 456, 430, 542, 502, 551, 439, 597, 464, 530, 523, 527, 454, 464, 406, 541, 514, 452, 520, 469, 298, 359, 239, 654, 633, 617, 589, 645, 613, 597, 632, 643, 623, 560, 364, 472, 302, 460, 457, 331, 300, 461, 417, 591, 611, 595, 600, 620, 690, 655, 650, 630, 676, 581, 695, 566, 625, 639, 641, 547, 632, 593, 615, 666, 522, 440, 342, 449, 408, 568, 572, 280, 564, 288, 467, 427, 415, 545, 445, 516, 386, 475, 329, 645, 587, 653, 616, 593, 559, 586, 614, 610, 252, 618, 628, 558, 640, 625, 591, 610, 449, 513, 452, 468, 425, 408, 478, 460, 394, 473, 425, 451, 463, 400, 461, 448, 432, 435, 423, 452, 433, 524, 564, 434, 467, 508, 540, 552, 461, 336, 498, 428, 443, 419, 429, 416, 540, 457, 521, 633, 486, 470, 408, 450, 488, 462, 489, 471, 432, 424, 425, 454, 462, 407, 495, 474, 465, 718, 533, 694, 464, 446, 423, 451, 450, 595, 478, 471, 419, 441, 467, 435, 413, 416, 435, 434, 456, 280, 957, 319, 634, 472, 227, 435, 355, 240, 196, 482, 477, 444, 437, 457, 291, 405, 450, 451, 458, 455, 313, 305, 427, 554, 428, 670, 318, 230, 327, 418, 747, 330, 248, 201, 342, 211, 803, 699, 402, 752, 312, 226, 250, 243, 256, 408, 235, 207, 328, 824, 389, 458, 241, 270, 874, 993, 913, 254, 273, 328, 691, 892, 480, 589, 401, 625, 635, 923, 947, 872, 564, 525, 611, 407, 560, 299, 947, 934, 354, 348, 906, 799, 858, 1043, 463, 515, 270, 222, 651, 672, 808, 672, 320, 297, 459, 425, 306, 361, 768, 422, 672, 282, 674, 677, 319, 342, 347, 335, 484, 278, 413, 291, 189, 343, 260, 430, 273, 394, 281, 210, 402, 739, 620, 313, 354, 299, 212, 259, 205, 637, 504, 673, 463, 549, 603, 607, 245, 834, 284, 481, 344, 183, 341, 217, 521, 276, 608, 237, 282, 369, 287, 291, 253, 240, 322, 250, 282, 306, 609, 219, 619, 331, 643, 609, 513, 350, 231, 307, 596, 367, 655, 435, 165, 367, 594, 643, 635, 282, 226, 615, 624, 555, 474, 631, 625, 582, 178, 402, 605, 678, 262, 166, 528, 536, 231, 593, 596, 383, 503, 351, 610, 599, 481, 540, 499, 621, 623, 572, 606, 604, 587, 491, 525, 512, 577, 544, 483, 596, 622, 363, 635, 551, 343, 317, 645, 400, 230, 211, 350, 513, 582, 727, 231, 622, 434, 633, 574, 277, 348, 356, 519, 618, 600, 731, 367, 624, 612, 648, 253, 719, 596, 593, 518, 575, 620, 233, 340, 388, 805, 334, 388, 343, 176, 186, 437, 379, 392, 474, 326, 877, 227, 252, 628, 244, 274, 260, 234, 386, 309, 351, 343, 277, 295, 349, 422, 197, 223, 367, 276, 389, 296, 263, 275, 230, 371, 343, 902, 189, 253, 427, 333, 288, 277, 248, 214, 292, 170, 351, 325, 209, 315, 322, 351, 245, 218, 301, 331, 399, 196, 201, 324, 227, 283, 473, 314, 394, 334, 434, 241, 278, 231, 318, 249, 226, 287, 173, 365, 297, 339, 430, 369, 529, 398, 198, 260, 533, 504, 405, 310, 298, 256, 229, 263, 351, 225, 256, 192, 300, 195, 303, 510, 850, 416, 459, 382, 218, 227, 413, 374, 407, 424, 254, 297, 250, 241, 348, 232, 693, 730, 437, 324, 209, 362, 404, 276, 384, 274, 309, 394, 347, 490, 332, 446, 1027, 514, 471, 377, 294, 316, 348, 337, 250, 313, 285, 550, 283, 293, 323, 295, 266, 236, 262, 368, 320, 481, 319, 225, 238, 276, 305, 410, 569, 253, 336, 309, 322, 432, 229, 424, 206, 430, 279, 208, 539, 498, 387, 230, 243, 253, 314, 316, 226, 241, 216, 404, 681, 773, 671, 495, 322, 237, 286, 458, 338, 275, 191, 215, 235, 193, 318, 256, 435, 389, 319, 731, 215, 285, 342, 332, 249, 432, 313, 289, 197, 261, 212, 353, 479, 265, 253, 347, 313, 239, 320, 263, 680, 468, 590, 250, 353, 197, 275, 331, 258, 341, 254, 332, 364, 196, 296, 364, 341, 400, 281, 358, 355, 250, 306, 352, 207, 265, 281, 350, 254, 312, 257, 263, 342, 448, 200, 413, 235, 396, 503, 483, 519, 580, 406, 1002, 652, 605, 444, 497, 400, 487, 1043, 419, 207, 292, 211, 264, 760, 180, 782, 732, 338, 669, 385, 702, 315, 161, 287, 332, 698, 320, 877, 269, 278, 359, 269, 205, 225, 215, 422, 590, 288, 239, 739, 415, 395, 279, 191, 334, 375, 387, 404, 390, 316, 236, 412, 328, 399, 201, 475, 244, 182, 591, 200, 293, 238, 575, 713, 312, 414, 317, 367, 239, 385, 316, 1090, 648, 523, 486, 263, 539, 522, 553, 721, 392, 398, 383, 176, 206, 242, 942, 419, 359, 280, 1039, 341, 425, 373, 228, 394, 418, 433, 390, 229, 434, 268, 344, 439, 509, 237, 231, 384, 181, 277, 238, 255, 413, 324, 493, 353, 313, 414, 857, 613, 280, 341, 271, 214, 460, 405, 213, 661, 194, 463, 344, 330, 593, 228, 246, 226, 382, 224, 322, 827, 307, 400, 277, 395, 235, 244, 283, 442, 391, 605, 207, 192, 314, 202, 391, 232, 224, 307, 308, 406, 381, 183, 272, 156, 463, 228, 287, 306, 185, 308, 466, 299, 216, 306, 218, 270, 280, 369, 178, 301, 477, 185, 328, 325, 235, 340, 272, 276, 257, 314, 214, 194, 210, 306, 202, 277, 218, 300, 919, 216, 162, 1216, 373, 224, 243, 377, 314, 373, 307, 336, 392, 325, 302, 214, 298, 209, 517, 385, 277, 311, 485, 234, 1216, 617, 582, 309, 231, 292, 254, 298, 259, 200, 289, 276, 459, 224, 209, 339, 273, 373, 269, 376, 190, 172, 186, 444, 426, 256, 188, 318, 373, 270, 363, 305, 339, 295, 271, 299, 214, 245, 293, 348, 227, 354, 261, 115, 194, 211, 367, 591, 374, 465, 390, 580, 612, 846, 444, 293, 511, 305, 322, 240, 275, 432, 323, 345, 424, 386, 356, 532, 337, 197, 227, 306, 259, 262, 303, 334, 255, 498, 348, 325, 221, 197, 308, 184, 227, 279, 360, 296, 200, 244, 203, 600, 310, 256, 326, 202, 487, 445, 617, 188, 482, 533, 270, 364, 482, 317, 421, 370, 447, 423, 524, 661, 196, 542, 445, 544, 746, 470, 400, 1045, 436, 551, 287, 359, 268, 555, 236, 178, 168, 415, 466, 530, 527, 544, 296, 221, 487, 449, 672, 334, 255, 251, 469, 963, 351, 490, 204, 247, 231, 255, 325, 377, 233, 242, 192, 548, 424, 415, 484, 787, 497, 972, 529, 482, 481, 177, 489, 489, 408, 259, 275, 425, 253, 244, 174, 196, 580, 586, 499, 233, 727, 518, 311, 228, 237, 213, 543, 398, 550, 649, 312, 408, 450, 432, 249, 427, 375, 195, 263, 882, 366, 779, 603, 230, 499, 430, 474, 523, 270, 308, 460, 359, 340, 238, 320, 438, 444, 590, 645, 462, 557, 582, 346, 303, 521, 528, 315, 472, 499, 197, 222, 528, 518, 571, 422, 554, 466, 206, 203, 387, 441, 325, 249, 271, 632, 293, 526, 516, 484, 201, 416, 368, 353, 265, 332, 365, 602, 578, 806, 377, 498, 420, 508, 424, 125, 339, 523, 355, 364, 315, 415, 541, 528, 394, 420, 578, 387, 403, 266, 208, 237, 299, 187, 297, 376, 358, 198, 326, 361, 398, 377, 188, 453, 378, 272, 497, 448, 312, 398, 329, 360, 225, 247, 234, 299, 258, 324, 460, 416, 199, 227, 247, 298, 213, 262, 315, 317, 261, 290, 316, 394, 379, 290, 357, 316, 321, 311, 322, 203, 303, 244, 223, 371, 607, 270, 230, 324, 301, 310, 234, 263, 206, 250, 258, 439, 150, 171, 209, 332, 373, 175, 248, 399, 938, 229, 363, 290, 186, 393, 151, 279, 265, 203, 202, 293, 232, 805, 301, 189, 243, 154, 323, 373, 197, 242, 420, 390, 250, 252, 1124, 485, 183, 335, 502, 270, 170, 296, 420, 375, 391, 230, 410, 307, 194, 628, 267, 411, 386, 455, 280, 713, 307, 240, 306, 265, 924, 297, 221, 197, 336, 484, 818, 298, 310, 716, 216, 677, 368, 390, 211, 303, 217, 172, 221, 385, 424, 336, 280, 340, 286, 418, 337, 355, 647, 322, 201, 315, 367, 293, 204, 329, 249, 285, 282, 432, 310, 193, 556, 314, 366, 282, 210, 338, 374, 216, 315, 469, 306, 310, 360, 469, 377, 544, 504, 424, 636, 195, 203, 440, 673, 438, 228, 159, 253, 286, 235, 177, 184, 306, 514, 324, 324, 339, 323, 121, 307, 314, 323, 320, 348, 301, 391, 340, 206, 176, 181, 177, 396, 172, 191, 211, 192, 323, 367, 190, 281, 413, 340, 340, 250, 187, 354, 288, 200, 437, 471, 349, 547, 332, 297, 334, 303, 330, 355, 850, 307, 310, 320, 383, 312, 349, 794, 340, 314, 377, 425, 528, 424, 423, 289, 316, 371, 698, 347, 357, 354, 265, 372, 923, 576, 497, 334, 212, 456, 248, 601, 548, 405, 279, 353, 333, 373, 735, 352, 200, 828, 807, 717, 732, 758, 682, 695, 1003, 1041, 218, 667, 657, 706, 365, 329, 243, 321, 245, 326, 460, 345, 169, 334, 188, 369, 285, 344, 313, 255, 255, 172, 187, 263, 352, 357, 334, 440, 351, 435, 373, 413, 770, 295, 516, 256, 521, 501, 431, 288, 354, 533, 505, 542, 601, 552, 515, 302, 372, 279, 332, 316, 475, 514, 302, 384, 440, 544, 555, 302, 507, 343, 212, 507, 546, 541, 517, 514, 580, 249, 280, 305, 510, 530, 543, 524, 540, 563, 214, 260, 194, 569, 541, 442, 257, 501, 501, 577, 429, 509, 240, 227, 392, 177, 323, 372, 252, 549, 376, 280, 458, 532, 568, 559, 500, 1196, 234, 208, 501, 202, 246, 185, 1089, 361, 237, 276, 565, 546, 536, 553, 524, 547, 547, 488, 548, 566, 530, 369, 287, 1039, 525, 564, 275, 320, 316, 282, 213, 321, 247, 332, 712, 316, 696, 266, 300, 210, 315, 421, 317, 267, 255, 353, 330, 416, 302, 196, 224, 379, 182, 209, 224, 348, 339, 203, 238, 247, 192, 356, 406, 374, 215, 373, 320, 272, 207, 171, 226, 214, 271, 314, 292, 208, 618, 244, 356, 207, 184, 230, 186, 270, 238, 425, 212, 426, 437, 236, 480, 425, 383, 378, 202, 342, 272, 258, 183, 515, 214, 260, 226, 263, 336, 222, 193, 237, 344, 320, 455, 296, 205, 202, 285, 298, 544, 276, 428, 514, 525, 343, 321, 388, 622, 338, 306, 265, 344, 292, 252, 230, 187, 187, 211, 280, 242, 187, 198, 203, 228, 403, 624, 263, 364, 406, 309, 204, 280, 306, 219, 183, 316, 247, 211, 298, 318, 312, 338, 409, 200, 218, 236, 598, 283, 306, 239, 315, 1077, 286, 314, 264, 224, 606, 186, 186, 186, 187, 186, 207, 253, 215, 199, 250, 353, 186, 327, 186, 187, 187, 187, 187, 460, 243, 208, 580, 202, 403, 196, 403, 223, 501, 354, 193, 306, 197, 451, 1000, 290, 263, 214, 201, 169, 350, 947, 221, 229, 246, 167, 167, 167, 192, 219, 261, 214, 167, 211, 167, 167, 167, 167, 167, 167, 167, 167, 167, 167, 167, 167, 184, 184, 184, 184, 184, 265, 234, 213, 212, 202, 172, 357, 250, 237, 307, 204, 195, 284, 167, 218, 167, 369, 279, 294, 375, 615, 348, 340, 334, 167, 167, 242, 850, 276, 290, 281, 554, 400, 473, 362, 216, 167, 167, 400, 167, 368, 472, 286, 167, 167, 167, 167, 535, 212, 393, 449, 341, 273, 494, 444, 212, 379, 184, 167, 184, 167, 208, 594, 167, 167, 184, 259, 822, 432, 184, 184, 184, 278, 232, 454, 534, 188, 521, 206, 188, 188, 188, 488, 184, 184, 184, 184, 218, 274, 167, 167, 167, 167, 186, 186, 186, 186, 186, 167, 167, 167, 167, 167, 205, 167, 168, 168, 168, 168, 168, 168, 168, 168, 186, 191, 191, 186, 191, 191, 185, 185, 185, 185, 200, 200, 185, 200, 193, 193, 193, 189, 189, 189, 189, 167, 445, 225, 202, 206, 202, 206, 167, 167, 167, 167, 167, 167, 167, 167, 167, 167, 167, 167, 167, 167, 167, 174, 174, 164, 164, 164, 164, 167, 167, 167, 167, 182, 182, 182, 182, 185, 185, 185, 185, 185, 185, 185, 193, 192, 192, 192, 192, 167, 167, 167, 177, 177, 177, 177, 167, 167, 167, 167, 167, 167, 167, 167, 167, 167, 167, 167, 167, 167, 167, 167, 167, 167, 167, 167, 167, 167, 167, 167, 167, 167, 167, 167, 167, 190, 190, 226, 226, 229, 230, 164, 164, 164, 167, 167, 167, 167, 164, 164, 164, 164, 164, 193, 193, 167, 193, 167, 167, 167, 176, 167, 190, 190, 190, 190, 164, 167, 167, 167, 167, 167, 167, 167, 167, 167, 167, 194, 194, 194, 194, 194, 194, 191, 191, 167, 167, 167, 167, 200, 200, 189, 189, 189, 189, 189, 192, 192, 192, 192, 191, 191, 191, 191, 200, 200, 219, 219, 218, 197, 197, 218, 199, 196, 176, 176, 176, 176, 189, 189, 189, 189, 189, 189, 189, 189, 185, 192, 192, 192, 192, 192, 192, 192, 167, 167, 167, 167, 167, 167, 167, 167, 167, 167, 167, 167, 167, 167, 167, 422, 320, 167, 185, 185, 185, 185, 185, 185, 185, 185, 185, 185, 185, 185, 185, 325, 283, 226, 364, 225, 321, 185, 185, 185, 185, 185, 185, 192, 192, 192, 207, 207, 207, 207, 198, 198, 198, 198, 185, 185, 289, 185, 185, 185, 185, 258, 323, 194, 415, 250, 373, 192, 192, 192, 302, 304, 408, 284, 331, 185, 185, 185, 185, 185, 361, 185, 276, 185, 362, 365, 236, 225, 276, 232, 365, 375, 416, 257, 231, 387, 355, 875, 310, 303, 686, 221, 501, 308, 336, 608, 144, 211, 864, 343, 342, 286, 298, 547, 500, 261, 379, 399, 194, 358, 187, 238, 278, 421, 510, 396, 241, 280, 192, 192, 192, 276, 166, 192, 166, 166, 166, 166, 166, 192, 235, 395, 222, 257, 343, 177, 527, 302, 572, 167, 167, 167, 167, 167, 202, 218, 217, 217, 320, 186, 207, 247, 167, 167, 167, 167, 167, 185, 185, 201, 205, 204, 211, 211, 167, 167, 167, 167, 167, 167, 167, 167, 184, 184, 193, 193, 193, 193, 193, 193, 185, 185, 185, 185, 186, 186, 167, 184, 184, 252, 184, 184, 184, 184, 184, 184, 407, 412, 540, 646, 167, 280, 460, 167, 328, 167, 167, 312, 270, 186, 186, 186, 186, 186, 189, 189, 186, 186, 186, 186, 186, 186, 186, 186, 186, 186, 186, 186, 186, 186, 186, 186, 189, 189, 289, 380, 369, 411, 189, 189, 569, 500, 205, 230, 235, 174, 155, 251, 212, 287, 164, 164, 164, 164, 164, 164, 169, 169, 169, 169, 174, 236, 174, 174, 332, 249, 186, 186, 186, 186, 186, 186, 186, 186, 186, 186, 186, 186, 228, 186, 186, 186, 186, 186, 186, 186, 259, 460, 253, 392, 186, 286, 186, 186, 186, 186, 193, 186, 186, 186, 186, 186, 186, 186, 186, 244, 244, 243, 243, 198, 198, 198, 198, 174, 194, 199, 223, 191, 280, 396, 225, 264, 201, 730, 358, 198, 210, 198, 198, 199, 198, 188, 188, 188, 188, 194, 194, 194, 205, 205, 233, 213, 189, 189, 410, 266, 288, 599, 275, 186, 279, 217, 425, 252, 239, 178, 182, 379, 422, 334, 1062, 1063, 242, 459, 303, 394, 369, 358, 299, 236, 176, 325, 486, 388, 219, 496, 341, 690, 294, 444, 1118, 203, 249, 273, 321, 274, 392, 444, 406, 291, 244, 384, 305, 247, 236, 282, 176, 239, 224, 238, 248, 232, 191, 242, 208, 689, 256, 252, 283, 166, 377, 260, 367, 627, 316, 211, 343, 439, 283, 236, 340, 255, 282, 400, 236, 405, 303, 286, 393, 234, 220, 153, 225, 168, 182, 340, 201, 577, 310, 262, 471, 554, 321, 237, 460, 501, 293, 300, 517, 360, 601, 378, 462, 533, 334, 419, 541, 357, 540, 490, 451, 382, 504, 693, 506, 438, 364, 377, 240, 334, 407, 356, 564, 242, 531, 449, 543, 320, 230, 488, 317, 194, 420, 675, 364, 393, 526, 296, 504, 218, 1057, 317, 598, 297, 160, 399, 191, 572, 236, 319, 190, 272, 482, 308, 383, 305, 251, 388, 316, 279, 219, 227, 222, 196, 190, 375, 386, 290, 509, 198, 256, 246, 245, 301, 325, 541, 230, 315, 200, 352, 293, 276, 282, 979, 263, 378, 190, 255, 276, 274, 212, 249, 134, 762, 272, 254, 422, 209, 1035, 329, 239, 315, 220, 224, 293, 243, 263, 613, 287, 498, 410, 319, 227, 255, 259, 238, 244, 207, 361, 273, 314, 287, 299, 237, 279, 286, 240, 399, 162, 285, 437, 363, 244, 280, 211, 209, 285, 241, 367, 691, 226, 481, 308, 295, 232, 299, 343, 193, 234, 265, 206, 205, 329, 188, 211, 160, 275, 450, 388, 218, 185, 254, 308, 241, 252, 309, 218, 383, 356, 274, 317, 245, 286, 233, 194, 299, 228, 546, 171, 228, 253, 239, 327, 187, 265, 311, 235, 274, 252, 237, 342, 391, 236, 279, 213, 317, 283, 275, 224, 224, 228, 270, 274, 447, 257, 185, 243, 381, 242, 294, 183, 1041, 206, 230, 241, 204, 287, 529, 224, 329, 519, 194, 192, 197, 233, 244, 187, 205, 195, 259, 261, 327, 420, 353, 314, 426, 331, 190, 314, 323, 246, 250, 284, 363, 186, 309, 174, 166, 252, 263, 236, 400, 453, 225, 211, 234, 219, 192, 306, 225, 332, 323, 223, 191, 253, 169, 243, 195, 609, 367, 231, 211, 208, 221, 307, 192, 533, 630, 263, 319, 939, 543, 388, 215, 504, 453, 325, 232, 218, 245, 493, 368, 465, 543, 282, 301, 355, 285, 358, 235, 367, 344, 230, 323, 208, 286, 316, 276, 334, 298, 704, 817, 690, 784, 636, 712, 760, 682, 693, 761, 279, 382, 335, 297, 415, 401, 503, 460, 436, 481, 471, 485, 485, 462, 497, 485, 436, 450, 844, 725, 739, 737, 759, 627, 685, 696, 720, 733, 700, 715, 767, 657, 599, 445, 611, 483, 204, 256, 213, 419, 345, 656, 740, 670, 676, 326, 255, 397, 497, 407, 236, 572, 389, 286, 431, 385, 218, 392, 286, 406, 381, 399, 558, 420, 377, 505, 576, 480, 485, 497, 508, 508, 501, 534, 535, 592, 548, 544, 382, 420, 468, 509, 541, 509, 397, 522, 541, 526, 528, 545, 479, 486, 540, 524, 518, 523, 547, 484, 438, 576, 522, 481, 522, 533, 517, 506, 513, 487, 554, 705, 530, 508, 504, 201, 338, 349, 179, 329, 173, 377, 187, 426, 298, 343, 273, 256, 312, 283, 404, 260, 283, 205, 567, 599, 536, 270, 243, 282, 481, 244, 205, 180, 367, 248, 373, 421, 251, 173, 380, 330, 428, 374, 458, 195, 232, 275, 291, 339, 353, 331, 315, 310, 399, 252, 291, 352, 204, 354, 333, 325, 380, 334, 384, 404, 435, 302, 383, 259, 322, 267, 442, 579, 290, 395, 323, 252, 368, 340, 266, 294, 568, 372, 546, 335, 369, 551, 434, 481, 484, 549, 562, 407, 289, 366, 437, 374, 429, 386, 249, 239, 369, 333, 275, 321, 353, 410, 369, 330, 313, 258, 410, 467, 458, 587, 442, 553, 436, 562, 476, 541, 523, 460, 204, 466, 203, 255, 308, 348, 302, 422, 322, 328, 493, 514, 849, 550, 635, 564, 530, 443, 514, 290, 350, 426, 442, 484]\n"
          ]
        }
      ]
    },
    {
      "cell_type": "code",
      "metadata": {
        "colab": {
          "base_uri": "https://localhost:8080/"
        },
        "id": "aihCrM5tD5ww",
        "outputId": "ec9535a6-f874-4c59-cfff-7a4bf7a08a3c"
      },
      "source": [
        "pip install sentencepiece"
      ],
      "execution_count": null,
      "outputs": [
        {
          "output_type": "stream",
          "name": "stdout",
          "text": [
            "Requirement already satisfied: sentencepiece in /usr/local/lib/python3.7/dist-packages (0.1.96)\n"
          ]
        }
      ]
    },
    {
      "cell_type": "code",
      "metadata": {
        "colab": {
          "base_uri": "https://localhost:8080/"
        },
        "id": "J_H3OhauD8QH",
        "outputId": "cf983823-faf3-4b2a-e610-3dae80d8206f"
      },
      "source": [
        "pip install transformers"
      ],
      "execution_count": null,
      "outputs": [
        {
          "output_type": "stream",
          "name": "stdout",
          "text": [
            "Requirement already satisfied: transformers in /usr/local/lib/python3.7/dist-packages (4.10.0)\n",
            "Requirement already satisfied: packaging in /usr/local/lib/python3.7/dist-packages (from transformers) (21.0)\n",
            "Requirement already satisfied: tqdm>=4.27 in /usr/local/lib/python3.7/dist-packages (from transformers) (4.62.0)\n",
            "Requirement already satisfied: huggingface-hub>=0.0.12 in /usr/local/lib/python3.7/dist-packages (from transformers) (0.0.16)\n",
            "Requirement already satisfied: sacremoses in /usr/local/lib/python3.7/dist-packages (from transformers) (0.0.45)\n",
            "Requirement already satisfied: numpy>=1.17 in /usr/local/lib/python3.7/dist-packages (from transformers) (1.19.5)\n",
            "Requirement already satisfied: requests in /usr/local/lib/python3.7/dist-packages (from transformers) (2.23.0)\n",
            "Requirement already satisfied: filelock in /usr/local/lib/python3.7/dist-packages (from transformers) (3.0.12)\n",
            "Requirement already satisfied: regex!=2019.12.17 in /usr/local/lib/python3.7/dist-packages (from transformers) (2019.12.20)\n",
            "Requirement already satisfied: tokenizers<0.11,>=0.10.1 in /usr/local/lib/python3.7/dist-packages (from transformers) (0.10.3)\n",
            "Requirement already satisfied: importlib-metadata in /usr/local/lib/python3.7/dist-packages (from transformers) (4.6.4)\n",
            "Requirement already satisfied: pyyaml>=5.1 in /usr/local/lib/python3.7/dist-packages (from transformers) (5.4.1)\n",
            "Requirement already satisfied: typing-extensions in /usr/local/lib/python3.7/dist-packages (from huggingface-hub>=0.0.12->transformers) (3.7.4.3)\n",
            "Requirement already satisfied: pyparsing>=2.0.2 in /usr/local/lib/python3.7/dist-packages (from packaging->transformers) (2.4.7)\n",
            "Requirement already satisfied: zipp>=0.5 in /usr/local/lib/python3.7/dist-packages (from importlib-metadata->transformers) (3.5.0)\n",
            "Requirement already satisfied: idna<3,>=2.5 in /usr/local/lib/python3.7/dist-packages (from requests->transformers) (2.10)\n",
            "Requirement already satisfied: urllib3!=1.25.0,!=1.25.1,<1.26,>=1.21.1 in /usr/local/lib/python3.7/dist-packages (from requests->transformers) (1.24.3)\n",
            "Requirement already satisfied: chardet<4,>=3.0.2 in /usr/local/lib/python3.7/dist-packages (from requests->transformers) (3.0.4)\n",
            "Requirement already satisfied: certifi>=2017.4.17 in /usr/local/lib/python3.7/dist-packages (from requests->transformers) (2021.5.30)\n",
            "Requirement already satisfied: click in /usr/local/lib/python3.7/dist-packages (from sacremoses->transformers) (7.1.2)\n",
            "Requirement already satisfied: joblib in /usr/local/lib/python3.7/dist-packages (from sacremoses->transformers) (1.0.1)\n",
            "Requirement already satisfied: six in /usr/local/lib/python3.7/dist-packages (from sacremoses->transformers) (1.15.0)\n"
          ]
        }
      ]
    },
    {
      "cell_type": "code",
      "metadata": {
        "colab": {
          "base_uri": "https://localhost:8080/",
          "height": 368,
          "referenced_widgets": [
            "0d451a37eb064e7ab28b9d7482553cec",
            "26557a2e4bd34577a3882658898891b4",
            "3a9f9181eb564b208063e51a2fd8b6a8",
            "e8bc78f74d0c4d9d93d00f316ed51bcc",
            "a6ea067fe1a041fdb6ee643618efa7d0",
            "b0c22d1f06c240a5965bc3faa4d9a03d",
            "2be72c5bc8054e9d9db4e9b81b49a4f5",
            "2976fa67f6a145d1956468f991b427a6",
            "25ab659fb4cd45f5bbd37025b184c5db",
            "c0322178cade438f92bfd6985640553a",
            "3ec1fbe8273c4fa1b295465e16ae33a0",
            "94910b7501a6466d9ad688b6161faae0",
            "e7633276ba5f41a3b3965a3198232529",
            "95f5b696623f4cfb896ee0e211e42863",
            "8f1b740249f04b32b4a70a7429ca0817",
            "a850d9425f234825864422df58c98aca",
            "e8aa6ef7fb5d4ac39fac2dbee33beb35",
            "2fd021485b7448cbb0426565e4b6f3d3",
            "801d538fd91f4884b4c8ff72fbd84645",
            "c855ca97cb2a4db999d3247f78792d85",
            "22399f94d8f64189bf32312b5d1206b4",
            "1b1406740dca4ebda4ec0b2cc5630dbf",
            "cdb50c16bf9f494bb2cf2682766b41f0",
            "25ed752117764c738083e9243844be2f",
            "6f7afbaa2e3e4cfd819ca2ae1734b84f",
            "e31f99e1b1c7412cafa7a74db099800d",
            "8db8964667b5441e826fe52599cf032a",
            "b3875457b10a45db84a533811a1776c5",
            "c4bcf848f3bd403e93466862b26683ee",
            "9d336a9ea67d4165a8deaa04e0dce9bb",
            "146c1e42c85848c0986f2e3b078472ea",
            "b8a0094d05f84f9cafedf96faf31dc69",
            "349b9ef533404b42a6b8e3fb1f0d28cc"
          ]
        },
        "id": "SqsISFC8D-15",
        "outputId": "80f94d3a-88df-444c-819e-d24076530f5e"
      },
      "source": [
        "from transformers import XLNetTokenizer\n",
        "tokenizer = XLNetTokenizer.from_pretrained(\"xlnet-base-cased\")\n",
        "tokenizer.tokenize(\"Don't you love 🤗 Transformers? We sure do.\")"
      ],
      "execution_count": null,
      "outputs": [
        {
          "output_type": "display_data",
          "data": {
            "application/vnd.jupyter.widget-view+json": {
              "model_id": "0d451a37eb064e7ab28b9d7482553cec",
              "version_minor": 0,
              "version_major": 2
            },
            "text/plain": [
              "Downloading:   0%|          | 0.00/798k [00:00<?, ?B/s]"
            ]
          },
          "metadata": {}
        },
        {
          "output_type": "display_data",
          "data": {
            "application/vnd.jupyter.widget-view+json": {
              "model_id": "94910b7501a6466d9ad688b6161faae0",
              "version_minor": 0,
              "version_major": 2
            },
            "text/plain": [
              "Downloading:   0%|          | 0.00/1.38M [00:00<?, ?B/s]"
            ]
          },
          "metadata": {}
        },
        {
          "output_type": "display_data",
          "data": {
            "application/vnd.jupyter.widget-view+json": {
              "model_id": "cdb50c16bf9f494bb2cf2682766b41f0",
              "version_minor": 0,
              "version_major": 2
            },
            "text/plain": [
              "Downloading:   0%|          | 0.00/760 [00:00<?, ?B/s]"
            ]
          },
          "metadata": {}
        },
        {
          "output_type": "execute_result",
          "data": {
            "text/plain": [
              "['▁Don',\n",
              " \"'\",\n",
              " 't',\n",
              " '▁you',\n",
              " '▁love',\n",
              " '▁',\n",
              " '🤗',\n",
              " '▁',\n",
              " 'Transform',\n",
              " 'ers',\n",
              " '?',\n",
              " '▁We',\n",
              " '▁sure',\n",
              " '▁do',\n",
              " '.']"
            ]
          },
          "metadata": {},
          "execution_count": 22
        }
      ]
    },
    {
      "cell_type": "code",
      "metadata": {
        "colab": {
          "base_uri": "https://localhost:8080/"
        },
        "id": "3MijUpA0ECS_",
        "outputId": "dd0c3f4e-3323-489a-c581-eb860a72710d"
      },
      "source": [
        "lent3 = [] #yes\n",
        "total_length3 = []\n",
        "dis3 = []\n",
        "distinct3 = []\n",
        "for i in range(5000):\n",
        "  tok = tokenizer.tokenize(body[i])\n",
        "  lent3.append(len(tok))\n",
        "  for x in tok:\n",
        "    if x not in dis3:\n",
        "      dis3.append(x)\n",
        "  distinct3.append(len(dis3))\n",
        "  dis3.clear()\n",
        "\n",
        "print(lent3)\n",
        "print(distinct3)"
      ],
      "execution_count": null,
      "outputs": [
        {
          "output_type": "stream",
          "name": "stdout",
          "text": [
            "[481, 1015, 771, 553, 398, 678, 441, 320, 760, 833, 384, 413, 482, 1211, 464, 616, 777, 594, 846, 666, 915, 1190, 370, 327, 982, 1399, 666, 667, 1268, 511, 416, 1162, 626, 609, 671, 557, 775, 634, 856, 547, 746, 1006, 549, 378, 535, 541, 505, 410, 575, 523, 1172, 502, 586, 674, 1008, 615, 1093, 357, 508, 515, 909, 657, 662, 461, 578, 383, 361, 417, 969, 535, 390, 676, 620, 869, 350, 404, 753, 2022, 1770, 902, 1014, 500, 817, 877, 1326, 1604, 669, 1646, 648, 703, 475, 1057, 1101, 610, 1341, 1693, 395, 824, 956, 480, 980, 980, 656, 518, 952, 717, 470, 391, 312, 323, 402, 1349, 676, 517, 390, 516, 683, 833, 921, 575, 448, 1542, 647, 414, 469, 1282, 506, 1318, 1164, 385, 336, 338, 1047, 858, 755, 572, 716, 392, 343, 574, 354, 829, 390, 894, 414, 461, 361, 478, 417, 313, 325, 496, 669, 1368, 601, 1346, 1656, 634, 1128, 662, 601, 302, 668, 361, 1146, 400, 418, 613, 477, 449, 488, 438, 434, 706, 476, 2436, 558, 548, 697, 896, 432, 498, 833, 349, 552, 402, 945, 655, 559, 696, 880, 340, 374, 1689, 1615, 1894, 774, 323, 511, 975, 584, 333, 1175, 493, 838, 381, 386, 333, 629, 488, 1049, 500, 1805, 3011, 704, 652, 555, 551, 667, 611, 878, 1654, 612, 835, 563, 461, 583, 386, 659, 316, 354, 489, 950, 856, 825, 830, 329, 823, 846, 930, 387, 2326, 1770, 1136, 855, 2139, 544, 1437, 1451, 675, 688, 658, 433, 517, 432, 426, 732, 518, 973, 725, 457, 1099, 899, 790, 1003, 1816, 521, 565, 476, 556, 432, 2139, 365, 1362, 2129, 731, 1263, 1198, 549, 620, 753, 873, 804, 861, 693, 718, 672, 558, 556, 693, 493, 348, 734, 303, 930, 1195, 411, 563, 358, 509, 719, 659, 548, 917, 438, 421, 904, 629, 982, 714, 591, 606, 2210, 766, 783, 1228, 735, 461, 458, 546, 313, 849, 747, 815, 629, 418, 1056, 804, 500, 451, 451, 1127, 466, 414, 1284, 825, 312, 807, 801, 1382, 460, 393, 837, 1192, 980, 1306, 635, 423, 735, 1123, 573, 781, 792, 339, 548, 1069, 516, 1361, 681, 934, 1569, 558, 351, 694, 738, 1953, 873, 996, 515, 485, 1600, 796, 597, 686, 612, 951, 381, 410, 2354, 1076, 1403, 970, 924, 775, 650, 528, 1875, 887, 1123, 796, 725, 814, 1197, 1267, 445, 487, 590, 521, 958, 1039, 1187, 597, 429, 509, 543, 1510, 408, 686, 770, 404, 856, 548, 1228, 433, 1199, 1796, 343, 329, 487, 1427, 324, 1335, 836, 766, 766, 663, 502, 567, 848, 657, 351, 746, 580, 604, 487, 461, 420, 395, 1121, 460, 992, 550, 522, 517, 370, 333, 343, 771, 923, 883, 530, 378, 361, 498, 410, 1499, 1097, 868, 726, 598, 526, 980, 1067, 947, 566, 1118, 2380, 460, 435, 773, 602, 979, 397, 533, 351, 525, 486, 1063, 342, 363, 705, 1197, 536, 794, 614, 584, 342, 480, 707, 838, 820, 371, 467, 413, 572, 1099, 2249, 922, 2415, 346, 379, 618, 379, 693, 360, 450, 372, 852, 545, 497, 465, 724, 782, 377, 426, 1060, 802, 887, 816, 2225, 832, 484, 330, 519, 681, 919, 511, 385, 632, 562, 1256, 844, 448, 661, 498, 2530, 398, 1039, 752, 544, 392, 650, 707, 355, 363, 536, 468, 941, 505, 493, 338, 2680, 1297, 871, 478, 473, 409, 684, 751, 332, 1090, 780, 374, 1110, 535, 338, 569, 506, 439, 735, 318, 1087, 443, 285, 362, 385, 791, 844, 678, 1380, 692, 712, 325, 497, 617, 1029, 2151, 389, 442, 597, 479, 532, 504, 617, 711, 713, 307, 513, 1530, 497, 549, 744, 390, 1079, 474, 1022, 705, 824, 381, 496, 647, 454, 483, 431, 452, 352, 1012, 425, 570, 514, 616, 577, 663, 658, 483, 438, 482, 381, 302, 353, 487, 427, 481, 683, 602, 611, 404, 415, 348, 965, 430, 755, 3520, 582, 475, 972, 412, 451, 482, 406, 364, 792, 386, 594, 445, 705, 523, 351, 568, 547, 1188, 494, 385, 561, 455, 459, 436, 352, 478, 406, 804, 507, 714, 652, 460, 580, 503, 609, 384, 424, 672, 320, 717, 385, 588, 463, 1002, 387, 331, 427, 372, 715, 396, 460, 429, 458, 441, 513, 485, 402, 995, 725, 595, 496, 598, 589, 682, 374, 473, 347, 493, 407, 371, 396, 496, 446, 432, 574, 611, 393, 337, 502, 372, 347, 1317, 468, 480, 363, 473, 578, 342, 492, 646, 497, 580, 905, 769, 755, 495, 605, 629, 836, 970, 588, 593, 366, 632, 653, 533, 1068, 640, 603, 504, 698, 666, 545, 735, 796, 753, 1501, 557, 489, 340, 532, 358, 439, 723, 796, 525, 463, 661, 551, 618, 611, 700, 690, 3920, 3930, 555, 487, 1239, 1351, 636, 384, 601, 402, 373, 390, 584, 407, 429, 492, 391, 342, 360, 453, 538, 765, 435, 433, 1275, 434, 849, 496, 612, 336, 611, 1129, 307, 524, 461, 448, 462, 432, 430, 460, 634, 888, 638, 339, 390, 445, 487, 514, 4108, 3965, 3535, 1018, 557, 482, 621, 542, 1509, 436, 1646, 994, 1029, 531, 634, 1043, 655, 451, 388, 400, 386, 377, 547, 568, 416, 402, 412, 576, 442, 350, 537, 466, 386, 360, 357, 486, 358, 363, 414, 369, 532, 365, 459, 412, 605, 403, 376, 1176, 564, 726, 581, 640, 1076, 755, 439, 386, 531, 514, 544, 443, 501, 440, 476, 635, 885, 690, 680, 614, 2769, 560, 601, 633, 655, 822, 420, 2044, 1177, 822, 605, 621, 810, 1045, 613, 340, 584, 602, 379, 527, 1639, 476, 576, 478, 581, 605, 430, 317, 359, 447, 680, 708, 984, 577, 898, 1704, 3060, 1271, 403, 1790, 1517, 3584, 3402, 3438, 3439, 3179, 3474, 1252, 847, 1155, 1085, 828, 540, 1646, 575, 429, 563, 429, 501, 1831, 2567, 661, 1743, 721, 1215, 406, 436, 567, 2177, 1775, 1855, 1718, 1749, 428, 423, 1085, 1003, 512, 485, 488, 567, 428, 1071, 623, 1037, 504, 633, 455, 671, 853, 1277, 723, 908, 708, 794, 836, 870, 1778, 2005, 926, 1640, 340, 331, 514, 1003, 654, 462, 929, 782, 478, 386, 495, 799, 2555, 575, 940, 399, 591, 633, 545, 436, 690, 440, 351, 324, 1185, 920, 2469, 362, 388, 860, 421, 401, 383, 614, 758, 918, 341, 2859, 419, 973, 720, 367, 563, 561, 641, 758, 382, 609, 356, 646, 945, 582, 343, 1219, 772, 539, 1013, 1257, 581, 408, 658, 462, 674, 1169, 318, 1083, 411, 548, 499, 590, 323, 837, 689, 976, 795, 513, 683, 468, 500, 841, 580, 820, 757, 446, 460, 518, 572, 370, 371, 555, 1042, 1078, 394, 462, 328, 1004, 393, 397, 672, 500, 441, 329, 875, 400, 497, 340, 1182, 1237, 799, 1339, 376, 589, 689, 559, 410, 500, 425, 432, 364, 586, 488, 512, 787, 1282, 428, 326, 333, 608, 979, 418, 460, 446, 807, 973, 489, 399, 662, 1144, 424, 491, 595, 421, 325, 489, 504, 428, 2401, 591, 745, 570, 805, 539, 445, 461, 482, 582, 2795, 745, 410, 530, 399, 726, 322, 823, 348, 589, 372, 642, 434, 665, 467, 399, 668, 1050, 502, 968, 438, 670, 320, 861, 406, 334, 523, 774, 705, 503, 537, 1010, 325, 450, 660, 493, 726, 977, 651, 834, 518, 557, 547, 502, 525, 503, 411, 512, 887, 1126, 512, 506, 512, 1346, 421, 393, 601, 499, 527, 500, 512, 597, 358, 496, 532, 526, 730, 635, 461, 399, 1096, 394, 421, 497, 582, 535, 607, 518, 462, 914, 698, 589, 1252, 585, 351, 390, 504, 421, 466, 362, 387, 402, 366, 453, 424, 765, 600, 627, 897, 1036, 340, 1191, 384, 372, 992, 445, 647, 612, 540, 2719, 403, 500, 374, 549, 662, 411, 502, 529, 585, 675, 520, 664, 481, 650, 645, 482, 595, 490, 478, 529, 475, 973, 451, 971, 586, 655, 339, 604, 835, 658, 556, 558, 471, 1059, 398, 950, 394, 515, 690, 438, 551, 462, 732, 362, 426, 373, 491, 601, 605, 844, 653, 811, 773, 759, 628, 434, 823, 487, 2201, 543, 534, 552, 615, 602, 650, 526, 543, 433, 459, 842, 482, 743, 652, 302, 497, 332, 908, 505, 809, 532, 624, 618, 740, 821, 405, 497, 425, 613, 650, 899, 686, 1365, 520, 882, 867, 352, 613, 1060, 327, 425, 405, 1355, 738, 868, 859, 466, 575, 905, 459, 865, 681, 660, 693, 1043, 488, 539, 521, 426, 423, 460, 561, 432, 653, 541, 588, 590, 499, 438, 744, 831, 1031, 338, 576, 1592, 855, 523, 471, 382, 401, 538, 443, 356, 411, 645, 965, 835, 467, 509, 714, 368, 371, 372, 560, 569, 366, 487, 385, 344, 637, 547, 503, 524, 339, 443, 490, 366, 569, 767, 452, 512, 489, 607, 556, 488, 415, 423, 381, 525, 788, 543, 500, 371, 333, 453, 550, 412, 363, 749, 1396, 570, 398, 387, 423, 390, 387, 431, 720, 931, 465, 747, 419, 810, 538, 525, 668, 466, 456, 363, 659, 625, 584, 516, 373, 376, 490, 816, 538, 2309, 540, 512, 1024, 500, 455, 525, 332, 406, 1793, 445, 476, 459, 820, 469, 547, 442, 416, 508, 499, 610, 386, 396, 585, 554, 906, 571, 440, 512, 473, 528, 476, 369, 532, 502, 337, 465, 315, 315, 578, 572, 307, 568, 297, 297, 313, 313, 562, 1312, 483, 1046, 1375, 517, 607, 610, 581, 303, 520, 494, 561, 433, 485, 522, 512, 591, 565, 686, 713, 637, 683, 681, 782, 622, 384, 417, 663, 399, 393, 492, 598, 519, 456, 507, 640, 438, 688, 714, 663, 746, 470, 641, 697, 692, 827, 744, 635, 712, 706, 746, 691, 641, 779, 660, 727, 706, 866, 479, 480, 698, 727, 700, 736, 647, 649, 369, 386, 475, 443, 462, 601, 434, 509, 489, 411, 598, 435, 520, 518, 560, 764, 629, 693, 679, 673, 458, 590, 438, 633, 821, 1052, 729, 490, 470, 882, 447, 650, 509, 484, 1021, 548, 1261, 1489, 591, 700, 549, 733, 1132, 448, 415, 756, 1266, 580, 572, 561, 453, 678, 536, 623, 430, 588, 491, 597, 751, 2628, 533, 513, 1973, 385, 716, 420, 729, 584, 568, 597, 425, 436, 478, 496, 762, 403, 583, 421, 1181, 922, 562, 627, 586, 621, 517, 629, 483, 500, 547, 519, 459, 443, 441, 2086, 328, 724, 413, 360, 537, 664, 591, 559, 732, 368, 721, 373, 540, 347, 457, 661, 765, 581, 513, 1154, 463, 1954, 776, 1715, 1710, 1707, 1737, 1780, 1866, 697, 719, 1394, 648, 662, 1431, 1865, 1796, 1967, 1856, 1910, 1868, 1327, 1378, 1332, 1396, 1356, 1327, 1241, 1395, 1351, 1258, 1392, 1299, 1883, 1693, 1931, 1622, 1863, 1855, 1652, 1546, 1344, 1590, 1518, 1032, 657, 355, 1145, 736, 1093, 1292, 1246, 1423, 1306, 1376, 1285, 1327, 1340, 1287, 1236, 1280, 1259, 1248, 1313, 1258, 1281, 1348, 1315, 1423, 727, 689, 779, 1341, 613, 1043, 759, 1053, 1259, 1280, 1353, 1145, 1277, 1288, 1155, 341, 1313, 1169, 1184, 1260, 1395, 599, 1234, 1099, 1046, 1430, 1104, 1477, 1026, 1358, 1051, 1261, 1404, 1299, 1197, 1206, 1209, 1305, 1307, 1166, 1282, 1230, 749, 699, 480, 1501, 1520, 1460, 1460, 1534, 1486, 1479, 1570, 1513, 1468, 1427, 684, 1071, 667, 1101, 986, 733, 607, 1093, 1035, 1444, 1450, 1439, 1478, 1602, 1555, 1553, 1495, 1467, 1634, 1482, 1593, 1454, 1492, 1516, 1533, 1484, 1498, 1439, 1541, 1600, 1320, 1022, 631, 1069, 1044, 1302, 1429, 595, 1355, 523, 1047, 1063, 994, 1290, 978, 1161, 801, 1060, 680, 1528, 1415, 1573, 1449, 1506, 1392, 1426, 1456, 1557, 497, 1432, 1579, 1400, 1452, 1451, 1364, 1568, 910, 1081, 871, 896, 875, 823, 1169, 904, 877, 976, 1037, 920, 994, 1080, 1039, 901, 890, 881, 858, 924, 845, 1118, 1117, 905, 914, 1159, 1217, 1238, 1027, 694, 975, 933, 962, 910, 882, 952, 1107, 911, 1284, 1459, 977, 1004, 920, 1024, 1008, 983, 1099, 1008, 932, 922, 878, 939, 979, 969, 1128, 989, 981, 1836, 1290, 1674, 1011, 957, 927, 945, 966, 1305, 993, 919, 897, 973, 993, 951, 944, 924, 921, 954, 986, 537, 3445, 646, 1502, 1051, 458, 904, 662, 429, 343, 982, 948, 926, 946, 870, 564, 887, 926, 963, 963, 887, 599, 616, 885, 1242, 1000, 2108, 598, 474, 992, 890, 2388, 664, 475, 415, 700, 463, 2838, 2451, 887, 2341, 891, 445, 532, 546, 512, 1052, 574, 416, 711, 2350, 834, 1061, 525, 597, 3655, 3367, 3541, 493, 554, 624, 2616, 3786, 1103, 1448, 864, 1522, 1551, 3198, 3174, 3016, 1719, 1758, 1395, 850, 1259, 596, 3429, 3500, 725, 740, 3433, 2485, 2920, 3723, 1120, 1147, 553, 456, 1463, 1664, 2014, 1720, 662, 618, 1089, 1017, 537, 914, 1980, 943, 1615, 477, 1616, 1695, 615, 760, 784, 742, 1049, 569, 932, 578, 336, 656, 521, 921, 538, 852, 568, 365, 869, 1790, 1526, 724, 738, 560, 412, 453, 345, 1543, 1043, 1590, 934, 1234, 1313, 1400, 486, 2191, 596, 1233, 945, 329, 730, 431, 993, 589, 1472, 482, 573, 837, 579, 613, 502, 387, 665, 503, 600, 649, 1398, 521, 1502, 684, 1609, 1536, 1275, 702, 405, 666, 1416, 737, 1513, 967, 331, 705, 1351, 1566, 1502, 545, 471, 1374, 1617, 1441, 1121, 1426, 1485, 1272, 342, 818, 1363, 1664, 559, 369, 1146, 1275, 472, 1443, 1259, 915, 1172, 687, 1457, 1371, 1047, 1251, 1082, 1385, 1518, 1456, 1370, 1354, 1393, 1185, 1349, 1021, 1345, 1160, 1050, 1405, 1428, 808, 1442, 1329, 756, 594, 1552, 768, 396, 394, 821, 1062, 1386, 1672, 497, 1448, 878, 1416, 1233, 604, 774, 763, 1140, 1480, 1358, 1810, 762, 1400, 1572, 1535, 425, 1677, 1413, 1355, 1216, 1410, 1399, 624, 696, 878, 2103, 691, 842, 771, 354, 337, 1015, 704, 849, 1010, 796, 2339, 457, 444, 1550, 437, 630, 498, 478, 844, 733, 791, 657, 495, 624, 705, 1016, 357, 483, 812, 582, 831, 559, 569, 513, 385, 751, 609, 2116, 336, 502, 884, 641, 556, 466, 431, 397, 555, 342, 697, 686, 365, 844, 634, 641, 458, 389, 600, 635, 853, 362, 348, 637, 413, 612, 1063, 572, 922, 683, 910, 425, 495, 439, 648, 487, 444, 596, 335, 736, 597, 650, 852, 738, 1313, 850, 339, 476, 1166, 1009, 808, 593, 564, 466, 431, 522, 695, 514, 471, 352, 646, 316, 526, 961, 2332, 819, 992, 768, 377, 461, 980, 819, 803, 848, 523, 609, 514, 483, 684, 473, 1378, 1399, 1046, 806, 375, 796, 803, 506, 735, 481, 599, 757, 567, 1082, 680, 967, 2505, 1051, 879, 740, 533, 645, 727, 630, 486, 611, 561, 1279, 573, 580, 682, 549, 515, 435, 495, 855, 549, 944, 661, 470, 451, 605, 649, 872, 1272, 537, 850, 632, 680, 981, 452, 742, 389, 921, 606, 452, 1020, 1071, 753, 419, 471, 429, 599, 501, 460, 517, 416, 795, 1434, 1917, 1382, 959, 682, 479, 584, 938, 691, 527, 350, 381, 370, 378, 635, 503, 845, 946, 571, 1533, 394, 486, 736, 724, 474, 1032, 652, 581, 355, 491, 401, 870, 1044, 520, 462, 768, 629, 445, 581, 475, 1494, 1221, 1377, 428, 705, 337, 586, 690, 484, 710, 506, 716, 743, 341, 537, 731, 660, 772, 557, 709, 668, 508, 645, 706, 389, 495, 577, 662, 465, 612, 517, 542, 636, 985, 359, 816, 461, 893, 1013, 965, 1105, 1267, 908, 2616, 1524, 1320, 963, 1070, 948, 1037, 2913, 841, 419, 495, 358, 483, 1850, 323, 2326, 2048, 734, 1903, 773, 1982, 684, 370, 478, 599, 1683, 614, 2372, 545, 544, 792, 434, 446, 479, 404, 917, 1406, 608, 469, 2075, 881, 965, 602, 418, 688, 782, 805, 862, 910, 645, 449, 773, 712, 775, 339, 1126, 474, 388, 1401, 443, 618, 461, 1351, 1931, 628, 969, 700, 790, 530, 739, 549, 3728, 1488, 1395, 1238, 482, 1323, 1375, 1424, 1869, 805, 897, 746, 309, 382, 448, 3043, 795, 603, 449, 3157, 572, 829, 816, 413, 772, 815, 890, 764, 399, 874, 658, 677, 980, 1143, 465, 464, 781, 341, 595, 507, 409, 903, 595, 977, 755, 651, 940, 2185, 1484, 492, 661, 563, 448, 977, 932, 381, 1500, 338, 994, 790, 775, 1489, 423, 398, 411, 851, 406, 719, 1985, 531, 957, 521, 908, 524, 514, 626, 1031, 785, 1416, 372, 386, 689, 387, 797, 408, 453, 646, 767, 954, 817, 353, 569, 289, 1069, 484, 620, 702, 368, 701, 976, 645, 444, 641, 378, 531, 529, 830, 350, 516, 1146, 379, 609, 620, 452, 647, 560, 563, 562, 665, 436, 333, 359, 635, 375, 502, 419, 558, 2568, 386, 302, 3311, 871, 464, 529, 929, 746, 874, 508, 731, 872, 559, 561, 398, 676, 433, 1095, 863, 593, 630, 1054, 503, 3241, 1333, 1251, 684, 410, 687, 516, 593, 506, 379, 691, 563, 932, 446, 374, 700, 512, 812, 496, 801, 329, 311, 337, 1038, 978, 539, 327, 597, 785, 458, 869, 613, 682, 618, 621, 663, 463, 410, 587, 721, 401, 742, 573, 362, 333, 420, 713, 1271, 861, 1139, 808, 1068, 1159, 2231, 801, 657, 986, 678, 678, 426, 485, 849, 692, 697, 946, 907, 783, 1189, 608, 418, 437, 600, 463, 488, 688, 697, 451, 1084, 664, 665, 392, 359, 635, 344, 383, 488, 660, 561, 340, 466, 350, 1473, 621, 521, 676, 374, 1169, 1037, 1369, 321, 1039, 1204, 542, 748, 1034, 669, 922, 802, 953, 916, 1204, 1546, 392, 1234, 1008, 1217, 1727, 1003, 933, 2831, 994, 1289, 507, 807, 565, 1260, 499, 331, 328, 1059, 1082, 1170, 1240, 1271, 535, 378, 1118, 886, 1563, 702, 551, 469, 1008, 2261, 726, 1154, 355, 412, 387, 473, 608, 770, 522, 416, 353, 1112, 933, 816, 962, 2089, 1071, 2538, 1330, 1213, 987, 313, 891, 1040, 1032, 492, 504, 911, 498, 448, 305, 382, 1331, 1430, 1138, 436, 1674, 1357, 721, 431, 459, 427, 1043, 753, 1188, 1333, 635, 881, 831, 1001, 478, 886, 825, 344, 585, 2278, 819, 1697, 1353, 376, 1185, 876, 895, 1158, 551, 722, 1213, 746, 612, 431, 665, 927, 949, 1472, 1507, 965, 1305, 1322, 819, 596, 1110, 1490, 616, 956, 1183, 390, 424, 1205, 1119, 1177, 848, 1128, 969, 437, 396, 894, 952, 609, 438, 472, 1519, 689, 1092, 1148, 1024, 378, 1007, 728, 783, 489, 678, 831, 1370, 1754, 2219, 749, 1063, 838, 1037, 826, 343, 803, 1080, 729, 760, 589, 833, 1297, 1176, 839, 872, 1421, 785, 1010, 505, 454, 555, 541, 304, 574, 774, 794, 343, 678, 804, 752, 721, 351, 940, 821, 526, 1086, 944, 580, 743, 722, 668, 464, 535, 531, 714, 462, 663, 946, 836, 364, 391, 451, 539, 449, 629, 711, 671, 493, 617, 664, 991, 779, 660, 832, 688, 734, 720, 671, 330, 602, 522, 385, 756, 1630, 563, 480, 604, 534, 658, 450, 493, 395, 507, 491, 971, 337, 328, 403, 671, 774, 376, 499, 974, 2682, 481, 759, 563, 311, 880, 337, 435, 518, 361, 315, 607, 473, 2053, 612, 344, 485, 304, 730, 720, 332, 356, 747, 813, 402, 388, 2925, 1132, 319, 680, 1110, 521, 365, 555, 828, 660, 773, 514, 965, 633, 334, 1253, 468, 820, 716, 975, 598, 1438, 627, 533, 474, 410, 2303, 619, 472, 456, 566, 949, 2417, 576, 558, 2024, 344, 1475, 880, 836, 400, 636, 412, 443, 408, 830, 919, 731, 509, 701, 585, 1048, 747, 798, 1746, 709, 353, 733, 853, 665, 457, 706, 482, 604, 608, 991, 563, 320, 1245, 621, 818, 740, 402, 763, 709, 404, 696, 927, 624, 602, 722, 834, 766, 1067, 1287, 759, 1734, 400, 341, 1002, 1484, 937, 484, 364, 479, 647, 507, 397, 408, 740, 1064, 633, 646, 695, 686, 306, 627, 629, 679, 707, 695, 525, 793, 675, 449, 386, 406, 362, 870, 344, 354, 402, 397, 543, 719, 375, 437, 988, 751, 683, 463, 362, 731, 561, 353, 938, 1199, 650, 1241, 707, 650, 684, 564, 670, 657, 1956, 576, 580, 710, 713, 594, 640, 1881, 770, 592, 813, 896, 1014, 796, 877, 607, 622, 765, 1816, 692, 711, 685, 460, 729, 1906, 1354, 991, 648, 339, 949, 432, 1411, 1174, 825, 512, 823, 648, 642, 1794, 703, 350, 2652, 2369, 2164, 2327, 2323, 1967, 2024, 2755, 3247, 405, 2106, 1868, 1956, 729, 710, 422, 555, 483, 756, 1131, 768, 325, 681, 393, 797, 704, 785, 572, 573, 488, 438, 419, 590, 815, 888, 722, 1079, 808, 929, 763, 889, 1893, 558, 1009, 464, 1239, 1100, 986, 601, 622, 1361, 1091, 1195, 1282, 1174, 1162, 694, 758, 607, 795, 597, 1097, 1174, 724, 890, 1015, 1214, 1146, 664, 1284, 668, 364, 1094, 1222, 1237, 1130, 1206, 1175, 512, 578, 703, 1097, 1202, 1139, 1118, 1126, 1200, 429, 506, 447, 1296, 1249, 1093, 456, 1156, 1235, 1284, 936, 1233, 459, 408, 723, 312, 699, 844, 482, 1225, 817, 553, 1083, 1108, 1118, 1212, 982, 3094, 475, 479, 983, 393, 597, 371, 3079, 740, 539, 559, 1186, 1301, 1143, 1221, 1281, 1223, 1183, 1288, 1163, 1376, 1339, 844, 552, 3155, 1262, 1422, 566, 699, 575, 581, 400, 650, 493, 704, 1682, 538, 1723, 545, 645, 359, 535, 1108, 741, 600, 505, 851, 753, 887, 642, 379, 590, 739, 336, 442, 461, 789, 892, 346, 399, 446, 388, 828, 1002, 924, 385, 863, 735, 583, 476, 339, 558, 477, 524, 693, 612, 377, 1325, 474, 871, 443, 390, 509, 338, 522, 444, 1110, 372, 1028, 1038, 445, 1022, 757, 856, 708, 429, 778, 533, 628, 342, 1186, 407, 548, 418, 534, 654, 484, 409, 501, 840, 697, 848, 623, 399, 376, 515, 590, 1469, 662, 1063, 1264, 1394, 753, 698, 792, 1365, 734, 655, 526, 802, 509, 443, 482, 375, 375, 409, 582, 466, 375, 330, 331, 413, 752, 1934, 529, 820, 940, 755, 377, 492, 713, 381, 399, 618, 598, 375, 602, 739, 646, 760, 1060, 420, 466, 468, 1293, 684, 564, 376, 743, 3101, 546, 605, 508, 527, 1410, 387, 387, 387, 375, 387, 432, 460, 516, 335, 611, 649, 387, 788, 387, 388, 388, 388, 388, 1039, 420, 399, 1289, 389, 829, 370, 999, 404, 1334, 647, 346, 637, 322, 868, 2635, 558, 449, 408, 336, 315, 609, 2852, 416, 500, 538, 339, 339, 339, 420, 555, 560, 435, 339, 473, 339, 339, 339, 339, 339, 339, 339, 339, 339, 339, 339, 339, 377, 377, 377, 377, 377, 484, 459, 409, 446, 325, 308, 791, 484, 457, 729, 364, 370, 524, 339, 473, 339, 831, 709, 653, 1001, 1750, 842, 850, 833, 339, 339, 533, 3319, 537, 639, 549, 1465, 877, 968, 857, 479, 339, 339, 952, 339, 687, 1091, 618, 339, 339, 339, 339, 977, 363, 744, 916, 643, 574, 1014, 1179, 370, 787, 376, 339, 376, 339, 371, 1453, 339, 339, 376, 487, 2100, 917, 376, 376, 376, 494, 435, 966, 1133, 379, 993, 399, 379, 379, 379, 1154, 336, 336, 336, 336, 370, 623, 339, 339, 339, 339, 389, 389, 389, 389, 389, 339, 339, 339, 339, 339, 363, 301, 326, 326, 326, 326, 326, 326, 326, 326, 389, 385, 385, 389, 385, 385, 380, 380, 380, 380, 396, 396, 380, 396, 383, 383, 383, 379, 379, 379, 379, 339, 822, 460, 340, 345, 340, 345, 339, 339, 339, 339, 339, 339, 339, 339, 339, 339, 339, 339, 339, 339, 339, 322, 322, 307, 307, 307, 307, 318, 318, 318, 318, 328, 328, 328, 328, 380, 380, 380, 380, 380, 380, 380, 383, 382, 382, 382, 382, 339, 339, 339, 319, 319, 319, 319, 311, 311, 311, 311, 306, 306, 306, 306, 339, 339, 339, 339, 339, 339, 339, 339, 339, 339, 339, 339, 339, 339, 339, 339, 339, 339, 339, 339, 339, 387, 387, 421, 421, 426, 429, 307, 307, 307, 339, 339, 339, 339, 303, 303, 303, 303, 303, 385, 385, 339, 385, 339, 339, 339, 387, 339, 386, 386, 386, 386, 307, 339, 339, 339, 339, 339, 339, 339, 339, 339, 339, 397, 397, 397, 397, 397, 397, 389, 389, 339, 339, 339, 339, 409, 409, 380, 380, 380, 380, 380, 379, 379, 379, 379, 381, 381, 381, 381, 409, 409, 405, 405, 404, 390, 390, 404, 396, 388, 321, 321, 321, 321, 380, 380, 380, 380, 380, 380, 380, 380, 380, 383, 383, 383, 383, 383, 383, 383, 339, 339, 339, 339, 339, 339, 339, 339, 339, 339, 339, 339, 339, 339, 339, 777, 541, 339, 380, 380, 380, 380, 380, 380, 380, 380, 380, 380, 380, 380, 380, 606, 561, 394, 677, 407, 561, 371, 371, 371, 371, 371, 371, 384, 384, 384, 434, 434, 434, 434, 386, 386, 386, 386, 380, 380, 571, 380, 380, 380, 380, 458, 616, 375, 988, 540, 676, 384, 384, 384, 717, 635, 977, 619, 685, 380, 380, 380, 380, 380, 733, 380, 627, 380, 723, 920, 433, 441, 528, 460, 860, 708, 965, 477, 436, 806, 941, 2310, 853, 600, 1639, 445, 1167, 639, 814, 1439, 283, 375, 2220, 707, 749, 630, 649, 1365, 1104, 464, 786, 728, 355, 821, 343, 488, 558, 999, 888, 831, 389, 493, 381, 381, 381, 417, 304, 381, 304, 304, 304, 304, 304, 397, 447, 742, 411, 479, 798, 360, 1199, 699, 2603, 339, 339, 339, 339, 339, 340, 387, 386, 386, 614, 379, 442, 436, 339, 339, 339, 339, 339, 326, 326, 340, 347, 347, 419, 419, 339, 339, 339, 339, 339, 339, 339, 339, 379, 379, 387, 387, 387, 387, 387, 387, 380, 380, 380, 380, 379, 379, 339, 379, 379, 524, 379, 379, 379, 379, 379, 379, 885, 910, 1267, 1712, 339, 448, 1053, 339, 687, 339, 339, 651, 517, 379, 379, 379, 379, 379, 379, 379, 379, 379, 379, 379, 379, 379, 379, 379, 379, 379, 379, 379, 379, 379, 379, 379, 379, 379, 552, 738, 762, 934, 379, 379, 1233, 1111, 442, 464, 457, 324, 336, 478, 434, 589, 343, 343, 343, 343, 343, 343, 315, 315, 315, 315, 313, 525, 313, 313, 606, 490, 339, 340, 339, 379, 379, 379, 379, 379, 379, 379, 379, 379, 440, 379, 379, 379, 379, 379, 379, 379, 524, 1218, 494, 781, 379, 579, 379, 379, 379, 379, 406, 379, 379, 379, 379, 379, 379, 379, 379, 476, 476, 475, 475, 335, 335, 335, 335, 313, 382, 415, 446, 343, 494, 854, 403, 621, 382, 2760, 749, 334, 438, 334, 334, 335, 334, 391, 391, 391, 391, 382, 382, 382, 418, 418, 500, 452, 384, 384, 956, 594, 620, 1725, 592, 349, 571, 363, 1114, 626, 497, 335, 317, 878, 799, 694, 3509, 3510, 575, 1043, 502, 713, 692, 593, 504, 510, 386, 531, 1020, 795, 516, 1083, 594, 1904, 554, 845, 2704, 368, 504, 693, 728, 508, 750, 1011, 915, 572, 522, 862, 640, 501, 514, 590, 365, 516, 498, 462, 485, 429, 360, 427, 453, 1908, 571, 469, 588, 433, 815, 460, 735, 1364, 591, 440, 545, 745, 486, 384, 610, 388, 427, 716, 381, 992, 519, 679, 833, 454, 410, 367, 459, 312, 341, 734, 324, 1331, 496, 590, 1335, 1551, 691, 469, 1438, 1688, 733, 614, 1560, 742, 1687, 853, 1186, 1799, 854, 1239, 1917, 796, 1660, 1273, 1083, 933, 1615, 1323, 1034, 897, 870, 1109, 438, 953, 906, 958, 1647, 512, 1410, 915, 1531, 761, 544, 1318, 697, 393, 999, 1622, 855, 981, 1647, 700, 1130, 399, 2192, 664, 1764, 736, 369, 901, 346, 1562, 492, 647, 330, 521, 1527, 732, 1212, 729, 426, 902, 843, 569, 456, 377, 404, 397, 373, 822, 1196, 690, 1636, 415, 580, 508, 544, 587, 800, 1695, 488, 728, 381, 917, 647, 560, 599, 2781, 574, 849, 334, 514, 587, 648, 389, 462, 394, 1466, 519, 440, 885, 405, 3038, 672, 486, 511, 369, 354, 622, 472, 568, 1464, 596, 999, 806, 740, 402, 575, 465, 397, 452, 353, 702, 502, 606, 523, 697, 398, 555, 597, 497, 848, 316, 471, 765, 812, 525, 523, 418, 399, 590, 566, 921, 1477, 364, 1064, 684, 677, 466, 640, 638, 395, 384, 560, 409, 541, 675, 321, 349, 308, 508, 978, 854, 580, 356, 614, 757, 627, 585, 761, 372, 846, 722, 517, 609, 504, 550, 422, 375, 704, 477, 1263, 363, 451, 506, 404, 680, 332, 544, 673, 431, 578, 445, 441, 847, 856, 488, 527, 424, 863, 483, 553, 519, 647, 432, 611, 579, 1019, 489, 411, 462, 983, 514, 647, 361, 2763, 374, 512, 548, 397, 563, 1015, 419, 609, 930, 343, 380, 361, 440, 510, 381, 378, 351, 450, 586, 782, 881, 700, 705, 1004, 691, 340, 655, 683, 540, 454, 520, 809, 365, 803, 331, 358, 531, 517, 459, 833, 887, 417, 429, 488, 375, 459, 534, 372, 606, 694, 466, 379, 490, 314, 434, 356, 1762, 870, 464, 413, 463, 376, 597, 368, 1228, 1564, 511, 724, 2634, 1601, 891, 463, 1183, 909, 796, 476, 444, 504, 1174, 1049, 1138, 1282, 692, 846, 716, 594, 809, 498, 893, 827, 435, 801, 345, 866, 777, 592, 846, 684, 1638, 2047, 1730, 2079, 1468, 1887, 1822, 1942, 1792, 1829, 688, 810, 802, 673, 881, 955, 1176, 979, 1090, 1145, 1067, 994, 1182, 1112, 1035, 1031, 973, 981, 2185, 1918, 1877, 2049, 2196, 1502, 1756, 1603, 1667, 1901, 1684, 1891, 1894, 1689, 1335, 1280, 1344, 1291, 389, 517, 557, 1043, 826, 1603, 1699, 1924, 1849, 781, 577, 1093, 1497, 876, 452, 1695, 1150, 770, 1117, 1090, 435, 1005, 647, 1036, 782, 749, 1226, 939, 772, 1077, 1164, 898, 1064, 972, 1057, 1143, 1012, 1152, 1022, 1229, 1216, 1114, 911, 959, 991, 1026, 1136, 972, 787, 1045, 1019, 1045, 1159, 1242, 1130, 1043, 1142, 1107, 1134, 1125, 1067, 1060, 961, 1101, 1030, 1073, 1125, 1122, 1074, 1134, 1047, 1016, 1090, 1611, 1165, 1063, 1067, 423, 641, 699, 386, 762, 328, 723, 382, 883, 585, 781, 528, 591, 740, 616, 821, 511, 593, 452, 1155, 1412, 1332, 590, 443, 531, 1316, 484, 373, 380, 718, 541, 755, 840, 449, 367, 885, 666, 920, 799, 1030, 342, 548, 651, 533, 649, 616, 676, 622, 583, 838, 487, 562, 665, 332, 689, 803, 785, 706, 717, 721, 831, 938, 594, 825, 545, 692, 506, 1195, 1350, 526, 807, 638, 536, 764, 699, 433, 677, 1141, 739, 1477, 785, 712, 1406, 1164, 963, 1098, 1272, 1604, 927, 537, 840, 955, 793, 886, 825, 567, 426, 745, 669, 462, 718, 729, 937, 697, 695, 587, 480, 923, 1040, 1017, 1484, 1015, 1227, 1137, 1318, 1111, 1272, 1265, 948, 428, 1073, 406, 517, 569, 693, 531, 844, 757, 718, 1274, 1088, 2423, 1267, 1570, 1278, 1063, 1027, 1127, 544, 623, 1028, 1001, 1087]\n",
            "[245, 527, 387, 276, 208, 303, 226, 179, 301, 359, 233, 229, 248, 542, 262, 247, 360, 254, 356, 305, 378, 512, 194, 179, 443, 642, 282, 310, 531, 279, 221, 479, 325, 291, 292, 273, 323, 333, 350, 314, 381, 352, 220, 156, 238, 252, 213, 212, 270, 262, 492, 295, 300, 329, 453, 274, 403, 211, 241, 202, 454, 333, 342, 239, 278, 161, 191, 221, 487, 227, 205, 288, 323, 406, 206, 222, 402, 764, 394, 404, 509, 265, 367, 411, 550, 606, 320, 776, 286, 327, 241, 437, 495, 325, 657, 690, 246, 429, 469, 253, 502, 451, 299, 260, 391, 352, 289, 214, 191, 191, 221, 533, 300, 242, 241, 289, 312, 411, 421, 253, 254, 440, 318, 204, 206, 555, 253, 482, 446, 213, 190, 190, 462, 369, 331, 271, 335, 179, 198, 272, 149, 330, 191, 362, 198, 231, 204, 251, 222, 172, 183, 205, 302, 543, 297, 501, 584, 300, 497, 365, 321, 172, 249, 176, 524, 220, 214, 332, 272, 243, 251, 237, 194, 304, 212, 697, 283, 271, 303, 448, 215, 247, 374, 166, 306, 223, 371, 327, 278, 302, 452, 189, 221, 766, 785, 694, 365, 183, 252, 438, 287, 174, 506, 232, 385, 206, 199, 197, 272, 281, 432, 237, 665, 948, 313, 265, 261, 287, 279, 303, 439, 667, 302, 345, 272, 226, 280, 209, 296, 197, 188, 215, 442, 427, 427, 361, 191, 411, 382, 425, 243, 858, 799, 492, 393, 833, 306, 699, 734, 337, 349, 241, 207, 236, 210, 225, 301, 268, 415, 274, 229, 471, 435, 352, 454, 668, 248, 280, 244, 299, 246, 800, 208, 702, 956, 347, 658, 527, 299, 338, 362, 393, 352, 475, 369, 369, 352, 259, 280, 325, 262, 194, 321, 195, 458, 489, 237, 316, 198, 266, 305, 296, 253, 407, 217, 239, 395, 323, 462, 358, 264, 289, 809, 332, 361, 560, 299, 213, 259, 283, 173, 324, 296, 381, 305, 207, 472, 341, 268, 228, 241, 578, 228, 230, 563, 404, 167, 384, 390, 613, 264, 223, 358, 500, 487, 619, 343, 241, 306, 497, 323, 410, 353, 195, 286, 463, 222, 622, 323, 404, 537, 268, 199, 325, 300, 764, 384, 424, 263, 254, 609, 346, 300, 362, 264, 407, 193, 218, 710, 436, 538, 400, 376, 358, 327, 256, 678, 371, 438, 341, 367, 399, 488, 550, 232, 233, 305, 279, 500, 444, 630, 320, 208, 266, 227, 681, 191, 334, 365, 238, 379, 267, 471, 219, 459, 648, 179, 149, 239, 562, 153, 529, 394, 358, 370, 290, 256, 300, 369, 292, 190, 367, 279, 302, 222, 231, 209, 209, 516, 236, 415, 295, 256, 233, 196, 166, 177, 355, 390, 335, 259, 229, 201, 250, 205, 538, 436, 406, 296, 276, 261, 414, 468, 391, 261, 519, 849, 236, 269, 348, 237, 463, 197, 253, 200, 244, 263, 405, 155, 173, 346, 536, 294, 380, 261, 275, 184, 218, 292, 339, 314, 189, 224, 223, 271, 547, 799, 394, 896, 138, 166, 241, 230, 306, 197, 192, 153, 314, 264, 237, 227, 323, 329, 203, 211, 514, 374, 389, 368, 792, 399, 244, 188, 296, 393, 423, 300, 182, 286, 272, 508, 398, 238, 282, 259, 946, 196, 446, 379, 266, 190, 314, 327, 166, 205, 295, 247, 422, 248, 252, 190, 922, 564, 392, 253, 221, 213, 300, 333, 190, 459, 345, 189, 509, 241, 134, 301, 242, 259, 395, 169, 439, 251, 166, 202, 211, 364, 370, 304, 523, 306, 300, 155, 261, 291, 434, 721, 207, 236, 268, 290, 277, 220, 317, 296, 337, 164, 261, 470, 218, 271, 331, 200, 533, 243, 499, 318, 361, 191, 287, 329, 258, 225, 236, 248, 178, 519, 218, 285, 256, 342, 298, 366, 344, 233, 213, 247, 191, 178, 202, 245, 218, 287, 363, 328, 326, 257, 218, 193, 441, 237, 264, 1015, 272, 243, 400, 193, 239, 207, 219, 189, 339, 208, 286, 205, 308, 218, 197, 257, 237, 502, 268, 212, 304, 244, 260, 256, 180, 261, 236, 427, 254, 359, 327, 231, 291, 276, 282, 200, 227, 356, 184, 337, 210, 296, 266, 414, 179, 170, 218, 206, 346, 185, 192, 213, 231, 222, 240, 222, 197, 453, 354, 325, 245, 256, 270, 278, 222, 204, 172, 241, 197, 197, 221, 272, 194, 218, 273, 310, 173, 194, 257, 180, 183, 430, 250, 283, 184, 228, 291, 215, 267, 267, 236, 330, 416, 365, 388, 270, 327, 301, 384, 384, 272, 329, 235, 324, 294, 261, 376, 289, 290, 236, 271, 262, 230, 335, 382, 375, 511, 257, 248, 191, 283, 211, 213, 346, 383, 278, 254, 305, 298, 295, 301, 343, 333, 1202, 1310, 316, 252, 501, 557, 324, 169, 228, 221, 203, 192, 284, 190, 236, 213, 198, 215, 216, 205, 243, 354, 221, 225, 486, 213, 325, 206, 230, 214, 246, 398, 175, 247, 232, 225, 239, 252, 197, 227, 287, 325, 338, 195, 207, 262, 283, 277, 1449, 1278, 1160, 412, 272, 261, 274, 284, 568, 216, 634, 422, 461, 245, 319, 467, 288, 206, 214, 240, 194, 196, 244, 331, 256, 214, 200, 296, 264, 195, 284, 250, 208, 220, 230, 248, 186, 198, 137, 214, 260, 192, 217, 225, 300, 225, 215, 347, 308, 389, 305, 359, 577, 381, 255, 229, 259, 278, 301, 214, 245, 254, 245, 288, 378, 372, 363, 307, 999, 264, 334, 292, 311, 374, 202, 805, 459, 346, 304, 299, 393, 443, 287, 178, 305, 314, 192, 244, 666, 243, 318, 238, 259, 297, 226, 171, 241, 260, 343, 357, 415, 322, 439, 717, 1209, 524, 225, 755, 592, 1053, 1020, 920, 901, 938, 918, 462, 353, 456, 469, 357, 266, 564, 269, 202, 276, 199, 241, 623, 792, 301, 574, 357, 316, 192, 235, 299, 841, 740, 806, 721, 783, 233, 231, 314, 456, 280, 282, 288, 302, 254, 440, 343, 434, 267, 268, 230, 337, 382, 538, 332, 444, 338, 375, 385, 383, 652, 780, 453, 642, 139, 178, 246, 434, 323, 277, 436, 343, 237, 204, 223, 342, 807, 292, 371, 205, 254, 298, 280, 220, 312, 238, 176, 187, 509, 405, 813, 196, 240, 377, 185, 231, 208, 283, 363, 386, 174, 983, 220, 413, 304, 184, 270, 277, 345, 364, 192, 279, 163, 337, 375, 269, 162, 505, 334, 265, 450, 525, 305, 227, 290, 237, 358, 453, 183, 442, 220, 225, 261, 263, 178, 360, 315, 453, 367, 230, 303, 240, 220, 350, 294, 350, 349, 206, 242, 273, 252, 219, 177, 256, 414, 458, 230, 262, 188, 404, 209, 215, 326, 250, 249, 184, 357, 238, 239, 176, 542, 572, 361, 564, 202, 249, 328, 261, 222, 249, 250, 218, 183, 263, 269, 275, 408, 504, 215, 204, 159, 287, 471, 154, 213, 238, 324, 554, 273, 178, 387, 556, 230, 273, 306, 222, 163, 225, 230, 229, 884, 312, 382, 273, 354, 239, 243, 205, 277, 333, 1049, 210, 189, 261, 215, 350, 180, 319, 175, 274, 215, 317, 194, 294, 245, 236, 292, 439, 231, 437, 213, 292, 167, 398, 262, 178, 296, 380, 326, 269, 277, 417, 176, 245, 333, 264, 374, 438, 303, 369, 292, 305, 304, 264, 305, 259, 171, 280, 378, 524, 291, 267, 275, 515, 187, 239, 285, 265, 269, 252, 263, 318, 204, 196, 246, 175, 313, 324, 231, 226, 492, 234, 226, 280, 306, 275, 276, 288, 262, 438, 356, 307, 520, 280, 217, 229, 265, 249, 257, 208, 228, 207, 220, 241, 227, 346, 330, 319, 432, 470, 185, 484, 169, 227, 470, 249, 321, 302, 302, 871, 239, 276, 216, 230, 304, 231, 254, 271, 297, 339, 247, 255, 232, 323, 302, 257, 251, 271, 227, 258, 210, 432, 268, 432, 301, 312, 210, 313, 408, 300, 275, 291, 251, 505, 233, 431, 221, 272, 322, 251, 261, 259, 284, 198, 235, 165, 221, 246, 297, 416, 333, 393, 409, 394, 336, 244, 358, 279, 845, 281, 289, 269, 297, 310, 339, 260, 262, 243, 241, 401, 243, 337, 367, 181, 238, 202, 448, 288, 361, 317, 333, 334, 382, 427, 211, 230, 235, 296, 300, 432, 354, 486, 285, 452, 427, 203, 328, 394, 187, 244, 235, 621, 367, 412, 374, 256, 285, 403, 252, 409, 327, 330, 337, 451, 247, 253, 288, 187, 244, 237, 279, 234, 307, 288, 296, 302, 227, 218, 336, 392, 491, 172, 310, 689, 408, 279, 233, 208, 211, 257, 244, 211, 229, 283, 449, 379, 242, 293, 360, 208, 209, 191, 279, 280, 201, 247, 186, 201, 312, 280, 263, 280, 209, 227, 270, 201, 281, 369, 223, 256, 237, 329, 287, 262, 244, 232, 197, 289, 354, 307, 221, 183, 178, 234, 277, 222, 196, 373, 587, 314, 193, 194, 218, 194, 204, 224, 341, 434, 219, 336, 222, 375, 288, 314, 391, 251, 235, 212, 349, 276, 296, 255, 187, 203, 225, 425, 299, 846, 312, 249, 433, 281, 275, 261, 196, 256, 797, 263, 247, 218, 403, 231, 258, 247, 235, 241, 237, 287, 222, 215, 269, 270, 335, 252, 188, 247, 265, 292, 270, 189, 283, 194, 173, 237, 164, 164, 281, 279, 161, 307, 160, 160, 164, 164, 322, 524, 246, 504, 570, 264, 353, 333, 302, 152, 287, 272, 290, 249, 244, 276, 276, 332, 314, 327, 346, 321, 332, 327, 377, 309, 184, 233, 355, 205, 235, 275, 320, 253, 279, 250, 329, 270, 327, 334, 346, 309, 235, 308, 330, 334, 368, 336, 295, 317, 316, 378, 346, 331, 342, 335, 371, 343, 387, 254, 202, 326, 337, 317, 332, 314, 262, 210, 200, 247, 226, 256, 316, 257, 248, 273, 236, 348, 227, 275, 274, 293, 375, 336, 342, 342, 329, 245, 276, 210, 319, 402, 462, 324, 229, 235, 406, 263, 312, 267, 262, 398, 307, 492, 615, 340, 343, 224, 379, 550, 269, 124, 333, 600, 296, 284, 291, 216, 379, 289, 339, 241, 279, 215, 309, 361, 936, 242, 231, 652, 196, 336, 208, 331, 295, 272, 294, 201, 225, 206, 252, 319, 211, 261, 223, 477, 362, 303, 348, 302, 277, 257, 208, 287, 236, 250, 263, 247, 221, 210, 698, 183, 345, 225, 181, 311, 288, 280, 246, 376, 205, 294, 197, 308, 179, 223, 256, 379, 257, 250, 553, 221, 709, 372, 704, 683, 575, 675, 698, 747, 327, 343, 565, 293, 318, 565, 710, 702, 772, 803, 717, 693, 500, 553, 491, 548, 573, 562, 506, 478, 566, 506, 481, 491, 693, 656, 760, 685, 747, 756, 618, 551, 591, 640, 640, 406, 317, 214, 454, 340, 468, 511, 519, 478, 539, 552, 511, 529, 528, 494, 495, 527, 563, 526, 519, 479, 458, 565, 508, 563, 341, 375, 367, 559, 257, 478, 344, 442, 495, 510, 502, 470, 466, 497, 525, 192, 539, 502, 463, 482, 526, 274, 489, 443, 423, 531, 497, 541, 437, 583, 468, 532, 514, 520, 457, 463, 407, 533, 508, 458, 514, 476, 294, 350, 240, 654, 634, 619, 597, 641, 607, 599, 629, 643, 615, 552, 353, 464, 297, 460, 447, 334, 294, 449, 411, 580, 619, 596, 601, 621, 676, 660, 649, 628, 660, 586, 667, 565, 635, 630, 651, 549, 622, 592, 607, 657, 512, 431, 323, 437, 415, 558, 563, 279, 558, 281, 459, 427, 412, 544, 446, 514, 388, 458, 319, 644, 582, 656, 613, 594, 557, 573, 612, 619, 249, 613, 617, 557, 641, 629, 577, 611, 441, 494, 447, 471, 417, 413, 472, 465, 394, 458, 421, 443, 459, 397, 473, 450, 427, 432, 426, 451, 430, 516, 550, 432, 463, 503, 534, 535, 462, 328, 504, 430, 444, 417, 423, 415, 531, 449, 512, 604, 465, 467, 405, 451, 474, 462, 473, 466, 439, 423, 422, 453, 449, 412, 493, 465, 465, 695, 529, 681, 455, 444, 432, 448, 460, 592, 464, 465, 426, 442, 458, 444, 416, 412, 421, 436, 459, 276, 927, 320, 615, 457, 226, 429, 346, 231, 196, 480, 470, 445, 433, 450, 291, 396, 452, 447, 463, 461, 307, 305, 425, 554, 421, 651, 307, 227, 334, 416, 745, 330, 246, 204, 337, 209, 796, 688, 393, 750, 306, 230, 246, 236, 253, 405, 232, 204, 326, 811, 386, 454, 238, 271, 847, 986, 892, 253, 270, 319, 682, 884, 465, 578, 401, 618, 618, 908, 937, 862, 556, 523, 594, 394, 542, 294, 920, 915, 347, 343, 902, 782, 834, 1025, 455, 509, 265, 223, 633, 651, 790, 669, 310, 298, 435, 417, 298, 358, 756, 411, 662, 275, 664, 664, 312, 342, 339, 331, 474, 271, 411, 277, 190, 334, 251, 421, 276, 384, 276, 208, 396, 714, 599, 309, 341, 295, 209, 256, 198, 622, 485, 651, 464, 539, 580, 597, 246, 808, 279, 467, 327, 184, 342, 212, 514, 273, 593, 239, 279, 364, 277, 288, 254, 235, 320, 246, 278, 299, 602, 214, 616, 330, 633, 606, 515, 341, 234, 303, 574, 364, 642, 427, 163, 354, 577, 624, 612, 272, 225, 609, 603, 546, 462, 617, 597, 563, 173, 399, 593, 667, 258, 162, 520, 526, 229, 580, 581, 382, 499, 341, 596, 581, 467, 529, 493, 604, 606, 562, 600, 592, 575, 481, 515, 495, 569, 539, 481, 590, 610, 359, 620, 547, 338, 295, 641, 391, 223, 211, 339, 498, 572, 699, 220, 613, 430, 622, 565, 268, 345, 346, 502, 607, 582, 719, 357, 604, 587, 632, 250, 708, 585, 578, 510, 559, 608, 226, 332, 391, 805, 328, 389, 349, 175, 185, 425, 367, 394, 452, 330, 861, 229, 246, 600, 243, 271, 263, 229, 376, 301, 347, 336, 274, 295, 347, 423, 194, 231, 365, 266, 385, 291, 258, 274, 225, 369, 332, 876, 187, 255, 422, 326, 281, 277, 248, 208, 281, 162, 344, 326, 204, 300, 314, 353, 245, 215, 293, 327, 398, 191, 194, 315, 222, 275, 476, 307, 388, 333, 421, 232, 266, 229, 304, 245, 223, 277, 174, 367, 288, 339, 431, 361, 522, 388, 200, 261, 524, 488, 399, 297, 290, 243, 231, 252, 341, 221, 251, 185, 290, 188, 294, 508, 808, 411, 449, 376, 217, 221, 404, 366, 400, 415, 248, 285, 250, 237, 342, 230, 674, 704, 423, 315, 208, 354, 394, 269, 375, 269, 306, 382, 334, 489, 327, 441, 997, 505, 459, 366, 287, 316, 341, 328, 244, 303, 274, 534, 278, 284, 316, 297, 263, 239, 260, 370, 311, 478, 310, 214, 233, 272, 300, 401, 551, 251, 331, 301, 318, 421, 226, 413, 203, 425, 276, 204, 523, 487, 376, 233, 244, 254, 308, 306, 226, 234, 211, 402, 649, 749, 656, 480, 311, 237, 286, 446, 335, 277, 186, 215, 228, 189, 315, 252, 427, 394, 310, 704, 207, 278, 338, 326, 240, 435, 312, 284, 186, 258, 209, 351, 467, 262, 247, 342, 307, 238, 312, 257, 661, 455, 574, 235, 344, 191, 272, 327, 251, 333, 249, 331, 350, 192, 291, 357, 331, 385, 272, 344, 345, 248, 304, 340, 206, 263, 279, 340, 245, 306, 255, 260, 331, 433, 195, 387, 227, 389, 481, 467, 491, 561, 400, 983, 624, 586, 438, 496, 400, 475, 996, 408, 202, 281, 206, 261, 741, 176, 772, 715, 325, 651, 377, 667, 302, 159, 278, 324, 664, 317, 853, 267, 279, 352, 264, 208, 224, 219, 418, 580, 278, 232, 717, 404, 391, 273, 195, 325, 364, 373, 397, 380, 318, 232, 407, 317, 393, 197, 478, 240, 183, 567, 192, 286, 237, 576, 695, 307, 404, 314, 362, 234, 382, 312, 1078, 626, 512, 482, 257, 530, 517, 537, 704, 387, 396, 372, 174, 212, 242, 908, 401, 348, 270, 1011, 330, 404, 359, 229, 393, 405, 413, 387, 222, 423, 259, 331, 428, 505, 238, 234, 382, 183, 261, 233, 248, 400, 318, 488, 346, 309, 408, 836, 591, 267, 334, 268, 213, 435, 396, 210, 630, 184, 454, 333, 324, 576, 221, 241, 220, 379, 228, 304, 808, 295, 397, 271, 394, 229, 234, 280, 443, 386, 592, 206, 184, 313, 200, 379, 232, 221, 304, 305, 400, 376, 185, 269, 154, 449, 227, 278, 305, 185, 305, 446, 298, 214, 306, 220, 267, 275, 363, 176, 289, 475, 188, 321, 317, 230, 333, 266, 272, 247, 311, 215, 190, 210, 301, 203, 267, 214, 294, 878, 213, 160, 1191, 364, 224, 237, 378, 308, 367, 300, 328, 382, 314, 292, 215, 295, 203, 505, 374, 275, 307, 461, 240, 1174, 598, 565, 313, 226, 287, 251, 299, 260, 201, 288, 273, 442, 222, 208, 329, 267, 366, 267, 372, 185, 169, 189, 424, 425, 250, 182, 301, 375, 261, 360, 305, 333, 288, 264, 295, 215, 243, 285, 342, 223, 352, 259, 115, 193, 207, 359, 562, 369, 459, 372, 567, 594, 836, 428, 289, 490, 286, 323, 231, 268, 414, 322, 338, 423, 384, 353, 516, 330, 202, 222, 304, 250, 255, 295, 327, 250, 486, 344, 321, 214, 196, 300, 179, 222, 271, 350, 291, 192, 237, 206, 586, 300, 251, 316, 193, 485, 430, 595, 187, 469, 516, 266, 353, 476, 323, 408, 361, 432, 413, 514, 647, 194, 524, 431, 530, 738, 456, 396, 1014, 432, 536, 284, 358, 263, 548, 238, 175, 167, 407, 461, 511, 514, 541, 287, 221, 479, 440, 646, 327, 259, 250, 459, 933, 344, 470, 194, 241, 226, 248, 306, 374, 230, 240, 194, 522, 419, 408, 471, 771, 494, 932, 518, 483, 470, 174, 468, 473, 400, 253, 269, 420, 244, 242, 173, 199, 564, 577, 485, 232, 696, 518, 310, 228, 242, 211, 524, 394, 539, 621, 304, 404, 436, 429, 243, 428, 369, 193, 260, 843, 363, 741, 598, 229, 491, 424, 458, 514, 270, 306, 455, 355, 329, 234, 309, 420, 442, 570, 620, 450, 541, 568, 344, 298, 512, 519, 311, 458, 491, 191, 215, 517, 512, 561, 407, 544, 458, 202, 203, 385, 429, 318, 243, 270, 614, 282, 511, 509, 478, 203, 409, 359, 355, 261, 324, 365, 578, 567, 776, 368, 489, 404, 490, 415, 130, 333, 517, 350, 356, 308, 411, 529, 515, 385, 414, 566, 379, 398, 262, 203, 234, 288, 188, 292, 367, 348, 196, 327, 355, 389, 366, 179, 440, 365, 271, 504, 436, 306, 385, 331, 356, 221, 247, 230, 293, 253, 327, 467, 403, 198, 233, 248, 300, 214, 260, 316, 313, 258, 285, 312, 393, 370, 293, 345, 312, 312, 310, 320, 198, 298, 242, 222, 385, 591, 270, 233, 310, 293, 303, 230, 259, 208, 247, 254, 429, 153, 168, 210, 331, 370, 182, 249, 386, 917, 229, 360, 290, 181, 385, 151, 273, 261, 200, 197, 283, 228, 789, 305, 185, 244, 155, 316, 361, 199, 232, 398, 386, 243, 251, 1100, 475, 184, 323, 482, 268, 167, 290, 418, 360, 378, 229, 407, 304, 199, 604, 265, 399, 373, 442, 271, 691, 305, 238, 302, 262, 893, 290, 220, 197, 333, 475, 783, 292, 304, 696, 212, 654, 364, 381, 203, 297, 216, 166, 211, 374, 413, 327, 268, 331, 283, 403, 332, 334, 630, 322, 197, 304, 360, 292, 204, 324, 245, 285, 279, 430, 299, 190, 542, 311, 357, 280, 199, 333, 364, 213, 300, 467, 300, 309, 350, 466, 367, 525, 496, 419, 628, 194, 199, 435, 649, 426, 222, 157, 251, 281, 235, 176, 185, 301, 501, 324, 323, 339, 324, 127, 305, 306, 319, 311, 345, 300, 393, 336, 198, 169, 175, 172, 387, 171, 174, 205, 191, 319, 365, 183, 280, 400, 339, 338, 246, 186, 341, 283, 199, 431, 464, 338, 535, 334, 289, 324, 294, 327, 340, 825, 313, 306, 322, 374, 302, 333, 774, 335, 301, 362, 417, 517, 414, 414, 282, 311, 364, 682, 339, 346, 350, 256, 366, 890, 554, 495, 322, 207, 439, 242, 590, 519, 399, 280, 342, 321, 357, 712, 339, 198, 804, 782, 703, 712, 744, 651, 681, 955, 989, 220, 643, 632, 675, 358, 319, 237, 310, 240, 324, 452, 346, 166, 329, 187, 361, 280, 338, 306, 255, 248, 173, 185, 249, 352, 359, 330, 446, 350, 422, 361, 401, 751, 290, 509, 248, 515, 480, 444, 284, 343, 512, 506, 525, 581, 549, 510, 301, 361, 278, 328, 310, 473, 501, 299, 378, 444, 538, 541, 301, 503, 337, 210, 505, 541, 519, 518, 497, 563, 255, 279, 300, 508, 517, 534, 522, 528, 562, 210, 260, 189, 552, 537, 433, 249, 485, 502, 559, 422, 506, 237, 230, 387, 181, 318, 365, 257, 534, 375, 279, 460, 532, 541, 553, 494, 1160, 228, 207, 498, 199, 247, 182, 1052, 350, 230, 272, 559, 526, 535, 543, 502, 535, 537, 474, 533, 551, 510, 364, 284, 1015, 511, 533, 277, 321, 310, 281, 207, 319, 242, 329, 694, 311, 670, 258, 304, 201, 309, 416, 313, 269, 258, 346, 330, 411, 291, 198, 220, 377, 177, 217, 216, 338, 337, 206, 234, 244, 188, 353, 405, 368, 214, 367, 310, 267, 204, 171, 223, 212, 269, 313, 282, 207, 601, 244, 352, 211, 182, 228, 184, 270, 240, 421, 201, 417, 427, 232, 465, 409, 384, 375, 205, 340, 271, 259, 186, 504, 214, 252, 230, 256, 333, 223, 190, 227, 334, 300, 441, 293, 204, 200, 273, 293, 530, 271, 414, 493, 516, 334, 316, 386, 605, 336, 297, 265, 347, 291, 248, 222, 184, 184, 209, 276, 240, 184, 198, 204, 223, 394, 602, 257, 364, 393, 306, 201, 267, 298, 213, 178, 307, 248, 204, 296, 316, 304, 332, 405, 204, 217, 232, 579, 278, 299, 234, 309, 1044, 282, 316, 257, 226, 596, 182, 182, 182, 184, 182, 216, 254, 212, 197, 252, 342, 182, 326, 182, 182, 182, 182, 182, 454, 249, 203, 587, 197, 398, 196, 404, 223, 486, 342, 190, 300, 199, 432, 963, 281, 259, 211, 194, 171, 332, 919, 221, 226, 239, 164, 164, 164, 190, 223, 264, 213, 164, 214, 164, 164, 164, 164, 164, 164, 164, 164, 164, 164, 164, 164, 181, 181, 181, 181, 181, 264, 233, 201, 207, 194, 167, 357, 253, 236, 302, 203, 195, 275, 164, 220, 164, 369, 273, 295, 371, 609, 346, 329, 340, 164, 164, 244, 848, 280, 289, 284, 547, 397, 471, 360, 208, 164, 164, 404, 164, 360, 466, 285, 164, 164, 164, 164, 530, 215, 387, 442, 338, 272, 482, 442, 214, 388, 180, 164, 180, 164, 208, 571, 164, 164, 180, 256, 799, 430, 180, 180, 180, 279, 225, 447, 520, 185, 512, 204, 185, 185, 185, 468, 179, 179, 179, 179, 214, 268, 164, 164, 164, 164, 184, 184, 184, 184, 184, 164, 164, 164, 164, 164, 204, 163, 165, 165, 165, 165, 165, 165, 165, 165, 184, 188, 188, 184, 188, 188, 182, 182, 182, 182, 197, 197, 182, 197, 187, 187, 187, 187, 187, 187, 187, 164, 452, 225, 204, 208, 204, 208, 164, 164, 164, 164, 164, 164, 164, 164, 164, 164, 164, 164, 164, 164, 164, 170, 170, 160, 160, 160, 160, 162, 162, 162, 162, 176, 176, 176, 176, 182, 182, 182, 182, 182, 182, 182, 187, 186, 186, 186, 186, 164, 164, 164, 171, 171, 171, 171, 163, 163, 163, 163, 160, 160, 160, 160, 164, 164, 164, 164, 164, 164, 164, 164, 164, 164, 164, 164, 164, 164, 164, 164, 164, 164, 164, 164, 164, 187, 187, 225, 225, 229, 231, 158, 158, 158, 164, 164, 164, 164, 160, 160, 160, 160, 160, 189, 189, 164, 189, 164, 164, 164, 173, 164, 186, 186, 186, 186, 158, 164, 164, 164, 164, 164, 164, 164, 164, 164, 164, 190, 190, 190, 190, 190, 190, 187, 187, 164, 164, 164, 164, 201, 201, 187, 187, 187, 187, 187, 191, 191, 191, 191, 187, 187, 187, 187, 201, 201, 215, 215, 214, 193, 193, 214, 195, 192, 172, 172, 172, 172, 187, 187, 187, 187, 187, 187, 187, 187, 182, 189, 189, 189, 189, 189, 189, 189, 164, 164, 164, 164, 164, 164, 164, 164, 164, 164, 164, 164, 164, 164, 164, 417, 316, 164, 182, 182, 182, 182, 182, 182, 182, 182, 182, 182, 182, 182, 182, 316, 272, 223, 354, 221, 312, 182, 182, 182, 182, 182, 182, 190, 190, 190, 202, 202, 202, 202, 193, 193, 193, 193, 182, 182, 287, 182, 182, 182, 182, 250, 318, 187, 404, 249, 364, 190, 190, 190, 304, 298, 401, 285, 325, 182, 182, 182, 182, 182, 356, 182, 275, 182, 354, 366, 233, 224, 266, 231, 355, 361, 412, 255, 226, 390, 344, 866, 306, 297, 679, 208, 491, 304, 326, 595, 144, 213, 861, 346, 344, 290, 299, 528, 493, 248, 370, 399, 191, 355, 186, 235, 265, 419, 487, 375, 234, 264, 190, 190, 190, 270, 162, 190, 162, 162, 162, 162, 162, 190, 233, 390, 227, 253, 337, 175, 503, 299, 564, 164, 164, 164, 164, 164, 200, 211, 210, 210, 317, 182, 207, 236, 164, 164, 164, 164, 164, 177, 177, 200, 204, 204, 208, 208, 164, 164, 164, 164, 164, 164, 164, 164, 180, 180, 190, 190, 190, 190, 190, 190, 182, 182, 182, 182, 182, 182, 164, 180, 180, 251, 180, 180, 180, 180, 180, 180, 397, 406, 524, 645, 164, 285, 448, 164, 329, 164, 164, 305, 263, 182, 182, 182, 182, 182, 187, 187, 182, 182, 182, 182, 182, 182, 182, 182, 182, 182, 182, 182, 182, 182, 182, 182, 187, 187, 289, 371, 353, 406, 187, 187, 544, 499, 208, 229, 238, 175, 151, 254, 216, 283, 162, 162, 162, 162, 162, 162, 164, 164, 164, 164, 170, 237, 170, 170, 321, 252, 183, 184, 183, 182, 182, 182, 182, 182, 182, 182, 182, 182, 229, 182, 182, 182, 182, 182, 182, 182, 255, 453, 253, 385, 182, 281, 182, 182, 182, 182, 196, 182, 182, 182, 182, 182, 182, 182, 182, 240, 240, 239, 239, 198, 198, 198, 198, 170, 191, 195, 219, 190, 283, 393, 230, 267, 204, 715, 356, 199, 211, 199, 199, 200, 199, 187, 187, 187, 187, 191, 191, 191, 201, 201, 242, 215, 186, 186, 410, 267, 282, 586, 272, 189, 282, 212, 432, 249, 247, 184, 182, 374, 411, 334, 1039, 1039, 238, 434, 293, 373, 365, 336, 294, 237, 184, 314, 472, 379, 212, 483, 335, 664, 288, 424, 1091, 196, 243, 272, 321, 272, 389, 431, 403, 292, 240, 380, 303, 244, 230, 284, 175, 235, 226, 238, 244, 227, 191, 241, 209, 694, 258, 252, 285, 169, 374, 262, 358, 618, 303, 211, 336, 437, 276, 237, 336, 249, 281, 391, 235, 401, 302, 283, 380, 227, 222, 155, 228, 169, 181, 324, 194, 565, 296, 260, 467, 533, 317, 231, 463, 497, 290, 299, 513, 353, 601, 376, 455, 527, 329, 417, 536, 365, 531, 484, 445, 370, 495, 680, 498, 431, 358, 376, 238, 330, 399, 359, 549, 241, 508, 441, 536, 322, 233, 473, 313, 192, 417, 659, 359, 387, 524, 295, 482, 220, 1008, 309, 584, 298, 165, 402, 190, 557, 236, 313, 188, 269, 485, 309, 383, 309, 244, 382, 317, 277, 226, 218, 220, 198, 188, 382, 389, 288, 509, 200, 262, 247, 241, 293, 318, 542, 232, 317, 203, 352, 293, 271, 283, 960, 266, 384, 190, 249, 282, 268, 211, 249, 133, 739, 269, 253, 425, 209, 999, 336, 238, 302, 210, 214, 285, 240, 266, 612, 279, 491, 399, 310, 221, 251, 253, 226, 241, 202, 346, 262, 302, 278, 286, 237, 272, 280, 239, 390, 158, 279, 433, 357, 234, 286, 214, 215, 287, 239, 363, 678, 217, 474, 305, 293, 232, 298, 331, 190, 223, 257, 209, 207, 321, 191, 211, 162, 269, 448, 375, 217, 184, 256, 303, 240, 243, 307, 214, 370, 346, 271, 305, 243, 284, 236, 190, 299, 229, 546, 178, 225, 250, 241, 318, 188, 264, 307, 239, 272, 246, 238, 348, 388, 244, 284, 215, 316, 279, 271, 232, 225, 229, 266, 267, 454, 258, 188, 238, 373, 248, 294, 181, 1022, 203, 227, 239, 204, 284, 508, 210, 321, 502, 189, 192, 195, 233, 241, 186, 204, 194, 253, 261, 327, 408, 346, 314, 422, 323, 194, 303, 319, 251, 237, 278, 367, 184, 307, 173, 168, 253, 259, 234, 393, 441, 221, 203, 235, 216, 198, 299, 225, 316, 323, 219, 189, 254, 173, 241, 196, 600, 363, 226, 212, 203, 228, 304, 192, 519, 625, 260, 315, 915, 534, 379, 211, 500, 450, 323, 229, 219, 243, 474, 371, 460, 529, 287, 301, 343, 280, 359, 237, 368, 337, 233, 321, 210, 280, 313, 275, 339, 299, 703, 813, 687, 776, 625, 697, 738, 677, 688, 749, 271, 378, 335, 289, 406, 407, 493, 460, 425, 479, 470, 474, 478, 460, 477, 486, 424, 451, 827, 717, 727, 721, 750, 624, 677, 677, 707, 721, 692, 702, 759, 656, 592, 443, 599, 478, 208, 255, 217, 408, 337, 648, 724, 660, 663, 318, 252, 391, 494, 393, 240, 564, 387, 285, 433, 386, 222, 394, 286, 400, 384, 389, 557, 413, 373, 496, 565, 476, 490, 500, 495, 504, 490, 523, 526, 584, 539, 539, 384, 419, 473, 516, 545, 500, 394, 523, 543, 524, 533, 546, 474, 478, 544, 509, 514, 507, 541, 483, 432, 566, 513, 479, 511, 516, 498, 489, 512, 492, 553, 686, 526, 496, 498, 199, 337, 339, 178, 327, 167, 369, 183, 423, 297, 340, 268, 258, 316, 287, 400, 251, 285, 201, 538, 600, 528, 256, 233, 274, 479, 252, 202, 183, 356, 233, 365, 410, 250, 168, 378, 329, 423, 371, 447, 203, 232, 273, 283, 329, 335, 323, 314, 314, 383, 257, 284, 348, 209, 346, 330, 312, 370, 331, 379, 386, 428, 302, 382, 263, 319, 263, 441, 575, 283, 404, 324, 244, 364, 346, 257, 291, 556, 371, 533, 342, 365, 547, 430, 469, 465, 539, 550, 404, 283, 358, 434, 373, 418, 387, 246, 240, 361, 333, 268, 319, 339, 412, 366, 319, 307, 261, 402, 458, 455, 572, 438, 546, 430, 548, 468, 532, 509, 448, 211, 456, 204, 264, 302, 329, 291, 412, 314, 328, 477, 516, 838, 547, 626, 560, 509, 435, 502, 285, 347, 416, 440, 475]\n"
          ]
        }
      ]
    },
    {
      "cell_type": "code",
      "metadata": {
        "colab": {
          "base_uri": "https://localhost:8080/",
          "height": 162,
          "referenced_widgets": [
            "c3884eac307344ad879eebce78f169ee",
            "7776054013b54c37a05a8f2999aa0736",
            "872727747f6e44d1ac11ac873b1ab505",
            "e816161f05ba47baa8caabf8db492a0f",
            "d327137b115a40af9d3ee409d9384ffe",
            "27280c9841e74bc09b89cf6ed75c2cfc",
            "7e9c407bcadb4747be0193a74c9277b7",
            "d77c9544bb804c8a9238f83f9fe54740",
            "500ae7069fec4733bc27ad744f5a7562",
            "832869a8f5a44fbf94a1ab21b537d82b",
            "7069fc3479a947e88c3d6fa28db86f71",
            "d2a6cd10c75a43f8addb4b108276b58a",
            "04e9c23eb688415d8fe9b45ce56d298f",
            "a9f272f25a4c4dd783d5367318a924d4",
            "cfaab2219cb04249ad46d57aca435414",
            "ed91d739ec91455f805e4e5108acede9",
            "854a91edcda04813aa5bd8e5e7585b47",
            "6b8cddf9a4a842e79145fa9823b607c9",
            "9587adfd192f479bb72790991af01e3e",
            "3451cd3963a3436d8f4026abe8398a67",
            "ee7fcbc2e938448591221476ada7ee65",
            "4af73f98648b4919a8b1ecdc7e62739d",
            "b153f756f40e46b5a60d2cafe0effdc6",
            "1160ba559dbf488887491c6e5a0ee2ee",
            "9f12a067ff6b4fa5b1181fdaf9f7e4bd",
            "0db2a7a0e81449b890f1425ee994c2fc",
            "ff8d213872e6413f8c022ad6bcc485ae",
            "3c81e79400e0407ca63a4b54529557d9",
            "3e1e3e1b749c4abcb1808d800d9cd1ee",
            "bd8401491cfb4a108cc006189462a3c1",
            "7c5a23076488486d826df37c5f8f4b1f",
            "b3a129d5f1c4410b957654114a730f75",
            "3c8311951f854b41b8d203ea14603869",
            "46236f59bd5a4872b61d896ce1254573",
            "08bad0931822400885ca63d832010b71",
            "c5d9e4ebf33943cdb1184e68b8d315d0",
            "84d1d4b884f14e199215e1c040de291a",
            "279c4419e15845d482a23be2f8ee1f8b",
            "aa289f5c660042399347decf55a03740",
            "0cf15ca1a5334f21a8ec18c5a160a9f3",
            "267e16ad446a43e7bd2fc61411102f38",
            "9f73ece9dbdf4382953377fafe607d79",
            "dd3419d0899f4a18a610c6558db66911",
            "b2571e3e037541a9bf4301cb53edab25"
          ]
        },
        "id": "t2eeXRW4Hde3",
        "outputId": "4d33796b-5c5e-4333-a47d-d6001a171d79"
      },
      "source": [
        "from transformers import DistilBertTokenizer\n",
        "tokenizer = DistilBertTokenizer.from_pretrained('distilbert-base-cased')"
      ],
      "execution_count": null,
      "outputs": [
        {
          "output_type": "display_data",
          "data": {
            "application/vnd.jupyter.widget-view+json": {
              "model_id": "c3884eac307344ad879eebce78f169ee",
              "version_minor": 0,
              "version_major": 2
            },
            "text/plain": [
              "Downloading:   0%|          | 0.00/213k [00:00<?, ?B/s]"
            ]
          },
          "metadata": {}
        },
        {
          "output_type": "display_data",
          "data": {
            "application/vnd.jupyter.widget-view+json": {
              "model_id": "d2a6cd10c75a43f8addb4b108276b58a",
              "version_minor": 0,
              "version_major": 2
            },
            "text/plain": [
              "Downloading:   0%|          | 0.00/29.0 [00:00<?, ?B/s]"
            ]
          },
          "metadata": {}
        },
        {
          "output_type": "display_data",
          "data": {
            "application/vnd.jupyter.widget-view+json": {
              "model_id": "b153f756f40e46b5a60d2cafe0effdc6",
              "version_minor": 0,
              "version_major": 2
            },
            "text/plain": [
              "Downloading:   0%|          | 0.00/436k [00:00<?, ?B/s]"
            ]
          },
          "metadata": {}
        },
        {
          "output_type": "display_data",
          "data": {
            "application/vnd.jupyter.widget-view+json": {
              "model_id": "46236f59bd5a4872b61d896ce1254573",
              "version_minor": 0,
              "version_major": 2
            },
            "text/plain": [
              "Downloading:   0%|          | 0.00/411 [00:00<?, ?B/s]"
            ]
          },
          "metadata": {}
        },
        {
          "output_type": "execute_result",
          "data": {
            "text/plain": [
              "['hello', 'world', 'world']"
            ]
          },
          "metadata": {},
          "execution_count": 25
        }
      ]
    },
    {
      "cell_type": "code",
      "metadata": {
        "colab": {
          "base_uri": "https://localhost:8080/"
        },
        "id": "3pYvFY5gHk--",
        "outputId": "afcc5055-ab0b-436c-cc48-dc2bf039db7f"
      },
      "source": [
        "lent4 = [] #yes\n",
        "total_length4 = []\n",
        "dis4 = []\n",
        "distinct4 = []\n",
        "for i in range(5000):\n",
        "  tok = tokenizer.tokenize(body[i])\n",
        "  lent4.append(len(tok))\n",
        "  for x in tok:\n",
        "    if x not in dis4:\n",
        "      dis4.append(x)\n",
        "  distinct4.append(len(dis4))\n",
        "  dis4.clear()\n",
        "\n",
        "print(lent4)\n",
        "print(distinct4)"
      ],
      "execution_count": null,
      "outputs": [
        {
          "output_type": "stream",
          "name": "stdout",
          "text": [
            "[486, 1019, 799, 548, 397, 697, 446, 327, 762, 836, 383, 411, 480, 1229, 469, 617, 778, 604, 836, 658, 931, 1199, 372, 344, 999, 1434, 732, 729, 1294, 513, 420, 1168, 645, 610, 668, 554, 769, 633, 861, 554, 758, 1031, 534, 375, 542, 568, 508, 414, 574, 539, 1187, 503, 601, 673, 1005, 627, 1117, 361, 526, 536, 904, 663, 676, 465, 587, 376, 369, 433, 960, 523, 412, 668, 625, 884, 365, 408, 770, 2038, 1789, 915, 1021, 510, 860, 888, 1344, 1624, 668, 1639, 661, 713, 480, 1058, 1139, 621, 1355, 1721, 399, 815, 974, 471, 1009, 982, 653, 517, 964, 704, 474, 391, 329, 332, 405, 1321, 661, 529, 397, 506, 692, 858, 941, 575, 460, 1621, 659, 417, 490, 1294, 514, 1404, 1162, 381, 342, 342, 1073, 858, 764, 573, 704, 400, 361, 576, 359, 854, 395, 904, 422, 469, 368, 468, 406, 316, 322, 508, 661, 1405, 607, 1363, 1632, 645, 1129, 667, 606, 312, 698, 358, 1159, 403, 430, 608, 469, 459, 505, 440, 443, 705, 521, 2382, 542, 572, 708, 923, 434, 502, 847, 358, 551, 415, 975, 670, 566, 708, 899, 343, 382, 1702, 1605, 1881, 805, 328, 501, 977, 595, 340, 1160, 497, 844, 383, 392, 341, 608, 488, 1067, 503, 1780, 3059, 712, 664, 556, 557, 646, 602, 888, 1666, 632, 841, 554, 466, 598, 390, 654, 323, 360, 480, 951, 869, 856, 820, 335, 823, 862, 931, 391, 2282, 1732, 1117, 881, 2168, 540, 1488, 1452, 703, 695, 643, 438, 546, 442, 429, 705, 514, 975, 715, 453, 1110, 915, 810, 1016, 1817, 544, 583, 483, 555, 437, 2176, 371, 1404, 2161, 752, 1265, 1188, 569, 619, 749, 877, 834, 862, 687, 705, 678, 573, 558, 697, 488, 366, 762, 313, 943, 1216, 422, 560, 362, 505, 715, 665, 554, 926, 437, 420, 927, 640, 981, 711, 593, 615, 2287, 771, 801, 1213, 713, 460, 450, 552, 312, 826, 735, 813, 632, 406, 1065, 795, 516, 451, 442, 1139, 456, 437, 1323, 841, 312, 846, 807, 1388, 458, 398, 852, 1175, 988, 1319, 640, 426, 731, 1156, 590, 788, 800, 343, 553, 1083, 535, 1391, 700, 936, 1532, 556, 346, 697, 733, 1958, 887, 989, 524, 498, 1603, 756, 626, 706, 623, 955, 396, 420, 2298, 1112, 1430, 979, 953, 781, 650, 521, 1869, 895, 1110, 824, 721, 822, 1200, 1285, 453, 506, 629, 530, 952, 1076, 1215, 602, 440, 533, 549, 1506, 409, 683, 787, 404, 845, 542, 1234, 429, 1208, 1798, 354, 333, 510, 1471, 341, 1385, 851, 766, 772, 660, 500, 585, 852, 645, 347, 739, 596, 610, 503, 462, 430, 396, 1138, 470, 1009, 549, 526, 506, 380, 336, 354, 785, 956, 944, 545, 379, 368, 511, 407, 1524, 1131, 870, 747, 630, 532, 1016, 1077, 928, 567, 1152, 2471, 461, 467, 765, 592, 1007, 407, 532, 354, 534, 497, 1099, 358, 359, 702, 1205, 543, 787, 631, 612, 341, 480, 711, 815, 795, 373, 490, 425, 574, 1087, 2234, 939, 2427, 352, 370, 622, 376, 700, 367, 425, 374, 879, 553, 501, 455, 735, 799, 377, 415, 1085, 798, 899, 815, 2202, 848, 493, 332, 532, 683, 925, 506, 384, 631, 562, 1275, 853, 449, 693, 494, 2547, 410, 1019, 769, 548, 402, 661, 707, 365, 366, 529, 472, 946, 503, 493, 341, 2666, 1324, 886, 478, 467, 404, 690, 751, 329, 1062, 763, 374, 1117, 519, 345, 575, 522, 435, 757, 323, 1105, 459, 301, 377, 403, 788, 878, 671, 1369, 698, 726, 325, 487, 614, 1071, 2117, 396, 457, 584, 487, 523, 501, 624, 734, 713, 310, 504, 1576, 501, 567, 737, 390, 1115, 500, 1066, 708, 830, 392, 496, 645, 464, 503, 457, 466, 361, 993, 418, 567, 535, 630, 595, 668, 649, 486, 453, 518, 380, 307, 353, 485, 446, 500, 674, 602, 637, 408, 423, 343, 965, 440, 758, 3460, 579, 481, 996, 415, 460, 487, 430, 365, 805, 383, 572, 445, 700, 540, 360, 552, 548, 1236, 500, 392, 584, 475, 473, 449, 367, 486, 412, 810, 507, 729, 671, 477, 605, 508, 617, 391, 433, 675, 319, 705, 371, 589, 456, 1013, 399, 333, 444, 362, 745, 408, 458, 438, 468, 439, 522, 488, 406, 1006, 740, 602, 503, 629, 611, 682, 386, 486, 343, 498, 408, 369, 390, 495, 426, 444, 570, 637, 413, 346, 511, 385, 351, 1358, 496, 486, 376, 482, 579, 343, 502, 678, 489, 589, 950, 759, 795, 496, 594, 614, 843, 970, 604, 591, 391, 641, 667, 523, 1075, 642, 609, 507, 731, 673, 541, 707, 798, 735, 1506, 564, 479, 348, 542, 368, 437, 719, 796, 537, 472, 686, 556, 614, 637, 697, 687, 4002, 3977, 548, 492, 1252, 1352, 663, 396, 586, 416, 385, 388, 585, 414, 407, 493, 377, 356, 368, 469, 533, 789, 427, 427, 1278, 431, 852, 488, 607, 337, 602, 1165, 312, 516, 464, 490, 461, 469, 440, 483, 643, 898, 647, 342, 409, 453, 495, 523, 4108, 4007, 3593, 1033, 566, 495, 621, 544, 1530, 441, 1676, 1011, 1018, 540, 629, 1028, 677, 460, 389, 398, 364, 388, 534, 563, 418, 429, 423, 575, 475, 352, 540, 470, 399, 358, 358, 495, 353, 380, 435, 380, 520, 367, 466, 425, 609, 392, 390, 1178, 559, 723, 581, 628, 1076, 780, 449, 402, 560, 540, 539, 460, 506, 450, 480, 634, 901, 679, 679, 616, 2770, 564, 594, 647, 647, 807, 414, 2112, 1172, 839, 605, 639, 835, 1113, 633, 336, 602, 619, 400, 521, 1664, 483, 572, 476, 596, 622, 446, 318, 366, 453, 674, 714, 992, 583, 912, 1745, 3101, 1280, 409, 1770, 1548, 3687, 3437, 3542, 3492, 3246, 3546, 1271, 844, 1162, 1139, 833, 546, 1665, 572, 424, 570, 438, 501, 1854, 2607, 665, 1795, 743, 1224, 400, 444, 578, 2208, 1818, 1923, 1779, 1767, 441, 434, 1110, 996, 518, 493, 502, 608, 435, 1073, 648, 1050, 532, 644, 471, 696, 890, 1288, 746, 910, 723, 803, 874, 903, 1860, 2003, 938, 1682, 345, 334, 509, 1004, 670, 474, 944, 807, 481, 385, 494, 782, 2557, 594, 942, 405, 581, 669, 552, 448, 689, 452, 357, 327, 1199, 924, 2494, 362, 398, 861, 430, 402, 397, 618, 753, 910, 330, 2869, 434, 998, 743, 368, 602, 575, 670, 779, 388, 633, 362, 650, 949, 581, 348, 1201, 759, 552, 1042, 1274, 590, 416, 662, 455, 685, 1166, 315, 1082, 402, 550, 504, 577, 324, 831, 718, 977, 808, 533, 695, 469, 483, 833, 583, 821, 763, 447, 471, 547, 570, 379, 362, 570, 1027, 1064, 393, 462, 336, 1000, 402, 395, 685, 518, 451, 330, 888, 409, 507, 345, 1220, 1288, 824, 1355, 367, 583, 701, 554, 420, 515, 443, 438, 357, 589, 490, 512, 790, 1287, 428, 342, 338, 613, 1018, 432, 458, 447, 832, 973, 498, 410, 676, 1185, 430, 491, 590, 426, 318, 480, 507, 436, 2436, 622, 743, 588, 780, 551, 455, 483, 490, 605, 2892, 715, 428, 532, 418, 736, 341, 818, 345, 591, 362, 653, 443, 685, 487, 407, 674, 1056, 507, 983, 445, 672, 323, 873, 403, 342, 533, 801, 722, 530, 546, 997, 327, 475, 674, 518, 744, 983, 656, 832, 521, 560, 553, 504, 540, 508, 417, 541, 881, 1119, 522, 509, 517, 1342, 417, 416, 605, 513, 530, 498, 518, 589, 360, 490, 554, 526, 752, 655, 478, 406, 1112, 390, 408, 499, 587, 538, 606, 529, 484, 915, 675, 606, 1299, 595, 357, 393, 509, 421, 478, 367, 394, 402, 373, 463, 420, 767, 604, 634, 891, 1046, 332, 1210, 398, 365, 983, 439, 650, 612, 529, 2765, 393, 482, 389, 553, 648, 422, 486, 525, 577, 683, 539, 676, 476, 648, 671, 482, 594, 490, 486, 518, 456, 965, 430, 963, 575, 647, 343, 583, 815, 653, 570, 570, 477, 1078, 408, 963, 397, 520, 694, 446, 553, 455, 752, 368, 438, 385, 483, 639, 626, 842, 649, 800, 762, 738, 617, 426, 838, 489, 2222, 539, 534, 557, 598, 589, 655, 529, 544, 455, 465, 862, 505, 767, 660, 309, 510, 331, 883, 492, 821, 524, 613, 618, 736, 818, 408, 494, 417, 613, 642, 902, 704, 1389, 503, 899, 874, 360, 621, 1115, 337, 430, 404, 1343, 736, 884, 867, 449, 590, 913, 442, 855, 684, 663, 703, 1042, 491, 561, 523, 429, 440, 464, 575, 439, 663, 541, 583, 609, 512, 451, 742, 844, 1054, 341, 581, 1570, 843, 524, 487, 392, 398, 530, 443, 358, 417, 648, 988, 854, 474, 520, 728, 370, 370, 372, 545, 558, 355, 500, 397, 348, 630, 546, 526, 538, 351, 460, 505, 382, 556, 787, 454, 532, 498, 630, 550, 468, 418, 418, 407, 542, 818, 554, 507, 385, 337, 452, 571, 417, 361, 775, 1386, 546, 398, 409, 433, 379, 392, 443, 764, 930, 451, 726, 436, 814, 533, 520, 661, 472, 470, 369, 654, 633, 600, 529, 365, 373, 496, 806, 539, 2396, 555, 504, 1039, 524, 462, 542, 328, 411, 1755, 437, 488, 461, 816, 475, 563, 459, 420, 518, 519, 614, 401, 410, 591, 551, 916, 582, 428, 519, 489, 535, 486, 375, 532, 503, 346, 465, 322, 322, 571, 585, 317, 573, 308, 308, 320, 320, 568, 1356, 492, 1044, 1401, 513, 618, 608, 592, 307, 527, 503, 574, 435, 474, 540, 523, 594, 590, 701, 754, 642, 700, 707, 811, 649, 374, 434, 693, 393, 394, 516, 604, 570, 470, 513, 665, 451, 717, 741, 676, 735, 469, 662, 729, 733, 870, 781, 657, 737, 730, 769, 714, 673, 820, 698, 748, 742, 901, 494, 481, 719, 757, 724, 773, 677, 637, 378, 376, 498, 454, 482, 614, 446, 514, 500, 411, 585, 448, 531, 539, 594, 775, 643, 734, 683, 695, 466, 579, 443, 637, 843, 1071, 758, 507, 469, 917, 446, 667, 538, 509, 1029, 563, 1303, 1522, 612, 684, 572, 749, 1128, 445, 383, 734, 1271, 615, 580, 558, 457, 696, 543, 636, 427, 597, 499, 605, 767, 2673, 508, 507, 1922, 375, 742, 410, 748, 595, 564, 601, 429, 443, 498, 499, 759, 410, 591, 422, 1203, 946, 543, 633, 579, 633, 511, 602, 480, 499, 571, 539, 456, 456, 451, 2141, 329, 740, 414, 364, 540, 657, 613, 558, 743, 371, 716, 370, 541, 355, 471, 651, 790, 595, 509, 1163, 461, 2012, 802, 1734, 1723, 1696, 1784, 1799, 1885, 700, 725, 1427, 645, 658, 1431, 1821, 1848, 1975, 1851, 1940, 1907, 1345, 1409, 1353, 1423, 1375, 1366, 1252, 1445, 1373, 1253, 1387, 1317, 1886, 1701, 2007, 1690, 1913, 1910, 1698, 1512, 1312, 1652, 1577, 1033, 670, 367, 1152, 758, 1097, 1294, 1230, 1420, 1303, 1376, 1300, 1336, 1384, 1298, 1236, 1300, 1278, 1271, 1325, 1272, 1316, 1386, 1342, 1463, 735, 700, 793, 1379, 636, 1069, 781, 1049, 1305, 1294, 1419, 1172, 1280, 1286, 1182, 335, 1357, 1212, 1228, 1301, 1445, 619, 1249, 1161, 1066, 1460, 1143, 1521, 1047, 1419, 1083, 1256, 1443, 1310, 1218, 1241, 1229, 1335, 1351, 1188, 1302, 1271, 766, 699, 485, 1528, 1552, 1473, 1499, 1536, 1496, 1505, 1608, 1537, 1517, 1497, 691, 1092, 689, 1132, 1005, 764, 616, 1131, 1059, 1486, 1442, 1418, 1505, 1616, 1579, 1569, 1507, 1468, 1680, 1518, 1600, 1481, 1542, 1535, 1586, 1515, 1508, 1464, 1561, 1613, 1350, 1030, 671, 1098, 1080, 1333, 1455, 621, 1393, 531, 1071, 1078, 1046, 1324, 1043, 1246, 812, 1070, 683, 1577, 1428, 1587, 1492, 1515, 1389, 1451, 1471, 1601, 499, 1461, 1618, 1423, 1488, 1486, 1404, 1596, 945, 1076, 873, 905, 885, 844, 1189, 925, 930, 983, 1059, 937, 1010, 1120, 1069, 908, 911, 902, 871, 907, 839, 1136, 1133, 917, 927, 1169, 1236, 1256, 1043, 702, 982, 940, 954, 915, 877, 948, 1130, 922, 1337, 1474, 996, 1002, 947, 1003, 1004, 1006, 1092, 995, 951, 936, 891, 931, 999, 972, 1145, 993, 1004, 1870, 1289, 1706, 1055, 960, 959, 938, 957, 1320, 1029, 924, 905, 978, 987, 976, 957, 925, 921, 965, 991, 563, 3443, 634, 1513, 1065, 477, 891, 671, 423, 354, 981, 970, 930, 950, 883, 593, 892, 936, 963, 961, 891, 594, 615, 895, 1245, 1032, 2128, 609, 460, 1035, 898, 2422, 685, 471, 411, 683, 479, 2857, 2510, 880, 2347, 893, 454, 539, 564, 526, 1087, 572, 412, 703, 2347, 855, 1075, 522, 591, 3727, 3386, 3559, 502, 554, 608, 2638, 3872, 1098, 1443, 841, 1496, 1563, 3254, 3196, 3045, 1723, 1803, 1405, 870, 1272, 595, 3453, 3557, 748, 723, 3362, 2483, 2900, 3780, 1099, 1181, 550, 468, 1475, 1682, 2051, 1742, 701, 638, 1128, 1003, 537, 932, 1984, 954, 1621, 475, 1629, 1691, 625, 783, 793, 760, 1054, 569, 955, 570, 335, 662, 536, 927, 543, 848, 565, 377, 875, 1782, 1518, 728, 742, 572, 417, 449, 354, 1538, 1037, 1592, 943, 1230, 1304, 1402, 495, 2224, 594, 1265, 980, 340, 758, 427, 993, 591, 1539, 484, 560, 873, 596, 616, 507, 399, 666, 490, 609, 650, 1388, 516, 1510, 709, 1622, 1541, 1304, 738, 413, 671, 1410, 746, 1521, 960, 333, 690, 1388, 1579, 1460, 563, 471, 1337, 1610, 1456, 1110, 1473, 1484, 1295, 362, 827, 1350, 1676, 568, 370, 1163, 1239, 484, 1472, 1248, 902, 1201, 671, 1484, 1371, 1048, 1221, 1081, 1391, 1540, 1450, 1381, 1354, 1369, 1192, 1359, 1028, 1343, 1164, 1049, 1418, 1433, 816, 1415, 1323, 747, 591, 1551, 772, 385, 396, 827, 1057, 1402, 1678, 507, 1425, 884, 1432, 1244, 616, 782, 766, 1132, 1482, 1387, 1855, 752, 1408, 1560, 1512, 473, 1664, 1433, 1363, 1215, 1426, 1398, 640, 699, 919, 2125, 739, 841, 804, 361, 342, 1021, 720, 846, 1008, 817, 2328, 466, 467, 1565, 439, 626, 508, 492, 838, 734, 810, 677, 509, 647, 719, 1049, 356, 493, 809, 574, 841, 583, 585, 524, 392, 762, 625, 2078, 350, 529, 857, 668, 571, 482, 452, 392, 583, 336, 737, 685, 362, 873, 650, 639, 466, 395, 622, 657, 872, 360, 352, 657, 406, 618, 1051, 582, 917, 692, 942, 450, 538, 448, 660, 508, 442, 608, 328, 756, 612, 657, 898, 778, 1271, 873, 348, 474, 1168, 1016, 819, 618, 599, 491, 437, 520, 732, 529, 488, 361, 643, 326, 521, 974, 2332, 825, 1014, 793, 377, 469, 1049, 858, 807, 870, 538, 637, 539, 496, 701, 479, 1370, 1395, 1091, 830, 386, 816, 811, 518, 760, 502, 597, 777, 580, 1098, 707, 973, 2491, 1055, 911, 758, 566, 656, 754, 639, 476, 622, 597, 1294, 552, 605, 697, 571, 519, 425, 479, 863, 545, 936, 665, 463, 469, 620, 662, 893, 1290, 508, 822, 612, 693, 981, 449, 745, 387, 956, 614, 454, 1055, 1064, 745, 418, 477, 442, 623, 504, 459, 511, 418, 812, 1478, 1945, 1413, 986, 683, 505, 594, 969, 688, 543, 369, 378, 378, 385, 637, 530, 863, 916, 582, 1572, 392, 475, 740, 740, 471, 1073, 675, 589, 373, 507, 434, 876, 1003, 537, 473, 778, 669, 464, 589, 472, 1466, 1192, 1384, 442, 690, 337, 595, 686, 495, 737, 532, 737, 780, 352, 567, 757, 702, 814, 574, 720, 677, 538, 651, 720, 393, 514, 600, 695, 472, 634, 543, 560, 667, 1011, 357, 876, 476, 919, 1041, 993, 1121, 1265, 950, 2608, 1557, 1360, 969, 1090, 968, 1064, 2962, 843, 405, 520, 367, 493, 1844, 346, 2300, 2071, 730, 1943, 771, 1993, 692, 373, 484, 594, 1697, 627, 2426, 532, 542, 807, 436, 456, 483, 420, 916, 1434, 613, 495, 2070, 855, 970, 620, 391, 726, 818, 841, 907, 929, 662, 440, 805, 717, 779, 343, 1132, 472, 379, 1450, 442, 604, 472, 1373, 1925, 631, 991, 692, 775, 553, 733, 562, 3800, 1497, 1404, 1237, 489, 1333, 1426, 1435, 1840, 807, 908, 750, 324, 410, 476, 3041, 795, 612, 439, 3112, 580, 831, 851, 408, 782, 820, 890, 800, 410, 864, 638, 692, 972, 1180, 458, 449, 754, 339, 623, 510, 413, 931, 619, 956, 777, 659, 923, 2215, 1527, 478, 667, 575, 465, 1000, 923, 406, 1535, 355, 1016, 799, 770, 1531, 426, 409, 406, 877, 416, 736, 1941, 543, 952, 536, 918, 535, 512, 635, 1046, 774, 1445, 362, 380, 683, 401, 784, 406, 465, 655, 751, 964, 836, 358, 573, 293, 1086, 486, 633, 700, 387, 711, 1035, 655, 454, 644, 379, 552, 525, 838, 353, 528, 1176, 384, 625, 630, 443, 671, 581, 583, 588, 706, 435, 338, 381, 637, 374, 535, 420, 586, 2588, 403, 306, 3402, 842, 479, 522, 986, 756, 908, 525, 730, 883, 547, 559, 411, 685, 474, 1092, 872, 596, 657, 1081, 527, 3259, 1355, 1267, 712, 419, 693, 533, 595, 511, 396, 690, 595, 938, 454, 369, 694, 520, 828, 499, 810, 334, 318, 343, 1059, 984, 541, 332, 608, 811, 469, 905, 625, 695, 621, 617, 673, 459, 413, 619, 770, 412, 741, 569, 358, 343, 431, 726, 1252, 851, 1118, 794, 1086, 1162, 2158, 805, 656, 982, 659, 657, 450, 488, 856, 690, 708, 936, 910, 794, 1207, 618, 424, 446, 613, 483, 483, 689, 701, 452, 1089, 676, 661, 402, 367, 643, 346, 378, 512, 663, 569, 340, 484, 351, 1443, 601, 519, 684, 369, 1140, 1034, 1411, 320, 1034, 1208, 533, 760, 1046, 692, 892, 783, 980, 943, 1211, 1556, 391, 1259, 985, 1214, 1751, 1002, 934, 2875, 1001, 1297, 527, 819, 589, 1268, 502, 328, 325, 1028, 1093, 1172, 1237, 1260, 547, 399, 1104, 887, 1554, 682, 547, 483, 1027, 2255, 745, 1161, 376, 412, 397, 461, 611, 791, 525, 408, 348, 1107, 934, 841, 978, 2119, 1058, 2518, 1360, 1220, 1044, 322, 932, 1066, 1049, 491, 501, 929, 499, 452, 308, 390, 1352, 1406, 1181, 437, 1724, 1306, 711, 413, 458, 437, 1039, 761, 1214, 1329, 632, 892, 863, 1017, 482, 890, 826, 343, 586, 2328, 836, 1715, 1399, 383, 1205, 880, 909, 1177, 583, 735, 1203, 752, 616, 428, 672, 928, 965, 1451, 1522, 964, 1312, 1340, 819, 610, 1120, 1452, 600, 964, 1191, 393, 431, 1192, 1137, 1197, 894, 1167, 975, 440, 399, 902, 934, 622, 448, 477, 1536, 700, 1094, 1160, 1051, 383, 1025, 742, 780, 493, 683, 842, 1409, 1735, 2197, 741, 1060, 817, 1032, 818, 363, 817, 1093, 720, 759, 588, 837, 1304, 1192, 837, 870, 1398, 787, 1011, 503, 467, 567, 547, 305, 572, 767, 819, 344, 674, 808, 754, 719, 341, 953, 826, 541, 1106, 936, 573, 742, 730, 663, 472, 550, 557, 736, 469, 661, 937, 851, 364, 393, 451, 545, 449, 631, 704, 681, 513, 601, 653, 924, 795, 678, 852, 659, 776, 715, 682, 338, 612, 505, 394, 753, 1626, 561, 469, 570, 538, 672, 452, 509, 412, 510, 501, 949, 338, 322, 408, 681, 789, 389, 490, 994, 2692, 508, 768, 581, 321, 888, 343, 442, 532, 367, 324, 602, 477, 2005, 627, 337, 485, 318, 723, 739, 334, 357, 757, 826, 411, 390, 2996, 1125, 330, 687, 1104, 528, 373, 553, 815, 666, 783, 508, 970, 645, 350, 1239, 492, 843, 717, 976, 592, 1434, 621, 534, 475, 416, 2286, 622, 474, 457, 577, 949, 2397, 591, 533, 2014, 350, 1487, 889, 819, 401, 650, 415, 452, 417, 848, 928, 749, 524, 701, 598, 1059, 754, 805, 1756, 736, 355, 740, 858, 696, 444, 700, 482, 625, 621, 991, 574, 325, 1326, 633, 811, 764, 406, 764, 711, 416, 716, 896, 626, 616, 732, 837, 784, 1039, 1288, 754, 1740, 409, 342, 1002, 1461, 926, 487, 361, 481, 648, 502, 405, 404, 732, 1065, 653, 668, 716, 686, 309, 665, 625, 678, 724, 704, 525, 798, 676, 452, 396, 408, 368, 844, 359, 362, 408, 402, 550, 735, 408, 448, 995, 744, 671, 468, 354, 722, 573, 349, 951, 1190, 648, 1217, 698, 652, 663, 575, 675, 679, 1958, 571, 599, 709, 718, 609, 635, 1879, 757, 594, 845, 887, 1028, 804, 880, 586, 608, 794, 1858, 714, 717, 692, 467, 755, 1900, 1370, 1008, 648, 357, 944, 440, 1422, 1188, 824, 504, 800, 640, 647, 1796, 686, 355, 2699, 2437, 2224, 2348, 2379, 2029, 2076, 2732, 3249, 408, 2169, 1929, 2013, 723, 696, 427, 554, 493, 785, 1165, 787, 331, 685, 397, 812, 715, 805, 583, 591, 498, 426, 406, 599, 812, 876, 699, 1106, 815, 921, 762, 911, 1962, 571, 1016, 463, 1258, 1154, 969, 588, 629, 1419, 1094, 1177, 1307, 1192, 1181, 681, 781, 581, 824, 607, 1157, 1168, 767, 901, 1019, 1223, 1137, 680, 1323, 680, 365, 1111, 1243, 1250, 1163, 1237, 1192, 509, 574, 724, 1118, 1230, 1151, 1115, 1133, 1221, 438, 516, 432, 1316, 1267, 1113, 445, 1194, 1251, 1292, 940, 1253, 467, 412, 724, 316, 732, 843, 486, 1250, 820, 564, 1114, 1110, 1129, 1232, 982, 3128, 469, 462, 1003, 387, 572, 363, 3046, 728, 544, 581, 1195, 1318, 1146, 1253, 1318, 1256, 1210, 1338, 1185, 1399, 1356, 847, 534, 3163, 1263, 1407, 581, 708, 580, 587, 409, 673, 516, 710, 1726, 546, 1727, 577, 642, 367, 547, 1145, 761, 624, 511, 880, 757, 906, 640, 390, 613, 746, 338, 454, 470, 815, 902, 352, 409, 456, 405, 846, 1036, 933, 388, 894, 748, 595, 486, 334, 568, 458, 520, 695, 618, 388, 1342, 472, 902, 451, 391, 518, 333, 522, 466, 1111, 368, 1057, 1055, 462, 1032, 791, 877, 706, 434, 792, 536, 633, 345, 1191, 406, 576, 403, 541, 659, 499, 413, 493, 768, 701, 856, 641, 413, 386, 569, 641, 1484, 709, 1105, 1324, 1427, 792, 724, 854, 1386, 733, 694, 530, 818, 508, 457, 490, 383, 383, 424, 591, 466, 383, 338, 350, 425, 766, 1916, 536, 830, 936, 751, 385, 478, 704, 392, 410, 617, 594, 390, 610, 747, 659, 801, 1085, 418, 483, 476, 1293, 693, 557, 389, 745, 3085, 561, 615, 517, 514, 1412, 396, 396, 396, 383, 396, 440, 468, 530, 355, 625, 658, 396, 820, 396, 396, 396, 396, 396, 1081, 422, 403, 1293, 396, 843, 388, 1020, 400, 1355, 656, 348, 670, 332, 897, 2657, 580, 461, 398, 332, 313, 601, 2867, 424, 517, 556, 345, 345, 345, 434, 561, 564, 438, 345, 490, 345, 345, 345, 345, 345, 345, 345, 345, 345, 345, 345, 345, 385, 385, 385, 385, 385, 495, 473, 425, 457, 340, 319, 799, 494, 467, 754, 369, 377, 520, 345, 481, 345, 850, 745, 660, 1043, 1804, 856, 879, 865, 345, 345, 551, 3349, 547, 662, 562, 1531, 904, 991, 872, 491, 345, 345, 960, 345, 707, 1115, 629, 345, 345, 345, 345, 1007, 372, 763, 948, 654, 562, 1009, 1183, 367, 800, 385, 345, 385, 345, 373, 1442, 345, 345, 385, 492, 2083, 917, 385, 385, 385, 505, 441, 985, 1135, 386, 1032, 399, 386, 386, 386, 1149, 344, 344, 344, 344, 376, 634, 345, 345, 345, 345, 397, 397, 397, 397, 397, 345, 345, 345, 345, 345, 378, 311, 330, 330, 330, 330, 330, 330, 330, 330, 397, 392, 392, 397, 392, 392, 388, 388, 388, 388, 403, 403, 388, 403, 393, 393, 393, 387, 387, 387, 387, 345, 834, 459, 347, 352, 347, 352, 345, 345, 345, 345, 345, 345, 345, 345, 345, 345, 345, 345, 345, 345, 345, 333, 333, 318, 318, 318, 318, 329, 329, 329, 329, 337, 337, 337, 337, 388, 388, 388, 388, 388, 388, 388, 393, 392, 392, 392, 392, 345, 345, 345, 328, 328, 328, 328, 318, 318, 318, 318, 316, 316, 316, 316, 345, 345, 345, 345, 345, 345, 345, 345, 345, 345, 345, 345, 345, 345, 345, 345, 345, 345, 345, 345, 345, 395, 395, 437, 437, 441, 442, 318, 318, 318, 345, 345, 345, 345, 314, 314, 314, 314, 314, 394, 394, 345, 394, 345, 345, 345, 393, 345, 395, 395, 395, 395, 318, 345, 345, 345, 345, 345, 345, 345, 345, 345, 345, 408, 408, 408, 408, 408, 408, 400, 400, 345, 345, 345, 345, 420, 420, 388, 388, 388, 388, 388, 388, 388, 388, 388, 388, 388, 388, 388, 420, 420, 424, 424, 423, 399, 399, 423, 405, 397, 327, 327, 327, 327, 388, 388, 388, 388, 388, 388, 388, 388, 388, 391, 391, 391, 391, 391, 391, 391, 345, 345, 345, 345, 345, 345, 345, 345, 345, 345, 345, 345, 345, 345, 345, 779, 542, 345, 388, 388, 388, 388, 388, 388, 388, 388, 388, 388, 388, 388, 388, 606, 573, 400, 695, 410, 562, 379, 379, 379, 379, 379, 379, 393, 393, 393, 443, 443, 443, 443, 395, 395, 395, 395, 388, 388, 571, 388, 388, 388, 388, 454, 632, 379, 986, 557, 680, 393, 393, 393, 729, 638, 997, 635, 700, 388, 388, 388, 388, 388, 717, 388, 653, 388, 729, 931, 430, 461, 543, 443, 883, 708, 982, 465, 444, 817, 914, 2332, 865, 594, 1652, 433, 1143, 625, 802, 1439, 296, 383, 2263, 697, 736, 629, 633, 1349, 1120, 459, 778, 734, 354, 829, 339, 480, 551, 996, 868, 846, 389, 493, 389, 389, 389, 416, 314, 389, 314, 314, 314, 314, 314, 403, 446, 751, 411, 484, 794, 354, 1218, 703, 2580, 345, 345, 345, 345, 345, 347, 400, 399, 399, 627, 390, 446, 437, 345, 345, 345, 345, 345, 339, 339, 345, 356, 354, 429, 429, 345, 345, 345, 345, 345, 345, 345, 345, 388, 388, 399, 399, 399, 399, 399, 399, 388, 388, 388, 388, 390, 390, 345, 388, 388, 521, 388, 388, 388, 388, 388, 388, 884, 910, 1282, 1732, 345, 459, 1054, 345, 710, 345, 345, 621, 531, 390, 390, 390, 390, 390, 386, 386, 390, 390, 390, 390, 390, 390, 390, 390, 390, 390, 390, 390, 390, 390, 390, 390, 386, 386, 568, 754, 759, 941, 386, 386, 1248, 1106, 440, 468, 455, 330, 341, 482, 445, 620, 349, 349, 349, 349, 349, 349, 326, 326, 326, 326, 323, 540, 323, 323, 613, 505, 350, 350, 349, 390, 390, 390, 390, 390, 390, 390, 390, 390, 466, 390, 390, 390, 390, 390, 390, 390, 527, 1241, 496, 801, 390, 609, 390, 390, 390, 390, 424, 390, 390, 390, 390, 390, 390, 390, 390, 489, 489, 488, 488, 345, 346, 346, 345, 323, 390, 408, 441, 356, 495, 881, 400, 626, 389, 2822, 762, 344, 456, 345, 345, 345, 344, 396, 396, 396, 396, 390, 390, 390, 425, 425, 472, 467, 392, 392, 971, 600, 627, 1777, 597, 341, 567, 363, 1131, 638, 485, 342, 320, 886, 809, 725, 3606, 3606, 595, 1040, 500, 708, 687, 594, 495, 504, 375, 524, 1034, 795, 498, 1068, 576, 1903, 579, 841, 2749, 370, 523, 700, 744, 507, 747, 1019, 940, 573, 515, 874, 644, 502, 512, 546, 365, 535, 507, 485, 503, 447, 374, 430, 446, 1951, 573, 477, 560, 408, 830, 444, 747, 1381, 595, 423, 552, 750, 483, 381, 613, 392, 423, 707, 385, 1002, 526, 665, 850, 458, 430, 372, 473, 325, 351, 731, 341, 1350, 508, 626, 1350, 1589, 703, 484, 1485, 1709, 758, 626, 1576, 740, 1709, 851, 1243, 1819, 828, 1287, 1910, 816, 1687, 1303, 1135, 948, 1613, 1334, 1044, 912, 857, 1131, 464, 974, 874, 973, 1666, 497, 1421, 932, 1561, 766, 548, 1322, 734, 404, 1023, 1670, 839, 997, 1671, 712, 1131, 400, 2142, 658, 1827, 730, 363, 906, 352, 1510, 506, 676, 340, 505, 1567, 759, 1247, 748, 424, 917, 871, 569, 463, 382, 427, 413, 383, 802, 1187, 706, 1666, 421, 592, 517, 544, 595, 818, 1746, 502, 744, 376, 964, 650, 557, 586, 2780, 583, 870, 346, 513, 605, 675, 395, 480, 392, 1476, 515, 451, 903, 410, 3053, 669, 495, 507, 377, 364, 621, 479, 608, 1479, 600, 1028, 826, 784, 413, 586, 476, 409, 467, 361, 714, 501, 611, 552, 725, 399, 575, 623, 497, 869, 316, 475, 782, 850, 529, 526, 421, 424, 607, 601, 931, 1533, 371, 1103, 680, 692, 474, 650, 643, 400, 391, 594, 402, 548, 673, 334, 356, 313, 528, 994, 886, 574, 354, 608, 761, 613, 590, 766, 371, 865, 756, 542, 629, 504, 564, 440, 375, 726, 478, 1286, 360, 482, 531, 418, 704, 338, 548, 665, 436, 576, 442, 445, 882, 880, 515, 539, 430, 882, 496, 566, 505, 692, 428, 608, 580, 1023, 482, 408, 472, 1031, 514, 644, 366, 2793, 369, 532, 566, 387, 570, 1053, 419, 628, 979, 359, 392, 356, 442, 525, 383, 370, 355, 467, 598, 787, 911, 698, 744, 1020, 669, 332, 655, 686, 535, 456, 533, 815, 362, 834, 329, 352, 536, 518, 472, 866, 933, 415, 429, 473, 382, 468, 532, 379, 607, 692, 474, 400, 500, 308, 451, 374, 1820, 896, 483, 423, 459, 375, 607, 371, 1243, 1581, 524, 747, 2652, 1629, 912, 481, 1213, 909, 808, 498, 460, 494, 1155, 1055, 1172, 1317, 694, 865, 719, 589, 815, 509, 894, 865, 451, 811, 339, 936, 801, 605, 870, 690, 1625, 2025, 1772, 2029, 1507, 1924, 1844, 1986, 1851, 1857, 652, 831, 807, 677, 893, 952, 1180, 979, 1120, 1157, 1105, 1017, 1195, 1134, 1037, 1039, 977, 1022, 2217, 1958, 1909, 2047, 2214, 1499, 1775, 1605, 1726, 1916, 1725, 1872, 1915, 1694, 1350, 1276, 1339, 1328, 400, 548, 588, 1060, 837, 1595, 1716, 1938, 1862, 808, 592, 1109, 1524, 908, 454, 1781, 1180, 789, 1158, 1130, 423, 1005, 654, 1033, 790, 774, 1243, 961, 773, 1100, 1171, 896, 1089, 992, 1087, 1172, 1031, 1161, 1037, 1242, 1253, 1140, 920, 950, 1007, 1026, 1164, 984, 791, 1040, 1032, 1044, 1199, 1270, 1177, 1056, 1165, 1143, 1163, 1149, 1088, 1066, 999, 1113, 1062, 1086, 1148, 1166, 1114, 1170, 1076, 1030, 1095, 1673, 1209, 1082, 1076, 404, 644, 692, 391, 756, 339, 731, 389, 857, 589, 783, 535, 603, 757, 623, 819, 559, 597, 465, 1175, 1447, 1352, 599, 440, 542, 1346, 493, 383, 398, 733, 542, 751, 850, 449, 377, 901, 677, 936, 804, 1047, 339, 569, 664, 533, 650, 597, 686, 606, 566, 829, 496, 562, 671, 339, 731, 836, 794, 703, 726, 715, 828, 916, 591, 832, 542, 691, 507, 1218, 1335, 517, 822, 648, 543, 769, 697, 435, 683, 1121, 749, 1490, 805, 720, 1434, 1166, 973, 1117, 1294, 1633, 955, 535, 844, 976, 795, 888, 812, 574, 428, 783, 652, 456, 720, 736, 935, 684, 686, 608, 481, 934, 1045, 1019, 1509, 1034, 1243, 1160, 1318, 1126, 1285, 1262, 950, 430, 1094, 410, 521, 579, 676, 545, 827, 772, 707, 1290, 1101, 2446, 1268, 1585, 1293, 1069, 1047, 1144, 555, 625, 1059, 1022, 1116]\n",
            "[265, 542, 395, 281, 215, 319, 232, 186, 308, 378, 238, 233, 252, 561, 265, 248, 375, 265, 351, 303, 387, 520, 197, 189, 467, 662, 290, 325, 549, 288, 230, 499, 347, 299, 294, 273, 334, 352, 359, 330, 391, 362, 224, 157, 244, 270, 227, 222, 275, 268, 501, 304, 308, 324, 467, 276, 409, 217, 254, 203, 469, 343, 354, 246, 287, 154, 200, 234, 512, 227, 221, 286, 333, 428, 218, 228, 417, 797, 400, 420, 524, 273, 387, 435, 556, 608, 331, 785, 293, 337, 245, 445, 505, 333, 664, 708, 255, 437, 493, 252, 513, 467, 294, 268, 406, 344, 292, 219, 201, 198, 228, 531, 300, 253, 254, 301, 318, 430, 439, 259, 257, 459, 333, 208, 214, 585, 262, 513, 435, 219, 193, 193, 480, 368, 331, 276, 336, 187, 216, 278, 151, 348, 197, 382, 204, 245, 214, 257, 219, 180, 187, 211, 305, 570, 310, 523, 584, 314, 505, 358, 329, 183, 261, 181, 540, 223, 217, 339, 277, 253, 260, 245, 201, 292, 228, 683, 283, 279, 314, 455, 219, 251, 384, 172, 315, 232, 378, 343, 290, 313, 486, 192, 234, 787, 820, 706, 375, 183, 264, 451, 296, 177, 510, 233, 397, 216, 205, 204, 279, 296, 437, 244, 666, 960, 325, 268, 264, 305, 272, 304, 454, 666, 325, 353, 273, 238, 298, 221, 301, 206, 199, 223, 450, 431, 445, 367, 197, 424, 385, 431, 260, 868, 792, 513, 399, 874, 322, 748, 763, 348, 366, 245, 202, 252, 214, 226, 309, 273, 424, 275, 228, 483, 450, 374, 471, 693, 261, 295, 255, 307, 253, 816, 218, 731, 979, 341, 676, 537, 314, 346, 365, 402, 366, 487, 380, 372, 360, 261, 282, 336, 278, 203, 339, 203, 480, 510, 250, 315, 208, 267, 311, 294, 263, 415, 216, 242, 412, 334, 480, 370, 270, 303, 841, 335, 389, 564, 296, 217, 258, 285, 177, 328, 306, 384, 304, 207, 484, 347, 272, 233, 244, 609, 228, 244, 591, 412, 172, 395, 393, 627, 267, 234, 372, 519, 503, 637, 351, 248, 312, 523, 331, 425, 367, 200, 293, 476, 229, 642, 326, 399, 513, 282, 201, 321, 312, 762, 385, 430, 269, 254, 625, 351, 317, 377, 270, 424, 203, 221, 727, 437, 545, 408, 389, 355, 336, 256, 691, 373, 444, 347, 377, 409, 458, 517, 239, 249, 326, 292, 506, 457, 649, 331, 214, 279, 233, 698, 190, 339, 380, 246, 387, 270, 488, 226, 475, 669, 191, 151, 252, 579, 169, 524, 415, 365, 377, 295, 258, 321, 379, 292, 199, 384, 296, 310, 231, 229, 213, 214, 529, 238, 427, 293, 263, 234, 204, 167, 184, 359, 398, 349, 269, 234, 203, 257, 202, 549, 441, 408, 298, 288, 270, 424, 483, 386, 266, 539, 871, 234, 296, 355, 235, 495, 202, 255, 203, 257, 272, 431, 157, 172, 356, 549, 304, 393, 271, 298, 190, 222, 301, 344, 314, 189, 236, 235, 273, 555, 803, 411, 912, 145, 168, 253, 232, 311, 205, 185, 152, 300, 269, 241, 227, 330, 322, 200, 197, 530, 378, 398, 374, 782, 403, 255, 195, 312, 420, 436, 311, 184, 303, 278, 488, 409, 246, 295, 263, 983, 203, 452, 397, 273, 192, 315, 333, 175, 218, 308, 247, 413, 247, 242, 193, 943, 580, 410, 243, 227, 206, 312, 334, 198, 465, 349, 195, 521, 243, 142, 316, 251, 260, 409, 175, 449, 267, 181, 213, 225, 375, 393, 303, 517, 296, 304, 159, 261, 299, 443, 742, 212, 247, 275, 303, 270, 227, 332, 325, 350, 166, 261, 457, 219, 287, 326, 193, 558, 264, 524, 326, 370, 207, 289, 341, 281, 232, 255, 263, 182, 529, 219, 291, 277, 360, 318, 378, 356, 244, 223, 260, 190, 184, 202, 247, 229, 301, 347, 344, 340, 261, 224, 198, 452, 242, 266, 1041, 280, 251, 406, 193, 250, 214, 226, 189, 322, 200, 266, 202, 307, 211, 193, 243, 242, 539, 274, 225, 321, 256, 278, 272, 186, 273, 246, 426, 251, 349, 331, 238, 291, 266, 280, 198, 231, 343, 185, 317, 196, 303, 270, 436, 183, 171, 232, 210, 362, 193, 200, 218, 241, 227, 254, 227, 204, 463, 362, 338, 237, 258, 265, 271, 223, 210, 170, 244, 185, 199, 218, 270, 178, 225, 282, 326, 185, 202, 262, 186, 192, 429, 262, 286, 180, 220, 285, 216, 273, 259, 233, 328, 431, 370, 391, 264, 331, 301, 376, 387, 283, 334, 255, 342, 292, 256, 362, 300, 290, 240, 266, 271, 229, 316, 377, 370, 486, 248, 234, 198, 292, 210, 205, 344, 379, 264, 265, 306, 287, 286, 298, 329, 317, 1172, 1293, 320, 254, 517, 551, 350, 180, 236, 236, 210, 193, 288, 195, 235, 213, 194, 219, 218, 206, 245, 355, 206, 211, 474, 212, 321, 196, 209, 214, 228, 429, 179, 250, 237, 238, 247, 261, 203, 232, 296, 318, 345, 197, 206, 266, 289, 291, 1401, 1239, 1113, 426, 279, 278, 284, 290, 587, 220, 666, 437, 465, 257, 319, 473, 284, 208, 224, 243, 171, 192, 221, 325, 252, 222, 206, 294, 271, 189, 285, 244, 209, 219, 226, 240, 184, 204, 150, 221, 252, 201, 220, 235, 304, 228, 231, 360, 295, 382, 301, 338, 569, 389, 262, 232, 278, 292, 290, 223, 248, 266, 251, 303, 389, 384, 376, 313, 1039, 266, 342, 307, 315, 360, 201, 782, 463, 344, 299, 297, 397, 464, 296, 178, 320, 332, 192, 247, 683, 248, 314, 228, 242, 306, 242, 172, 250, 270, 333, 358, 394, 323, 435, 703, 1185, 533, 229, 721, 607, 1032, 1002, 882, 875, 907, 876, 467, 361, 432, 456, 341, 263, 528, 271, 202, 282, 201, 253, 611, 767, 290, 563, 380, 325, 193, 240, 294, 829, 754, 817, 740, 767, 232, 239, 330, 466, 291, 295, 308, 330, 257, 452, 352, 433, 268, 282, 227, 347, 394, 523, 343, 423, 353, 384, 388, 379, 642, 749, 439, 636, 142, 186, 255, 453, 334, 292, 453, 358, 235, 203, 222, 347, 823, 299, 373, 204, 253, 318, 290, 226, 313, 251, 184, 189, 519, 410, 841, 202, 248, 375, 188, 236, 213, 288, 366, 400, 175, 978, 236, 435, 311, 184, 274, 282, 364, 379, 193, 287, 167, 354, 392, 272, 163, 516, 338, 270, 463, 540, 324, 233, 292, 250, 379, 455, 182, 442, 224, 234, 266, 267, 189, 361, 323, 465, 387, 236, 307, 245, 221, 357, 303, 358, 356, 207, 247, 291, 259, 229, 175, 264, 430, 465, 234, 264, 198, 407, 223, 216, 337, 258, 257, 183, 374, 246, 253, 180, 574, 605, 369, 600, 203, 246, 338, 261, 234, 259, 259, 223, 182, 263, 275, 283, 412, 535, 215, 218, 159, 295, 494, 163, 214, 245, 355, 565, 284, 185, 419, 563, 233, 284, 319, 227, 167, 234, 237, 238, 905, 323, 394, 269, 363, 242, 237, 202, 283, 363, 1082, 214, 198, 266, 220, 352, 189, 323, 177, 275, 214, 319, 199, 312, 255, 247, 299, 450, 240, 444, 222, 296, 174, 405, 263, 186, 310, 397, 338, 280, 291, 434, 183, 259, 348, 282, 389, 455, 316, 368, 298, 321, 317, 272, 312, 273, 174, 295, 378, 532, 299, 275, 283, 524, 189, 251, 288, 280, 276, 258, 268, 321, 212, 200, 254, 180, 319, 336, 248, 234, 480, 219, 229, 288, 316, 280, 278, 296, 280, 458, 355, 317, 552, 290, 221, 234, 278, 248, 269, 217, 234, 216, 228, 256, 235, 352, 345, 333, 449, 488, 185, 471, 176, 216, 461, 247, 324, 294, 296, 900, 238, 272, 226, 235, 309, 242, 264, 271, 301, 340, 256, 253, 230, 326, 299, 260, 254, 282, 231, 259, 224, 408, 263, 408, 293, 297, 218, 298, 401, 309, 282, 301, 258, 510, 245, 443, 225, 283, 326, 255, 264, 269, 298, 201, 245, 167, 222, 252, 319, 412, 331, 376, 407, 383, 337, 235, 353, 290, 849, 276, 301, 270, 306, 322, 350, 265, 263, 247, 237, 417, 255, 358, 352, 184, 251, 208, 434, 278, 359, 311, 336, 323, 369, 441, 220, 237, 237, 302, 301, 442, 356, 474, 283, 461, 435, 204, 344, 379, 198, 257, 240, 629, 363, 411, 355, 245, 290, 394, 241, 392, 336, 317, 325, 463, 249, 267, 303, 193, 258, 249, 293, 237, 306, 296, 311, 314, 221, 212, 321, 388, 506, 174, 319, 708, 392, 278, 225, 217, 204, 253, 244, 207, 234, 276, 467, 382, 254, 309, 368, 200, 206, 186, 265, 273, 201, 260, 183, 211, 324, 296, 277, 293, 221, 215, 278, 201, 269, 378, 221, 272, 247, 343, 284, 262, 244, 233, 208, 311, 366, 319, 218, 180, 183, 233, 276, 229, 190, 384, 569, 309, 196, 205, 224, 202, 211, 225, 321, 434, 215, 329, 213, 360, 275, 317, 398, 267, 250, 221, 367, 283, 306, 258, 182, 201, 223, 419, 305, 850, 325, 243, 435, 294, 280, 273, 197, 267, 784, 252, 243, 219, 396, 221, 279, 254, 237, 236, 243, 284, 236, 219, 271, 275, 345, 264, 183, 244, 273, 304, 273, 194, 285, 187, 184, 234, 175, 175, 281, 290, 172, 313, 172, 172, 174, 174, 330, 535, 260, 485, 555, 274, 363, 342, 313, 151, 289, 286, 301, 257, 241, 294, 290, 335, 339, 325, 359, 313, 340, 330, 384, 317, 186, 243, 370, 206, 242, 294, 332, 288, 292, 258, 355, 285, 335, 336, 345, 317, 241, 309, 332, 342, 372, 337, 297, 314, 315, 381, 356, 336, 354, 344, 372, 350, 395, 262, 213, 329, 343, 321, 329, 321, 263, 223, 200, 262, 235, 273, 340, 270, 262, 282, 240, 350, 243, 289, 287, 309, 378, 335, 360, 332, 327, 256, 273, 214, 328, 416, 483, 328, 229, 241, 403, 265, 329, 284, 276, 414, 327, 511, 635, 359, 348, 235, 396, 568, 273, 127, 348, 623, 309, 293, 301, 220, 412, 295, 357, 246, 287, 224, 320, 374, 949, 242, 232, 678, 195, 346, 210, 355, 308, 258, 301, 203, 217, 211, 247, 314, 220, 246, 222, 457, 343, 293, 366, 294, 264, 251, 209, 282, 224, 263, 278, 255, 234, 215, 657, 182, 347, 221, 192, 309, 291, 279, 231, 377, 200, 290, 194, 304, 175, 214, 267, 381, 265, 250, 576, 227, 688, 378, 703, 669, 559, 675, 676, 738, 321, 348, 559, 285, 312, 525, 679, 704, 741, 774, 693, 672, 488, 530, 465, 533, 552, 558, 489, 465, 541, 481, 456, 472, 675, 628, 767, 676, 732, 751, 617, 521, 564, 637, 633, 393, 320, 228, 429, 333, 457, 488, 489, 450, 519, 523, 500, 507, 516, 462, 470, 519, 557, 525, 516, 454, 457, 558, 490, 540, 345, 383, 363, 550, 258, 485, 342, 439, 487, 505, 496, 468, 441, 468, 514, 196, 544, 514, 467, 469, 534, 277, 474, 446, 421, 519, 506, 532, 440, 588, 466, 504, 492, 512, 436, 455, 403, 534, 489, 445, 509, 456, 297, 345, 233, 655, 624, 610, 598, 638, 600, 602, 631, 638, 618, 552, 350, 465, 294, 456, 445, 339, 292, 447, 398, 587, 604, 585, 592, 604, 672, 658, 650, 628, 664, 590, 684, 575, 636, 637, 658, 539, 609, 598, 612, 666, 517, 412, 341, 436, 416, 550, 559, 278, 550, 282, 456, 411, 409, 544, 454, 503, 386, 455, 310, 650, 583, 650, 624, 575, 552, 576, 613, 625, 245, 615, 634, 577, 636, 623, 598, 608, 447, 478, 441, 451, 410, 393, 456, 462, 399, 460, 412, 428, 464, 401, 464, 442, 434, 432, 409, 435, 416, 505, 549, 433, 464, 482, 525, 530, 465, 343, 489, 433, 444, 418, 423, 411, 524, 457, 514, 592, 469, 462, 411, 428, 478, 464, 467, 454, 442, 433, 421, 442, 461, 389, 481, 442, 454, 676, 507, 660, 469, 439, 442, 441, 442, 567, 489, 458, 433, 434, 456, 437, 414, 407, 415, 431, 452, 272, 884, 312, 626, 447, 239, 450, 355, 234, 204, 471, 487, 441, 416, 453, 282, 401, 443, 439, 464, 465, 309, 307, 416, 530, 432, 655, 322, 231, 316, 420, 707, 346, 251, 204, 350, 213, 754, 659, 408, 727, 310, 232, 255, 259, 252, 400, 238, 208, 331, 790, 396, 461, 236, 272, 822, 928, 849, 259, 279, 321, 642, 841, 492, 605, 398, 621, 652, 890, 916, 824, 519, 502, 608, 421, 566, 298, 876, 866, 352, 348, 861, 758, 832, 997, 461, 518, 265, 230, 649, 669, 817, 681, 326, 306, 455, 428, 300, 357, 774, 425, 679, 283, 681, 678, 318, 363, 351, 338, 472, 273, 408, 280, 192, 325, 266, 424, 274, 374, 278, 218, 399, 720, 619, 324, 345, 302, 213, 259, 203, 632, 497, 681, 478, 562, 604, 613, 252, 826, 290, 473, 354, 190, 349, 213, 521, 280, 604, 248, 284, 381, 291, 295, 259, 244, 320, 251, 285, 307, 603, 215, 631, 353, 645, 626, 530, 358, 237, 309, 593, 373, 656, 439, 166, 359, 593, 639, 631, 284, 231, 612, 618, 556, 467, 620, 614, 597, 183, 410, 605, 683, 262, 170, 536, 540, 238, 600, 593, 395, 514, 344, 634, 595, 474, 535, 505, 624, 630, 563, 614, 610, 588, 498, 517, 508, 578, 546, 487, 603, 615, 373, 624, 561, 337, 307, 642, 404, 235, 210, 350, 517, 589, 712, 237, 636, 442, 634, 589, 278, 366, 353, 518, 620, 601, 736, 372, 617, 619, 633, 269, 701, 602, 597, 514, 585, 619, 229, 342, 390, 823, 356, 396, 373, 186, 188, 443, 377, 396, 464, 344, 876, 237, 261, 621, 247, 284, 265, 238, 385, 300, 361, 350, 284, 309, 367, 446, 201, 246, 372, 269, 399, 309, 263, 274, 218, 386, 344, 883, 195, 270, 425, 344, 293, 291, 260, 209, 301, 162, 364, 332, 207, 325, 322, 364, 256, 220, 299, 349, 403, 199, 203, 326, 224, 277, 482, 307, 391, 346, 431, 247, 291, 237, 311, 252, 223, 281, 172, 365, 293, 344, 447, 374, 524, 394, 205, 260, 531, 502, 411, 310, 306, 263, 233, 266, 364, 232, 264, 194, 296, 200, 306, 519, 825, 415, 470, 397, 215, 224, 420, 394, 416, 442, 261, 303, 255, 239, 355, 240, 693, 724, 447, 326, 217, 363, 403, 284, 391, 280, 312, 391, 351, 506, 348, 456, 1017, 525, 486, 382, 307, 325, 361, 335, 246, 324, 284, 538, 286, 290, 311, 305, 268, 240, 258, 368, 324, 496, 318, 225, 244, 279, 316, 426, 572, 260, 328, 308, 330, 435, 232, 426, 207, 444, 283, 214, 547, 506, 370, 235, 251, 263, 325, 316, 235, 243, 216, 414, 678, 768, 683, 505, 322, 248, 297, 465, 347, 291, 199, 218, 233, 206, 329, 263, 432, 402, 322, 738, 210, 287, 337, 334, 246, 435, 327, 289, 196, 263, 224, 356, 469, 277, 247, 354, 321, 243, 323, 260, 666, 454, 579, 239, 355, 192, 281, 334, 258, 344, 258, 344, 373, 194, 307, 374, 353, 410, 287, 358, 346, 262, 311, 352, 209, 273, 288, 354, 253, 316, 266, 270, 358, 450, 197, 421, 236, 393, 502, 491, 508, 574, 419, 1002, 652, 606, 449, 507, 404, 493, 1034, 428, 202, 307, 215, 264, 751, 183, 784, 715, 326, 664, 379, 678, 309, 161, 286, 339, 688, 333, 875, 270, 293, 360, 270, 209, 232, 232, 422, 597, 281, 234, 728, 413, 402, 287, 186, 346, 379, 385, 416, 396, 323, 233, 421, 331, 397, 201, 481, 240, 195, 592, 199, 297, 242, 604, 705, 302, 420, 321, 361, 251, 397, 325, 1068, 656, 531, 480, 261, 538, 544, 545, 709, 395, 402, 386, 186, 223, 259, 918, 407, 362, 272, 998, 344, 408, 380, 236, 399, 411, 433, 402, 230, 441, 266, 348, 434, 505, 237, 230, 384, 184, 276, 237, 251, 417, 329, 490, 360, 320, 417, 854, 600, 276, 345, 275, 218, 454, 399, 221, 644, 197, 469, 343, 331, 604, 229, 247, 223, 395, 239, 314, 829, 309, 398, 289, 400, 234, 238, 292, 456, 396, 606, 210, 195, 316, 202, 389, 234, 232, 313, 308, 415, 380, 188, 272, 156, 473, 230, 290, 307, 188, 306, 476, 308, 224, 321, 221, 273, 277, 369, 175, 297, 490, 192, 337, 321, 234, 342, 273, 282, 262, 325, 218, 201, 215, 303, 207, 287, 217, 303, 901, 230, 164, 1213, 369, 232, 238, 377, 308, 373, 307, 339, 387, 314, 291, 221, 306, 212, 512, 378, 274, 322, 484, 246, 1196, 630, 584, 317, 228, 302, 268, 310, 264, 204, 294, 294, 457, 234, 209, 340, 269, 375, 267, 384, 195, 173, 194, 438, 437, 268, 190, 320, 386, 274, 360, 309, 346, 295, 267, 299, 214, 249, 307, 365, 239, 359, 262, 117, 193, 206, 370, 572, 375, 468, 380, 595, 617, 840, 450, 300, 519, 294, 324, 246, 281, 428, 329, 350, 438, 390, 358, 538, 342, 206, 233, 311, 258, 261, 304, 339, 263, 498, 356, 324, 217, 206, 303, 185, 229, 275, 367, 299, 195, 247, 208, 595, 309, 257, 327, 198, 496, 442, 609, 191, 482, 521, 269, 367, 478, 322, 413, 366, 448, 428, 522, 666, 194, 524, 431, 536, 742, 474, 413, 1045, 442, 553, 294, 367, 276, 562, 243, 179, 168, 414, 464, 525, 515, 549, 296, 230, 479, 446, 653, 332, 264, 275, 474, 941, 354, 492, 214, 242, 231, 256, 318, 382, 236, 241, 195, 535, 427, 419, 489, 770, 515, 955, 534, 504, 498, 180, 497, 503, 402, 270, 270, 432, 250, 252, 177, 206, 574, 594, 501, 238, 711, 499, 315, 229, 251, 209, 537, 408, 542, 634, 315, 413, 462, 429, 249, 447, 372, 193, 263, 874, 384, 777, 608, 234, 502, 424, 478, 524, 281, 327, 457, 362, 348, 238, 325, 424, 451, 579, 640, 454, 538, 581, 351, 303, 523, 498, 298, 481, 500, 193, 222, 527, 523, 578, 424, 554, 474, 206, 200, 390, 435, 328, 255, 279, 632, 285, 531, 518, 495, 210, 421, 363, 354, 262, 322, 363, 602, 540, 767, 376, 497, 416, 505, 416, 143, 346, 512, 338, 358, 304, 425, 537, 515, 391, 425, 578, 391, 409, 264, 207, 244, 292, 187, 289, 373, 350, 199, 338, 365, 400, 377, 182, 450, 368, 288, 528, 444, 320, 393, 332, 354, 214, 254, 243, 300, 263, 315, 478, 416, 199, 231, 249, 306, 214, 261, 327, 323, 275, 294, 315, 401, 386, 303, 361, 316, 323, 307, 318, 202, 308, 239, 230, 380, 612, 273, 235, 315, 300, 309, 238, 276, 218, 253, 275, 430, 152, 173, 217, 340, 373, 193, 251, 385, 927, 241, 371, 305, 192, 383, 153, 283, 273, 203, 200, 287, 233, 814, 317, 185, 249, 168, 316, 373, 207, 242, 415, 404, 258, 260, 1123, 477, 185, 327, 497, 281, 179, 299, 424, 381, 392, 234, 414, 317, 211, 615, 283, 424, 382, 442, 274, 714, 313, 249, 311, 270, 921, 298, 225, 200, 345, 494, 781, 301, 293, 715, 218, 671, 371, 390, 205, 309, 220, 169, 225, 390, 426, 338, 282, 337, 305, 408, 335, 342, 649, 333, 197, 314, 364, 302, 206, 334, 262, 296, 292, 435, 308, 198, 576, 321, 376, 287, 204, 343, 364, 220, 307, 460, 302, 315, 361, 475, 370, 525, 504, 422, 638, 208, 200, 445, 657, 425, 224, 158, 259, 284, 230, 186, 186, 290, 508, 325, 324, 340, 324, 128, 305, 319, 327, 322, 346, 299, 404, 335, 208, 177, 181, 178, 385, 179, 183, 214, 196, 336, 376, 200, 299, 415, 346, 336, 257, 193, 345, 289, 210, 446, 471, 348, 544, 330, 294, 324, 306, 331, 351, 845, 314, 307, 322, 380, 301, 350, 780, 344, 308, 383, 436, 542, 431, 420, 279, 305, 375, 704, 351, 351, 358, 264, 375, 905, 569, 501, 330, 218, 441, 248, 605, 529, 408, 283, 343, 327, 376, 717, 347, 197, 815, 811, 719, 733, 763, 691, 705, 975, 1009, 223, 666, 650, 697, 356, 325, 247, 311, 245, 330, 463, 352, 171, 335, 183, 367, 295, 355, 322, 269, 253, 174, 181, 265, 365, 373, 330, 451, 371, 443, 368, 419, 778, 301, 525, 253, 502, 480, 445, 288, 362, 493, 479, 496, 569, 530, 505, 300, 371, 283, 326, 322, 482, 505, 312, 395, 454, 537, 536, 309, 528, 347, 218, 491, 528, 517, 511, 483, 575, 255, 283, 311, 500, 513, 538, 502, 519, 551, 223, 272, 191, 538, 527, 452, 253, 474, 492, 540, 414, 490, 242, 232, 402, 189, 338, 371, 261, 524, 379, 293, 447, 515, 535, 545, 475, 1110, 237, 214, 494, 198, 256, 192, 1060, 352, 241, 278, 542, 508, 508, 531, 497, 530, 522, 461, 520, 534, 499, 365, 286, 1035, 522, 550, 286, 314, 309, 275, 213, 326, 251, 330, 677, 309, 696, 266, 299, 207, 312, 406, 303, 270, 250, 332, 333, 410, 294, 198, 227, 368, 180, 211, 218, 340, 337, 209, 239, 254, 196, 357, 409, 378, 220, 383, 317, 266, 209, 177, 224, 214, 275, 316, 288, 221, 625, 251, 364, 214, 181, 222, 179, 271, 241, 414, 208, 443, 449, 246, 489, 437, 393, 375, 210, 359, 271, 261, 187, 493, 217, 264, 221, 257, 335, 216, 183, 231, 339, 311, 459, 311, 202, 211, 297, 312, 547, 281, 423, 523, 529, 350, 328, 398, 612, 335, 295, 271, 347, 288, 260, 229, 197, 197, 215, 286, 248, 197, 207, 217, 235, 406, 601, 264, 377, 391, 308, 208, 276, 306, 222, 185, 309, 239, 209, 286, 308, 319, 340, 398, 192, 209, 237, 600, 287, 299, 253, 307, 1094, 286, 331, 259, 220, 601, 196, 196, 196, 197, 196, 221, 270, 217, 220, 243, 357, 196, 334, 196, 197, 197, 197, 197, 481, 255, 211, 587, 210, 418, 208, 393, 218, 457, 360, 196, 306, 208, 457, 990, 302, 273, 209, 196, 175, 343, 929, 231, 227, 235, 175, 175, 175, 204, 225, 271, 212, 175, 223, 175, 175, 175, 175, 175, 175, 175, 175, 175, 175, 175, 175, 194, 194, 194, 194, 194, 276, 240, 212, 217, 202, 176, 370, 268, 236, 314, 203, 202, 281, 175, 225, 175, 386, 269, 293, 370, 595, 332, 313, 326, 175, 175, 248, 791, 269, 287, 272, 535, 393, 477, 343, 194, 175, 175, 383, 175, 366, 459, 270, 175, 175, 175, 175, 559, 218, 404, 469, 349, 272, 488, 446, 222, 396, 194, 175, 194, 175, 212, 567, 175, 175, 194, 265, 795, 432, 194, 194, 194, 291, 231, 457, 529, 198, 551, 207, 198, 198, 198, 485, 190, 190, 190, 190, 223, 287, 175, 175, 175, 175, 197, 197, 197, 197, 197, 175, 175, 175, 175, 175, 218, 175, 174, 174, 174, 174, 174, 174, 174, 174, 197, 201, 201, 197, 201, 201, 195, 195, 195, 195, 209, 209, 195, 209, 201, 201, 201, 198, 198, 198, 198, 175, 471, 228, 214, 219, 215, 218, 175, 175, 175, 175, 175, 175, 175, 175, 175, 175, 175, 175, 175, 175, 175, 181, 181, 172, 172, 172, 172, 174, 174, 174, 174, 186, 186, 186, 186, 195, 195, 195, 195, 195, 195, 195, 201, 200, 200, 200, 200, 175, 175, 175, 183, 183, 183, 183, 171, 171, 171, 171, 173, 173, 173, 173, 175, 175, 175, 175, 175, 175, 175, 175, 175, 175, 175, 175, 175, 175, 175, 175, 175, 175, 175, 175, 175, 199, 199, 240, 239, 243, 242, 171, 171, 171, 175, 175, 175, 175, 172, 172, 172, 172, 172, 205, 205, 175, 205, 175, 175, 175, 184, 175, 200, 200, 200, 200, 171, 175, 175, 175, 175, 175, 175, 175, 175, 175, 175, 205, 205, 205, 205, 205, 205, 203, 203, 175, 175, 175, 175, 217, 217, 198, 198, 198, 198, 198, 203, 203, 203, 203, 200, 200, 200, 200, 217, 217, 233, 232, 231, 207, 207, 232, 209, 206, 181, 181, 181, 181, 198, 198, 198, 198, 198, 198, 198, 198, 195, 202, 202, 202, 202, 202, 202, 202, 175, 175, 175, 175, 175, 175, 175, 175, 175, 175, 175, 175, 175, 175, 175, 446, 324, 175, 195, 195, 195, 195, 195, 195, 195, 195, 195, 195, 195, 195, 195, 313, 272, 233, 363, 225, 315, 195, 195, 195, 195, 195, 195, 204, 204, 204, 218, 218, 218, 218, 209, 209, 209, 209, 195, 195, 288, 195, 195, 195, 195, 252, 332, 193, 423, 247, 371, 204, 204, 204, 278, 292, 407, 279, 315, 195, 195, 195, 195, 195, 358, 195, 279, 195, 339, 352, 224, 227, 272, 219, 346, 368, 395, 254, 226, 380, 352, 871, 318, 307, 705, 221, 491, 305, 320, 606, 146, 223, 865, 347, 347, 299, 296, 526, 502, 259, 377, 402, 190, 363, 184, 235, 272, 427, 502, 384, 235, 277, 203, 203, 203, 273, 173, 203, 173, 173, 173, 173, 173, 191, 239, 409, 231, 260, 342, 174, 529, 304, 569, 175, 175, 175, 175, 175, 212, 227, 226, 225, 333, 198, 212, 247, 175, 175, 175, 175, 175, 191, 191, 210, 218, 216, 223, 223, 175, 175, 175, 175, 175, 175, 175, 175, 194, 194, 205, 205, 205, 205, 205, 205, 195, 195, 195, 195, 198, 198, 175, 194, 194, 252, 194, 194, 194, 194, 194, 194, 402, 417, 540, 651, 175, 293, 455, 175, 337, 175, 175, 293, 278, 198, 198, 198, 198, 198, 200, 200, 198, 198, 198, 198, 198, 198, 198, 198, 198, 198, 198, 198, 198, 198, 198, 198, 200, 200, 292, 375, 363, 419, 200, 200, 551, 501, 201, 227, 230, 168, 146, 247, 218, 292, 172, 172, 172, 172, 172, 172, 176, 176, 176, 176, 181, 235, 181, 181, 327, 250, 199, 199, 197, 198, 198, 198, 198, 198, 198, 198, 198, 198, 240, 198, 198, 198, 198, 198, 198, 198, 263, 446, 241, 376, 198, 290, 198, 198, 198, 198, 198, 198, 198, 198, 198, 198, 198, 198, 198, 260, 259, 259, 258, 212, 213, 213, 211, 181, 203, 190, 206, 192, 278, 409, 222, 256, 202, 685, 355, 212, 214, 213, 213, 213, 211, 198, 198, 198, 198, 203, 203, 203, 213, 213, 227, 216, 199, 199, 414, 263, 283, 556, 276, 187, 282, 211, 413, 245, 230, 193, 189, 378, 415, 337, 985, 985, 231, 443, 302, 389, 368, 351, 298, 231, 166, 319, 491, 396, 211, 488, 331, 678, 296, 436, 1131, 198, 242, 264, 306, 275, 398, 439, 421, 290, 237, 395, 314, 235, 224, 281, 172, 225, 225, 241, 240, 228, 195, 239, 198, 695, 263, 251, 274, 162, 362, 249, 352, 595, 311, 214, 343, 432, 286, 230, 339, 247, 279, 395, 235, 394, 307, 277, 402, 230, 230, 150, 230, 177, 197, 331, 208, 561, 308, 265, 453, 526, 317, 240, 454, 490, 291, 321, 517, 352, 584, 365, 456, 506, 320, 399, 527, 359, 531, 482, 440, 364, 487, 707, 515, 452, 339, 379, 238, 323, 380, 357, 538, 240, 524, 447, 514, 314, 233, 464, 316, 198, 417, 664, 342, 383, 507, 306, 486, 223, 1024, 320, 572, 295, 158, 395, 197, 527, 232, 318, 193, 269, 461, 295, 369, 305, 244, 358, 306, 278, 215, 232, 233, 201, 189, 366, 376, 280, 483, 196, 253, 251, 243, 306, 332, 521, 230, 314, 203, 348, 291, 263, 292, 990, 252, 407, 198, 252, 292, 268, 210, 266, 138, 732, 279, 248, 423, 209, 1025, 342, 247, 310, 228, 214, 286, 232, 276, 631, 267, 515, 419, 327, 230, 240, 269, 243, 256, 212, 360, 262, 317, 283, 297, 243, 284, 281, 238, 410, 159, 286, 454, 351, 242, 280, 204, 207, 293, 232, 372, 690, 232, 467, 300, 307, 233, 313, 332, 197, 231, 258, 201, 201, 310, 203, 222, 166, 283, 458, 391, 224, 184, 266, 311, 239, 256, 314, 207, 377, 357, 276, 311, 248, 275, 237, 186, 313, 225, 565, 179, 236, 273, 246, 326, 191, 271, 310, 244, 260, 251, 234, 337, 375, 244, 284, 208, 302, 281, 270, 231, 223, 229, 245, 262, 425, 248, 190, 233, 371, 235, 293, 179, 985, 196, 244, 231, 202, 293, 528, 217, 327, 510, 192, 201, 198, 241, 247, 190, 200, 193, 256, 249, 336, 418, 356, 317, 425, 312, 194, 316, 331, 255, 249, 289, 355, 173, 304, 166, 168, 247, 252, 231, 392, 460, 215, 207, 223, 219, 207, 295, 234, 328, 322, 228, 198, 261, 172, 245, 201, 577, 354, 224, 219, 193, 224, 304, 200, 498, 596, 249, 305, 906, 523, 360, 209, 484, 445, 320, 228, 224, 246, 448, 371, 443, 511, 297, 317, 349, 278, 357, 237, 345, 331, 234, 315, 211, 286, 309, 268, 326, 285, 672, 765, 657, 736, 606, 681, 727, 645, 678, 731, 270, 368, 319, 287, 394, 397, 480, 453, 414, 464, 458, 476, 462, 440, 492, 468, 411, 466, 802, 701, 723, 695, 712, 588, 653, 673, 696, 687, 675, 671, 727, 633, 590, 431, 585, 467, 202, 259, 213, 392, 325, 631, 711, 625, 627, 308, 246, 378, 470, 414, 247, 552, 366, 277, 429, 378, 208, 397, 284, 386, 374, 387, 537, 405, 373, 493, 564, 474, 488, 488, 488, 484, 493, 511, 521, 574, 527, 535, 366, 411, 477, 495, 530, 494, 383, 504, 541, 514, 523, 524, 475, 480, 538, 509, 507, 520, 541, 469, 435, 552, 508, 484, 513, 528, 506, 498, 511, 491, 554, 695, 515, 485, 491, 193, 352, 349, 187, 336, 178, 379, 180, 427, 308, 340, 278, 268, 303, 295, 379, 265, 289, 202, 540, 601, 505, 257, 231, 266, 441, 237, 203, 181, 351, 235, 360, 420, 257, 177, 389, 318, 420, 359, 455, 211, 244, 284, 295, 343, 325, 309, 298, 298, 358, 250, 266, 347, 217, 352, 346, 327, 364, 315, 381, 367, 412, 297, 375, 244, 312, 251, 423, 553, 272, 398, 309, 256, 356, 333, 265, 277, 537, 369, 504, 331, 359, 528, 423, 461, 470, 532, 533, 402, 290, 366, 422, 353, 426, 386, 256, 240, 360, 314, 261, 310, 325, 402, 358, 304, 322, 269, 395, 446, 447, 570, 425, 537, 429, 546, 461, 530, 499, 442, 215, 453, 208, 264, 309, 331, 303, 409, 301, 313, 472, 526, 825, 530, 620, 547, 510, 428, 486, 294, 350, 407, 437, 484]\n"
          ]
        }
      ]
    },
    {
      "cell_type": "code",
      "metadata": {
        "colab": {
          "base_uri": "https://localhost:8080/",
          "height": 295
        },
        "id": "FRl16jk9jJT-",
        "outputId": "a82501d3-b2fc-4d81-bbc6-37c0f14cf883"
      },
      "source": [
        "import matplotlib.pyplot as plt\n",
        "\n",
        "x1 = distinct\n",
        "y1 = lent\n",
        "\n",
        "plt.scatter(x1, y1, label = 'BERT Tokenizer', s=20)\n",
        "\n",
        "x2 = distinct2\n",
        "y2 = lent2\n",
        "\n",
        "plt.scatter(x2, y2, label = 'GPT-2 Tokenizer', s=20)\n",
        "\n",
        "x3 = distinct3\n",
        "y3 = lent3\n",
        "\n",
        "plt.scatter(x3, y3, label = 'XLNet Tokenizer', s=20)\n",
        "\n",
        "x4 = distinct4\n",
        "y4 = lent4\n",
        "\n",
        "plt.scatter(x4, y4, label = 'DistilBERT Tokenizer', s=20)\n",
        "\n",
        "plt.xlabel('Token Dictionary Size')\n",
        "plt.ylabel('Tokenization Length')\n",
        "plt.title('Tokenization Length vs. Token Dictionary Size when Tokenizers are Applied')\n",
        "plt.legend()\n",
        "plt.show()"
      ],
      "execution_count": null,
      "outputs": [
        {
          "output_type": "display_data",
          "data": {
            "image/png": "[encoded data removed]",
            "text/plain": [
              "<Figure size 432x288 with 1 Axes>"
            ]
          },
          "metadata": {
            "needs_background": "light"
          }
        }
      ]
    }
  ]
}